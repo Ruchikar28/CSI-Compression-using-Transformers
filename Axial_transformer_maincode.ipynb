{
 "cells": [
  {
   "cell_type": "code",
   "execution_count": null,
   "id": "c156df2b",
   "metadata": {},
   "outputs": [],
   "source": []
  },
  {
   "cell_type": "code",
   "execution_count": 1,
   "id": "b7682f27",
   "metadata": {},
   "outputs": [
    {
     "name": "stdout",
     "output_type": "stream",
     "text": [
      "\u001b[32m- Done\u001b[0m\n"
     ]
    },
    {
     "name": "stderr",
     "output_type": "stream",
     "text": [
      "/home/ruchikar23/miniconda3/lib/python3.13/site-packages/timm/models/layers/__init__.py:48: FutureWarning: Importing from timm.models.layers is deprecated, please import via timm.layers\n",
      "  warnings.warn(f\"Importing from {__name__} is deprecated, please import via timm.layers\", FutureWarning)\n"
     ]
    }
   ],
   "source": [
    "#----------------------------\n",
    "# Model: AxialCFNet\n",
    "# Written by: Ruchika Raj   \n",
    "# Contact: ruchikar23@iitk.ac.in \n",
    "#----------------------------\n",
    "\n",
    "# Dependency\n",
    "import time\n",
    "import numpy as np\n",
    "import scipy.io as sio\n",
    "import h5py \n",
    "\n",
    "import torch\n",
    "import torch.nn as nn\n",
    "from torch.utils.data import Dataset\n",
    "from torch.utils.data import DataLoader\n",
    "from torch.optim import Adam\n",
    "from timm.models.layers import to_2tuple, trunc_normal_\n",
    "\n",
    "import torchprofile\n",
    "from fvcore.nn import FlopCountAnalysis\n",
    "from fvcore.nn import parameter_count\n",
    "\n",
    "from colorama import Fore, Style\n",
    "from tqdm.notebook import tqdm_notebook\n",
    "\n",
    "import warnings\n",
    "warnings.filterwarnings('ignore')\n",
    "print(Fore.GREEN + '- Done' + Style.RESET_ALL)"
   ]
  },
  {
   "cell_type": "code",
   "execution_count": 2,
   "id": "876141ab",
   "metadata": {},
   "outputs": [
    {
     "name": "stdout",
     "output_type": "stream",
     "text": [
      "\u001b[34m❄️ Compute Device:\u001b[0m \u001b[32mcuda\u001b[0m\n"
     ]
    }
   ],
   "source": [
    "# Device\n",
    "if torch.cuda.is_available():\n",
    "    device=torch.device('cuda')\n",
    "else:\n",
    "    device=torch.device('cpu')\n",
    "print(Fore.BLUE +'❄️ Compute Device:' + Style.RESET_ALL, end=' ')\n",
    "print(Fore.GREEN + str(device) + Style.RESET_ALL)    "
   ]
  },
  {
   "cell_type": "code",
   "execution_count": 3,
   "id": "55f9c22f",
   "metadata": {},
   "outputs": [],
   "source": [
    "# Dataset Class\n",
    "# Dataset Class\n",
    "class CustomDataset(Dataset):\n",
    "    def __init__(self, path:str):\n",
    "        self.a = sio.loadmat(path)['HT']\n",
    "        self.b = np.reshape(self.a, (int(self.a.shape[0]/2), 4, 32, 32))\n",
    "    \n",
    "    def __len__(self):\n",
    "        return len(self.b)\n",
    "    \n",
    "    def __getitem__(self, idx):\n",
    "        sample = self.b[idx]\n",
    "        return torch.tensor(sample, dtype=torch.float32)\n",
    "    \n",
    "# Dataset Class 2\n",
    "class CustomDataset2(Dataset):\n",
    "    def __init__(self, path:str):\n",
    "        self.a = sio.loadmat(path)['HT']\n",
    "        self.b = np.reshape(self.a, (int(self.a.shape[0]/2), 4, 32, 32))\n",
    "        self.c = self.b[:, 2:4, :, :]\n",
    "    \n",
    "    def __len__(self):\n",
    "        return len(self.c)\n",
    "    \n",
    "    def __getitem__(self, idx):\n",
    "        sample = self.c[idx]\n",
    "        return torch.tensor(sample, dtype=torch.float32)   "
   ]
  },
  {
   "cell_type": "code",
   "execution_count": null,
   "id": "9012ee3d",
   "metadata": {},
   "outputs": [],
   "source": []
  },
  {
   "cell_type": "code",
   "execution_count": 4,
   "id": "99531444",
   "metadata": {},
   "outputs": [],
   "source": [
    "# Dataset\n",
    "train_data = CustomDataset('DATA_Htrainin.mat')\n",
    "val_data = CustomDataset('DATA_Hvalin.mat')\n",
    "test_data = CustomDataset('DATA_Htestin.mat')\n",
    "train_data2 = CustomDataset2('DATA_Htrainout.mat')\n",
    "\n",
    "# DataLoader\n",
    "train_loader = DataLoader(train_data, batch_size=256, shuffle=True)\n",
    "train_loader2 = DataLoader(train_data2, batch_size=256, shuffle=True)\n",
    "val_loader = DataLoader(val_data, batch_size=5000, shuffle=False)\n",
    "test_loader = DataLoader(test_data, batch_size=6000, shuffle=False)"
   ]
  },
  {
   "cell_type": "code",
   "execution_count": 5,
   "id": "d3e7f30f",
   "metadata": {},
   "outputs": [
    {
     "name": "stdout",
     "output_type": "stream",
     "text": [
      "True\n"
     ]
    }
   ],
   "source": [
    "import os\n",
    "print(os.path.exists('DATA_Htrainin.mat'))  # should return True\n"
   ]
  },
  {
   "cell_type": "code",
   "execution_count": 7,
   "id": "00f67fe1",
   "metadata": {},
   "outputs": [],
   "source": [
    "# NMSE Calculation\n",
    "def NMSE(sparse_pred, sparse_gt):\n",
    "    \"\"\" \n",
    "    Input:  (B, C, H, W)\n",
    "    Output: NMSE\n",
    "    Args:\n",
    "        sparse_pred: (B, C, H, W)\n",
    "        sparse_gt:   (B, C, H, W)\n",
    "    Returns:\n",
    "        x (float): NMSE\n",
    "    \"\"\"\n",
    "    # Convert numpy arrays to PyTorch tensors\n",
    "    if isinstance(sparse_gt, np.ndarray):\n",
    "        sparse_gt = torch.tensor(sparse_gt, dtype=torch.float32)                              # (B, C, H, W)\n",
    "    if isinstance(sparse_pred, np.ndarray):\n",
    "        sparse_pred = torch.tensor(sparse_pred, dtype=torch.float32)                          # (B, C, H, W)\n",
    "        \n",
    "    # Moving to GPU    \n",
    "    sparse_gt = sparse_gt.to(device)                                                          # (B, C, H, W)\n",
    "    sparse_pred = sparse_pred.to(device)                                                      # (B, C, H, W)\n",
    "    \n",
    "    with torch.no_grad():\n",
    "        # De-centralize\n",
    "        sparse_gt = sparse_gt - 0.5                                                           # (B, C, H, W)\n",
    "        sparse_pred = sparse_pred - 0.5                                                       # (B, C, H, W)\n",
    "        # Calculate the NMSE\n",
    "        power_gt = sparse_gt[:, 0, :, :] ** 2 + sparse_gt[:, 1, :, :] ** 2                    # (B, H, W)\n",
    "        difference = sparse_gt - sparse_pred                                                  # (B, C, H, W)\n",
    "        mse = difference[:, 0, :, :] ** 2 + difference[:, 1, :, :] ** 2                       # (B, H, W)\n",
    "        nmse = 10 * torch.log10((mse.sum(dim=(1, 2)) / power_gt.sum(dim=(1, 2))).mean())      # NMSE\n",
    "        \n",
    "        return float(nmse) \n",
    "           "
   ]
  },
  {
   "cell_type": "code",
   "execution_count": 8,
   "id": "19269b7d",
   "metadata": {},
   "outputs": [],
   "source": [
    "import torch\n",
    "import torch.nn as nn\n",
    "import torch.nn.functional as F\n",
    "\n",
    "class EfficientPatchEmbedding(nn.Module):\n",
    "    def __init__(self, in_channels=2, embed_dim=32, patch_size=2):\n",
    "        super().__init__()\n",
    "        # Handle cases where input channels might differ\n",
    "        self.proj = nn.Conv2d(in_channels, embed_dim, \n",
    "                            kernel_size=patch_size, \n",
    "                            stride=patch_size)\n",
    "        self.patch_size = patch_size\n",
    "        \n",
    "    def forward(self, x):\n",
    "        # If input has more channels than expected, take first 'in_channels' channels\n",
    "        if x.shape[1] > self.proj.in_channels:\n",
    "            x = x[:, :self.proj.in_channels, :, :]\n",
    "        x = self.proj(x)  # [B, C, H, W] -> [B, D, H/p, W/p]\n",
    "        B, C, H, W = x.shape\n",
    "        return x.flatten(2).transpose(1, 2)  # [B, N, D]\n",
    "\n",
    "class EfficientPatchMerging(nn.Module):\n",
    "    def __init__(self, input_resolution, dim, out_dim):\n",
    "        super().__init__()\n",
    "        self.resolution = input_resolution\n",
    "        self.dim = dim\n",
    "        self.out_dim = out_dim\n",
    "        self.norm = nn.LayerNorm(4 * dim)\n",
    "        self.reduction = nn.Linear(4 * dim, out_dim, bias=False)\n",
    "        \n",
    "    def forward(self, x):\n",
    "        B, N, C = x.shape\n",
    "        H, W = self.resolution\n",
    "        \n",
    "        # First ensure the sequence length matches the expected resolution\n",
    "        if N != H * W:\n",
    "            raise ValueError(f\"Input sequence length {N} doesn't match resolution {H}x{W}={H*W}\")\n",
    "            \n",
    "        x = x.view(B, H, W, C)\n",
    "        \n",
    "        # Unfold patches\n",
    "        x0 = x[:, 0::2, 0::2, :]  # B H/2 W/2 C\n",
    "        x1 = x[:, 1::2, 0::2, :]\n",
    "        x2 = x[:, 0::2, 1::2, :]\n",
    "        x3 = x[:, 1::2, 1::2, :]\n",
    "        x = torch.cat([x0, x1, x2, x3], -1)  # B H/2 W/2 4*C\n",
    "        \n",
    "        x = x.view(B, -1, 4 * C)\n",
    "        x = self.norm(x)\n",
    "        return self.reduction(x)\n",
    "\n",
    "\n",
    "\n",
    "class EfficientPatchDivision(nn.Module):\n",
    "    def __init__(self, input_resolution, dim, out_dim):\n",
    "        super().__init__()\n",
    "        self.resolution = input_resolution\n",
    "        self.dim = dim\n",
    "        self.out_dim = out_dim\n",
    "        self.expand = nn.Linear(dim, 4 * out_dim, bias=False)\n",
    "        self.norm = nn.LayerNorm(out_dim)\n",
    "        \n",
    "    def forward(self, x):\n",
    "        B, N, C = x.shape\n",
    "        H, W = self.resolution\n",
    "        x = self.expand(x)\n",
    "        x = x.view(B, H, W, 2, 2, self.out_dim)\n",
    "        x = x.permute(0, 1, 3, 2, 4, 5).reshape(B, 2*H, 2*W, self.out_dim)\n",
    "        x = x.view(B, -1, self.out_dim)\n",
    "        return self.norm(x)\n",
    "\n",
    "class WindowAxialAttention(nn.Module):\n",
    "    def __init__(self, dim, num_heads=4, window_size=4, axis='h'):\n",
    "        super().__init__()\n",
    "        self.dim = dim\n",
    "        self.num_heads = num_heads\n",
    "        self.window_size = window_size\n",
    "        self.axis = axis\n",
    "        self.scale = (dim // num_heads) ** -0.5\n",
    "        \n",
    "        self.qkv = nn.Linear(dim, dim * 3, bias=False)\n",
    "        self.proj = nn.Linear(dim, dim)\n",
    "        \n",
    "        # Relative position bias table\n",
    "        self.relative_position_bias_table = nn.Parameter(\n",
    "            torch.zeros((2 * window_size - 1) * (2 * window_size - 1), num_heads)\n",
    "        )\n",
    "        \n",
    "        # Generate relative position indices\n",
    "        coords = torch.arange(window_size)\n",
    "        relative_coords = coords[:, None] - coords[None, :]  # [ws, ws]\n",
    "        relative_coords += window_size - 1  # Shift to start from 0\n",
    "        relative_position_index = relative_coords + relative_coords * (2 * window_size - 1)\n",
    "        self.register_buffer(\"relative_position_index\", relative_position_index.flatten())\n",
    "        \n",
    "        nn.init.trunc_normal_(self.relative_position_bias_table, std=.02)\n",
    "        \n",
    "    def forward(self, x):\n",
    "        B, N, C = x.shape\n",
    "        H = W = int(N ** 0.5)  # Assuming input is a square grid, H=W\n",
    "        \n",
    "        # Generate q, k, v\n",
    "        qkv = self.qkv(x).reshape(B, N, 3, self.num_heads, C // self.num_heads).permute(2, 0, 3, 1, 4)\n",
    "        q, k, v = qkv[0], qkv[1], qkv[2]  # [B, num_heads, N, head_dim]\n",
    "        \n",
    "        # Reshape for window processing\n",
    "        if self.axis == 'h':\n",
    "            # Reshape for row-wise attention\n",
    "            q = q.view(B, self.num_heads, H, W, -1)\n",
    "            k = k.view(B, self.num_heads, H, W, -1)\n",
    "            v = v.view(B, self.num_heads, H, W, -1)\n",
    "            \n",
    "            # Split into windows\n",
    "            q = q.reshape(B * H, self.num_heads, W, -1)\n",
    "            k = k.reshape(B * H, self.num_heads, W, -1)\n",
    "            v = v.reshape(B * H, self.num_heads, W, -1)\n",
    "        else:\n",
    "            # Reshape for column-wise attention\n",
    "            q = q.view(B, self.num_heads, H, W, -1)\n",
    "            k = k.view(B, self.num_heads, H, W, -1)\n",
    "            v = v.view(B, self.num_heads, H, W, -1)\n",
    "            \n",
    "            # Split into windows\n",
    "            q = q.permute(0, 3, 1, 2, 4).reshape(B * W, self.num_heads, H, -1)\n",
    "            k = k.permute(0, 3, 1, 2, 4).reshape(B * W, self.num_heads, H, -1)\n",
    "            v = v.permute(0, 3, 1, 2, 4).reshape(B * W, self.num_heads, H, -1)\n",
    "        \n",
    "        # Scaled dot-product attention\n",
    "        attn = (q @ k.transpose(-2, -1)) * self.scale  # [B*H, num_heads, W, W] or [B*W, num_heads, H, H]\n",
    "        \n",
    "        # Add relative position bias, resizing it to match the attention tensor\n",
    "        relative_position_bias = self.relative_position_bias_table[\n",
    "            self.relative_position_index\n",
    "        ].view(self.window_size, self.window_size, -1)\n",
    "        \n",
    "        relative_position_bias = relative_position_bias.permute(2, 0, 1).unsqueeze(0)  # [1, num_heads, window_size, window_size]\n",
    "        \n",
    "        # Ensure the bias has the same size as the attention tensor\n",
    "        if attn.shape[-2] != relative_position_bias.shape[-2]:\n",
    "            relative_position_bias = F.interpolate(\n",
    "                relative_position_bias, size=(attn.shape[-2], attn.shape[-2]), mode='bilinear', align_corners=False\n",
    "            )\n",
    "        \n",
    "        attn = attn + relative_position_bias\n",
    "        \n",
    "        attn = attn.softmax(dim=-1)\n",
    "        out = (attn @ v)  # [B*H, num_heads, W, head_dim] or [B*W, num_heads, H, head_dim]\n",
    "        \n",
    "        # Reshape back\n",
    "        if self.axis == 'h':\n",
    "            out = out.view(B, H, self.num_heads, W, -1).permute(0, 2, 1, 3, 4).reshape(B, N, C)\n",
    "        else:\n",
    "            out = out.view(B, W, self.num_heads, H, -1).permute(0, 2, 3, 1, 4).reshape(B, N, C)\n",
    "        \n",
    "        return self.proj(out)\n",
    "\n",
    "\n",
    "class DepthwiseMLP(nn.Module):\n",
    "    def __init__(self, dim, expansion=2):\n",
    "        super().__init__()\n",
    "        hidden_dim = int(dim * expansion)\n",
    "        self.fc1 = nn.Linear(dim, hidden_dim)\n",
    "        self.dwconv = nn.Conv1d(hidden_dim, hidden_dim, 3, padding=1, groups=hidden_dim)\n",
    "        self.act = nn.GELU()\n",
    "        self.fc2 = nn.Linear(hidden_dim, dim)\n",
    "        \n",
    "    def forward(self, x):\n",
    "        x = self.fc1(x)\n",
    "        x = self.dwconv(x.transpose(1, 2)).transpose(1, 2)\n",
    "        x = self.act(x)\n",
    "        return self.fc2(x)\n",
    "\n",
    "class EfficientAxialBlock(nn.Module):\n",
    "    def __init__(self, dim, num_heads, window_size=4):\n",
    "        super().__init__()\n",
    "        self.norm1 = nn.LayerNorm(dim)\n",
    "        self.attn_h = WindowAxialAttention(dim, num_heads, window_size, 'h')\n",
    "        self.attn_w = WindowAxialAttention(dim, num_heads, window_size, 'w')\n",
    "        self.norm2 = nn.LayerNorm(dim)\n",
    "        self.mlp = DepthwiseMLP(dim)\n",
    "        \n",
    "    def forward(self, x):\n",
    "        x = x + self.attn_h(self.norm1(x))\n",
    "        x = x + self.attn_w(self.norm1(x))\n",
    "        x = x + self.mlp(self.norm2(x))\n",
    "        return x\n",
    "\n",
    "class ChannelCompression(nn.Module):\n",
    "    def __init__(self, in_dim, out_dim):\n",
    "        super().__init__()\n",
    "        self.in_dim = in_dim\n",
    "        self.out_dim = out_dim\n",
    "        \n",
    "        # For expanding from lower dimension to higher\n",
    "        self.expand_fc = nn.Linear(in_dim, out_dim * 4)  # Expansion factor of 4\n",
    "        self.act = nn.GELU()\n",
    "        \n",
    "        # For compressing from higher dimension to lower\n",
    "        self.compress_conv1 = nn.Conv1d(out_dim * 4, out_dim * 2, 1)\n",
    "        self.compress_conv2 = nn.Conv1d(out_dim * 2, out_dim, 1)\n",
    "\n",
    "    def forward(self, x):\n",
    "        # Handle both expansion and compression cases\n",
    "        if x.dim() == 2:  # [B, D] coming from linear layer (expansion case)\n",
    "            x = self.expand_fc(x)  # [B, D*4]\n",
    "            x = self.act(x)\n",
    "            return x.view(x.size(0), -1, self.out_dim)  # [B, L, out_dim]\n",
    "        elif x.dim() == 3:  # [B, L, D] coming from sequence (compression case)\n",
    "            x = x.transpose(1, 2)  # [B, D, L]\n",
    "            x = self.act(self.compress_conv1(x))\n",
    "            x = self.compress_conv2(x)\n",
    "            return x.flatten(1)  # [B, D*L]\n",
    "        else:\n",
    "            raise ValueError(f\"Input must be 2D or 3D tensor, got {x.dim()}D\")\n",
    "\n",
    "\n",
    "class Encoder(nn.Module):\n",
    "    def __init__(self, tx_codeword, in_channels=2):\n",
    "        super().__init__()\n",
    "        # For 32x32 input with patch_size=2, we get 16x16 patches\n",
    "        self.patch_embed = EfficientPatchEmbedding(in_channels=2, embed_dim=32, patch_size=2)\n",
    "        self.patch_norm    = nn.LayerNorm(32) \n",
    "\n",
    "        self.stage1 = nn.Sequential(\n",
    "            EfficientAxialBlock(dim=32, num_heads=2)\n",
    "        )\n",
    "\n",
    "        # After patch embedding (patch_size=2), resolution is 16x16\n",
    "        self.merge = EfficientPatchMerging(input_resolution=(16, 16), dim=32, out_dim=64)\n",
    "\n",
    "        self.stage2 = nn.Sequential(\n",
    "            EfficientAxialBlock(dim=64, num_heads=4)\n",
    "        )\n",
    "        self.precompress_norm = nn.LayerNorm(64) \n",
    "\n",
    "        self.compress = nn.Sequential(\n",
    "            nn.Linear(8 * 8 * 64, 512),\n",
    "            nn.GELU(),\n",
    "            nn.Linear(512, tx_codeword)\n",
    "        )\n",
    "\n",
    "    def forward(self, x):\n",
    "        x = self.patch_embed(x)           # [B, 256, 32]\n",
    "        x = self.patch_norm(x)            # NEW\n",
    "        x = self.stage1(x)                # [B, 256, 32]\n",
    "\n",
    "        x = self.merge(x)                 # [B, 64, 64]\n",
    "        x = self.stage2(x)                # [B, 64, 64]\n",
    "\n",
    "        x = self.precompress_norm(x)      # NEW\n",
    "        x = x.flatten(1)                  # [B, 64*64]\n",
    "        x = self.compress(x)              # [B, tx_codeword]\n",
    "        return x\n",
    "\n",
    "\n",
    "class Decoder(nn.Module):\n",
    "    def __init__(self, rx_codeword):\n",
    "        super().__init__()\n",
    "        self.expand = nn.Sequential(\n",
    "            nn.Linear(rx_codeword, 512),\n",
    "            nn.GELU(),\n",
    "            nn.Linear(512, 8*8*64),\n",
    "            nn.Unflatten(1, (8, 8, 64)) ) # [B, 8, 8, 64]\n",
    "        \n",
    "        self.stage1 = nn.Sequential(\n",
    "            EfficientAxialBlock(dim=64, num_heads=4)\n",
    "        )\n",
    "        \n",
    "        self.division = EfficientPatchDivision(input_resolution=(8, 8), dim=64, out_dim=32)\n",
    "        self.postdivision_norm = nn.LayerNorm(32) \n",
    "        \n",
    "        self.stage2 = nn.Sequential(\n",
    "            EfficientAxialBlock(dim=32, num_heads=2)\n",
    "        )\n",
    "        \n",
    "        self.output = nn.Sequential(\n",
    "            nn.Linear(32, 16),\n",
    "            nn.GELU(),\n",
    "            nn.Linear(16, 2)\n",
    "        )\n",
    "\n",
    "    def forward(self, x):\n",
    "        x = self.expand(x)       # [B, 8, 8, 64]\n",
    "        x = x.view(-1, 8*8, 64)  # [B, 64, 64]\n",
    "        x = self.stage1(x)       # [B, 64, 64]\n",
    "        x = self.division(x)   \n",
    "        x = self.postdivision_norm(x)   # [B, 256, 32]\n",
    "        x = self.stage2(x)       # [B, 256, 32]\n",
    "        \n",
    "        # Reshape to spatial\n",
    "        B = x.shape[0]\n",
    "        x = x.view(B, 16, 16, 32)\n",
    "        x = self.output(x)       # [B, 16, 16, 2]\n",
    "        return x.permute(0, 3, 1, 2)  # [B, 2, 16, 16]\n",
    "\n",
    "\n",
    "class AxialCFNet(nn.Module):\n",
    "    def __init__(self, tx_codeword=128, in_channels=2):\n",
    "        super().__init__()\n",
    "        self.encoder = Encoder(tx_codeword, in_channels=2)\n",
    "        self.decoder = Decoder(tx_codeword)\n",
    "        \n",
    "    def forward(self, x):\n",
    "        latent = self.encoder(x)\n",
    "        return self.decoder(latent)"
   ]
  },
  {
   "cell_type": "code",
   "execution_count": 9,
   "id": "54777925",
   "metadata": {},
   "outputs": [],
   "source": [
    "# Initialization\n",
    "torch.manual_seed(2025)\n",
    "model = AxialCFNet(tx_codeword=512).to(device)\n",
    "\n",
    "# Loss\n",
    "criterion = nn.MSELoss()\n",
    "\n",
    "# Optimizer\n",
    "optimizer = torch.optim.Adam(model.parameters(), lr=1e-4, betas=(0.9, 0.999), eps=1e-8)"
   ]
  },
  {
   "cell_type": "code",
   "execution_count": 10,
   "id": "8b97c90c",
   "metadata": {},
   "outputs": [],
   "source": [
    "#-----------------------------\n",
    "# Model Params and Flop Count\n",
    "#-----------------------------\n",
    "\n",
    "# Model Params Count\n",
    "def ParamCount(model):\n",
    "    params=sum(p.numel() for p in model.parameters() if p.requires_grad)\n",
    "    return print(Fore.BLUE + '- ParamsCount:'+ Style.RESET_ALL,\n",
    "                Fore.GREEN + f'{params/1000000:.2f}M' + Style.RESET_ALL)\n",
    "\n",
    "\n",
    "# Model Flops Count\n",
    "def FlopCount(model):\n",
    "    test=torch.randn(1, 2, 32, 32).to(device)\n",
    "    flops=torchprofile.profile_macs(model, test)\n",
    "    return print(Fore.BLUE + '- FlopsCount:'+ Style.RESET_ALL,\n",
    "                Fore.GREEN + f'{flops/1000000:.2f}M' + Style.RESET_ALL)\n",
    "\n",
    "\n",
    "# Params and Flops Count\n",
    "def ParamFlopCount(model):\n",
    "    test=torch.randn(1, 2, 32, 32).to(device)\n",
    "    flop_counter=FlopCountAnalysis(model, test)\n",
    "    flops=flop_counter.total()\n",
    "    params = parameter_count(model)['']\n",
    "    time_start=time.time()\n",
    "    test_hat=model(test)\n",
    "    time_end=time.time()\n",
    "    total_time=time_end-time_start\n",
    "    return {'Params': f'{params/1000000:.2f}M', 'Flops':f'{flops/1000000:.2f}M', 'RunTime': f'{total_time:.3f}s'}\n",
    "\n",
    "\n",
    "# Model Params Count\n",
    "def ParamCountLayers(model):\n",
    "    params=0\n",
    "    for name, param in model.named_parameters():\n",
    "        if param.requires_grad or param.requires_grad:\n",
    "            params+=param.numel()\n",
    "            print(f\"Layer: {name} | Size: {param.size()} | Parameters: {param.numel()}\")\n",
    "    return  params/1000000"
   ]
  },
  {
   "cell_type": "code",
   "execution_count": 11,
   "id": "f7c4978e",
   "metadata": {},
   "outputs": [
    {
     "name": "stdout",
     "output_type": "stream",
     "text": [
      "\u001b[34m- ParamsCount:\u001b[0m \u001b[32m4.87M\u001b[0m\n",
      "\u001b[34m- FlopsCount:\u001b[0m \u001b[32m20.18M\u001b[0m\n"
     ]
    }
   ],
   "source": [
    "ParamCount(model)\n",
    "FlopCount(model)"
   ]
  },
  {
   "cell_type": "code",
   "execution_count": 12,
   "id": "60deb9dc",
   "metadata": {},
   "outputs": [
    {
     "name": "stderr",
     "output_type": "stream",
     "text": [
      "Unsupported operator aten::mul encountered 33 time(s)\n",
      "Unsupported operator aten::add encountered 20 time(s)\n",
      "Unsupported operator aten::softmax encountered 8 time(s)\n",
      "Unsupported operator aten::gelu encountered 7 time(s)\n",
      "Unsupported operator aten::unflatten encountered 1 time(s)\n"
     ]
    },
    {
     "data": {
      "text/plain": [
       "{'Params': '4.87M', 'Flops': '20.58M', 'RunTime': '0.007s'}"
      ]
     },
     "execution_count": 12,
     "metadata": {},
     "output_type": "execute_result"
    }
   ],
   "source": [
    "ParamFlopCount(model)"
   ]
  },
  {
   "cell_type": "code",
   "execution_count": 14,
   "id": "2dd0453c",
   "metadata": {},
   "outputs": [
    {
     "name": "stderr",
     "output_type": "stream",
     "text": [
      "Model Training:   0%|\u001b[38;2;0;153;255m          \u001b[0m| 1/1000 [00:30<8:35:59, 30.99s/it]"
     ]
    },
    {
     "name": "stdout",
     "output_type": "stream",
     "text": [
      "\u001b[94m- Epoch: 1/1000\u001b[0m\n",
      "\u001b[31m- Train Loss: 0.167972678 | Validation Loss: 0.100999850\u001b[0m \u001b[32m| NMSE: -7.4961016\u001b[0m\n"
     ]
    },
    {
     "name": "stderr",
     "output_type": "stream",
     "text": [
      "Model Training:   0%|\u001b[38;2;0;153;255m          \u001b[0m| 2/1000 [01:02<8:41:00, 31.32s/it]"
     ]
    },
    {
     "name": "stdout",
     "output_type": "stream",
     "text": [
      "\u001b[94m- Epoch: 2/1000\u001b[0m\n",
      "\u001b[31m- Train Loss: 0.185223687 | Validation Loss: 0.332194830\u001b[0m \u001b[32m| NMSE: -11.3191667\u001b[0m\n"
     ]
    },
    {
     "name": "stderr",
     "output_type": "stream",
     "text": [
      "Model Training:   0%|\u001b[38;2;0;153;255m          \u001b[0m| 3/1000 [01:33<8:36:23, 31.08s/it]"
     ]
    },
    {
     "name": "stdout",
     "output_type": "stream",
     "text": [
      "\u001b[94m- Epoch: 3/1000\u001b[0m\n",
      "\u001b[31m- Train Loss: 0.177817460 | Validation Loss: 0.081304168\u001b[0m \u001b[32m| NMSE: -1.6421673\u001b[0m\n"
     ]
    },
    {
     "name": "stderr",
     "output_type": "stream",
     "text": [
      "Model Training:   0%|\u001b[38;2;0;153;255m          \u001b[0m| 4/1000 [02:00<8:13:00, 29.70s/it]"
     ]
    },
    {
     "name": "stdout",
     "output_type": "stream",
     "text": [
      "\u001b[94m- Epoch: 4/1000\u001b[0m\n",
      "\u001b[31m- Train Loss: 0.165003837 | Validation Loss: 0.318867929\u001b[0m \u001b[32m| NMSE: -4.1568975\u001b[0m\n"
     ]
    },
    {
     "name": "stderr",
     "output_type": "stream",
     "text": [
      "Model Training:   0%|\u001b[38;2;0;153;255m          \u001b[0m| 5/1000 [02:30<8:13:26, 29.75s/it]"
     ]
    },
    {
     "name": "stdout",
     "output_type": "stream",
     "text": [
      "\u001b[94m- Epoch: 5/1000\u001b[0m\n",
      "\u001b[31m- Train Loss: 0.177118816 | Validation Loss: 0.069475394\u001b[0m \u001b[32m| NMSE: -5.8171374\u001b[0m\n"
     ]
    },
    {
     "name": "stderr",
     "output_type": "stream",
     "text": [
      "Model Training:   1%|\u001b[38;2;0;153;255m          \u001b[0m| 6/1000 [03:00<8:13:44, 29.80s/it]"
     ]
    },
    {
     "name": "stdout",
     "output_type": "stream",
     "text": [
      "\u001b[94m- Epoch: 6/1000\u001b[0m\n",
      "\u001b[31m- Train Loss: 0.180558986 | Validation Loss: 0.333308498\u001b[0m \u001b[32m| NMSE: -5.4858403\u001b[0m\n"
     ]
    },
    {
     "name": "stderr",
     "output_type": "stream",
     "text": [
      "Model Training:   1%|\u001b[38;2;0;153;255m          \u001b[0m| 7/1000 [03:30<8:10:54, 29.66s/it]"
     ]
    },
    {
     "name": "stdout",
     "output_type": "stream",
     "text": [
      "\u001b[94m- Epoch: 7/1000\u001b[0m\n",
      "\u001b[31m- Train Loss: 0.158949836 | Validation Loss: 0.212832999\u001b[0m \u001b[32m| NMSE: 0.7219348\u001b[0m\n"
     ]
    },
    {
     "name": "stderr",
     "output_type": "stream",
     "text": [
      "Model Training:   1%|\u001b[38;2;0;153;255m          \u001b[0m| 8/1000 [03:58<8:03:17, 29.23s/it]"
     ]
    },
    {
     "name": "stdout",
     "output_type": "stream",
     "text": [
      "\u001b[94m- Epoch: 8/1000\u001b[0m\n",
      "\u001b[31m- Train Loss: 0.151316790 | Validation Loss: 0.156262212\u001b[0m \u001b[32m| NMSE: 6.1652387\u001b[0m\n"
     ]
    },
    {
     "name": "stderr",
     "output_type": "stream",
     "text": [
      "Model Training:   1%|\u001b[38;2;0;153;255m          \u001b[0m| 9/1000 [04:29<8:12:43, 29.83s/it]"
     ]
    },
    {
     "name": "stdout",
     "output_type": "stream",
     "text": [
      "\u001b[94m- Epoch: 9/1000\u001b[0m\n",
      "\u001b[31m- Train Loss: 0.172607200 | Validation Loss: 0.370918948\u001b[0m \u001b[32m| NMSE: 5.6006336\u001b[0m\n"
     ]
    },
    {
     "name": "stderr",
     "output_type": "stream",
     "text": [
      "Model Training:   1%|\u001b[38;2;0;153;255m          \u001b[0m| 10/1000 [05:00<8:18:12, 30.19s/it]"
     ]
    },
    {
     "name": "stdout",
     "output_type": "stream",
     "text": [
      "\u001b[94m- Epoch: 10/1000\u001b[0m\n",
      "\u001b[31m- Train Loss: 0.166014038 | Validation Loss: 0.105125995\u001b[0m \u001b[32m| NMSE: -7.0553853\u001b[0m\n"
     ]
    },
    {
     "name": "stderr",
     "output_type": "stream",
     "text": [
      "Model Training:   1%|\u001b[38;2;0;153;255m          \u001b[0m| 11/1000 [05:31<8:20:03, 30.34s/it]"
     ]
    },
    {
     "name": "stdout",
     "output_type": "stream",
     "text": [
      "\u001b[94m- Epoch: 11/1000\u001b[0m\n",
      "\u001b[31m- Train Loss: 0.173181379 | Validation Loss: 0.250001763\u001b[0m \u001b[32m| NMSE: -3.5141804\u001b[0m\n"
     ]
    },
    {
     "name": "stderr",
     "output_type": "stream",
     "text": [
      "Model Training:   1%|\u001b[38;2;0;153;255m          \u001b[0m| 12/1000 [06:00<8:12:41, 29.92s/it]"
     ]
    },
    {
     "name": "stdout",
     "output_type": "stream",
     "text": [
      "\u001b[94m- Epoch: 12/1000\u001b[0m\n",
      "\u001b[31m- Train Loss: 0.156098816 | Validation Loss: 0.149910416\u001b[0m \u001b[32m| NMSE: -0.7195427\u001b[0m\n"
     ]
    },
    {
     "name": "stderr",
     "output_type": "stream",
     "text": [
      "Model Training:   1%|\u001b[38;2;0;153;255m▏         \u001b[0m| 13/1000 [06:31<8:17:19, 30.23s/it]"
     ]
    },
    {
     "name": "stdout",
     "output_type": "stream",
     "text": [
      "\u001b[94m- Epoch: 13/1000\u001b[0m\n",
      "\u001b[31m- Train Loss: 0.159116701 | Validation Loss: 0.061786278\u001b[0m \u001b[32m| NMSE: -4.0994930\u001b[0m\n"
     ]
    },
    {
     "name": "stderr",
     "output_type": "stream",
     "text": [
      "Model Training:   1%|\u001b[38;2;0;153;255m▏         \u001b[0m| 14/1000 [06:59<8:06:03, 29.58s/it]"
     ]
    },
    {
     "name": "stdout",
     "output_type": "stream",
     "text": [
      "\u001b[94m- Epoch: 14/1000\u001b[0m\n",
      "\u001b[31m- Train Loss: 0.177997834 | Validation Loss: 0.149710706\u001b[0m \u001b[32m| NMSE: -1.3401858\u001b[0m\n"
     ]
    },
    {
     "name": "stderr",
     "output_type": "stream",
     "text": [
      "Model Training:   2%|\u001b[38;2;0;153;255m▏         \u001b[0m| 15/1000 [07:29<8:09:47, 29.84s/it]"
     ]
    },
    {
     "name": "stdout",
     "output_type": "stream",
     "text": [
      "\u001b[94m- Epoch: 15/1000\u001b[0m\n",
      "\u001b[31m- Train Loss: 0.161084304 | Validation Loss: 0.151622393\u001b[0m \u001b[32m| NMSE: 1.5086117\u001b[0m\n"
     ]
    },
    {
     "name": "stderr",
     "output_type": "stream",
     "text": [
      "Model Training:   2%|\u001b[38;2;0;153;255m▏         \u001b[0m| 16/1000 [07:59<8:11:42, 29.98s/it]"
     ]
    },
    {
     "name": "stdout",
     "output_type": "stream",
     "text": [
      "\u001b[94m- Epoch: 16/1000\u001b[0m\n",
      "\u001b[31m- Train Loss: 0.188822041 | Validation Loss: 0.110312720\u001b[0m \u001b[32m| NMSE: -16.0525208\u001b[0m\n"
     ]
    },
    {
     "name": "stderr",
     "output_type": "stream",
     "text": [
      "Model Training:   2%|\u001b[38;2;0;153;255m▏         \u001b[0m| 17/1000 [08:29<8:08:57, 29.84s/it]"
     ]
    },
    {
     "name": "stdout",
     "output_type": "stream",
     "text": [
      "\u001b[94m- Epoch: 17/1000\u001b[0m\n",
      "\u001b[31m- Train Loss: 0.157292163 | Validation Loss: 0.092021552\u001b[0m \u001b[32m| NMSE: -4.0388026\u001b[0m\n"
     ]
    },
    {
     "name": "stderr",
     "output_type": "stream",
     "text": [
      "Model Training:   2%|\u001b[38;2;0;153;255m▏         \u001b[0m| 18/1000 [08:58<8:02:36, 29.49s/it]"
     ]
    },
    {
     "name": "stdout",
     "output_type": "stream",
     "text": [
      "\u001b[94m- Epoch: 18/1000\u001b[0m\n",
      "\u001b[31m- Train Loss: 0.156405336 | Validation Loss: 0.203079169\u001b[0m \u001b[32m| NMSE: -7.2395499\u001b[0m\n"
     ]
    },
    {
     "name": "stderr",
     "output_type": "stream",
     "text": [
      "Model Training:   2%|\u001b[38;2;0;153;255m▏         \u001b[0m| 19/1000 [09:28<8:05:50, 29.72s/it]"
     ]
    },
    {
     "name": "stdout",
     "output_type": "stream",
     "text": [
      "\u001b[94m- Epoch: 19/1000\u001b[0m\n",
      "\u001b[31m- Train Loss: 0.189578920 | Validation Loss: 0.086206623\u001b[0m \u001b[32m| NMSE: -2.7744851\u001b[0m\n"
     ]
    },
    {
     "name": "stderr",
     "output_type": "stream",
     "text": [
      "Model Training:   2%|\u001b[38;2;0;153;255m▏         \u001b[0m| 20/1000 [09:59<8:11:02, 30.06s/it]"
     ]
    },
    {
     "name": "stdout",
     "output_type": "stream",
     "text": [
      "\u001b[94m- Epoch: 20/1000\u001b[0m\n",
      "\u001b[31m- Train Loss: 0.159370832 | Validation Loss: 0.097190971\u001b[0m \u001b[32m| NMSE: -6.7306700\u001b[0m\n"
     ]
    },
    {
     "name": "stderr",
     "output_type": "stream",
     "text": [
      "Model Training:   2%|\u001b[38;2;0;153;255m▏         \u001b[0m| 21/1000 [10:30<8:15:24, 30.36s/it]"
     ]
    },
    {
     "name": "stdout",
     "output_type": "stream",
     "text": [
      "\u001b[94m- Epoch: 21/1000\u001b[0m\n",
      "\u001b[31m- Train Loss: 0.156546767 | Validation Loss: 0.200531796\u001b[0m \u001b[32m| NMSE: -4.8989193\u001b[0m\n"
     ]
    },
    {
     "name": "stderr",
     "output_type": "stream",
     "text": [
      "Model Training:   2%|\u001b[38;2;0;153;255m▏         \u001b[0m| 22/1000 [11:00<8:16:26, 30.46s/it]"
     ]
    },
    {
     "name": "stdout",
     "output_type": "stream",
     "text": [
      "\u001b[94m- Epoch: 22/1000\u001b[0m\n",
      "\u001b[31m- Train Loss: 0.169400197 | Validation Loss: 0.181353157\u001b[0m \u001b[32m| NMSE: -0.4915690\u001b[0m\n"
     ]
    },
    {
     "name": "stderr",
     "output_type": "stream",
     "text": [
      "Model Training:   2%|\u001b[38;2;0;153;255m▏         \u001b[0m| 23/1000 [11:30<8:13:16, 30.29s/it]"
     ]
    },
    {
     "name": "stdout",
     "output_type": "stream",
     "text": [
      "\u001b[94m- Epoch: 23/1000\u001b[0m\n",
      "\u001b[31m- Train Loss: 0.152179160 | Validation Loss: 0.095860668\u001b[0m \u001b[32m| NMSE: -0.9583868\u001b[0m\n"
     ]
    },
    {
     "name": "stderr",
     "output_type": "stream",
     "text": [
      "Model Training:   2%|\u001b[38;2;0;153;255m▏         \u001b[0m| 24/1000 [11:59<8:03:04, 29.70s/it]"
     ]
    },
    {
     "name": "stdout",
     "output_type": "stream",
     "text": [
      "\u001b[94m- Epoch: 24/1000\u001b[0m\n",
      "\u001b[31m- Train Loss: 0.176213915 | Validation Loss: 0.219441345\u001b[0m \u001b[32m| NMSE: -1.1784017\u001b[0m\n"
     ]
    },
    {
     "name": "stderr",
     "output_type": "stream",
     "text": [
      "Model Training:   2%|\u001b[38;2;0;153;255m▎         \u001b[0m| 25/1000 [12:29<8:06:37, 29.95s/it]"
     ]
    },
    {
     "name": "stdout",
     "output_type": "stream",
     "text": [
      "\u001b[94m- Epoch: 25/1000\u001b[0m\n",
      "\u001b[31m- Train Loss: 0.180607615 | Validation Loss: 0.233036347\u001b[0m \u001b[32m| NMSE: 9.3162708\u001b[0m\n"
     ]
    },
    {
     "name": "stderr",
     "output_type": "stream",
     "text": [
      "Model Training:   3%|\u001b[38;2;0;153;255m▎         \u001b[0m| 26/1000 [13:00<8:08:34, 30.10s/it]"
     ]
    },
    {
     "name": "stdout",
     "output_type": "stream",
     "text": [
      "\u001b[94m- Epoch: 26/1000\u001b[0m\n",
      "\u001b[31m- Train Loss: 0.153778375 | Validation Loss: 0.036067315\u001b[0m \u001b[32m| NMSE: -7.2240503\u001b[0m\n"
     ]
    },
    {
     "name": "stderr",
     "output_type": "stream",
     "text": [
      "Model Training:   3%|\u001b[38;2;0;153;255m▎         \u001b[0m| 27/1000 [13:28<8:01:51, 29.71s/it]"
     ]
    },
    {
     "name": "stdout",
     "output_type": "stream",
     "text": [
      "\u001b[94m- Epoch: 27/1000\u001b[0m\n",
      "\u001b[31m- Train Loss: 0.170958527 | Validation Loss: 0.239312465\u001b[0m \u001b[32m| NMSE: -8.7908330\u001b[0m\n"
     ]
    },
    {
     "name": "stderr",
     "output_type": "stream",
     "text": [
      "Model Training:   3%|\u001b[38;2;0;153;255m▎         \u001b[0m| 28/1000 [13:58<7:59:03, 29.57s/it]"
     ]
    },
    {
     "name": "stdout",
     "output_type": "stream",
     "text": [
      "\u001b[94m- Epoch: 28/1000\u001b[0m\n",
      "\u001b[31m- Train Loss: 0.178656042 | Validation Loss: 0.174828157\u001b[0m \u001b[32m| NMSE: -3.2386049\u001b[0m\n"
     ]
    },
    {
     "name": "stderr",
     "output_type": "stream",
     "text": [
      "Model Training:   3%|\u001b[38;2;0;153;255m▎         \u001b[0m| 29/1000 [14:30<8:09:45, 30.26s/it]"
     ]
    },
    {
     "name": "stdout",
     "output_type": "stream",
     "text": [
      "\u001b[94m- Epoch: 29/1000\u001b[0m\n",
      "\u001b[31m- Train Loss: 0.165030623 | Validation Loss: 0.245032703\u001b[0m \u001b[32m| NMSE: -5.0662171\u001b[0m\n"
     ]
    },
    {
     "name": "stderr",
     "output_type": "stream",
     "text": [
      "Model Training:   3%|\u001b[38;2;0;153;255m▎         \u001b[0m| 30/1000 [15:01<8:12:33, 30.47s/it]"
     ]
    },
    {
     "name": "stdout",
     "output_type": "stream",
     "text": [
      "\u001b[94m- Epoch: 30/1000\u001b[0m\n",
      "\u001b[31m- Train Loss: 0.159848497 | Validation Loss: 0.067975278\u001b[0m \u001b[32m| NMSE: -4.9951622\u001b[0m\n"
     ]
    },
    {
     "name": "stderr",
     "output_type": "stream",
     "text": [
      "Model Training:   3%|\u001b[38;2;0;153;255m▎         \u001b[0m| 31/1000 [15:32<8:14:46, 30.64s/it]"
     ]
    },
    {
     "name": "stdout",
     "output_type": "stream",
     "text": [
      "\u001b[94m- Epoch: 31/1000\u001b[0m\n",
      "\u001b[31m- Train Loss: 0.174682794 | Validation Loss: 0.035917607\u001b[0m \u001b[32m| NMSE: -2.1386484\u001b[0m\n"
     ]
    },
    {
     "name": "stderr",
     "output_type": "stream",
     "text": [
      "Model Training:   3%|\u001b[38;2;0;153;255m▎         \u001b[0m| 32/1000 [16:02<8:11:24, 30.46s/it]"
     ]
    },
    {
     "name": "stdout",
     "output_type": "stream",
     "text": [
      "\u001b[94m- Epoch: 32/1000\u001b[0m\n",
      "\u001b[31m- Train Loss: 0.151479770 | Validation Loss: 0.121216718\u001b[0m \u001b[32m| NMSE: -1.8731893\u001b[0m\n"
     ]
    },
    {
     "name": "stderr",
     "output_type": "stream",
     "text": [
      "Model Training:   3%|\u001b[38;2;0;153;255m▎         \u001b[0m| 33/1000 [16:32<8:12:13, 30.54s/it]"
     ]
    },
    {
     "name": "stdout",
     "output_type": "stream",
     "text": [
      "\u001b[94m- Epoch: 33/1000\u001b[0m\n",
      "\u001b[31m- Train Loss: 0.166676690 | Validation Loss: 0.061819342\u001b[0m \u001b[32m| NMSE: -3.9262434\u001b[0m\n"
     ]
    },
    {
     "name": "stderr",
     "output_type": "stream",
     "text": [
      "Model Training:   3%|\u001b[38;2;0;153;255m▎         \u001b[0m| 34/1000 [17:01<8:04:13, 30.08s/it]"
     ]
    },
    {
     "name": "stdout",
     "output_type": "stream",
     "text": [
      "\u001b[94m- Epoch: 34/1000\u001b[0m\n",
      "\u001b[31m- Train Loss: 0.171827515 | Validation Loss: 0.074136118\u001b[0m \u001b[32m| NMSE: 2.4176840\u001b[0m\n"
     ]
    },
    {
     "name": "stderr",
     "output_type": "stream",
     "text": [
      "Model Training:   4%|\u001b[38;2;0;153;255m▎         \u001b[0m| 35/1000 [17:33<8:10:29, 30.50s/it]"
     ]
    },
    {
     "name": "stdout",
     "output_type": "stream",
     "text": [
      "\u001b[94m- Epoch: 35/1000\u001b[0m\n",
      "\u001b[31m- Train Loss: 0.145841799 | Validation Loss: 0.144353711\u001b[0m \u001b[32m| NMSE: -6.4654489\u001b[0m\n"
     ]
    },
    {
     "name": "stderr",
     "output_type": "stream",
     "text": [
      "Model Training:   4%|\u001b[38;2;0;153;255m▎         \u001b[0m| 36/1000 [18:04<8:14:24, 30.77s/it]"
     ]
    },
    {
     "name": "stdout",
     "output_type": "stream",
     "text": [
      "\u001b[94m- Epoch: 36/1000\u001b[0m\n",
      "\u001b[31m- Train Loss: 0.166583150 | Validation Loss: 0.179124693\u001b[0m \u001b[32m| NMSE: 0.2521663\u001b[0m\n"
     ]
    },
    {
     "name": "stderr",
     "output_type": "stream",
     "text": [
      "Model Training:   4%|\u001b[38;2;0;153;255m▎         \u001b[0m| 37/1000 [18:33<8:04:27, 30.18s/it]"
     ]
    },
    {
     "name": "stdout",
     "output_type": "stream",
     "text": [
      "\u001b[94m- Epoch: 37/1000\u001b[0m\n",
      "\u001b[31m- Train Loss: 0.168108452 | Validation Loss: 0.224698201\u001b[0m \u001b[32m| NMSE: -3.7338367\u001b[0m\n"
     ]
    },
    {
     "name": "stderr",
     "output_type": "stream",
     "text": [
      "Model Training:   4%|\u001b[38;2;0;153;255m▍         \u001b[0m| 38/1000 [19:03<8:00:58, 30.00s/it]"
     ]
    },
    {
     "name": "stdout",
     "output_type": "stream",
     "text": [
      "\u001b[94m- Epoch: 38/1000\u001b[0m\n",
      "\u001b[31m- Train Loss: 0.162829476 | Validation Loss: 0.260274996\u001b[0m \u001b[32m| NMSE: -4.8505788\u001b[0m\n"
     ]
    },
    {
     "name": "stderr",
     "output_type": "stream",
     "text": [
      "Model Training:   4%|\u001b[38;2;0;153;255m▍         \u001b[0m| 39/1000 [19:33<8:00:27, 30.00s/it]"
     ]
    },
    {
     "name": "stdout",
     "output_type": "stream",
     "text": [
      "\u001b[94m- Epoch: 39/1000\u001b[0m\n",
      "\u001b[31m- Train Loss: 0.172866887 | Validation Loss: 0.058518208\u001b[0m \u001b[32m| NMSE: -5.3526126\u001b[0m\n"
     ]
    },
    {
     "name": "stderr",
     "output_type": "stream",
     "text": [
      "Model Training:   4%|\u001b[38;2;0;153;255m▍         \u001b[0m| 40/1000 [20:03<8:01:18, 30.08s/it]"
     ]
    },
    {
     "name": "stdout",
     "output_type": "stream",
     "text": [
      "\u001b[94m- Epoch: 40/1000\u001b[0m\n",
      "\u001b[31m- Train Loss: 0.187174777 | Validation Loss: 0.182790446\u001b[0m \u001b[32m| NMSE: -4.5189308\u001b[0m\n"
     ]
    },
    {
     "name": "stderr",
     "output_type": "stream",
     "text": [
      "Model Training:   4%|\u001b[38;2;0;153;255m▍         \u001b[0m| 41/1000 [20:34<8:08:15, 30.55s/it]"
     ]
    },
    {
     "name": "stdout",
     "output_type": "stream",
     "text": [
      "\u001b[94m- Epoch: 41/1000\u001b[0m\n",
      "\u001b[31m- Train Loss: 0.179205125 | Validation Loss: 0.260128409\u001b[0m \u001b[32m| NMSE: -5.5940096\u001b[0m\n"
     ]
    },
    {
     "name": "stderr",
     "output_type": "stream",
     "text": [
      "Model Training:   4%|\u001b[38;2;0;153;255m▍         \u001b[0m| 42/1000 [21:07<8:16:43, 31.11s/it]"
     ]
    },
    {
     "name": "stdout",
     "output_type": "stream",
     "text": [
      "\u001b[94m- Epoch: 42/1000\u001b[0m\n",
      "\u001b[31m- Train Loss: 0.168831967 | Validation Loss: 0.277581361\u001b[0m \u001b[32m| NMSE: 7.0812533\u001b[0m\n"
     ]
    },
    {
     "name": "stderr",
     "output_type": "stream",
     "text": [
      "Model Training:   4%|\u001b[38;2;0;153;255m▍         \u001b[0m| 43/1000 [21:35<8:02:21, 30.24s/it]"
     ]
    },
    {
     "name": "stdout",
     "output_type": "stream",
     "text": [
      "\u001b[94m- Epoch: 43/1000\u001b[0m\n",
      "\u001b[31m- Train Loss: 0.152858524 | Validation Loss: 0.134588401\u001b[0m \u001b[32m| NMSE: -2.2771731\u001b[0m\n"
     ]
    },
    {
     "name": "stderr",
     "output_type": "stream",
     "text": [
      "Model Training:   4%|\u001b[38;2;0;153;255m▍         \u001b[0m| 44/1000 [22:05<8:00:28, 30.16s/it]"
     ]
    },
    {
     "name": "stdout",
     "output_type": "stream",
     "text": [
      "\u001b[94m- Epoch: 44/1000\u001b[0m\n",
      "\u001b[31m- Train Loss: 0.145124507 | Validation Loss: 0.287209064\u001b[0m \u001b[32m| NMSE: -6.8497722\u001b[0m\n"
     ]
    },
    {
     "name": "stderr",
     "output_type": "stream",
     "text": [
      "Model Training:   4%|\u001b[38;2;0;153;255m▍         \u001b[0m| 45/1000 [22:36<8:03:50, 30.40s/it]"
     ]
    },
    {
     "name": "stdout",
     "output_type": "stream",
     "text": [
      "\u001b[94m- Epoch: 45/1000\u001b[0m\n",
      "\u001b[31m- Train Loss: 0.157805323 | Validation Loss: 0.188003444\u001b[0m \u001b[32m| NMSE: -4.6379786\u001b[0m\n"
     ]
    },
    {
     "name": "stderr",
     "output_type": "stream",
     "text": [
      "Model Training:   5%|\u001b[38;2;0;153;255m▍         \u001b[0m| 46/1000 [23:07<8:06:45, 30.61s/it]"
     ]
    },
    {
     "name": "stdout",
     "output_type": "stream",
     "text": [
      "\u001b[94m- Epoch: 46/1000\u001b[0m\n",
      "\u001b[31m- Train Loss: 0.171989899 | Validation Loss: 0.129047463\u001b[0m \u001b[32m| NMSE: -7.1384852\u001b[0m\n"
     ]
    },
    {
     "name": "stderr",
     "output_type": "stream",
     "text": [
      "Model Training:   5%|\u001b[38;2;0;153;255m▍         \u001b[0m| 47/1000 [23:35<7:52:12, 29.73s/it]"
     ]
    },
    {
     "name": "stdout",
     "output_type": "stream",
     "text": [
      "\u001b[94m- Epoch: 47/1000\u001b[0m\n",
      "\u001b[31m- Train Loss: 0.150803360 | Validation Loss: 0.241070001\u001b[0m \u001b[32m| NMSE: 8.8159285\u001b[0m\n"
     ]
    },
    {
     "name": "stderr",
     "output_type": "stream",
     "text": [
      "Model Training:   5%|\u001b[38;2;0;153;255m▍         \u001b[0m| 48/1000 [24:06<7:58:25, 30.15s/it]"
     ]
    },
    {
     "name": "stdout",
     "output_type": "stream",
     "text": [
      "\u001b[94m- Epoch: 48/1000\u001b[0m\n",
      "\u001b[31m- Train Loss: 0.158461741 | Validation Loss: 0.186147369\u001b[0m \u001b[32m| NMSE: -7.6212945\u001b[0m\n"
     ]
    },
    {
     "name": "stderr",
     "output_type": "stream",
     "text": [
      "Model Training:   5%|\u001b[38;2;0;153;255m▍         \u001b[0m| 49/1000 [24:38<8:05:25, 30.63s/it]"
     ]
    },
    {
     "name": "stdout",
     "output_type": "stream",
     "text": [
      "\u001b[94m- Epoch: 49/1000\u001b[0m\n",
      "\u001b[31m- Train Loss: 0.183920237 | Validation Loss: 0.115306899\u001b[0m \u001b[32m| NMSE: -7.2239811\u001b[0m\n"
     ]
    },
    {
     "name": "stderr",
     "output_type": "stream",
     "text": [
      "Model Training:   5%|\u001b[38;2;0;153;255m▌         \u001b[0m| 50/1000 [25:09<8:06:03, 30.70s/it]"
     ]
    },
    {
     "name": "stdout",
     "output_type": "stream",
     "text": [
      "\u001b[94m- Epoch: 50/1000\u001b[0m\n",
      "\u001b[31m- Train Loss: 0.182535888 | Validation Loss: 0.193728829\u001b[0m \u001b[32m| NMSE: 0.2423868\u001b[0m\n"
     ]
    },
    {
     "name": "stderr",
     "output_type": "stream",
     "text": [
      "Model Training:   5%|\u001b[38;2;0;153;255m▌         \u001b[0m| 51/1000 [25:38<8:01:38, 30.45s/it]"
     ]
    },
    {
     "name": "stdout",
     "output_type": "stream",
     "text": [
      "\u001b[94m- Epoch: 51/1000\u001b[0m\n",
      "\u001b[31m- Train Loss: 0.144358077 | Validation Loss: 0.160843218\u001b[0m \u001b[32m| NMSE: -15.2866745\u001b[0m\n"
     ]
    },
    {
     "name": "stderr",
     "output_type": "stream",
     "text": [
      "Model Training:   5%|\u001b[38;2;0;153;255m▌         \u001b[0m| 52/1000 [26:09<8:02:44, 30.55s/it]"
     ]
    },
    {
     "name": "stdout",
     "output_type": "stream",
     "text": [
      "\u001b[94m- Epoch: 52/1000\u001b[0m\n",
      "\u001b[31m- Train Loss: 0.160912732 | Validation Loss: 0.243803715\u001b[0m \u001b[32m| NMSE: 2.3911942\u001b[0m\n"
     ]
    },
    {
     "name": "stderr",
     "output_type": "stream",
     "text": [
      "Model Training:   5%|\u001b[38;2;0;153;255m▌         \u001b[0m| 53/1000 [26:37<7:50:21, 29.80s/it]"
     ]
    },
    {
     "name": "stdout",
     "output_type": "stream",
     "text": [
      "\u001b[94m- Epoch: 53/1000\u001b[0m\n",
      "\u001b[31m- Train Loss: 0.182095269 | Validation Loss: 0.294756783\u001b[0m \u001b[32m| NMSE: -2.4875935\u001b[0m\n"
     ]
    },
    {
     "name": "stderr",
     "output_type": "stream",
     "text": [
      "Model Training:   5%|\u001b[38;2;0;153;255m▌         \u001b[0m| 54/1000 [27:07<7:50:48, 29.86s/it]"
     ]
    },
    {
     "name": "stdout",
     "output_type": "stream",
     "text": [
      "\u001b[94m- Epoch: 54/1000\u001b[0m\n",
      "\u001b[31m- Train Loss: 0.186842446 | Validation Loss: 0.025255430\u001b[0m \u001b[32m| NMSE: 1.7098553\u001b[0m\n"
     ]
    },
    {
     "name": "stderr",
     "output_type": "stream",
     "text": [
      "Model Training:   6%|\u001b[38;2;0;153;255m▌         \u001b[0m| 55/1000 [27:37<7:51:41, 29.95s/it]"
     ]
    },
    {
     "name": "stdout",
     "output_type": "stream",
     "text": [
      "\u001b[94m- Epoch: 55/1000\u001b[0m\n",
      "\u001b[31m- Train Loss: 0.172457856 | Validation Loss: 0.158015129\u001b[0m \u001b[32m| NMSE: -3.4537015\u001b[0m\n"
     ]
    },
    {
     "name": "stderr",
     "output_type": "stream",
     "text": [
      "Model Training:   6%|\u001b[38;2;0;153;255m▌         \u001b[0m| 56/1000 [28:07<7:51:23, 29.96s/it]"
     ]
    },
    {
     "name": "stdout",
     "output_type": "stream",
     "text": [
      "\u001b[94m- Epoch: 56/1000\u001b[0m\n",
      "\u001b[31m- Train Loss: 0.162884813 | Validation Loss: 0.203489748\u001b[0m \u001b[32m| NMSE: -5.3962488\u001b[0m\n"
     ]
    },
    {
     "name": "stderr",
     "output_type": "stream",
     "text": [
      "Model Training:   6%|\u001b[38;2;0;153;255m▌         \u001b[0m| 57/1000 [28:35<7:41:53, 29.39s/it]"
     ]
    },
    {
     "name": "stdout",
     "output_type": "stream",
     "text": [
      "\u001b[94m- Epoch: 57/1000\u001b[0m\n",
      "\u001b[31m- Train Loss: 0.165053193 | Validation Loss: 0.259144245\u001b[0m \u001b[32m| NMSE: -7.9959693\u001b[0m\n"
     ]
    },
    {
     "name": "stderr",
     "output_type": "stream",
     "text": [
      "Model Training:   6%|\u001b[38;2;0;153;255m▌         \u001b[0m| 58/1000 [29:05<7:44:15, 29.57s/it]"
     ]
    },
    {
     "name": "stdout",
     "output_type": "stream",
     "text": [
      "\u001b[94m- Epoch: 58/1000\u001b[0m\n",
      "\u001b[31m- Train Loss: 0.166269343 | Validation Loss: 0.229396804\u001b[0m \u001b[32m| NMSE: -8.3152797\u001b[0m\n"
     ]
    },
    {
     "name": "stderr",
     "output_type": "stream",
     "text": [
      "Model Training:   6%|\u001b[38;2;0;153;255m▌         \u001b[0m| 59/1000 [29:36<7:46:41, 29.76s/it]"
     ]
    },
    {
     "name": "stdout",
     "output_type": "stream",
     "text": [
      "\u001b[94m- Epoch: 59/1000\u001b[0m\n",
      "\u001b[31m- Train Loss: 0.172433641 | Validation Loss: 0.184544419\u001b[0m \u001b[32m| NMSE: -8.4285467\u001b[0m\n"
     ]
    },
    {
     "name": "stderr",
     "output_type": "stream",
     "text": [
      "Model Training:   6%|\u001b[38;2;0;153;255m▌         \u001b[0m| 60/1000 [30:07<7:51:14, 30.08s/it]"
     ]
    },
    {
     "name": "stdout",
     "output_type": "stream",
     "text": [
      "\u001b[94m- Epoch: 60/1000\u001b[0m\n",
      "\u001b[31m- Train Loss: 0.153989259 | Validation Loss: 0.144850502\u001b[0m \u001b[32m| NMSE: -0.5460874\u001b[0m\n"
     ]
    },
    {
     "name": "stderr",
     "output_type": "stream",
     "text": [
      "Model Training:   6%|\u001b[38;2;0;153;255m▌         \u001b[0m| 61/1000 [30:38<7:55:06, 30.36s/it]"
     ]
    },
    {
     "name": "stdout",
     "output_type": "stream",
     "text": [
      "\u001b[94m- Epoch: 61/1000\u001b[0m\n",
      "\u001b[31m- Train Loss: 0.174992127 | Validation Loss: 0.215740785\u001b[0m \u001b[32m| NMSE: -8.7488341\u001b[0m\n"
     ]
    },
    {
     "name": "stderr",
     "output_type": "stream",
     "text": [
      "Model Training:   6%|\u001b[38;2;0;153;255m▌         \u001b[0m| 62/1000 [31:08<7:56:51, 30.50s/it]"
     ]
    },
    {
     "name": "stdout",
     "output_type": "stream",
     "text": [
      "\u001b[94m- Epoch: 62/1000\u001b[0m\n",
      "\u001b[31m- Train Loss: 0.175946720 | Validation Loss: 0.144041148\u001b[0m \u001b[32m| NMSE: -2.4473621\u001b[0m\n"
     ]
    },
    {
     "name": "stderr",
     "output_type": "stream",
     "text": [
      "Model Training:   6%|\u001b[38;2;0;153;255m▋         \u001b[0m| 63/1000 [31:36<7:42:12, 29.60s/it]"
     ]
    },
    {
     "name": "stdout",
     "output_type": "stream",
     "text": [
      "\u001b[94m- Epoch: 63/1000\u001b[0m\n",
      "\u001b[31m- Train Loss: 0.155887815 | Validation Loss: 0.122755578\u001b[0m \u001b[32m| NMSE: -5.6689150\u001b[0m\n"
     ]
    },
    {
     "name": "stderr",
     "output_type": "stream",
     "text": [
      "Model Training:   6%|\u001b[38;2;0;153;255m▋         \u001b[0m| 64/1000 [32:06<7:44:23, 29.77s/it]"
     ]
    },
    {
     "name": "stdout",
     "output_type": "stream",
     "text": [
      "\u001b[94m- Epoch: 64/1000\u001b[0m\n",
      "\u001b[31m- Train Loss: 0.186659979 | Validation Loss: 0.072269312\u001b[0m \u001b[32m| NMSE: -10.6402076\u001b[0m\n"
     ]
    },
    {
     "name": "stderr",
     "output_type": "stream",
     "text": [
      "Model Training:   6%|\u001b[38;2;0;153;255m▋         \u001b[0m| 65/1000 [32:37<7:50:38, 30.20s/it]"
     ]
    },
    {
     "name": "stdout",
     "output_type": "stream",
     "text": [
      "\u001b[94m- Epoch: 65/1000\u001b[0m\n",
      "\u001b[31m- Train Loss: 0.153627559 | Validation Loss: 0.190411851\u001b[0m \u001b[32m| NMSE: -11.1750994\u001b[0m\n"
     ]
    },
    {
     "name": "stderr",
     "output_type": "stream",
     "text": [
      "Model Training:   7%|\u001b[38;2;0;153;255m▋         \u001b[0m| 66/1000 [33:07<7:49:23, 30.15s/it]"
     ]
    },
    {
     "name": "stdout",
     "output_type": "stream",
     "text": [
      "\u001b[94m- Epoch: 66/1000\u001b[0m\n",
      "\u001b[31m- Train Loss: 0.172426221 | Validation Loss: 0.234371644\u001b[0m \u001b[32m| NMSE: 2.3522100\u001b[0m\n"
     ]
    },
    {
     "name": "stderr",
     "output_type": "stream",
     "text": [
      "Model Training:   7%|\u001b[38;2;0;153;255m▋         \u001b[0m| 67/1000 [33:36<7:40:00, 29.58s/it]"
     ]
    },
    {
     "name": "stdout",
     "output_type": "stream",
     "text": [
      "\u001b[94m- Epoch: 67/1000\u001b[0m\n",
      "\u001b[31m- Train Loss: 0.176426681 | Validation Loss: 0.120031600\u001b[0m \u001b[32m| NMSE: -7.8657539\u001b[0m\n"
     ]
    },
    {
     "name": "stderr",
     "output_type": "stream",
     "text": [
      "Model Training:   7%|\u001b[38;2;0;153;255m▋         \u001b[0m| 68/1000 [34:05<7:41:13, 29.69s/it]"
     ]
    },
    {
     "name": "stdout",
     "output_type": "stream",
     "text": [
      "\u001b[94m- Epoch: 68/1000\u001b[0m\n",
      "\u001b[31m- Train Loss: 0.182776449 | Validation Loss: 0.058584514\u001b[0m \u001b[32m| NMSE: 3.6373868\u001b[0m\n"
     ]
    },
    {
     "name": "stderr",
     "output_type": "stream",
     "text": [
      "Model Training:   7%|\u001b[38;2;0;153;255m▋         \u001b[0m| 69/1000 [34:36<7:45:54, 30.03s/it]"
     ]
    },
    {
     "name": "stdout",
     "output_type": "stream",
     "text": [
      "\u001b[94m- Epoch: 69/1000\u001b[0m\n",
      "\u001b[31m- Train Loss: 0.158094504 | Validation Loss: 0.078563399\u001b[0m \u001b[32m| NMSE: -2.2014940\u001b[0m\n"
     ]
    },
    {
     "name": "stderr",
     "output_type": "stream",
     "text": [
      "Model Training:   7%|\u001b[38;2;0;153;255m▋         \u001b[0m| 70/1000 [35:07<7:50:04, 30.33s/it]"
     ]
    },
    {
     "name": "stdout",
     "output_type": "stream",
     "text": [
      "\u001b[94m- Epoch: 70/1000\u001b[0m\n",
      "\u001b[31m- Train Loss: 0.147995977 | Validation Loss: 0.383466069\u001b[0m \u001b[32m| NMSE: -3.5487783\u001b[0m\n"
     ]
    },
    {
     "name": "stderr",
     "output_type": "stream",
     "text": [
      "Model Training:   7%|\u001b[38;2;0;153;255m▋         \u001b[0m| 71/1000 [35:38<7:53:24, 30.58s/it]"
     ]
    },
    {
     "name": "stdout",
     "output_type": "stream",
     "text": [
      "\u001b[94m- Epoch: 71/1000\u001b[0m\n",
      "\u001b[31m- Train Loss: 0.171633960 | Validation Loss: 0.187765525\u001b[0m \u001b[32m| NMSE: -3.8197262\u001b[0m\n"
     ]
    },
    {
     "name": "stderr",
     "output_type": "stream",
     "text": [
      "Model Training:   7%|\u001b[38;2;0;153;255m▋         \u001b[0m| 72/1000 [36:08<7:46:59, 30.19s/it]"
     ]
    },
    {
     "name": "stdout",
     "output_type": "stream",
     "text": [
      "\u001b[94m- Epoch: 72/1000\u001b[0m\n",
      "\u001b[31m- Train Loss: 0.161615908 | Validation Loss: 0.142784661\u001b[0m \u001b[32m| NMSE: -3.5449798\u001b[0m\n"
     ]
    },
    {
     "name": "stderr",
     "output_type": "stream",
     "text": [
      "Model Training:   7%|\u001b[38;2;0;153;255m▋         \u001b[0m| 73/1000 [36:36<7:38:05, 29.65s/it]"
     ]
    },
    {
     "name": "stdout",
     "output_type": "stream",
     "text": [
      "\u001b[94m- Epoch: 73/1000\u001b[0m\n",
      "\u001b[31m- Train Loss: 0.160754906 | Validation Loss: 0.169217139\u001b[0m \u001b[32m| NMSE: -5.0504874\u001b[0m\n"
     ]
    },
    {
     "name": "stderr",
     "output_type": "stream",
     "text": [
      "Model Training:   7%|\u001b[38;2;0;153;255m▋         \u001b[0m| 74/1000 [37:06<7:39:13, 29.76s/it]"
     ]
    },
    {
     "name": "stdout",
     "output_type": "stream",
     "text": [
      "\u001b[94m- Epoch: 74/1000\u001b[0m\n",
      "\u001b[31m- Train Loss: 0.172942675 | Validation Loss: 0.219614733\u001b[0m \u001b[32m| NMSE: -4.4816084\u001b[0m\n"
     ]
    },
    {
     "name": "stderr",
     "output_type": "stream",
     "text": [
      "Model Training:   8%|\u001b[38;2;0;153;255m▊         \u001b[0m| 75/1000 [37:37<7:42:41, 30.01s/it]"
     ]
    },
    {
     "name": "stdout",
     "output_type": "stream",
     "text": [
      "\u001b[94m- Epoch: 75/1000\u001b[0m\n",
      "\u001b[31m- Train Loss: 0.169657449 | Validation Loss: 0.193230242\u001b[0m \u001b[32m| NMSE: 2.4096241\u001b[0m\n"
     ]
    },
    {
     "name": "stderr",
     "output_type": "stream",
     "text": [
      "Model Training:   8%|\u001b[38;2;0;153;255m▊         \u001b[0m| 76/1000 [38:06<7:40:15, 29.89s/it]"
     ]
    },
    {
     "name": "stdout",
     "output_type": "stream",
     "text": [
      "\u001b[94m- Epoch: 76/1000\u001b[0m\n",
      "\u001b[31m- Train Loss: 0.177015182 | Validation Loss: 0.158973234\u001b[0m \u001b[32m| NMSE: -2.1012121\u001b[0m\n"
     ]
    },
    {
     "name": "stderr",
     "output_type": "stream",
     "text": [
      "Model Training:   8%|\u001b[38;2;0;153;255m▊         \u001b[0m| 77/1000 [38:35<7:33:53, 29.51s/it]"
     ]
    },
    {
     "name": "stdout",
     "output_type": "stream",
     "text": [
      "\u001b[94m- Epoch: 77/1000\u001b[0m\n",
      "\u001b[31m- Train Loss: 0.185534804 | Validation Loss: 0.244844303\u001b[0m \u001b[32m| NMSE: -5.8894172\u001b[0m\n"
     ]
    },
    {
     "name": "stderr",
     "output_type": "stream",
     "text": [
      "Model Training:   8%|\u001b[38;2;0;153;255m▊         \u001b[0m| 78/1000 [39:05<7:33:47, 29.53s/it]"
     ]
    },
    {
     "name": "stdout",
     "output_type": "stream",
     "text": [
      "\u001b[94m- Epoch: 78/1000\u001b[0m\n",
      "\u001b[31m- Train Loss: 0.157289209 | Validation Loss: 0.302286328\u001b[0m \u001b[32m| NMSE: -2.9481087\u001b[0m\n"
     ]
    },
    {
     "name": "stderr",
     "output_type": "stream",
     "text": [
      "Model Training:   8%|\u001b[38;2;0;153;255m▊         \u001b[0m| 79/1000 [39:35<7:36:28, 29.74s/it]"
     ]
    },
    {
     "name": "stdout",
     "output_type": "stream",
     "text": [
      "\u001b[94m- Epoch: 79/1000\u001b[0m\n",
      "\u001b[31m- Train Loss: 0.174755013 | Validation Loss: 0.186753195\u001b[0m \u001b[32m| NMSE: 1.3701404\u001b[0m\n"
     ]
    },
    {
     "name": "stderr",
     "output_type": "stream",
     "text": [
      "Model Training:   8%|\u001b[38;2;0;153;255m▊         \u001b[0m| 80/1000 [40:05<7:37:59, 29.87s/it]"
     ]
    },
    {
     "name": "stdout",
     "output_type": "stream",
     "text": [
      "\u001b[94m- Epoch: 80/1000\u001b[0m\n",
      "\u001b[31m- Train Loss: 0.150929167 | Validation Loss: 0.167320157\u001b[0m \u001b[32m| NMSE: -4.0475162\u001b[0m\n"
     ]
    },
    {
     "name": "stderr",
     "output_type": "stream",
     "text": [
      "Model Training:   8%|\u001b[38;2;0;153;255m▊         \u001b[0m| 81/1000 [40:36<7:43:08, 30.24s/it]"
     ]
    },
    {
     "name": "stdout",
     "output_type": "stream",
     "text": [
      "\u001b[94m- Epoch: 81/1000\u001b[0m\n",
      "\u001b[31m- Train Loss: 0.140943199 | Validation Loss: 0.049005502\u001b[0m \u001b[32m| NMSE: -6.8512774\u001b[0m\n"
     ]
    },
    {
     "name": "stderr",
     "output_type": "stream",
     "text": [
      "Model Training:   8%|\u001b[38;2;0;153;255m▊         \u001b[0m| 82/1000 [41:07<7:46:32, 30.49s/it]"
     ]
    },
    {
     "name": "stdout",
     "output_type": "stream",
     "text": [
      "\u001b[94m- Epoch: 82/1000\u001b[0m\n",
      "\u001b[31m- Train Loss: 0.168654177 | Validation Loss: 0.148527215\u001b[0m \u001b[32m| NMSE: -12.9040141\u001b[0m\n"
     ]
    },
    {
     "name": "stderr",
     "output_type": "stream",
     "text": [
      "Model Training:   8%|\u001b[38;2;0;153;255m▊         \u001b[0m| 83/1000 [41:35<7:34:30, 29.74s/it]"
     ]
    },
    {
     "name": "stdout",
     "output_type": "stream",
     "text": [
      "\u001b[94m- Epoch: 83/1000\u001b[0m\n",
      "\u001b[31m- Train Loss: 0.172983913 | Validation Loss: 0.130027360\u001b[0m \u001b[32m| NMSE: -3.6230015\u001b[0m\n"
     ]
    },
    {
     "name": "stderr",
     "output_type": "stream",
     "text": [
      "Model Training:   8%|\u001b[38;2;0;153;255m▊         \u001b[0m| 84/1000 [42:08<7:46:45, 30.57s/it]"
     ]
    },
    {
     "name": "stdout",
     "output_type": "stream",
     "text": [
      "\u001b[94m- Epoch: 84/1000\u001b[0m\n",
      "\u001b[31m- Train Loss: 0.154953939 | Validation Loss: 0.092313407\u001b[0m \u001b[32m| NMSE: -12.8338521\u001b[0m\n"
     ]
    },
    {
     "name": "stderr",
     "output_type": "stream",
     "text": [
      "Model Training:   8%|\u001b[38;2;0;153;255m▊         \u001b[0m| 85/1000 [42:39<7:47:37, 30.66s/it]"
     ]
    },
    {
     "name": "stdout",
     "output_type": "stream",
     "text": [
      "\u001b[94m- Epoch: 85/1000\u001b[0m\n",
      "\u001b[31m- Train Loss: 0.178446081 | Validation Loss: 0.195809317\u001b[0m \u001b[32m| NMSE: -3.4988061\u001b[0m\n"
     ]
    },
    {
     "name": "stderr",
     "output_type": "stream",
     "text": [
      "Model Training:   9%|\u001b[38;2;0;153;255m▊         \u001b[0m| 86/1000 [43:08<7:39:31, 30.17s/it]"
     ]
    },
    {
     "name": "stdout",
     "output_type": "stream",
     "text": [
      "\u001b[94m- Epoch: 86/1000\u001b[0m\n",
      "\u001b[31m- Train Loss: 0.176505200 | Validation Loss: 0.112871670\u001b[0m \u001b[32m| NMSE: -6.8696157\u001b[0m\n"
     ]
    },
    {
     "name": "stderr",
     "output_type": "stream",
     "text": [
      "Model Training:   9%|\u001b[38;2;0;153;255m▊         \u001b[0m| 87/1000 [43:37<7:35:49, 29.96s/it]"
     ]
    },
    {
     "name": "stdout",
     "output_type": "stream",
     "text": [
      "\u001b[94m- Epoch: 87/1000\u001b[0m\n",
      "\u001b[31m- Train Loss: 0.176625192 | Validation Loss: 0.150891937\u001b[0m \u001b[32m| NMSE: 21.5645499\u001b[0m\n"
     ]
    },
    {
     "name": "stderr",
     "output_type": "stream",
     "text": [
      "Model Training:   9%|\u001b[38;2;0;153;255m▉         \u001b[0m| 88/1000 [44:07<7:34:53, 29.93s/it]"
     ]
    },
    {
     "name": "stdout",
     "output_type": "stream",
     "text": [
      "\u001b[94m- Epoch: 88/1000\u001b[0m\n",
      "\u001b[31m- Train Loss: 0.170232139 | Validation Loss: 0.104873543\u001b[0m \u001b[32m| NMSE: -5.7751827\u001b[0m\n"
     ]
    },
    {
     "name": "stderr",
     "output_type": "stream",
     "text": [
      "Model Training:   9%|\u001b[38;2;0;153;255m▉         \u001b[0m| 89/1000 [44:38<7:40:25, 30.32s/it]"
     ]
    },
    {
     "name": "stdout",
     "output_type": "stream",
     "text": [
      "\u001b[94m- Epoch: 89/1000\u001b[0m\n",
      "\u001b[31m- Train Loss: 0.162128659 | Validation Loss: 0.114735169\u001b[0m \u001b[32m| NMSE: -11.7049785\u001b[0m\n"
     ]
    },
    {
     "name": "stderr",
     "output_type": "stream",
     "text": [
      "Model Training:   9%|\u001b[38;2;0;153;255m▉         \u001b[0m| 90/1000 [45:09<7:44:38, 30.64s/it]"
     ]
    },
    {
     "name": "stdout",
     "output_type": "stream",
     "text": [
      "\u001b[94m- Epoch: 90/1000\u001b[0m\n",
      "\u001b[31m- Train Loss: 0.155680715 | Validation Loss: 0.203747362\u001b[0m \u001b[32m| NMSE: -3.6807417\u001b[0m\n"
     ]
    },
    {
     "name": "stderr",
     "output_type": "stream",
     "text": [
      "Model Training:   9%|\u001b[38;2;0;153;255m▉         \u001b[0m| 91/1000 [45:41<7:46:51, 30.82s/it]"
     ]
    },
    {
     "name": "stdout",
     "output_type": "stream",
     "text": [
      "\u001b[94m- Epoch: 91/1000\u001b[0m\n",
      "\u001b[31m- Train Loss: 0.159119514 | Validation Loss: 0.210577120\u001b[0m \u001b[32m| NMSE: -4.2249281\u001b[0m\n"
     ]
    },
    {
     "name": "stderr",
     "output_type": "stream",
     "text": [
      "Model Training:   9%|\u001b[38;2;0;153;255m▉         \u001b[0m| 92/1000 [46:10<7:41:35, 30.50s/it]"
     ]
    },
    {
     "name": "stdout",
     "output_type": "stream",
     "text": [
      "\u001b[94m- Epoch: 92/1000\u001b[0m\n",
      "\u001b[31m- Train Loss: 0.159382692 | Validation Loss: 0.064965760\u001b[0m \u001b[32m| NMSE: -7.0150032\u001b[0m\n"
     ]
    },
    {
     "name": "stderr",
     "output_type": "stream",
     "text": [
      "Model Training:   9%|\u001b[38;2;0;153;255m▉         \u001b[0m| 93/1000 [46:39<7:34:01, 30.03s/it]"
     ]
    },
    {
     "name": "stdout",
     "output_type": "stream",
     "text": [
      "\u001b[94m- Epoch: 93/1000\u001b[0m\n",
      "\u001b[31m- Train Loss: 0.161035039 | Validation Loss: 0.101190241\u001b[0m \u001b[32m| NMSE: -6.7401897\u001b[0m\n"
     ]
    },
    {
     "name": "stderr",
     "output_type": "stream",
     "text": [
      "Model Training:   9%|\u001b[38;2;0;153;255m▉         \u001b[0m| 94/1000 [47:10<7:36:03, 30.20s/it]"
     ]
    },
    {
     "name": "stdout",
     "output_type": "stream",
     "text": [
      "\u001b[94m- Epoch: 94/1000\u001b[0m\n",
      "\u001b[31m- Train Loss: 0.184597733 | Validation Loss: 0.148186332\u001b[0m \u001b[32m| NMSE: -1.9812786\u001b[0m\n"
     ]
    },
    {
     "name": "stderr",
     "output_type": "stream",
     "text": [
      "Model Training:  10%|\u001b[38;2;0;153;255m▉         \u001b[0m| 95/1000 [47:40<7:34:57, 30.16s/it]"
     ]
    },
    {
     "name": "stdout",
     "output_type": "stream",
     "text": [
      "\u001b[94m- Epoch: 95/1000\u001b[0m\n",
      "\u001b[31m- Train Loss: 0.153784788 | Validation Loss: 0.214708107\u001b[0m \u001b[32m| NMSE: -12.8852401\u001b[0m\n"
     ]
    },
    {
     "name": "stderr",
     "output_type": "stream",
     "text": [
      "Model Training:  10%|\u001b[38;2;0;153;255m▉         \u001b[0m| 96/1000 [48:08<7:25:14, 29.55s/it]"
     ]
    },
    {
     "name": "stdout",
     "output_type": "stream",
     "text": [
      "\u001b[94m- Epoch: 96/1000\u001b[0m\n",
      "\u001b[31m- Train Loss: 0.176948057 | Validation Loss: 0.177444051\u001b[0m \u001b[32m| NMSE: -2.7880945\u001b[0m\n"
     ]
    },
    {
     "name": "stderr",
     "output_type": "stream",
     "text": [
      "Model Training:  10%|\u001b[38;2;0;153;255m▉         \u001b[0m| 97/1000 [48:38<7:27:19, 29.72s/it]"
     ]
    },
    {
     "name": "stdout",
     "output_type": "stream",
     "text": [
      "\u001b[94m- Epoch: 97/1000\u001b[0m\n",
      "\u001b[31m- Train Loss: 0.191755568 | Validation Loss: 0.161887725\u001b[0m \u001b[32m| NMSE: -7.5582225\u001b[0m\n"
     ]
    },
    {
     "name": "stderr",
     "output_type": "stream",
     "text": [
      "Model Training:  10%|\u001b[38;2;0;153;255m▉         \u001b[0m| 98/1000 [49:09<7:33:02, 30.14s/it]"
     ]
    },
    {
     "name": "stdout",
     "output_type": "stream",
     "text": [
      "\u001b[94m- Epoch: 98/1000\u001b[0m\n",
      "\u001b[31m- Train Loss: 0.164617294 | Validation Loss: 0.169879469\u001b[0m \u001b[32m| NMSE: -1.2538447\u001b[0m\n"
     ]
    },
    {
     "name": "stderr",
     "output_type": "stream",
     "text": [
      "Model Training:  10%|\u001b[38;2;0;153;255m▉         \u001b[0m| 99/1000 [49:41<7:37:27, 30.46s/it]"
     ]
    },
    {
     "name": "stdout",
     "output_type": "stream",
     "text": [
      "\u001b[94m- Epoch: 99/1000\u001b[0m\n",
      "\u001b[31m- Train Loss: 0.164744043 | Validation Loss: 0.172568129\u001b[0m \u001b[32m| NMSE: -9.1483066\u001b[0m\n"
     ]
    },
    {
     "name": "stderr",
     "output_type": "stream",
     "text": [
      "Model Training:  10%|\u001b[38;2;0;153;255m█         \u001b[0m| 100/1000 [50:12<7:39:33, 30.64s/it]"
     ]
    },
    {
     "name": "stdout",
     "output_type": "stream",
     "text": [
      "\u001b[94m- Epoch: 100/1000\u001b[0m\n",
      "\u001b[31m- Train Loss: 0.187786680 | Validation Loss: 0.061744012\u001b[0m \u001b[32m| NMSE: -5.3662144\u001b[0m\n"
     ]
    },
    {
     "name": "stderr",
     "output_type": "stream",
     "text": [
      "Model Training:  10%|\u001b[38;2;0;153;255m█         \u001b[0m| 101/1000 [50:43<7:42:08, 30.84s/it]"
     ]
    },
    {
     "name": "stdout",
     "output_type": "stream",
     "text": [
      "\u001b[94m- Epoch: 101/1000\u001b[0m\n",
      "\u001b[31m- Train Loss: 0.168775153 | Validation Loss: 0.204725582\u001b[0m \u001b[32m| NMSE: -4.5184765\u001b[0m\n"
     ]
    },
    {
     "name": "stderr",
     "output_type": "stream",
     "text": [
      "Model Training:  10%|\u001b[38;2;0;153;255m█         \u001b[0m| 102/1000 [51:12<7:34:39, 30.38s/it]"
     ]
    },
    {
     "name": "stdout",
     "output_type": "stream",
     "text": [
      "\u001b[94m- Epoch: 102/1000\u001b[0m\n",
      "\u001b[31m- Train Loss: 0.157863521 | Validation Loss: 0.059304963\u001b[0m \u001b[32m| NMSE: 0.0374507\u001b[0m\n"
     ]
    },
    {
     "name": "stderr",
     "output_type": "stream",
     "text": [
      "Model Training:  10%|\u001b[38;2;0;153;255m█         \u001b[0m| 103/1000 [51:42<7:30:14, 30.12s/it]"
     ]
    },
    {
     "name": "stdout",
     "output_type": "stream",
     "text": [
      "\u001b[94m- Epoch: 103/1000\u001b[0m\n",
      "\u001b[31m- Train Loss: 0.172838309 | Validation Loss: 0.072534115\u001b[0m \u001b[32m| NMSE: -4.3016185\u001b[0m\n"
     ]
    },
    {
     "name": "stderr",
     "output_type": "stream",
     "text": [
      "Model Training:  10%|\u001b[38;2;0;153;255m█         \u001b[0m| 104/1000 [52:13<7:34:10, 30.41s/it]"
     ]
    },
    {
     "name": "stdout",
     "output_type": "stream",
     "text": [
      "\u001b[94m- Epoch: 104/1000\u001b[0m\n",
      "\u001b[31m- Train Loss: 0.164114007 | Validation Loss: 0.166497856\u001b[0m \u001b[32m| NMSE: -8.1890903\u001b[0m\n"
     ]
    },
    {
     "name": "stderr",
     "output_type": "stream",
     "text": [
      "Model Training:  10%|\u001b[38;2;0;153;255m█         \u001b[0m| 105/1000 [52:44<7:37:53, 30.70s/it]"
     ]
    },
    {
     "name": "stdout",
     "output_type": "stream",
     "text": [
      "\u001b[94m- Epoch: 105/1000\u001b[0m\n",
      "\u001b[31m- Train Loss: 0.184039108 | Validation Loss: 0.223365734\u001b[0m \u001b[32m| NMSE: -1.0323886\u001b[0m\n"
     ]
    },
    {
     "name": "stderr",
     "output_type": "stream",
     "text": [
      "Model Training:  11%|\u001b[38;2;0;153;255m█         \u001b[0m| 106/1000 [53:12<7:23:49, 29.79s/it]"
     ]
    },
    {
     "name": "stdout",
     "output_type": "stream",
     "text": [
      "\u001b[94m- Epoch: 106/1000\u001b[0m\n",
      "\u001b[31m- Train Loss: 0.182657892 | Validation Loss: 0.200462546\u001b[0m \u001b[32m| NMSE: 2.4837168\u001b[0m\n"
     ]
    },
    {
     "name": "stderr",
     "output_type": "stream",
     "text": [
      "Model Training:  11%|\u001b[38;2;0;153;255m█         \u001b[0m| 107/1000 [53:42<7:26:46, 30.02s/it]"
     ]
    },
    {
     "name": "stdout",
     "output_type": "stream",
     "text": [
      "\u001b[94m- Epoch: 107/1000\u001b[0m\n",
      "\u001b[31m- Train Loss: 0.173745999 | Validation Loss: 0.097019907\u001b[0m \u001b[32m| NMSE: -0.6652955\u001b[0m\n"
     ]
    },
    {
     "name": "stderr",
     "output_type": "stream",
     "text": [
      "Model Training:  11%|\u001b[38;2;0;153;255m█         \u001b[0m| 108/1000 [54:13<7:28:07, 30.14s/it]"
     ]
    },
    {
     "name": "stdout",
     "output_type": "stream",
     "text": [
      "\u001b[94m- Epoch: 108/1000\u001b[0m\n",
      "\u001b[31m- Train Loss: 0.169189410 | Validation Loss: 0.207907509\u001b[0m \u001b[32m| NMSE: 1.5630956\u001b[0m\n"
     ]
    },
    {
     "name": "stderr",
     "output_type": "stream",
     "text": [
      "Model Training:  11%|\u001b[38;2;0;153;255m█         \u001b[0m| 109/1000 [54:43<7:26:48, 30.09s/it]"
     ]
    },
    {
     "name": "stdout",
     "output_type": "stream",
     "text": [
      "\u001b[94m- Epoch: 109/1000\u001b[0m\n",
      "\u001b[31m- Train Loss: 0.186315064 | Validation Loss: 0.335720599\u001b[0m \u001b[32m| NMSE: -6.7703980\u001b[0m\n"
     ]
    },
    {
     "name": "stderr",
     "output_type": "stream",
     "text": [
      "Model Training:  11%|\u001b[38;2;0;153;255m█         \u001b[0m| 110/1000 [55:13<7:28:14, 30.22s/it]"
     ]
    },
    {
     "name": "stdout",
     "output_type": "stream",
     "text": [
      "\u001b[94m- Epoch: 110/1000\u001b[0m\n",
      "\u001b[31m- Train Loss: 0.166310574 | Validation Loss: 0.155149204\u001b[0m \u001b[32m| NMSE: 1.2653849\u001b[0m\n"
     ]
    },
    {
     "name": "stderr",
     "output_type": "stream",
     "text": [
      "Model Training:  11%|\u001b[38;2;0;153;255m█         \u001b[0m| 111/1000 [55:43<7:25:52, 30.09s/it]"
     ]
    },
    {
     "name": "stdout",
     "output_type": "stream",
     "text": [
      "\u001b[94m- Epoch: 111/1000\u001b[0m\n",
      "\u001b[31m- Train Loss: 0.178881397 | Validation Loss: 0.142316466\u001b[0m \u001b[32m| NMSE: 3.8196259\u001b[0m\n"
     ]
    },
    {
     "name": "stderr",
     "output_type": "stream",
     "text": [
      "Model Training:  11%|\u001b[38;2;0;153;255m█         \u001b[0m| 112/1000 [56:11<7:15:47, 29.45s/it]"
     ]
    },
    {
     "name": "stdout",
     "output_type": "stream",
     "text": [
      "\u001b[94m- Epoch: 112/1000\u001b[0m\n",
      "\u001b[31m- Train Loss: 0.152410914 | Validation Loss: 0.238866888\u001b[0m \u001b[32m| NMSE: 2.1476700\u001b[0m\n"
     ]
    },
    {
     "name": "stderr",
     "output_type": "stream",
     "text": [
      "Model Training:  11%|\u001b[38;2;0;153;255m█▏        \u001b[0m| 113/1000 [56:42<7:20:28, 29.80s/it]"
     ]
    },
    {
     "name": "stdout",
     "output_type": "stream",
     "text": [
      "\u001b[94m- Epoch: 113/1000\u001b[0m\n",
      "\u001b[31m- Train Loss: 0.175237122 | Validation Loss: 0.134685922\u001b[0m \u001b[32m| NMSE: -3.5479030\u001b[0m\n"
     ]
    },
    {
     "name": "stderr",
     "output_type": "stream",
     "text": [
      "Model Training:  11%|\u001b[38;2;0;153;255m█▏        \u001b[0m| 114/1000 [57:13<7:24:37, 30.11s/it]"
     ]
    },
    {
     "name": "stdout",
     "output_type": "stream",
     "text": [
      "\u001b[94m- Epoch: 114/1000\u001b[0m\n",
      "\u001b[31m- Train Loss: 0.157275972 | Validation Loss: 0.136820123\u001b[0m \u001b[32m| NMSE: -1.1714070\u001b[0m\n"
     ]
    },
    {
     "name": "stderr",
     "output_type": "stream",
     "text": [
      "Model Training:  12%|\u001b[38;2;0;153;255m█▏        \u001b[0m| 115/1000 [57:43<7:24:20, 30.12s/it]"
     ]
    },
    {
     "name": "stdout",
     "output_type": "stream",
     "text": [
      "\u001b[94m- Epoch: 115/1000\u001b[0m\n",
      "\u001b[31m- Train Loss: 0.159624011 | Validation Loss: 0.151870218\u001b[0m \u001b[32m| NMSE: -3.8622761\u001b[0m\n"
     ]
    },
    {
     "name": "stderr",
     "output_type": "stream",
     "text": [
      "Model Training:  12%|\u001b[38;2;0;153;255m█▏        \u001b[0m| 116/1000 [58:11<7:14:19, 29.48s/it]"
     ]
    },
    {
     "name": "stdout",
     "output_type": "stream",
     "text": [
      "\u001b[94m- Epoch: 116/1000\u001b[0m\n",
      "\u001b[31m- Train Loss: 0.162504305 | Validation Loss: 0.289730504\u001b[0m \u001b[32m| NMSE: -9.8915443\u001b[0m\n"
     ]
    },
    {
     "name": "stderr",
     "output_type": "stream",
     "text": [
      "Model Training:  12%|\u001b[38;2;0;153;255m█▏        \u001b[0m| 117/1000 [58:42<7:19:39, 29.88s/it]"
     ]
    },
    {
     "name": "stdout",
     "output_type": "stream",
     "text": [
      "\u001b[94m- Epoch: 117/1000\u001b[0m\n",
      "\u001b[31m- Train Loss: 0.154456413 | Validation Loss: 0.190480284\u001b[0m \u001b[32m| NMSE: -10.9108381\u001b[0m\n"
     ]
    },
    {
     "name": "stderr",
     "output_type": "stream",
     "text": [
      "Model Training:  12%|\u001b[38;2;0;153;255m█▏        \u001b[0m| 118/1000 [59:13<7:24:11, 30.22s/it]"
     ]
    },
    {
     "name": "stdout",
     "output_type": "stream",
     "text": [
      "\u001b[94m- Epoch: 118/1000\u001b[0m\n",
      "\u001b[31m- Train Loss: 0.169604987 | Validation Loss: 0.250143935\u001b[0m \u001b[32m| NMSE: -11.5773618\u001b[0m\n"
     ]
    },
    {
     "name": "stderr",
     "output_type": "stream",
     "text": [
      "Model Training:  12%|\u001b[38;2;0;153;255m█▏        \u001b[0m| 119/1000 [59:44<7:28:04, 30.52s/it]"
     ]
    },
    {
     "name": "stdout",
     "output_type": "stream",
     "text": [
      "\u001b[94m- Epoch: 119/1000\u001b[0m\n",
      "\u001b[31m- Train Loss: 0.145307609 | Validation Loss: 0.295405441\u001b[0m \u001b[32m| NMSE: -10.6184745\u001b[0m\n"
     ]
    },
    {
     "name": "stderr",
     "output_type": "stream",
     "text": [
      "Model Training:  12%|\u001b[38;2;0;153;255m█▏        \u001b[0m| 120/1000 [1:00:15<7:30:02, 30.69s/it]"
     ]
    },
    {
     "name": "stdout",
     "output_type": "stream",
     "text": [
      "\u001b[94m- Epoch: 120/1000\u001b[0m\n",
      "\u001b[31m- Train Loss: 0.175628586 | Validation Loss: 0.217454587\u001b[0m \u001b[32m| NMSE: -2.3669207\u001b[0m\n"
     ]
    },
    {
     "name": "stderr",
     "output_type": "stream",
     "text": [
      "Model Training:  12%|\u001b[38;2;0;153;255m█▏        \u001b[0m| 121/1000 [1:00:46<7:31:43, 30.83s/it]"
     ]
    },
    {
     "name": "stdout",
     "output_type": "stream",
     "text": [
      "\u001b[94m- Epoch: 121/1000\u001b[0m\n",
      "\u001b[31m- Train Loss: 0.182533530 | Validation Loss: 0.159999346\u001b[0m \u001b[32m| NMSE: 0.8527563\u001b[0m\n"
     ]
    },
    {
     "name": "stderr",
     "output_type": "stream",
     "text": [
      "Model Training:  12%|\u001b[38;2;0;153;255m█▏        \u001b[0m| 122/1000 [1:01:14<7:18:04, 29.94s/it]"
     ]
    },
    {
     "name": "stdout",
     "output_type": "stream",
     "text": [
      "\u001b[94m- Epoch: 122/1000\u001b[0m\n",
      "\u001b[31m- Train Loss: 0.183155212 | Validation Loss: 0.092787621\u001b[0m \u001b[32m| NMSE: -5.6927454\u001b[0m\n"
     ]
    },
    {
     "name": "stderr",
     "output_type": "stream",
     "text": [
      "Model Training:  12%|\u001b[38;2;0;153;255m█▏        \u001b[0m| 123/1000 [1:01:44<7:16:35, 29.87s/it]"
     ]
    },
    {
     "name": "stdout",
     "output_type": "stream",
     "text": [
      "\u001b[94m- Epoch: 123/1000\u001b[0m\n",
      "\u001b[31m- Train Loss: 0.161284381 | Validation Loss: 0.278886311\u001b[0m \u001b[32m| NMSE: 1.1137695\u001b[0m\n"
     ]
    },
    {
     "name": "stderr",
     "output_type": "stream",
     "text": [
      "Model Training:  12%|\u001b[38;2;0;153;255m█▏        \u001b[0m| 124/1000 [1:02:15<7:23:26, 30.37s/it]"
     ]
    },
    {
     "name": "stdout",
     "output_type": "stream",
     "text": [
      "\u001b[94m- Epoch: 124/1000\u001b[0m\n",
      "\u001b[31m- Train Loss: 0.163935785 | Validation Loss: 0.134283616\u001b[0m \u001b[32m| NMSE: 12.5336158\u001b[0m\n"
     ]
    },
    {
     "name": "stderr",
     "output_type": "stream",
     "text": [
      "Model Training:  12%|\u001b[38;2;0;153;255m█▎        \u001b[0m| 125/1000 [1:02:45<7:19:03, 30.11s/it]"
     ]
    },
    {
     "name": "stdout",
     "output_type": "stream",
     "text": [
      "\u001b[94m- Epoch: 125/1000\u001b[0m\n",
      "\u001b[31m- Train Loss: 0.175585523 | Validation Loss: 0.294180907\u001b[0m \u001b[32m| NMSE: -5.2903055\u001b[0m\n"
     ]
    },
    {
     "name": "stderr",
     "output_type": "stream",
     "text": [
      "Model Training:  13%|\u001b[38;2;0;153;255m█▎        \u001b[0m| 126/1000 [1:03:13<7:11:34, 29.63s/it]"
     ]
    },
    {
     "name": "stdout",
     "output_type": "stream",
     "text": [
      "\u001b[94m- Epoch: 126/1000\u001b[0m\n",
      "\u001b[31m- Train Loss: 0.172093976 | Validation Loss: 0.028474873\u001b[0m \u001b[32m| NMSE: -12.3995814\u001b[0m\n"
     ]
    },
    {
     "name": "stderr",
     "output_type": "stream",
     "text": [
      "Model Training:  13%|\u001b[38;2;0;153;255m█▎        \u001b[0m| 127/1000 [1:03:44<7:17:32, 30.07s/it]"
     ]
    },
    {
     "name": "stdout",
     "output_type": "stream",
     "text": [
      "\u001b[94m- Epoch: 127/1000\u001b[0m\n",
      "\u001b[31m- Train Loss: 0.148982801 | Validation Loss: 0.088067866\u001b[0m \u001b[32m| NMSE: -0.3777537\u001b[0m\n"
     ]
    },
    {
     "name": "stderr",
     "output_type": "stream",
     "text": [
      "Model Training:  13%|\u001b[38;2;0;153;255m█▎        \u001b[0m| 128/1000 [1:04:15<7:18:25, 30.17s/it]"
     ]
    },
    {
     "name": "stdout",
     "output_type": "stream",
     "text": [
      "\u001b[94m- Epoch: 128/1000\u001b[0m\n",
      "\u001b[31m- Train Loss: 0.163239979 | Validation Loss: 0.252334135\u001b[0m \u001b[32m| NMSE: 0.2341529\u001b[0m\n"
     ]
    },
    {
     "name": "stderr",
     "output_type": "stream",
     "text": [
      "Model Training:  13%|\u001b[38;2;0;153;255m█▎        \u001b[0m| 129/1000 [1:04:45<7:20:01, 30.31s/it]"
     ]
    },
    {
     "name": "stdout",
     "output_type": "stream",
     "text": [
      "\u001b[94m- Epoch: 129/1000\u001b[0m\n",
      "\u001b[31m- Train Loss: 0.178409025 | Validation Loss: 0.140229772\u001b[0m \u001b[32m| NMSE: -5.9851997\u001b[0m\n"
     ]
    },
    {
     "name": "stderr",
     "output_type": "stream",
     "text": [
      "Model Training:  13%|\u001b[38;2;0;153;255m█▎        \u001b[0m| 130/1000 [1:05:16<7:20:08, 30.35s/it]"
     ]
    },
    {
     "name": "stdout",
     "output_type": "stream",
     "text": [
      "\u001b[94m- Epoch: 130/1000\u001b[0m\n",
      "\u001b[31m- Train Loss: 0.170704333 | Validation Loss: 0.134834507\u001b[0m \u001b[32m| NMSE: -2.1970359\u001b[0m\n"
     ]
    },
    {
     "name": "stderr",
     "output_type": "stream",
     "text": [
      "Model Training:  13%|\u001b[38;2;0;153;255m█▎        \u001b[0m| 131/1000 [1:05:45<7:16:50, 30.16s/it]"
     ]
    },
    {
     "name": "stdout",
     "output_type": "stream",
     "text": [
      "\u001b[94m- Epoch: 131/1000\u001b[0m\n",
      "\u001b[31m- Train Loss: 0.154532173 | Validation Loss: 0.254013417\u001b[0m \u001b[32m| NMSE: -11.1512876\u001b[0m\n"
     ]
    },
    {
     "name": "stderr",
     "output_type": "stream",
     "text": [
      "Model Training:  13%|\u001b[38;2;0;153;255m█▎        \u001b[0m| 132/1000 [1:06:13<7:04:24, 29.34s/it]"
     ]
    },
    {
     "name": "stdout",
     "output_type": "stream",
     "text": [
      "\u001b[94m- Epoch: 132/1000\u001b[0m\n",
      "\u001b[31m- Train Loss: 0.162340553 | Validation Loss: 0.330174441\u001b[0m \u001b[32m| NMSE: -7.5128558\u001b[0m\n"
     ]
    },
    {
     "name": "stderr",
     "output_type": "stream",
     "text": [
      "Model Training:  13%|\u001b[38;2;0;153;255m█▎        \u001b[0m| 133/1000 [1:06:44<7:13:04, 29.97s/it]"
     ]
    },
    {
     "name": "stdout",
     "output_type": "stream",
     "text": [
      "\u001b[94m- Epoch: 133/1000\u001b[0m\n",
      "\u001b[31m- Train Loss: 0.173390100 | Validation Loss: 0.034074559\u001b[0m \u001b[32m| NMSE: -7.2996522\u001b[0m\n"
     ]
    },
    {
     "name": "stderr",
     "output_type": "stream",
     "text": [
      "Model Training:  13%|\u001b[38;2;0;153;255m█▎        \u001b[0m| 134/1000 [1:07:16<7:20:00, 30.49s/it]"
     ]
    },
    {
     "name": "stdout",
     "output_type": "stream",
     "text": [
      "\u001b[94m- Epoch: 134/1000\u001b[0m\n",
      "\u001b[31m- Train Loss: 0.156348677 | Validation Loss: 0.330234182\u001b[0m \u001b[32m| NMSE: -12.0949392\u001b[0m\n"
     ]
    },
    {
     "name": "stderr",
     "output_type": "stream",
     "text": [
      "Model Training:  14%|\u001b[38;2;0;153;255m█▎        \u001b[0m| 135/1000 [1:07:45<7:14:11, 30.12s/it]"
     ]
    },
    {
     "name": "stdout",
     "output_type": "stream",
     "text": [
      "\u001b[94m- Epoch: 135/1000\u001b[0m\n",
      "\u001b[31m- Train Loss: 0.155210055 | Validation Loss: 0.173298972\u001b[0m \u001b[32m| NMSE: -1.9911573\u001b[0m\n"
     ]
    },
    {
     "name": "stderr",
     "output_type": "stream",
     "text": [
      "Model Training:  14%|\u001b[38;2;0;153;255m█▎        \u001b[0m| 136/1000 [1:08:14<7:08:54, 29.78s/it]"
     ]
    },
    {
     "name": "stdout",
     "output_type": "stream",
     "text": [
      "\u001b[94m- Epoch: 136/1000\u001b[0m\n",
      "\u001b[31m- Train Loss: 0.154709244 | Validation Loss: 0.099521966\u001b[0m \u001b[32m| NMSE: 5.0377140\u001b[0m\n"
     ]
    },
    {
     "name": "stderr",
     "output_type": "stream",
     "text": [
      "Model Training:  14%|\u001b[38;2;0;153;255m█▎        \u001b[0m| 137/1000 [1:08:44<7:08:53, 29.82s/it]"
     ]
    },
    {
     "name": "stdout",
     "output_type": "stream",
     "text": [
      "\u001b[94m- Epoch: 137/1000\u001b[0m\n",
      "\u001b[31m- Train Loss: 0.146860695 | Validation Loss: 0.168734046\u001b[0m \u001b[32m| NMSE: -11.3944046\u001b[0m\n"
     ]
    },
    {
     "name": "stderr",
     "output_type": "stream",
     "text": [
      "Model Training:  14%|\u001b[38;2;0;153;255m█▍        \u001b[0m| 138/1000 [1:09:14<7:09:35, 29.90s/it]"
     ]
    },
    {
     "name": "stdout",
     "output_type": "stream",
     "text": [
      "\u001b[94m- Epoch: 138/1000\u001b[0m\n",
      "\u001b[31m- Train Loss: 0.169480392 | Validation Loss: 0.245809040\u001b[0m \u001b[32m| NMSE: -5.0326755\u001b[0m\n"
     ]
    },
    {
     "name": "stderr",
     "output_type": "stream",
     "text": [
      "Model Training:  14%|\u001b[38;2;0;153;255m█▍        \u001b[0m| 139/1000 [1:09:44<7:09:49, 29.95s/it]"
     ]
    },
    {
     "name": "stdout",
     "output_type": "stream",
     "text": [
      "\u001b[94m- Epoch: 139/1000\u001b[0m\n",
      "\u001b[31m- Train Loss: 0.162191390 | Validation Loss: 0.128498750\u001b[0m \u001b[32m| NMSE: -6.1734330\u001b[0m\n"
     ]
    },
    {
     "name": "stderr",
     "output_type": "stream",
     "text": [
      "Model Training:  14%|\u001b[38;2;0;153;255m█▍        \u001b[0m| 140/1000 [1:10:15<7:13:50, 30.27s/it]"
     ]
    },
    {
     "name": "stdout",
     "output_type": "stream",
     "text": [
      "\u001b[94m- Epoch: 140/1000\u001b[0m\n",
      "\u001b[31m- Train Loss: 0.171553274 | Validation Loss: 0.149529358\u001b[0m \u001b[32m| NMSE: -7.8160222\u001b[0m\n"
     ]
    },
    {
     "name": "stderr",
     "output_type": "stream",
     "text": [
      "Model Training:  14%|\u001b[38;2;0;153;255m█▍        \u001b[0m| 141/1000 [1:10:45<7:12:31, 30.21s/it]"
     ]
    },
    {
     "name": "stdout",
     "output_type": "stream",
     "text": [
      "\u001b[94m- Epoch: 141/1000\u001b[0m\n",
      "\u001b[31m- Train Loss: 0.162464519 | Validation Loss: 0.193938201\u001b[0m \u001b[32m| NMSE: -6.3106370\u001b[0m\n"
     ]
    },
    {
     "name": "stderr",
     "output_type": "stream",
     "text": [
      "Model Training:  14%|\u001b[38;2;0;153;255m█▍        \u001b[0m| 142/1000 [1:11:14<7:03:45, 29.63s/it]"
     ]
    },
    {
     "name": "stdout",
     "output_type": "stream",
     "text": [
      "\u001b[94m- Epoch: 142/1000\u001b[0m\n",
      "\u001b[31m- Train Loss: 0.167720551 | Validation Loss: 0.189427990\u001b[0m \u001b[32m| NMSE: -5.4538150\u001b[0m\n"
     ]
    },
    {
     "name": "stderr",
     "output_type": "stream",
     "text": [
      "Model Training:  14%|\u001b[38;2;0;153;255m█▍        \u001b[0m| 143/1000 [1:11:45<7:08:26, 30.00s/it]"
     ]
    },
    {
     "name": "stdout",
     "output_type": "stream",
     "text": [
      "\u001b[94m- Epoch: 143/1000\u001b[0m\n",
      "\u001b[31m- Train Loss: 0.183735957 | Validation Loss: 0.157738612\u001b[0m \u001b[32m| NMSE: -7.2776206\u001b[0m\n"
     ]
    },
    {
     "name": "stderr",
     "output_type": "stream",
     "text": [
      "Model Training:  14%|\u001b[38;2;0;153;255m█▍        \u001b[0m| 144/1000 [1:12:16<7:12:32, 30.32s/it]"
     ]
    },
    {
     "name": "stdout",
     "output_type": "stream",
     "text": [
      "\u001b[94m- Epoch: 144/1000\u001b[0m\n",
      "\u001b[31m- Train Loss: 0.161864979 | Validation Loss: 0.144637540\u001b[0m \u001b[32m| NMSE: -4.8815765\u001b[0m\n"
     ]
    },
    {
     "name": "stderr",
     "output_type": "stream",
     "text": [
      "Model Training:  14%|\u001b[38;2;0;153;255m█▍        \u001b[0m| 145/1000 [1:12:44<7:05:10, 29.84s/it]"
     ]
    },
    {
     "name": "stdout",
     "output_type": "stream",
     "text": [
      "\u001b[94m- Epoch: 145/1000\u001b[0m\n",
      "\u001b[31m- Train Loss: 0.156340821 | Validation Loss: 0.172346560\u001b[0m \u001b[32m| NMSE: -9.7650306\u001b[0m\n"
     ]
    },
    {
     "name": "stderr",
     "output_type": "stream",
     "text": [
      "Model Training:  15%|\u001b[38;2;0;153;255m█▍        \u001b[0m| 146/1000 [1:13:14<7:02:16, 29.67s/it]"
     ]
    },
    {
     "name": "stdout",
     "output_type": "stream",
     "text": [
      "\u001b[94m- Epoch: 146/1000\u001b[0m\n",
      "\u001b[31m- Train Loss: 0.166894102 | Validation Loss: 0.047097394\u001b[0m \u001b[32m| NMSE: -5.8244543\u001b[0m\n"
     ]
    },
    {
     "name": "stderr",
     "output_type": "stream",
     "text": [
      "Model Training:  15%|\u001b[38;2;0;153;255m█▍        \u001b[0m| 147/1000 [1:13:45<7:07:47, 30.09s/it]"
     ]
    },
    {
     "name": "stdout",
     "output_type": "stream",
     "text": [
      "\u001b[94m- Epoch: 147/1000\u001b[0m\n",
      "\u001b[31m- Train Loss: 0.166181843 | Validation Loss: 0.166526922\u001b[0m \u001b[32m| NMSE: -10.1377687\u001b[0m\n"
     ]
    },
    {
     "name": "stderr",
     "output_type": "stream",
     "text": [
      "Model Training:  15%|\u001b[38;2;0;153;255m█▍        \u001b[0m| 148/1000 [1:14:16<7:11:36, 30.39s/it]"
     ]
    },
    {
     "name": "stdout",
     "output_type": "stream",
     "text": [
      "\u001b[94m- Epoch: 148/1000\u001b[0m\n",
      "\u001b[31m- Train Loss: 0.157765222 | Validation Loss: 0.131271695\u001b[0m \u001b[32m| NMSE: 5.8358554\u001b[0m\n"
     ]
    },
    {
     "name": "stderr",
     "output_type": "stream",
     "text": [
      "Model Training:  15%|\u001b[38;2;0;153;255m█▍        \u001b[0m| 149/1000 [1:14:46<7:11:57, 30.45s/it]"
     ]
    },
    {
     "name": "stdout",
     "output_type": "stream",
     "text": [
      "\u001b[94m- Epoch: 149/1000\u001b[0m\n",
      "\u001b[31m- Train Loss: 0.155421981 | Validation Loss: 0.311040143\u001b[0m \u001b[32m| NMSE: -6.0457451\u001b[0m\n"
     ]
    },
    {
     "name": "stderr",
     "output_type": "stream",
     "text": [
      "Model Training:  15%|\u001b[38;2;0;153;255m█▌        \u001b[0m| 150/1000 [1:15:17<7:10:10, 30.37s/it]"
     ]
    },
    {
     "name": "stdout",
     "output_type": "stream",
     "text": [
      "\u001b[94m- Epoch: 150/1000\u001b[0m\n",
      "\u001b[31m- Train Loss: 0.170765345 | Validation Loss: 0.220454896\u001b[0m \u001b[32m| NMSE: 4.1524192\u001b[0m\n"
     ]
    },
    {
     "name": "stderr",
     "output_type": "stream",
     "text": [
      "Model Training:  15%|\u001b[38;2;0;153;255m█▌        \u001b[0m| 151/1000 [1:15:46<7:03:56, 29.96s/it]"
     ]
    },
    {
     "name": "stdout",
     "output_type": "stream",
     "text": [
      "\u001b[94m- Epoch: 151/1000\u001b[0m\n",
      "\u001b[31m- Train Loss: 0.165491406 | Validation Loss: 0.046112361\u001b[0m \u001b[32m| NMSE: -5.7149436\u001b[0m\n"
     ]
    },
    {
     "name": "stderr",
     "output_type": "stream",
     "text": [
      "Model Training:  15%|\u001b[38;2;0;153;255m█▌        \u001b[0m| 152/1000 [1:16:14<6:55:27, 29.40s/it]"
     ]
    },
    {
     "name": "stdout",
     "output_type": "stream",
     "text": [
      "\u001b[94m- Epoch: 152/1000\u001b[0m\n",
      "\u001b[31m- Train Loss: 0.152169997 | Validation Loss: 0.095247852\u001b[0m \u001b[32m| NMSE: -2.6700811\u001b[0m\n"
     ]
    },
    {
     "name": "stderr",
     "output_type": "stream",
     "text": [
      "Model Training:  15%|\u001b[38;2;0;153;255m█▌        \u001b[0m| 153/1000 [1:16:44<6:58:27, 29.64s/it]"
     ]
    },
    {
     "name": "stdout",
     "output_type": "stream",
     "text": [
      "\u001b[94m- Epoch: 153/1000\u001b[0m\n",
      "\u001b[31m- Train Loss: 0.174084636 | Validation Loss: 0.385770219\u001b[0m \u001b[32m| NMSE: -6.9566729\u001b[0m\n"
     ]
    },
    {
     "name": "stderr",
     "output_type": "stream",
     "text": [
      "Model Training:  15%|\u001b[38;2;0;153;255m█▌        \u001b[0m| 154/1000 [1:17:14<7:01:14, 29.88s/it]"
     ]
    },
    {
     "name": "stdout",
     "output_type": "stream",
     "text": [
      "\u001b[94m- Epoch: 154/1000\u001b[0m\n",
      "\u001b[31m- Train Loss: 0.159081120 | Validation Loss: 0.131574536\u001b[0m \u001b[32m| NMSE: -4.8963654\u001b[0m\n"
     ]
    },
    {
     "name": "stderr",
     "output_type": "stream",
     "text": [
      "Model Training:  16%|\u001b[38;2;0;153;255m█▌        \u001b[0m| 155/1000 [1:17:42<6:53:20, 29.35s/it]"
     ]
    },
    {
     "name": "stdout",
     "output_type": "stream",
     "text": [
      "\u001b[94m- Epoch: 155/1000\u001b[0m\n",
      "\u001b[31m- Train Loss: 0.154566911 | Validation Loss: 0.053368208\u001b[0m \u001b[32m| NMSE: -6.7943389\u001b[0m\n"
     ]
    },
    {
     "name": "stderr",
     "output_type": "stream",
     "text": [
      "Model Training:  16%|\u001b[38;2;0;153;255m█▌        \u001b[0m| 156/1000 [1:18:13<6:58:02, 29.72s/it]"
     ]
    },
    {
     "name": "stdout",
     "output_type": "stream",
     "text": [
      "\u001b[94m- Epoch: 156/1000\u001b[0m\n",
      "\u001b[31m- Train Loss: 0.172199622 | Validation Loss: 0.182103594\u001b[0m \u001b[32m| NMSE: -0.0634170\u001b[0m\n"
     ]
    },
    {
     "name": "stderr",
     "output_type": "stream",
     "text": [
      "Model Training:  16%|\u001b[38;2;0;153;255m█▌        \u001b[0m| 157/1000 [1:18:44<7:01:24, 29.99s/it]"
     ]
    },
    {
     "name": "stdout",
     "output_type": "stream",
     "text": [
      "\u001b[94m- Epoch: 157/1000\u001b[0m\n",
      "\u001b[31m- Train Loss: 0.148074539 | Validation Loss: 0.083376051\u001b[0m \u001b[32m| NMSE: -4.9239733\u001b[0m\n"
     ]
    },
    {
     "name": "stderr",
     "output_type": "stream",
     "text": [
      "Model Training:  16%|\u001b[38;2;0;153;255m█▌        \u001b[0m| 158/1000 [1:19:14<7:02:30, 30.11s/it]"
     ]
    },
    {
     "name": "stdout",
     "output_type": "stream",
     "text": [
      "\u001b[94m- Epoch: 158/1000\u001b[0m\n",
      "\u001b[31m- Train Loss: 0.175216918 | Validation Loss: 0.136676777\u001b[0m \u001b[32m| NMSE: 1.9645910\u001b[0m\n"
     ]
    },
    {
     "name": "stderr",
     "output_type": "stream",
     "text": [
      "Model Training:  16%|\u001b[38;2;0;153;255m█▌        \u001b[0m| 159/1000 [1:19:45<7:06:35, 30.43s/it]"
     ]
    },
    {
     "name": "stdout",
     "output_type": "stream",
     "text": [
      "\u001b[94m- Epoch: 159/1000\u001b[0m\n",
      "\u001b[31m- Train Loss: 0.163671082 | Validation Loss: 0.179461047\u001b[0m \u001b[32m| NMSE: 3.2552892\u001b[0m\n"
     ]
    },
    {
     "name": "stderr",
     "output_type": "stream",
     "text": [
      "Model Training:  16%|\u001b[38;2;0;153;255m█▌        \u001b[0m| 160/1000 [1:20:16<7:07:07, 30.51s/it]"
     ]
    },
    {
     "name": "stdout",
     "output_type": "stream",
     "text": [
      "\u001b[94m- Epoch: 160/1000\u001b[0m\n",
      "\u001b[31m- Train Loss: 0.158540465 | Validation Loss: 0.241905667\u001b[0m \u001b[32m| NMSE: -3.1719122\u001b[0m\n"
     ]
    },
    {
     "name": "stderr",
     "output_type": "stream",
     "text": [
      "Model Training:  16%|\u001b[38;2;0;153;255m█▌        \u001b[0m| 161/1000 [1:20:45<7:02:43, 30.23s/it]"
     ]
    },
    {
     "name": "stdout",
     "output_type": "stream",
     "text": [
      "\u001b[94m- Epoch: 161/1000\u001b[0m\n",
      "\u001b[31m- Train Loss: 0.162975904 | Validation Loss: 0.179213541\u001b[0m \u001b[32m| NMSE: -7.8313930\u001b[0m\n"
     ]
    },
    {
     "name": "stderr",
     "output_type": "stream",
     "text": [
      "Model Training:  16%|\u001b[38;2;0;153;255m█▌        \u001b[0m| 162/1000 [1:21:15<6:59:08, 30.01s/it]"
     ]
    },
    {
     "name": "stdout",
     "output_type": "stream",
     "text": [
      "\u001b[94m- Epoch: 162/1000\u001b[0m\n",
      "\u001b[31m- Train Loss: 0.172068330 | Validation Loss: 0.216354646\u001b[0m \u001b[32m| NMSE: -7.0086651\u001b[0m\n"
     ]
    },
    {
     "name": "stderr",
     "output_type": "stream",
     "text": [
      "Model Training:  16%|\u001b[38;2;0;153;255m█▋        \u001b[0m| 163/1000 [1:21:46<7:02:40, 30.30s/it]"
     ]
    },
    {
     "name": "stdout",
     "output_type": "stream",
     "text": [
      "\u001b[94m- Epoch: 163/1000\u001b[0m\n",
      "\u001b[31m- Train Loss: 0.165090440 | Validation Loss: 0.354035944\u001b[0m \u001b[32m| NMSE: -4.1503643\u001b[0m\n"
     ]
    },
    {
     "name": "stderr",
     "output_type": "stream",
     "text": [
      "Model Training:  16%|\u001b[38;2;0;153;255m█▋        \u001b[0m| 164/1000 [1:22:17<7:05:25, 30.53s/it]"
     ]
    },
    {
     "name": "stdout",
     "output_type": "stream",
     "text": [
      "\u001b[94m- Epoch: 164/1000\u001b[0m\n",
      "\u001b[31m- Train Loss: 0.167100865 | Validation Loss: 0.152348666\u001b[0m \u001b[32m| NMSE: -2.9841612\u001b[0m\n"
     ]
    },
    {
     "name": "stderr",
     "output_type": "stream",
     "text": [
      "Model Training:  16%|\u001b[38;2;0;153;255m█▋        \u001b[0m| 165/1000 [1:22:44<6:52:18, 29.63s/it]"
     ]
    },
    {
     "name": "stdout",
     "output_type": "stream",
     "text": [
      "\u001b[94m- Epoch: 165/1000\u001b[0m\n",
      "\u001b[31m- Train Loss: 0.178345360 | Validation Loss: 0.123837816\u001b[0m \u001b[32m| NMSE: 2.1899507\u001b[0m\n"
     ]
    },
    {
     "name": "stderr",
     "output_type": "stream",
     "text": [
      "Model Training:  17%|\u001b[38;2;0;153;255m█▋        \u001b[0m| 166/1000 [1:23:15<6:55:12, 29.87s/it]"
     ]
    },
    {
     "name": "stdout",
     "output_type": "stream",
     "text": [
      "\u001b[94m- Epoch: 166/1000\u001b[0m\n",
      "\u001b[31m- Train Loss: 0.160279787 | Validation Loss: 0.098235426\u001b[0m \u001b[32m| NMSE: -7.0619297\u001b[0m\n"
     ]
    },
    {
     "name": "stderr",
     "output_type": "stream",
     "text": [
      "Model Training:  17%|\u001b[38;2;0;153;255m█▋        \u001b[0m| 167/1000 [1:23:45<6:56:25, 29.99s/it]"
     ]
    },
    {
     "name": "stdout",
     "output_type": "stream",
     "text": [
      "\u001b[94m- Epoch: 167/1000\u001b[0m\n",
      "\u001b[31m- Train Loss: 0.164426353 | Validation Loss: 0.105217785\u001b[0m \u001b[32m| NMSE: -6.5878801\u001b[0m\n"
     ]
    },
    {
     "name": "stderr",
     "output_type": "stream",
     "text": [
      "Model Training:  17%|\u001b[38;2;0;153;255m█▋        \u001b[0m| 168/1000 [1:24:17<7:02:08, 30.44s/it]"
     ]
    },
    {
     "name": "stdout",
     "output_type": "stream",
     "text": [
      "\u001b[94m- Epoch: 168/1000\u001b[0m\n",
      "\u001b[31m- Train Loss: 0.159960369 | Validation Loss: 0.239291708\u001b[0m \u001b[32m| NMSE: 4.1905487\u001b[0m\n"
     ]
    },
    {
     "name": "stderr",
     "output_type": "stream",
     "text": [
      "Model Training:  17%|\u001b[38;2;0;153;255m█▋        \u001b[0m| 169/1000 [1:24:47<7:03:10, 30.55s/it]"
     ]
    },
    {
     "name": "stdout",
     "output_type": "stream",
     "text": [
      "\u001b[94m- Epoch: 169/1000\u001b[0m\n",
      "\u001b[31m- Train Loss: 0.168164830 | Validation Loss: 0.114868479\u001b[0m \u001b[32m| NMSE: 0.2972524\u001b[0m\n"
     ]
    },
    {
     "name": "stderr",
     "output_type": "stream",
     "text": [
      "Model Training:  17%|\u001b[38;2;0;153;255m█▋        \u001b[0m| 170/1000 [1:25:18<7:03:06, 30.59s/it]"
     ]
    },
    {
     "name": "stdout",
     "output_type": "stream",
     "text": [
      "\u001b[94m- Epoch: 170/1000\u001b[0m\n",
      "\u001b[31m- Train Loss: 0.174738035 | Validation Loss: 0.022332769\u001b[0m \u001b[32m| NMSE: -5.7343700\u001b[0m\n"
     ]
    },
    {
     "name": "stderr",
     "output_type": "stream",
     "text": [
      "Model Training:  17%|\u001b[38;2;0;153;255m█▋        \u001b[0m| 171/1000 [1:25:46<6:51:56, 29.81s/it]"
     ]
    },
    {
     "name": "stdout",
     "output_type": "stream",
     "text": [
      "\u001b[94m- Epoch: 171/1000\u001b[0m\n",
      "\u001b[31m- Train Loss: 0.184399206 | Validation Loss: 0.097329286\u001b[0m \u001b[32m| NMSE: -4.4626088\u001b[0m\n"
     ]
    },
    {
     "name": "stderr",
     "output_type": "stream",
     "text": [
      "Model Training:  17%|\u001b[38;2;0;153;255m█▋        \u001b[0m| 172/1000 [1:26:15<6:48:15, 29.58s/it]"
     ]
    },
    {
     "name": "stdout",
     "output_type": "stream",
     "text": [
      "\u001b[94m- Epoch: 172/1000\u001b[0m\n",
      "\u001b[31m- Train Loss: 0.170821322 | Validation Loss: 0.382070384\u001b[0m \u001b[32m| NMSE: -5.0997443\u001b[0m\n"
     ]
    },
    {
     "name": "stderr",
     "output_type": "stream",
     "text": [
      "Model Training:  17%|\u001b[38;2;0;153;255m█▋        \u001b[0m| 173/1000 [1:26:46<6:53:04, 29.97s/it]"
     ]
    },
    {
     "name": "stdout",
     "output_type": "stream",
     "text": [
      "\u001b[94m- Epoch: 173/1000\u001b[0m\n",
      "\u001b[31m- Train Loss: 0.153042813 | Validation Loss: 0.230684804\u001b[0m \u001b[32m| NMSE: -0.0191948\u001b[0m\n"
     ]
    },
    {
     "name": "stderr",
     "output_type": "stream",
     "text": [
      "Model Training:  17%|\u001b[38;2;0;153;255m█▋        \u001b[0m| 174/1000 [1:27:17<6:55:57, 30.22s/it]"
     ]
    },
    {
     "name": "stdout",
     "output_type": "stream",
     "text": [
      "\u001b[94m- Epoch: 174/1000\u001b[0m\n",
      "\u001b[31m- Train Loss: 0.165526801 | Validation Loss: 0.053211610\u001b[0m \u001b[32m| NMSE: -7.9252441\u001b[0m\n"
     ]
    },
    {
     "name": "stderr",
     "output_type": "stream",
     "text": [
      "Model Training:  18%|\u001b[38;2;0;153;255m█▊        \u001b[0m| 175/1000 [1:27:45<6:46:49, 29.59s/it]"
     ]
    },
    {
     "name": "stdout",
     "output_type": "stream",
     "text": [
      "\u001b[94m- Epoch: 175/1000\u001b[0m\n",
      "\u001b[31m- Train Loss: 0.153412531 | Validation Loss: 0.110446090\u001b[0m \u001b[32m| NMSE: 5.0419922\u001b[0m\n"
     ]
    },
    {
     "name": "stderr",
     "output_type": "stream",
     "text": [
      "Model Training:  18%|\u001b[38;2;0;153;255m█▊        \u001b[0m| 176/1000 [1:28:16<6:50:36, 29.90s/it]"
     ]
    },
    {
     "name": "stdout",
     "output_type": "stream",
     "text": [
      "\u001b[94m- Epoch: 176/1000\u001b[0m\n",
      "\u001b[31m- Train Loss: 0.164390869 | Validation Loss: 0.158187024\u001b[0m \u001b[32m| NMSE: 8.1312749\u001b[0m\n"
     ]
    },
    {
     "name": "stderr",
     "output_type": "stream",
     "text": [
      "Model Training:  18%|\u001b[38;2;0;153;255m█▊        \u001b[0m| 177/1000 [1:28:47<6:56:25, 30.36s/it]"
     ]
    },
    {
     "name": "stdout",
     "output_type": "stream",
     "text": [
      "\u001b[94m- Epoch: 177/1000\u001b[0m\n",
      "\u001b[31m- Train Loss: 0.164963998 | Validation Loss: 0.054439943\u001b[0m \u001b[32m| NMSE: -0.8220742\u001b[0m\n"
     ]
    },
    {
     "name": "stderr",
     "output_type": "stream",
     "text": [
      "Model Training:  18%|\u001b[38;2;0;153;255m█▊        \u001b[0m| 178/1000 [1:29:18<6:58:11, 30.52s/it]"
     ]
    },
    {
     "name": "stdout",
     "output_type": "stream",
     "text": [
      "\u001b[94m- Epoch: 178/1000\u001b[0m\n",
      "\u001b[31m- Train Loss: 0.173753999 | Validation Loss: 0.258263866\u001b[0m \u001b[32m| NMSE: 6.6412840\u001b[0m\n"
     ]
    },
    {
     "name": "stderr",
     "output_type": "stream",
     "text": [
      "Model Training:  18%|\u001b[38;2;0;153;255m█▊        \u001b[0m| 179/1000 [1:29:49<6:59:59, 30.69s/it]"
     ]
    },
    {
     "name": "stdout",
     "output_type": "stream",
     "text": [
      "\u001b[94m- Epoch: 179/1000\u001b[0m\n",
      "\u001b[31m- Train Loss: 0.177016112 | Validation Loss: 0.183632063\u001b[0m \u001b[32m| NMSE: 2.5714384\u001b[0m\n"
     ]
    },
    {
     "name": "stderr",
     "output_type": "stream",
     "text": [
      "Model Training:  18%|\u001b[38;2;0;153;255m█▊        \u001b[0m| 180/1000 [1:30:20<7:01:08, 30.82s/it]"
     ]
    },
    {
     "name": "stdout",
     "output_type": "stream",
     "text": [
      "\u001b[94m- Epoch: 180/1000\u001b[0m\n",
      "\u001b[31m- Train Loss: 0.138813172 | Validation Loss: 0.042227876\u001b[0m \u001b[32m| NMSE: -10.8542732\u001b[0m\n"
     ]
    },
    {
     "name": "stderr",
     "output_type": "stream",
     "text": [
      "Model Training:  18%|\u001b[38;2;0;153;255m█▊        \u001b[0m| 181/1000 [1:30:48<6:50:09, 30.05s/it]"
     ]
    },
    {
     "name": "stdout",
     "output_type": "stream",
     "text": [
      "\u001b[94m- Epoch: 181/1000\u001b[0m\n",
      "\u001b[31m- Train Loss: 0.129280874 | Validation Loss: 0.229377558\u001b[0m \u001b[32m| NMSE: 0.1785629\u001b[0m\n"
     ]
    },
    {
     "name": "stderr",
     "output_type": "stream",
     "text": [
      "Model Training:  18%|\u001b[38;2;0;153;255m█▊        \u001b[0m| 182/1000 [1:31:18<6:47:16, 29.87s/it]"
     ]
    },
    {
     "name": "stdout",
     "output_type": "stream",
     "text": [
      "\u001b[94m- Epoch: 182/1000\u001b[0m\n",
      "\u001b[31m- Train Loss: 0.172559041 | Validation Loss: 0.167254777\u001b[0m \u001b[32m| NMSE: 6.0993893\u001b[0m\n"
     ]
    },
    {
     "name": "stderr",
     "output_type": "stream",
     "text": [
      "Model Training:  18%|\u001b[38;2;0;153;255m█▊        \u001b[0m| 183/1000 [1:31:50<6:54:40, 30.45s/it]"
     ]
    },
    {
     "name": "stdout",
     "output_type": "stream",
     "text": [
      "\u001b[94m- Epoch: 183/1000\u001b[0m\n",
      "\u001b[31m- Train Loss: 0.168155336 | Validation Loss: 0.176497024\u001b[0m \u001b[32m| NMSE: -6.8811212\u001b[0m\n"
     ]
    },
    {
     "name": "stderr",
     "output_type": "stream",
     "text": [
      "Model Training:  18%|\u001b[38;2;0;153;255m█▊        \u001b[0m| 184/1000 [1:32:19<6:51:22, 30.25s/it]"
     ]
    },
    {
     "name": "stdout",
     "output_type": "stream",
     "text": [
      "\u001b[94m- Epoch: 184/1000\u001b[0m\n",
      "\u001b[31m- Train Loss: 0.152220288 | Validation Loss: 0.179352057\u001b[0m \u001b[32m| NMSE: -2.2372307\u001b[0m\n"
     ]
    },
    {
     "name": "stderr",
     "output_type": "stream",
     "text": [
      "Model Training:  18%|\u001b[38;2;0;153;255m█▊        \u001b[0m| 185/1000 [1:32:48<6:43:21, 29.69s/it]"
     ]
    },
    {
     "name": "stdout",
     "output_type": "stream",
     "text": [
      "\u001b[94m- Epoch: 185/1000\u001b[0m\n",
      "\u001b[31m- Train Loss: 0.168652414 | Validation Loss: 0.160151145\u001b[0m \u001b[32m| NMSE: -5.8002088\u001b[0m\n"
     ]
    },
    {
     "name": "stderr",
     "output_type": "stream",
     "text": [
      "Model Training:  19%|\u001b[38;2;0;153;255m█▊        \u001b[0m| 186/1000 [1:33:19<6:48:32, 30.11s/it]"
     ]
    },
    {
     "name": "stdout",
     "output_type": "stream",
     "text": [
      "\u001b[94m- Epoch: 186/1000\u001b[0m\n",
      "\u001b[31m- Train Loss: 0.166486943 | Validation Loss: 0.075798434\u001b[0m \u001b[32m| NMSE: -10.6096809\u001b[0m\n"
     ]
    },
    {
     "name": "stderr",
     "output_type": "stream",
     "text": [
      "Model Training:  19%|\u001b[38;2;0;153;255m█▊        \u001b[0m| 187/1000 [1:33:50<6:53:10, 30.49s/it]"
     ]
    },
    {
     "name": "stdout",
     "output_type": "stream",
     "text": [
      "\u001b[94m- Epoch: 187/1000\u001b[0m\n",
      "\u001b[31m- Train Loss: 0.179812760 | Validation Loss: 0.157625205\u001b[0m \u001b[32m| NMSE: -1.1895432\u001b[0m\n"
     ]
    },
    {
     "name": "stderr",
     "output_type": "stream",
     "text": [
      "Model Training:  19%|\u001b[38;2;0;153;255m█▉        \u001b[0m| 188/1000 [1:34:20<6:50:19, 30.32s/it]"
     ]
    },
    {
     "name": "stdout",
     "output_type": "stream",
     "text": [
      "\u001b[94m- Epoch: 188/1000\u001b[0m\n",
      "\u001b[31m- Train Loss: 0.164684652 | Validation Loss: 0.095870195\u001b[0m \u001b[32m| NMSE: -14.2820468\u001b[0m\n"
     ]
    },
    {
     "name": "stderr",
     "output_type": "stream",
     "text": [
      "Model Training:  19%|\u001b[38;2;0;153;255m█▉        \u001b[0m| 189/1000 [1:34:50<6:47:38, 30.16s/it]"
     ]
    },
    {
     "name": "stdout",
     "output_type": "stream",
     "text": [
      "\u001b[94m- Epoch: 189/1000\u001b[0m\n",
      "\u001b[31m- Train Loss: 0.174003600 | Validation Loss: 0.095861590\u001b[0m \u001b[32m| NMSE: -8.1920474\u001b[0m\n"
     ]
    },
    {
     "name": "stderr",
     "output_type": "stream",
     "text": [
      "Model Training:  19%|\u001b[38;2;0;153;255m█▉        \u001b[0m| 190/1000 [1:35:21<6:50:58, 30.44s/it]"
     ]
    },
    {
     "name": "stdout",
     "output_type": "stream",
     "text": [
      "\u001b[94m- Epoch: 190/1000\u001b[0m\n",
      "\u001b[31m- Train Loss: 0.174182452 | Validation Loss: 0.165157855\u001b[0m \u001b[32m| NMSE: -5.1350791\u001b[0m\n"
     ]
    },
    {
     "name": "stderr",
     "output_type": "stream",
     "text": [
      "Model Training:  19%|\u001b[38;2;0;153;255m█▉        \u001b[0m| 191/1000 [1:35:47<6:33:55, 29.22s/it]"
     ]
    },
    {
     "name": "stdout",
     "output_type": "stream",
     "text": [
      "\u001b[94m- Epoch: 191/1000\u001b[0m\n",
      "\u001b[31m- Train Loss: 0.157805121 | Validation Loss: 0.293282986\u001b[0m \u001b[32m| NMSE: 2.1916472\u001b[0m\n"
     ]
    },
    {
     "name": "stderr",
     "output_type": "stream",
     "text": [
      "Model Training:  19%|\u001b[38;2;0;153;255m█▉        \u001b[0m| 192/1000 [1:36:17<6:35:28, 29.37s/it]"
     ]
    },
    {
     "name": "stdout",
     "output_type": "stream",
     "text": [
      "\u001b[94m- Epoch: 192/1000\u001b[0m\n",
      "\u001b[31m- Train Loss: 0.153872434 | Validation Loss: 0.138694420\u001b[0m \u001b[32m| NMSE: -10.1718836\u001b[0m\n"
     ]
    },
    {
     "name": "stderr",
     "output_type": "stream",
     "text": [
      "Model Training:  19%|\u001b[38;2;0;153;255m█▉        \u001b[0m| 193/1000 [1:36:47<6:37:36, 29.56s/it]"
     ]
    },
    {
     "name": "stdout",
     "output_type": "stream",
     "text": [
      "\u001b[94m- Epoch: 193/1000\u001b[0m\n",
      "\u001b[31m- Train Loss: 0.155996458 | Validation Loss: 0.009340087\u001b[0m \u001b[32m| NMSE: 1.5538303\u001b[0m\n"
     ]
    },
    {
     "name": "stderr",
     "output_type": "stream",
     "text": [
      "Model Training:  19%|\u001b[38;2;0;153;255m█▉        \u001b[0m| 194/1000 [1:37:16<6:34:15, 29.35s/it]"
     ]
    },
    {
     "name": "stdout",
     "output_type": "stream",
     "text": [
      "\u001b[94m- Epoch: 194/1000\u001b[0m\n",
      "\u001b[31m- Train Loss: 0.151928663 | Validation Loss: 0.165504401\u001b[0m \u001b[32m| NMSE: -0.9853560\u001b[0m\n"
     ]
    },
    {
     "name": "stderr",
     "output_type": "stream",
     "text": [
      "Model Training:  20%|\u001b[38;2;0;153;255m█▉        \u001b[0m| 195/1000 [1:37:45<6:31:56, 29.21s/it]"
     ]
    },
    {
     "name": "stdout",
     "output_type": "stream",
     "text": [
      "\u001b[94m- Epoch: 195/1000\u001b[0m\n",
      "\u001b[31m- Train Loss: 0.157991161 | Validation Loss: 0.197871386\u001b[0m \u001b[32m| NMSE: -1.1297162\u001b[0m\n"
     ]
    },
    {
     "name": "stderr",
     "output_type": "stream",
     "text": [
      "Model Training:  20%|\u001b[38;2;0;153;255m█▉        \u001b[0m| 196/1000 [1:38:15<6:34:36, 29.45s/it]"
     ]
    },
    {
     "name": "stdout",
     "output_type": "stream",
     "text": [
      "\u001b[94m- Epoch: 196/1000\u001b[0m\n",
      "\u001b[31m- Train Loss: 0.163711825 | Validation Loss: 0.256479346\u001b[0m \u001b[32m| NMSE: -7.8504663\u001b[0m\n"
     ]
    },
    {
     "name": "stderr",
     "output_type": "stream",
     "text": [
      "Model Training:  20%|\u001b[38;2;0;153;255m█▉        \u001b[0m| 197/1000 [1:38:45<6:37:55, 29.73s/it]"
     ]
    },
    {
     "name": "stdout",
     "output_type": "stream",
     "text": [
      "\u001b[94m- Epoch: 197/1000\u001b[0m\n",
      "\u001b[31m- Train Loss: 0.164362223 | Validation Loss: 0.181746565\u001b[0m \u001b[32m| NMSE: -5.8903658\u001b[0m\n"
     ]
    },
    {
     "name": "stderr",
     "output_type": "stream",
     "text": [
      "Model Training:  20%|\u001b[38;2;0;153;255m█▉        \u001b[0m| 198/1000 [1:39:16<6:42:58, 30.15s/it]"
     ]
    },
    {
     "name": "stdout",
     "output_type": "stream",
     "text": [
      "\u001b[94m- Epoch: 198/1000\u001b[0m\n",
      "\u001b[31m- Train Loss: 0.173571078 | Validation Loss: 0.212350155\u001b[0m \u001b[32m| NMSE: -4.9256955\u001b[0m\n"
     ]
    },
    {
     "name": "stderr",
     "output_type": "stream",
     "text": [
      "Model Training:  20%|\u001b[38;2;0;153;255m█▉        \u001b[0m| 199/1000 [1:39:48<6:46:45, 30.47s/it]"
     ]
    },
    {
     "name": "stdout",
     "output_type": "stream",
     "text": [
      "\u001b[94m- Epoch: 199/1000\u001b[0m\n",
      "\u001b[31m- Train Loss: 0.171727166 | Validation Loss: 0.075981326\u001b[0m \u001b[32m| NMSE: -10.4785414\u001b[0m\n"
     ]
    },
    {
     "name": "stderr",
     "output_type": "stream",
     "text": [
      "Model Training:  20%|\u001b[38;2;0;153;255m██        \u001b[0m| 200/1000 [1:40:19<6:50:16, 30.77s/it]"
     ]
    },
    {
     "name": "stdout",
     "output_type": "stream",
     "text": [
      "\u001b[94m- Epoch: 200/1000\u001b[0m\n",
      "\u001b[31m- Train Loss: 0.160792777 | Validation Loss: 0.055692833\u001b[0m \u001b[32m| NMSE: -14.8643849\u001b[0m\n"
     ]
    },
    {
     "name": "stderr",
     "output_type": "stream",
     "text": [
      "Model Training:  20%|\u001b[38;2;0;153;255m██        \u001b[0m| 201/1000 [1:40:47<6:37:10, 29.83s/it]"
     ]
    },
    {
     "name": "stdout",
     "output_type": "stream",
     "text": [
      "\u001b[94m- Epoch: 201/1000\u001b[0m\n",
      "\u001b[31m- Train Loss: 0.155722566 | Validation Loss: 0.194717539\u001b[0m \u001b[32m| NMSE: -4.4478713\u001b[0m\n"
     ]
    },
    {
     "name": "stderr",
     "output_type": "stream",
     "text": [
      "Model Training:  20%|\u001b[38;2;0;153;255m██        \u001b[0m| 202/1000 [1:41:17<6:37:50, 29.91s/it]"
     ]
    },
    {
     "name": "stdout",
     "output_type": "stream",
     "text": [
      "\u001b[94m- Epoch: 202/1000\u001b[0m\n",
      "\u001b[31m- Train Loss: 0.176322393 | Validation Loss: 0.170631195\u001b[0m \u001b[32m| NMSE: -4.1656898\u001b[0m\n"
     ]
    },
    {
     "name": "stderr",
     "output_type": "stream",
     "text": [
      "Model Training:  20%|\u001b[38;2;0;153;255m██        \u001b[0m| 203/1000 [1:41:47<6:38:31, 30.00s/it]"
     ]
    },
    {
     "name": "stdout",
     "output_type": "stream",
     "text": [
      "\u001b[94m- Epoch: 203/1000\u001b[0m\n",
      "\u001b[31m- Train Loss: 0.163970339 | Validation Loss: 0.274678995\u001b[0m \u001b[32m| NMSE: -4.5937436\u001b[0m\n"
     ]
    },
    {
     "name": "stderr",
     "output_type": "stream",
     "text": [
      "Model Training:  20%|\u001b[38;2;0;153;255m██        \u001b[0m| 204/1000 [1:42:16<6:32:08, 29.56s/it]"
     ]
    },
    {
     "name": "stdout",
     "output_type": "stream",
     "text": [
      "\u001b[94m- Epoch: 204/1000\u001b[0m\n",
      "\u001b[31m- Train Loss: 0.174946032 | Validation Loss: 0.220411964\u001b[0m \u001b[32m| NMSE: -3.4875215\u001b[0m\n"
     ]
    },
    {
     "name": "stderr",
     "output_type": "stream",
     "text": [
      "Model Training:  20%|\u001b[38;2;0;153;255m██        \u001b[0m| 205/1000 [1:42:46<6:33:56, 29.73s/it]"
     ]
    },
    {
     "name": "stdout",
     "output_type": "stream",
     "text": [
      "\u001b[94m- Epoch: 205/1000\u001b[0m\n",
      "\u001b[31m- Train Loss: 0.167439964 | Validation Loss: 0.155408905\u001b[0m \u001b[32m| NMSE: -8.6177742\u001b[0m\n"
     ]
    },
    {
     "name": "stderr",
     "output_type": "stream",
     "text": [
      "Model Training:  21%|\u001b[38;2;0;153;255m██        \u001b[0m| 206/1000 [1:43:17<6:38:33, 30.12s/it]"
     ]
    },
    {
     "name": "stdout",
     "output_type": "stream",
     "text": [
      "\u001b[94m- Epoch: 206/1000\u001b[0m\n",
      "\u001b[31m- Train Loss: 0.187854289 | Validation Loss: 0.135156461\u001b[0m \u001b[32m| NMSE: -2.8169570\u001b[0m\n"
     ]
    },
    {
     "name": "stderr",
     "output_type": "stream",
     "text": [
      "Model Training:  21%|\u001b[38;2;0;153;255m██        \u001b[0m| 207/1000 [1:43:47<6:38:25, 30.15s/it]"
     ]
    },
    {
     "name": "stdout",
     "output_type": "stream",
     "text": [
      "\u001b[94m- Epoch: 207/1000\u001b[0m\n",
      "\u001b[31m- Train Loss: 0.164114920 | Validation Loss: 0.112385172\u001b[0m \u001b[32m| NMSE: -7.0253482\u001b[0m\n"
     ]
    },
    {
     "name": "stderr",
     "output_type": "stream",
     "text": [
      "Model Training:  21%|\u001b[38;2;0;153;255m██        \u001b[0m| 208/1000 [1:44:18<6:39:34, 30.27s/it]"
     ]
    },
    {
     "name": "stdout",
     "output_type": "stream",
     "text": [
      "\u001b[94m- Epoch: 208/1000\u001b[0m\n",
      "\u001b[31m- Train Loss: 0.152713727 | Validation Loss: 0.136054364\u001b[0m \u001b[32m| NMSE: -0.4513328\u001b[0m\n"
     ]
    },
    {
     "name": "stderr",
     "output_type": "stream",
     "text": [
      "Model Training:  21%|\u001b[38;2;0;153;255m██        \u001b[0m| 209/1000 [1:44:48<6:38:06, 30.20s/it]"
     ]
    },
    {
     "name": "stdout",
     "output_type": "stream",
     "text": [
      "\u001b[94m- Epoch: 209/1000\u001b[0m\n",
      "\u001b[31m- Train Loss: 0.161995563 | Validation Loss: 0.355071614\u001b[0m \u001b[32m| NMSE: -1.4641700\u001b[0m\n"
     ]
    },
    {
     "name": "stderr",
     "output_type": "stream",
     "text": [
      "Model Training:  21%|\u001b[38;2;0;153;255m██        \u001b[0m| 210/1000 [1:45:18<6:37:13, 30.17s/it]"
     ]
    },
    {
     "name": "stdout",
     "output_type": "stream",
     "text": [
      "\u001b[94m- Epoch: 210/1000\u001b[0m\n",
      "\u001b[31m- Train Loss: 0.162529758 | Validation Loss: 0.328739976\u001b[0m \u001b[32m| NMSE: -11.6677899\u001b[0m\n"
     ]
    },
    {
     "name": "stderr",
     "output_type": "stream",
     "text": [
      "Model Training:  21%|\u001b[38;2;0;153;255m██        \u001b[0m| 211/1000 [1:45:45<6:26:47, 29.41s/it]"
     ]
    },
    {
     "name": "stdout",
     "output_type": "stream",
     "text": [
      "\u001b[94m- Epoch: 211/1000\u001b[0m\n",
      "\u001b[31m- Train Loss: 0.162318662 | Validation Loss: 0.110994887\u001b[0m \u001b[32m| NMSE: 3.3752303\u001b[0m\n"
     ]
    },
    {
     "name": "stderr",
     "output_type": "stream",
     "text": [
      "Model Training:  21%|\u001b[38;2;0;153;255m██        \u001b[0m| 212/1000 [1:46:15<6:26:47, 29.45s/it]"
     ]
    },
    {
     "name": "stdout",
     "output_type": "stream",
     "text": [
      "\u001b[94m- Epoch: 212/1000\u001b[0m\n",
      "\u001b[31m- Train Loss: 0.145494712 | Validation Loss: 0.171975408\u001b[0m \u001b[32m| NMSE: -5.3946075\u001b[0m\n"
     ]
    },
    {
     "name": "stderr",
     "output_type": "stream",
     "text": [
      "Model Training:  21%|\u001b[38;2;0;153;255m██▏       \u001b[0m| 213/1000 [1:46:46<6:32:25, 29.92s/it]"
     ]
    },
    {
     "name": "stdout",
     "output_type": "stream",
     "text": [
      "\u001b[94m- Epoch: 213/1000\u001b[0m\n",
      "\u001b[31m- Train Loss: 0.167064302 | Validation Loss: 0.064097934\u001b[0m \u001b[32m| NMSE: 12.8771801\u001b[0m\n"
     ]
    },
    {
     "name": "stderr",
     "output_type": "stream",
     "text": [
      "Model Training:  21%|\u001b[38;2;0;153;255m██▏       \u001b[0m| 214/1000 [1:47:14<6:25:32, 29.43s/it]"
     ]
    },
    {
     "name": "stdout",
     "output_type": "stream",
     "text": [
      "\u001b[94m- Epoch: 214/1000\u001b[0m\n",
      "\u001b[31m- Train Loss: 0.159616056 | Validation Loss: 0.217405657\u001b[0m \u001b[32m| NMSE: -6.2041266\u001b[0m\n"
     ]
    },
    {
     "name": "stderr",
     "output_type": "stream",
     "text": [
      "Model Training:  22%|\u001b[38;2;0;153;255m██▏       \u001b[0m| 215/1000 [1:47:44<6:24:45, 29.41s/it]"
     ]
    },
    {
     "name": "stdout",
     "output_type": "stream",
     "text": [
      "\u001b[94m- Epoch: 215/1000\u001b[0m\n",
      "\u001b[31m- Train Loss: 0.166067797 | Validation Loss: 0.077539820\u001b[0m \u001b[32m| NMSE: 2.0133809\u001b[0m\n"
     ]
    },
    {
     "name": "stderr",
     "output_type": "stream",
     "text": [
      "Model Training:  22%|\u001b[38;2;0;153;255m██▏       \u001b[0m| 216/1000 [1:48:14<6:26:56, 29.61s/it]"
     ]
    },
    {
     "name": "stdout",
     "output_type": "stream",
     "text": [
      "\u001b[94m- Epoch: 216/1000\u001b[0m\n",
      "\u001b[31m- Train Loss: 0.171112228 | Validation Loss: 0.062614311\u001b[0m \u001b[32m| NMSE: -7.3087857\u001b[0m\n"
     ]
    },
    {
     "name": "stderr",
     "output_type": "stream",
     "text": [
      "Model Training:  22%|\u001b[38;2;0;153;255m██▏       \u001b[0m| 217/1000 [1:48:45<6:33:01, 30.12s/it]"
     ]
    },
    {
     "name": "stdout",
     "output_type": "stream",
     "text": [
      "\u001b[94m- Epoch: 217/1000\u001b[0m\n",
      "\u001b[31m- Train Loss: 0.163257767 | Validation Loss: 0.277337849\u001b[0m \u001b[32m| NMSE: -4.1206131\u001b[0m\n"
     ]
    },
    {
     "name": "stderr",
     "output_type": "stream",
     "text": [
      "Model Training:  22%|\u001b[38;2;0;153;255m██▏       \u001b[0m| 218/1000 [1:49:17<6:39:03, 30.62s/it]"
     ]
    },
    {
     "name": "stdout",
     "output_type": "stream",
     "text": [
      "\u001b[94m- Epoch: 218/1000\u001b[0m\n",
      "\u001b[31m- Train Loss: 0.182684357 | Validation Loss: 0.209949053\u001b[0m \u001b[32m| NMSE: 2.3827982\u001b[0m\n"
     ]
    },
    {
     "name": "stderr",
     "output_type": "stream",
     "text": [
      "Model Training:  22%|\u001b[38;2;0;153;255m██▏       \u001b[0m| 219/1000 [1:49:48<6:40:20, 30.76s/it]"
     ]
    },
    {
     "name": "stdout",
     "output_type": "stream",
     "text": [
      "\u001b[94m- Epoch: 219/1000\u001b[0m\n",
      "\u001b[31m- Train Loss: 0.165069594 | Validation Loss: 0.036795416\u001b[0m \u001b[32m| NMSE: -7.4482572\u001b[0m\n"
     ]
    },
    {
     "name": "stderr",
     "output_type": "stream",
     "text": [
      "Model Training:  22%|\u001b[38;2;0;153;255m██▏       \u001b[0m| 220/1000 [1:50:18<6:38:10, 30.63s/it]"
     ]
    },
    {
     "name": "stdout",
     "output_type": "stream",
     "text": [
      "\u001b[94m- Epoch: 220/1000\u001b[0m\n",
      "\u001b[31m- Train Loss: 0.171107992 | Validation Loss: 0.106160784\u001b[0m \u001b[32m| NMSE: -2.2034579\u001b[0m\n"
     ]
    },
    {
     "name": "stderr",
     "output_type": "stream",
     "text": [
      "Model Training:  22%|\u001b[38;2;0;153;255m██▏       \u001b[0m| 221/1000 [1:50:46<6:27:32, 29.85s/it]"
     ]
    },
    {
     "name": "stdout",
     "output_type": "stream",
     "text": [
      "\u001b[94m- Epoch: 221/1000\u001b[0m\n",
      "\u001b[31m- Train Loss: 0.174821855 | Validation Loss: 0.096698932\u001b[0m \u001b[32m| NMSE: -5.8115877\u001b[0m\n"
     ]
    },
    {
     "name": "stderr",
     "output_type": "stream",
     "text": [
      "Model Training:  22%|\u001b[38;2;0;153;255m██▏       \u001b[0m| 222/1000 [1:51:16<6:28:53, 29.99s/it]"
     ]
    },
    {
     "name": "stdout",
     "output_type": "stream",
     "text": [
      "\u001b[94m- Epoch: 222/1000\u001b[0m\n",
      "\u001b[31m- Train Loss: 0.163239730 | Validation Loss: 0.216125348\u001b[0m \u001b[32m| NMSE: -7.7392676\u001b[0m\n"
     ]
    },
    {
     "name": "stderr",
     "output_type": "stream",
     "text": [
      "Model Training:  22%|\u001b[38;2;0;153;255m██▏       \u001b[0m| 223/1000 [1:51:46<6:28:19, 29.99s/it]"
     ]
    },
    {
     "name": "stdout",
     "output_type": "stream",
     "text": [
      "\u001b[94m- Epoch: 223/1000\u001b[0m\n",
      "\u001b[31m- Train Loss: 0.176737476 | Validation Loss: 0.261343444\u001b[0m \u001b[32m| NMSE: -5.1794548\u001b[0m\n"
     ]
    },
    {
     "name": "stderr",
     "output_type": "stream",
     "text": [
      "Model Training:  22%|\u001b[38;2;0;153;255m██▏       \u001b[0m| 224/1000 [1:52:14<6:18:48, 29.29s/it]"
     ]
    },
    {
     "name": "stdout",
     "output_type": "stream",
     "text": [
      "\u001b[94m- Epoch: 224/1000\u001b[0m\n",
      "\u001b[31m- Train Loss: 0.156239774 | Validation Loss: 0.397592156\u001b[0m \u001b[32m| NMSE: -10.3301966\u001b[0m\n"
     ]
    },
    {
     "name": "stderr",
     "output_type": "stream",
     "text": [
      "Model Training:  22%|\u001b[38;2;0;153;255m██▎       \u001b[0m| 225/1000 [1:52:44<6:20:38, 29.47s/it]"
     ]
    },
    {
     "name": "stdout",
     "output_type": "stream",
     "text": [
      "\u001b[94m- Epoch: 225/1000\u001b[0m\n",
      "\u001b[31m- Train Loss: 0.155482694 | Validation Loss: 0.190262832\u001b[0m \u001b[32m| NMSE: -9.1915488\u001b[0m\n"
     ]
    },
    {
     "name": "stderr",
     "output_type": "stream",
     "text": [
      "Model Training:  23%|\u001b[38;2;0;153;255m██▎       \u001b[0m| 226/1000 [1:53:15<6:24:36, 29.81s/it]"
     ]
    },
    {
     "name": "stdout",
     "output_type": "stream",
     "text": [
      "\u001b[94m- Epoch: 226/1000\u001b[0m\n",
      "\u001b[31m- Train Loss: 0.179588742 | Validation Loss: 0.389347792\u001b[0m \u001b[32m| NMSE: -7.4799824\u001b[0m\n"
     ]
    },
    {
     "name": "stderr",
     "output_type": "stream",
     "text": [
      "Model Training:  23%|\u001b[38;2;0;153;255m██▎       \u001b[0m| 227/1000 [1:53:46<6:28:23, 30.15s/it]"
     ]
    },
    {
     "name": "stdout",
     "output_type": "stream",
     "text": [
      "\u001b[94m- Epoch: 227/1000\u001b[0m\n",
      "\u001b[31m- Train Loss: 0.163517833 | Validation Loss: 0.139482975\u001b[0m \u001b[32m| NMSE: -7.8204632\u001b[0m\n"
     ]
    },
    {
     "name": "stderr",
     "output_type": "stream",
     "text": [
      "Model Training:  23%|\u001b[38;2;0;153;255m██▎       \u001b[0m| 228/1000 [1:54:16<6:30:58, 30.39s/it]"
     ]
    },
    {
     "name": "stdout",
     "output_type": "stream",
     "text": [
      "\u001b[94m- Epoch: 228/1000\u001b[0m\n",
      "\u001b[31m- Train Loss: 0.161771772 | Validation Loss: 0.013500446\u001b[0m \u001b[32m| NMSE: -6.4816551\u001b[0m\n"
     ]
    },
    {
     "name": "stderr",
     "output_type": "stream",
     "text": [
      "Model Training:  23%|\u001b[38;2;0;153;255m██▎       \u001b[0m| 229/1000 [1:54:48<6:33:44, 30.64s/it]"
     ]
    },
    {
     "name": "stdout",
     "output_type": "stream",
     "text": [
      "\u001b[94m- Epoch: 229/1000\u001b[0m\n",
      "\u001b[31m- Train Loss: 0.167256245 | Validation Loss: 0.093950936\u001b[0m \u001b[32m| NMSE: -2.2566737\u001b[0m\n"
     ]
    },
    {
     "name": "stderr",
     "output_type": "stream",
     "text": [
      "Model Training:  23%|\u001b[38;2;0;153;255m██▎       \u001b[0m| 230/1000 [1:55:18<6:30:55, 30.46s/it]"
     ]
    },
    {
     "name": "stdout",
     "output_type": "stream",
     "text": [
      "\u001b[94m- Epoch: 230/1000\u001b[0m\n",
      "\u001b[31m- Train Loss: 0.150320257 | Validation Loss: 0.014421453\u001b[0m \u001b[32m| NMSE: -3.2296610\u001b[0m\n"
     ]
    },
    {
     "name": "stderr",
     "output_type": "stream",
     "text": [
      "Model Training:  23%|\u001b[38;2;0;153;255m██▎       \u001b[0m| 231/1000 [1:55:47<6:24:52, 30.03s/it]"
     ]
    },
    {
     "name": "stdout",
     "output_type": "stream",
     "text": [
      "\u001b[94m- Epoch: 231/1000\u001b[0m\n",
      "\u001b[31m- Train Loss: 0.175635511 | Validation Loss: 0.189036573\u001b[0m \u001b[32m| NMSE: -7.0397295\u001b[0m\n"
     ]
    },
    {
     "name": "stderr",
     "output_type": "stream",
     "text": [
      "Model Training:  23%|\u001b[38;2;0;153;255m██▎       \u001b[0m| 232/1000 [1:56:17<6:24:44, 30.06s/it]"
     ]
    },
    {
     "name": "stdout",
     "output_type": "stream",
     "text": [
      "\u001b[94m- Epoch: 232/1000\u001b[0m\n",
      "\u001b[31m- Train Loss: 0.176590258 | Validation Loss: 0.045355036\u001b[0m \u001b[32m| NMSE: -4.9885540\u001b[0m\n"
     ]
    },
    {
     "name": "stderr",
     "output_type": "stream",
     "text": [
      "Model Training:  23%|\u001b[38;2;0;153;255m██▎       \u001b[0m| 233/1000 [1:56:48<6:26:33, 30.24s/it]"
     ]
    },
    {
     "name": "stdout",
     "output_type": "stream",
     "text": [
      "\u001b[94m- Epoch: 233/1000\u001b[0m\n",
      "\u001b[31m- Train Loss: 0.190350402 | Validation Loss: 0.150510947\u001b[0m \u001b[32m| NMSE: -12.9096365\u001b[0m\n"
     ]
    },
    {
     "name": "stderr",
     "output_type": "stream",
     "text": [
      "Model Training:  23%|\u001b[38;2;0;153;255m██▎       \u001b[0m| 234/1000 [1:57:15<6:16:36, 29.50s/it]"
     ]
    },
    {
     "name": "stdout",
     "output_type": "stream",
     "text": [
      "\u001b[94m- Epoch: 234/1000\u001b[0m\n",
      "\u001b[31m- Train Loss: 0.162429599 | Validation Loss: 0.094736772\u001b[0m \u001b[32m| NMSE: -6.3050513\u001b[0m\n"
     ]
    },
    {
     "name": "stderr",
     "output_type": "stream",
     "text": [
      "Model Training:  24%|\u001b[38;2;0;153;255m██▎       \u001b[0m| 235/1000 [1:57:47<6:22:33, 30.01s/it]"
     ]
    },
    {
     "name": "stdout",
     "output_type": "stream",
     "text": [
      "\u001b[94m- Epoch: 235/1000\u001b[0m\n",
      "\u001b[31m- Train Loss: 0.185047078 | Validation Loss: 0.272794381\u001b[0m \u001b[32m| NMSE: -6.2013841\u001b[0m\n"
     ]
    },
    {
     "name": "stderr",
     "output_type": "stream",
     "text": [
      "Model Training:  24%|\u001b[38;2;0;153;255m██▎       \u001b[0m| 236/1000 [1:58:17<6:23:35, 30.12s/it]"
     ]
    },
    {
     "name": "stdout",
     "output_type": "stream",
     "text": [
      "\u001b[94m- Epoch: 236/1000\u001b[0m\n",
      "\u001b[31m- Train Loss: 0.171098853 | Validation Loss: 0.322105748\u001b[0m \u001b[32m| NMSE: -5.4226224\u001b[0m\n"
     ]
    },
    {
     "name": "stderr",
     "output_type": "stream",
     "text": [
      "Model Training:  24%|\u001b[38;2;0;153;255m██▎       \u001b[0m| 237/1000 [1:58:48<6:25:44, 30.33s/it]"
     ]
    },
    {
     "name": "stdout",
     "output_type": "stream",
     "text": [
      "\u001b[94m- Epoch: 237/1000\u001b[0m\n",
      "\u001b[31m- Train Loss: 0.172145637 | Validation Loss: 0.065943425\u001b[0m \u001b[32m| NMSE: -4.1247215\u001b[0m\n"
     ]
    },
    {
     "name": "stderr",
     "output_type": "stream",
     "text": [
      "Model Training:  24%|\u001b[38;2;0;153;255m██▍       \u001b[0m| 238/1000 [1:59:18<6:24:27, 30.27s/it]"
     ]
    },
    {
     "name": "stdout",
     "output_type": "stream",
     "text": [
      "\u001b[94m- Epoch: 238/1000\u001b[0m\n",
      "\u001b[31m- Train Loss: 0.166926750 | Validation Loss: 0.136248472\u001b[0m \u001b[32m| NMSE: -5.2786055\u001b[0m\n"
     ]
    },
    {
     "name": "stderr",
     "output_type": "stream",
     "text": [
      "Model Training:  24%|\u001b[38;2;0;153;255m██▍       \u001b[0m| 239/1000 [1:59:48<6:21:41, 30.09s/it]"
     ]
    },
    {
     "name": "stdout",
     "output_type": "stream",
     "text": [
      "\u001b[94m- Epoch: 239/1000\u001b[0m\n",
      "\u001b[31m- Train Loss: 0.155564774 | Validation Loss: 0.143226609\u001b[0m \u001b[32m| NMSE: -7.7930239\u001b[0m\n"
     ]
    },
    {
     "name": "stderr",
     "output_type": "stream",
     "text": [
      "Model Training:  24%|\u001b[38;2;0;153;255m██▍       \u001b[0m| 240/1000 [2:00:17<6:16:53, 29.76s/it]"
     ]
    },
    {
     "name": "stdout",
     "output_type": "stream",
     "text": [
      "\u001b[94m- Epoch: 240/1000\u001b[0m\n",
      "\u001b[31m- Train Loss: 0.159035347 | Validation Loss: 0.058941034\u001b[0m \u001b[32m| NMSE: -1.6827217\u001b[0m\n"
     ]
    },
    {
     "name": "stderr",
     "output_type": "stream",
     "text": [
      "Model Training:  24%|\u001b[38;2;0;153;255m██▍       \u001b[0m| 241/1000 [2:00:45<6:11:46, 29.39s/it]"
     ]
    },
    {
     "name": "stdout",
     "output_type": "stream",
     "text": [
      "\u001b[94m- Epoch: 241/1000\u001b[0m\n",
      "\u001b[31m- Train Loss: 0.193878920 | Validation Loss: 0.077327543\u001b[0m \u001b[32m| NMSE: -6.6590829\u001b[0m\n"
     ]
    },
    {
     "name": "stderr",
     "output_type": "stream",
     "text": [
      "Model Training:  24%|\u001b[38;2;0;153;255m██▍       \u001b[0m| 242/1000 [2:01:15<6:14:33, 29.65s/it]"
     ]
    },
    {
     "name": "stdout",
     "output_type": "stream",
     "text": [
      "\u001b[94m- Epoch: 242/1000\u001b[0m\n",
      "\u001b[31m- Train Loss: 0.156640224 | Validation Loss: 0.167755301\u001b[0m \u001b[32m| NMSE: -6.7921565\u001b[0m\n"
     ]
    },
    {
     "name": "stderr",
     "output_type": "stream",
     "text": [
      "Model Training:  24%|\u001b[38;2;0;153;255m██▍       \u001b[0m| 243/1000 [2:01:45<6:13:45, 29.62s/it]"
     ]
    },
    {
     "name": "stdout",
     "output_type": "stream",
     "text": [
      "\u001b[94m- Epoch: 243/1000\u001b[0m\n",
      "\u001b[31m- Train Loss: 0.175897338 | Validation Loss: 0.167675274\u001b[0m \u001b[32m| NMSE: -7.7803168\u001b[0m\n"
     ]
    },
    {
     "name": "stderr",
     "output_type": "stream",
     "text": [
      "Model Training:  24%|\u001b[38;2;0;153;255m██▍       \u001b[0m| 244/1000 [2:02:13<6:06:43, 29.11s/it]"
     ]
    },
    {
     "name": "stdout",
     "output_type": "stream",
     "text": [
      "\u001b[94m- Epoch: 244/1000\u001b[0m\n",
      "\u001b[31m- Train Loss: 0.161233409 | Validation Loss: 0.157205278\u001b[0m \u001b[32m| NMSE: -4.8842592\u001b[0m\n"
     ]
    },
    {
     "name": "stderr",
     "output_type": "stream",
     "text": [
      "Model Training:  24%|\u001b[38;2;0;153;255m██▍       \u001b[0m| 245/1000 [2:02:44<6:14:51, 29.79s/it]"
     ]
    },
    {
     "name": "stdout",
     "output_type": "stream",
     "text": [
      "\u001b[94m- Epoch: 245/1000\u001b[0m\n",
      "\u001b[31m- Train Loss: 0.185634526 | Validation Loss: 0.188674914\u001b[0m \u001b[32m| NMSE: 1.8004441\u001b[0m\n"
     ]
    },
    {
     "name": "stderr",
     "output_type": "stream",
     "text": [
      "Model Training:  25%|\u001b[38;2;0;153;255m██▍       \u001b[0m| 246/1000 [2:03:15<6:18:49, 30.15s/it]"
     ]
    },
    {
     "name": "stdout",
     "output_type": "stream",
     "text": [
      "\u001b[94m- Epoch: 246/1000\u001b[0m\n",
      "\u001b[31m- Train Loss: 0.173365429 | Validation Loss: 0.148016912\u001b[0m \u001b[32m| NMSE: -1.2531661\u001b[0m\n"
     ]
    },
    {
     "name": "stderr",
     "output_type": "stream",
     "text": [
      "Model Training:  25%|\u001b[38;2;0;153;255m██▍       \u001b[0m| 247/1000 [2:03:46<6:22:10, 30.45s/it]"
     ]
    },
    {
     "name": "stdout",
     "output_type": "stream",
     "text": [
      "\u001b[94m- Epoch: 247/1000\u001b[0m\n",
      "\u001b[31m- Train Loss: 0.183849243 | Validation Loss: 0.209385370\u001b[0m \u001b[32m| NMSE: 0.1416185\u001b[0m\n"
     ]
    },
    {
     "name": "stderr",
     "output_type": "stream",
     "text": [
      "Model Training:  25%|\u001b[38;2;0;153;255m██▍       \u001b[0m| 248/1000 [2:04:16<6:20:17, 30.34s/it]"
     ]
    },
    {
     "name": "stdout",
     "output_type": "stream",
     "text": [
      "\u001b[94m- Epoch: 248/1000\u001b[0m\n",
      "\u001b[31m- Train Loss: 0.151404346 | Validation Loss: 0.201580420\u001b[0m \u001b[32m| NMSE: -3.9682019\u001b[0m\n"
     ]
    },
    {
     "name": "stderr",
     "output_type": "stream",
     "text": [
      "Model Training:  25%|\u001b[38;2;0;153;255m██▍       \u001b[0m| 249/1000 [2:04:46<6:18:41, 30.25s/it]"
     ]
    },
    {
     "name": "stdout",
     "output_type": "stream",
     "text": [
      "\u001b[94m- Epoch: 249/1000\u001b[0m\n",
      "\u001b[31m- Train Loss: 0.168048151 | Validation Loss: 0.154861980\u001b[0m \u001b[32m| NMSE: -4.9237766\u001b[0m\n"
     ]
    },
    {
     "name": "stderr",
     "output_type": "stream",
     "text": [
      "Model Training:  25%|\u001b[38;2;0;153;255m██▌       \u001b[0m| 250/1000 [2:05:16<6:14:14, 29.94s/it]"
     ]
    },
    {
     "name": "stdout",
     "output_type": "stream",
     "text": [
      "\u001b[94m- Epoch: 250/1000\u001b[0m\n",
      "\u001b[31m- Train Loss: 0.182864248 | Validation Loss: 0.109504769\u001b[0m \u001b[32m| NMSE: -6.9650156\u001b[0m\n"
     ]
    },
    {
     "name": "stderr",
     "output_type": "stream",
     "text": [
      "Model Training:  25%|\u001b[38;2;0;153;255m██▌       \u001b[0m| 251/1000 [2:05:45<6:09:43, 29.62s/it]"
     ]
    },
    {
     "name": "stdout",
     "output_type": "stream",
     "text": [
      "\u001b[94m- Epoch: 251/1000\u001b[0m\n",
      "\u001b[31m- Train Loss: 0.170104724 | Validation Loss: 0.305769771\u001b[0m \u001b[32m| NMSE: -6.4335155\u001b[0m\n"
     ]
    },
    {
     "name": "stderr",
     "output_type": "stream",
     "text": [
      "Model Training:  25%|\u001b[38;2;0;153;255m██▌       \u001b[0m| 252/1000 [2:06:14<6:08:23, 29.55s/it]"
     ]
    },
    {
     "name": "stdout",
     "output_type": "stream",
     "text": [
      "\u001b[94m- Epoch: 252/1000\u001b[0m\n",
      "\u001b[31m- Train Loss: 0.147794058 | Validation Loss: 0.168314210\u001b[0m \u001b[32m| NMSE: -8.8936396\u001b[0m\n"
     ]
    },
    {
     "name": "stderr",
     "output_type": "stream",
     "text": [
      "Model Training:  25%|\u001b[38;2;0;153;255m██▌       \u001b[0m| 253/1000 [2:06:44<6:10:05, 29.73s/it]"
     ]
    },
    {
     "name": "stdout",
     "output_type": "stream",
     "text": [
      "\u001b[94m- Epoch: 253/1000\u001b[0m\n",
      "\u001b[31m- Train Loss: 0.159525911 | Validation Loss: 0.269830118\u001b[0m \u001b[32m| NMSE: -1.1129013\u001b[0m\n"
     ]
    },
    {
     "name": "stderr",
     "output_type": "stream",
     "text": [
      "Model Training:  25%|\u001b[38;2;0;153;255m██▌       \u001b[0m| 254/1000 [2:07:12<6:04:10, 29.29s/it]"
     ]
    },
    {
     "name": "stdout",
     "output_type": "stream",
     "text": [
      "\u001b[94m- Epoch: 254/1000\u001b[0m\n",
      "\u001b[31m- Train Loss: 0.204967072 | Validation Loss: 0.118179673\u001b[0m \u001b[32m| NMSE: -14.7479281\u001b[0m\n"
     ]
    },
    {
     "name": "stderr",
     "output_type": "stream",
     "text": [
      "Model Training:  26%|\u001b[38;2;0;153;255m██▌       \u001b[0m| 255/1000 [2:07:43<6:10:40, 29.85s/it]"
     ]
    },
    {
     "name": "stdout",
     "output_type": "stream",
     "text": [
      "\u001b[94m- Epoch: 255/1000\u001b[0m\n",
      "\u001b[31m- Train Loss: 0.164146090 | Validation Loss: 0.131144859\u001b[0m \u001b[32m| NMSE: -6.0868940\u001b[0m\n"
     ]
    },
    {
     "name": "stderr",
     "output_type": "stream",
     "text": [
      "Model Training:  26%|\u001b[38;2;0;153;255m██▌       \u001b[0m| 256/1000 [2:08:15<6:15:49, 30.31s/it]"
     ]
    },
    {
     "name": "stdout",
     "output_type": "stream",
     "text": [
      "\u001b[94m- Epoch: 256/1000\u001b[0m\n",
      "\u001b[31m- Train Loss: 0.183168223 | Validation Loss: 0.137236550\u001b[0m \u001b[32m| NMSE: -5.5157149\u001b[0m\n"
     ]
    },
    {
     "name": "stderr",
     "output_type": "stream",
     "text": [
      "Model Training:  26%|\u001b[38;2;0;153;255m██▌       \u001b[0m| 257/1000 [2:08:46<6:17:45, 30.51s/it]"
     ]
    },
    {
     "name": "stdout",
     "output_type": "stream",
     "text": [
      "\u001b[94m- Epoch: 257/1000\u001b[0m\n",
      "\u001b[31m- Train Loss: 0.161466111 | Validation Loss: 0.245951169\u001b[0m \u001b[32m| NMSE: -3.4736869\u001b[0m\n"
     ]
    },
    {
     "name": "stderr",
     "output_type": "stream",
     "text": [
      "Model Training:  26%|\u001b[38;2;0;153;255m██▌       \u001b[0m| 258/1000 [2:09:17<6:19:33, 30.69s/it]"
     ]
    },
    {
     "name": "stdout",
     "output_type": "stream",
     "text": [
      "\u001b[94m- Epoch: 258/1000\u001b[0m\n",
      "\u001b[31m- Train Loss: 0.155297142 | Validation Loss: 0.103234558\u001b[0m \u001b[32m| NMSE: -4.7709081\u001b[0m\n"
     ]
    },
    {
     "name": "stderr",
     "output_type": "stream",
     "text": [
      "Model Training:  26%|\u001b[38;2;0;153;255m██▌       \u001b[0m| 259/1000 [2:09:49<6:22:28, 30.97s/it]"
     ]
    },
    {
     "name": "stdout",
     "output_type": "stream",
     "text": [
      "\u001b[94m- Epoch: 259/1000\u001b[0m\n",
      "\u001b[31m- Train Loss: 0.172852789 | Validation Loss: 0.079114854\u001b[0m \u001b[32m| NMSE: -8.1942265\u001b[0m\n"
     ]
    },
    {
     "name": "stderr",
     "output_type": "stream",
     "text": [
      "Model Training:  26%|\u001b[38;2;0;153;255m██▌       \u001b[0m| 260/1000 [2:10:17<6:13:28, 30.28s/it]"
     ]
    },
    {
     "name": "stdout",
     "output_type": "stream",
     "text": [
      "\u001b[94m- Epoch: 260/1000\u001b[0m\n",
      "\u001b[31m- Train Loss: 0.161893079 | Validation Loss: 0.093496775\u001b[0m \u001b[32m| NMSE: -1.4825232\u001b[0m\n"
     ]
    },
    {
     "name": "stderr",
     "output_type": "stream",
     "text": [
      "Model Training:  26%|\u001b[38;2;0;153;255m██▌       \u001b[0m| 261/1000 [2:10:47<6:09:39, 30.01s/it]"
     ]
    },
    {
     "name": "stdout",
     "output_type": "stream",
     "text": [
      "\u001b[94m- Epoch: 261/1000\u001b[0m\n",
      "\u001b[31m- Train Loss: 0.158670403 | Validation Loss: 0.153957867\u001b[0m \u001b[32m| NMSE: -0.1418750\u001b[0m\n"
     ]
    },
    {
     "name": "stderr",
     "output_type": "stream",
     "text": [
      "Model Training:  26%|\u001b[38;2;0;153;255m██▌       \u001b[0m| 262/1000 [2:11:18<6:12:34, 30.29s/it]"
     ]
    },
    {
     "name": "stdout",
     "output_type": "stream",
     "text": [
      "\u001b[94m- Epoch: 262/1000\u001b[0m\n",
      "\u001b[31m- Train Loss: 0.155406043 | Validation Loss: 0.135226672\u001b[0m \u001b[32m| NMSE: 3.7060437\u001b[0m\n"
     ]
    },
    {
     "name": "stderr",
     "output_type": "stream",
     "text": [
      "Model Training:  26%|\u001b[38;2;0;153;255m██▋       \u001b[0m| 263/1000 [2:11:46<6:06:50, 29.87s/it]"
     ]
    },
    {
     "name": "stdout",
     "output_type": "stream",
     "text": [
      "\u001b[94m- Epoch: 263/1000\u001b[0m\n",
      "\u001b[31m- Train Loss: 0.170459840 | Validation Loss: 0.441866271\u001b[0m \u001b[32m| NMSE: -9.1380534\u001b[0m\n"
     ]
    },
    {
     "name": "stderr",
     "output_type": "stream",
     "text": [
      "Model Training:  26%|\u001b[38;2;0;153;255m██▋       \u001b[0m| 264/1000 [2:12:15<6:02:32, 29.56s/it]"
     ]
    },
    {
     "name": "stdout",
     "output_type": "stream",
     "text": [
      "\u001b[94m- Epoch: 264/1000\u001b[0m\n",
      "\u001b[31m- Train Loss: 0.178975997 | Validation Loss: 0.183475335\u001b[0m \u001b[32m| NMSE: -1.8129554\u001b[0m\n"
     ]
    },
    {
     "name": "stderr",
     "output_type": "stream",
     "text": [
      "Model Training:  26%|\u001b[38;2;0;153;255m██▋       \u001b[0m| 265/1000 [2:12:48<6:12:45, 30.43s/it]"
     ]
    },
    {
     "name": "stdout",
     "output_type": "stream",
     "text": [
      "\u001b[94m- Epoch: 265/1000\u001b[0m\n",
      "\u001b[31m- Train Loss: 0.176573980 | Validation Loss: 0.186204391\u001b[0m \u001b[32m| NMSE: -6.7496376\u001b[0m\n"
     ]
    },
    {
     "name": "stderr",
     "output_type": "stream",
     "text": [
      "Model Training:  27%|\u001b[38;2;0;153;255m██▋       \u001b[0m| 266/1000 [2:13:19<6:16:07, 30.75s/it]"
     ]
    },
    {
     "name": "stdout",
     "output_type": "stream",
     "text": [
      "\u001b[94m- Epoch: 266/1000\u001b[0m\n",
      "\u001b[31m- Train Loss: 0.158230708 | Validation Loss: 0.048882792\u001b[0m \u001b[32m| NMSE: 1.9255936\u001b[0m\n"
     ]
    },
    {
     "name": "stderr",
     "output_type": "stream",
     "text": [
      "Model Training:  27%|\u001b[38;2;0;153;255m██▋       \u001b[0m| 267/1000 [2:13:50<6:17:29, 30.90s/it]"
     ]
    },
    {
     "name": "stdout",
     "output_type": "stream",
     "text": [
      "\u001b[94m- Epoch: 267/1000\u001b[0m\n",
      "\u001b[31m- Train Loss: 0.172301956 | Validation Loss: 0.198391405\u001b[0m \u001b[32m| NMSE: -7.2938652\u001b[0m\n"
     ]
    },
    {
     "name": "stderr",
     "output_type": "stream",
     "text": [
      "Model Training:  27%|\u001b[38;2;0;153;255m██▋       \u001b[0m| 268/1000 [2:14:21<6:14:34, 30.70s/it]"
     ]
    },
    {
     "name": "stdout",
     "output_type": "stream",
     "text": [
      "\u001b[94m- Epoch: 268/1000\u001b[0m\n",
      "\u001b[31m- Train Loss: 0.170983753 | Validation Loss: 0.233470843\u001b[0m \u001b[32m| NMSE: -8.3561583\u001b[0m\n"
     ]
    },
    {
     "name": "stderr",
     "output_type": "stream",
     "text": [
      "Model Training:  27%|\u001b[38;2;0;153;255m██▋       \u001b[0m| 269/1000 [2:14:51<6:12:44, 30.59s/it]"
     ]
    },
    {
     "name": "stdout",
     "output_type": "stream",
     "text": [
      "\u001b[94m- Epoch: 269/1000\u001b[0m\n",
      "\u001b[31m- Train Loss: 0.169135911 | Validation Loss: 0.106196603\u001b[0m \u001b[32m| NMSE: -9.6933165\u001b[0m\n"
     ]
    },
    {
     "name": "stderr",
     "output_type": "stream",
     "text": [
      "Model Training:  27%|\u001b[38;2;0;153;255m██▋       \u001b[0m| 270/1000 [2:15:19<6:02:59, 29.83s/it]"
     ]
    },
    {
     "name": "stdout",
     "output_type": "stream",
     "text": [
      "\u001b[94m- Epoch: 270/1000\u001b[0m\n",
      "\u001b[31m- Train Loss: 0.177068530 | Validation Loss: 0.137480316\u001b[0m \u001b[32m| NMSE: -4.3517263\u001b[0m\n"
     ]
    },
    {
     "name": "stderr",
     "output_type": "stream",
     "text": [
      "Model Training:  27%|\u001b[38;2;0;153;255m██▋       \u001b[0m| 271/1000 [2:15:49<6:01:02, 29.71s/it]"
     ]
    },
    {
     "name": "stdout",
     "output_type": "stream",
     "text": [
      "\u001b[94m- Epoch: 271/1000\u001b[0m\n",
      "\u001b[31m- Train Loss: 0.178636215 | Validation Loss: 0.096282866\u001b[0m \u001b[32m| NMSE: 2.5452600\u001b[0m\n"
     ]
    },
    {
     "name": "stderr",
     "output_type": "stream",
     "text": [
      "Model Training:  27%|\u001b[38;2;0;153;255m██▋       \u001b[0m| 272/1000 [2:16:18<5:59:43, 29.65s/it]"
     ]
    },
    {
     "name": "stdout",
     "output_type": "stream",
     "text": [
      "\u001b[94m- Epoch: 272/1000\u001b[0m\n",
      "\u001b[31m- Train Loss: 0.167956512 | Validation Loss: 0.119565899\u001b[0m \u001b[32m| NMSE: -7.4589157\u001b[0m\n"
     ]
    },
    {
     "name": "stderr",
     "output_type": "stream",
     "text": [
      "Model Training:  27%|\u001b[38;2;0;153;255m██▋       \u001b[0m| 273/1000 [2:16:48<5:58:51, 29.62s/it]"
     ]
    },
    {
     "name": "stdout",
     "output_type": "stream",
     "text": [
      "\u001b[94m- Epoch: 273/1000\u001b[0m\n",
      "\u001b[31m- Train Loss: 0.159640395 | Validation Loss: 0.197466150\u001b[0m \u001b[32m| NMSE: -12.8984751\u001b[0m\n"
     ]
    },
    {
     "name": "stderr",
     "output_type": "stream",
     "text": [
      "Model Training:  27%|\u001b[38;2;0;153;255m██▋       \u001b[0m| 274/1000 [2:17:17<5:56:56, 29.50s/it]"
     ]
    },
    {
     "name": "stdout",
     "output_type": "stream",
     "text": [
      "\u001b[94m- Epoch: 274/1000\u001b[0m\n",
      "\u001b[31m- Train Loss: 0.156392419 | Validation Loss: 0.079830218\u001b[0m \u001b[32m| NMSE: -9.9054707\u001b[0m\n"
     ]
    },
    {
     "name": "stderr",
     "output_type": "stream",
     "text": [
      "Model Training:  28%|\u001b[38;2;0;153;255m██▊       \u001b[0m| 275/1000 [2:17:47<5:58:00, 29.63s/it]"
     ]
    },
    {
     "name": "stdout",
     "output_type": "stream",
     "text": [
      "\u001b[94m- Epoch: 275/1000\u001b[0m\n",
      "\u001b[31m- Train Loss: 0.150310639 | Validation Loss: 0.098102835\u001b[0m \u001b[32m| NMSE: -4.7898729\u001b[0m\n"
     ]
    },
    {
     "name": "stderr",
     "output_type": "stream",
     "text": [
      "Model Training:  28%|\u001b[38;2;0;153;255m██▊       \u001b[0m| 276/1000 [2:18:18<6:02:24, 30.03s/it]"
     ]
    },
    {
     "name": "stdout",
     "output_type": "stream",
     "text": [
      "\u001b[94m- Epoch: 276/1000\u001b[0m\n",
      "\u001b[31m- Train Loss: 0.152678469 | Validation Loss: 0.164973023\u001b[0m \u001b[32m| NMSE: -8.0197425\u001b[0m\n"
     ]
    },
    {
     "name": "stderr",
     "output_type": "stream",
     "text": [
      "Model Training:  28%|\u001b[38;2;0;153;255m██▊       \u001b[0m| 277/1000 [2:18:48<6:03:01, 30.13s/it]"
     ]
    },
    {
     "name": "stdout",
     "output_type": "stream",
     "text": [
      "\u001b[94m- Epoch: 277/1000\u001b[0m\n",
      "\u001b[31m- Train Loss: 0.163431703 | Validation Loss: 0.244124624\u001b[0m \u001b[32m| NMSE: -4.9810176\u001b[0m\n"
     ]
    },
    {
     "name": "stderr",
     "output_type": "stream",
     "text": [
      "Model Training:  28%|\u001b[38;2;0;153;255m██▊       \u001b[0m| 278/1000 [2:19:18<6:01:38, 30.05s/it]"
     ]
    },
    {
     "name": "stdout",
     "output_type": "stream",
     "text": [
      "\u001b[94m- Epoch: 278/1000\u001b[0m\n",
      "\u001b[31m- Train Loss: 0.164735703 | Validation Loss: 0.204566789\u001b[0m \u001b[32m| NMSE: -6.6941397\u001b[0m\n"
     ]
    },
    {
     "name": "stderr",
     "output_type": "stream",
     "text": [
      "Model Training:  28%|\u001b[38;2;0;153;255m██▊       \u001b[0m| 279/1000 [2:19:49<6:04:49, 30.36s/it]"
     ]
    },
    {
     "name": "stdout",
     "output_type": "stream",
     "text": [
      "\u001b[94m- Epoch: 279/1000\u001b[0m\n",
      "\u001b[31m- Train Loss: 0.179110520 | Validation Loss: 0.182441679\u001b[0m \u001b[32m| NMSE: -8.1435928\u001b[0m\n"
     ]
    },
    {
     "name": "stderr",
     "output_type": "stream",
     "text": [
      "Model Training:  28%|\u001b[38;2;0;153;255m██▊       \u001b[0m| 280/1000 [2:20:17<5:54:24, 29.53s/it]"
     ]
    },
    {
     "name": "stdout",
     "output_type": "stream",
     "text": [
      "\u001b[94m- Epoch: 280/1000\u001b[0m\n",
      "\u001b[31m- Train Loss: 0.176620347 | Validation Loss: 0.330010941\u001b[0m \u001b[32m| NMSE: -6.1685627\u001b[0m\n"
     ]
    },
    {
     "name": "stderr",
     "output_type": "stream",
     "text": [
      "Model Training:  28%|\u001b[38;2;0;153;255m██▊       \u001b[0m| 281/1000 [2:20:46<5:54:44, 29.60s/it]"
     ]
    },
    {
     "name": "stdout",
     "output_type": "stream",
     "text": [
      "\u001b[94m- Epoch: 281/1000\u001b[0m\n",
      "\u001b[31m- Train Loss: 0.165733635 | Validation Loss: 0.161214886\u001b[0m \u001b[32m| NMSE: -10.5110471\u001b[0m\n"
     ]
    },
    {
     "name": "stderr",
     "output_type": "stream",
     "text": [
      "Model Training:  28%|\u001b[38;2;0;153;255m██▊       \u001b[0m| 282/1000 [2:21:17<5:57:13, 29.85s/it]"
     ]
    },
    {
     "name": "stdout",
     "output_type": "stream",
     "text": [
      "\u001b[94m- Epoch: 282/1000\u001b[0m\n",
      "\u001b[31m- Train Loss: 0.173688999 | Validation Loss: 0.030630779\u001b[0m \u001b[32m| NMSE: -12.4194617\u001b[0m\n"
     ]
    },
    {
     "name": "stderr",
     "output_type": "stream",
     "text": [
      "Model Training:  28%|\u001b[38;2;0;153;255m██▊       \u001b[0m| 283/1000 [2:21:45<5:50:15, 29.31s/it]"
     ]
    },
    {
     "name": "stdout",
     "output_type": "stream",
     "text": [
      "\u001b[94m- Epoch: 283/1000\u001b[0m\n",
      "\u001b[31m- Train Loss: 0.166805159 | Validation Loss: 0.203930569\u001b[0m \u001b[32m| NMSE: -4.8801117\u001b[0m\n"
     ]
    },
    {
     "name": "stderr",
     "output_type": "stream",
     "text": [
      "Model Training:  28%|\u001b[38;2;0;153;255m██▊       \u001b[0m| 284/1000 [2:22:15<5:53:30, 29.62s/it]"
     ]
    },
    {
     "name": "stdout",
     "output_type": "stream",
     "text": [
      "\u001b[94m- Epoch: 284/1000\u001b[0m\n",
      "\u001b[31m- Train Loss: 0.168484887 | Validation Loss: 0.104673316\u001b[0m \u001b[32m| NMSE: -1.5110363\u001b[0m\n"
     ]
    },
    {
     "name": "stderr",
     "output_type": "stream",
     "text": [
      "Model Training:  28%|\u001b[38;2;0;153;255m██▊       \u001b[0m| 285/1000 [2:22:46<5:58:39, 30.10s/it]"
     ]
    },
    {
     "name": "stdout",
     "output_type": "stream",
     "text": [
      "\u001b[94m- Epoch: 285/1000\u001b[0m\n",
      "\u001b[31m- Train Loss: 0.185090604 | Validation Loss: 0.149282807\u001b[0m \u001b[32m| NMSE: -9.1474214\u001b[0m\n"
     ]
    },
    {
     "name": "stderr",
     "output_type": "stream",
     "text": [
      "Model Training:  29%|\u001b[38;2;0;153;255m██▊       \u001b[0m| 286/1000 [2:23:18<6:02:00, 30.42s/it]"
     ]
    },
    {
     "name": "stdout",
     "output_type": "stream",
     "text": [
      "\u001b[94m- Epoch: 286/1000\u001b[0m\n",
      "\u001b[31m- Train Loss: 0.165138394 | Validation Loss: 0.155317226\u001b[0m \u001b[32m| NMSE: 0.4251251\u001b[0m\n"
     ]
    },
    {
     "name": "stderr",
     "output_type": "stream",
     "text": [
      "Model Training:  29%|\u001b[38;2;0;153;255m██▊       \u001b[0m| 287/1000 [2:23:49<6:04:28, 30.67s/it]"
     ]
    },
    {
     "name": "stdout",
     "output_type": "stream",
     "text": [
      "\u001b[94m- Epoch: 287/1000\u001b[0m\n",
      "\u001b[31m- Train Loss: 0.162453470 | Validation Loss: 0.072268634\u001b[0m \u001b[32m| NMSE: -6.1256511\u001b[0m\n"
     ]
    },
    {
     "name": "stderr",
     "output_type": "stream",
     "text": [
      "Model Training:  29%|\u001b[38;2;0;153;255m██▉       \u001b[0m| 288/1000 [2:24:21<6:07:23, 30.96s/it]"
     ]
    },
    {
     "name": "stdout",
     "output_type": "stream",
     "text": [
      "\u001b[94m- Epoch: 288/1000\u001b[0m\n",
      "\u001b[31m- Train Loss: 0.173044967 | Validation Loss: 0.163640541\u001b[0m \u001b[32m| NMSE: -6.9040945\u001b[0m\n"
     ]
    },
    {
     "name": "stderr",
     "output_type": "stream",
     "text": [
      "Model Training:  29%|\u001b[38;2;0;153;255m██▉       \u001b[0m| 289/1000 [2:24:52<6:07:25, 31.01s/it]"
     ]
    },
    {
     "name": "stdout",
     "output_type": "stream",
     "text": [
      "\u001b[94m- Epoch: 289/1000\u001b[0m\n",
      "\u001b[31m- Train Loss: 0.165265548 | Validation Loss: 0.156032750\u001b[0m \u001b[32m| NMSE: -17.7646599\u001b[0m\n"
     ]
    },
    {
     "name": "stderr",
     "output_type": "stream",
     "text": [
      "Model Training:  29%|\u001b[38;2;0;153;255m██▉       \u001b[0m| 290/1000 [2:25:20<5:56:50, 30.16s/it]"
     ]
    },
    {
     "name": "stdout",
     "output_type": "stream",
     "text": [
      "\u001b[94m- Epoch: 290/1000\u001b[0m\n",
      "\u001b[31m- Train Loss: 0.163610524 | Validation Loss: 0.086730378\u001b[0m \u001b[32m| NMSE: -2.8981257\u001b[0m\n"
     ]
    },
    {
     "name": "stderr",
     "output_type": "stream",
     "text": [
      "Model Training:  29%|\u001b[38;2;0;153;255m██▉       \u001b[0m| 291/1000 [2:25:50<5:56:25, 30.16s/it]"
     ]
    },
    {
     "name": "stdout",
     "output_type": "stream",
     "text": [
      "\u001b[94m- Epoch: 291/1000\u001b[0m\n",
      "\u001b[31m- Train Loss: 0.159986810 | Validation Loss: 0.076030497\u001b[0m \u001b[32m| NMSE: -6.5844152\u001b[0m\n"
     ]
    },
    {
     "name": "stderr",
     "output_type": "stream",
     "text": [
      "Model Training:  29%|\u001b[38;2;0;153;255m██▉       \u001b[0m| 292/1000 [2:26:20<5:55:26, 30.12s/it]"
     ]
    },
    {
     "name": "stdout",
     "output_type": "stream",
     "text": [
      "\u001b[94m- Epoch: 292/1000\u001b[0m\n",
      "\u001b[31m- Train Loss: 0.156152038 | Validation Loss: 0.139785148\u001b[0m \u001b[32m| NMSE: -5.3924453\u001b[0m\n"
     ]
    },
    {
     "name": "stderr",
     "output_type": "stream",
     "text": [
      "Model Training:  29%|\u001b[38;2;0;153;255m██▉       \u001b[0m| 293/1000 [2:26:48<5:47:32, 29.49s/it]"
     ]
    },
    {
     "name": "stdout",
     "output_type": "stream",
     "text": [
      "\u001b[94m- Epoch: 293/1000\u001b[0m\n",
      "\u001b[31m- Train Loss: 0.160872756 | Validation Loss: 0.145641985\u001b[0m \u001b[32m| NMSE: -1.9787962\u001b[0m\n"
     ]
    },
    {
     "name": "stderr",
     "output_type": "stream",
     "text": [
      "Model Training:  29%|\u001b[38;2;0;153;255m██▉       \u001b[0m| 294/1000 [2:27:18<5:49:13, 29.68s/it]"
     ]
    },
    {
     "name": "stdout",
     "output_type": "stream",
     "text": [
      "\u001b[94m- Epoch: 294/1000\u001b[0m\n",
      "\u001b[31m- Train Loss: 0.167535196 | Validation Loss: 0.079408797\u001b[0m \u001b[32m| NMSE: -1.9947357\u001b[0m\n"
     ]
    },
    {
     "name": "stderr",
     "output_type": "stream",
     "text": [
      "Model Training:  30%|\u001b[38;2;0;153;255m██▉       \u001b[0m| 295/1000 [2:27:49<5:54:34, 30.18s/it]"
     ]
    },
    {
     "name": "stdout",
     "output_type": "stream",
     "text": [
      "\u001b[94m- Epoch: 295/1000\u001b[0m\n",
      "\u001b[31m- Train Loss: 0.170392849 | Validation Loss: 0.209478072\u001b[0m \u001b[32m| NMSE: -7.8717573\u001b[0m\n"
     ]
    },
    {
     "name": "stderr",
     "output_type": "stream",
     "text": [
      "Model Training:  30%|\u001b[38;2;0;153;255m██▉       \u001b[0m| 296/1000 [2:28:20<5:55:31, 30.30s/it]"
     ]
    },
    {
     "name": "stdout",
     "output_type": "stream",
     "text": [
      "\u001b[94m- Epoch: 296/1000\u001b[0m\n",
      "\u001b[31m- Train Loss: 0.151700680 | Validation Loss: 0.134504097\u001b[0m \u001b[32m| NMSE: -13.3150182\u001b[0m\n"
     ]
    },
    {
     "name": "stderr",
     "output_type": "stream",
     "text": [
      "Model Training:  30%|\u001b[38;2;0;153;255m██▉       \u001b[0m| 297/1000 [2:28:52<5:59:14, 30.66s/it]"
     ]
    },
    {
     "name": "stdout",
     "output_type": "stream",
     "text": [
      "\u001b[94m- Epoch: 297/1000\u001b[0m\n",
      "\u001b[31m- Train Loss: 0.166897701 | Validation Loss: 0.047051196\u001b[0m \u001b[32m| NMSE: 1.0638947\u001b[0m\n"
     ]
    },
    {
     "name": "stderr",
     "output_type": "stream",
     "text": [
      "Model Training:  30%|\u001b[38;2;0;153;255m██▉       \u001b[0m| 298/1000 [2:29:23<5:59:54, 30.76s/it]"
     ]
    },
    {
     "name": "stdout",
     "output_type": "stream",
     "text": [
      "\u001b[94m- Epoch: 298/1000\u001b[0m\n",
      "\u001b[31m- Train Loss: 0.165332673 | Validation Loss: 0.045570348\u001b[0m \u001b[32m| NMSE: -2.6914392\u001b[0m\n"
     ]
    },
    {
     "name": "stderr",
     "output_type": "stream",
     "text": [
      "Model Training:  30%|\u001b[38;2;0;153;255m██▉       \u001b[0m| 299/1000 [2:29:53<5:57:56, 30.64s/it]"
     ]
    },
    {
     "name": "stdout",
     "output_type": "stream",
     "text": [
      "\u001b[94m- Epoch: 299/1000\u001b[0m\n",
      "\u001b[31m- Train Loss: 0.165761854 | Validation Loss: 0.061377825\u001b[0m \u001b[32m| NMSE: -7.7993689\u001b[0m\n"
     ]
    },
    {
     "name": "stderr",
     "output_type": "stream",
     "text": [
      "Model Training:  30%|\u001b[38;2;0;153;255m███       \u001b[0m| 300/1000 [2:30:21<5:48:51, 29.90s/it]"
     ]
    },
    {
     "name": "stdout",
     "output_type": "stream",
     "text": [
      "\u001b[94m- Epoch: 300/1000\u001b[0m\n",
      "\u001b[31m- Train Loss: 0.182586065 | Validation Loss: 0.101863158\u001b[0m \u001b[32m| NMSE: -11.0754719\u001b[0m\n"
     ]
    },
    {
     "name": "stderr",
     "output_type": "stream",
     "text": [
      "Model Training:  30%|\u001b[38;2;0;153;255m███       \u001b[0m| 301/1000 [2:30:53<5:54:25, 30.42s/it]"
     ]
    },
    {
     "name": "stdout",
     "output_type": "stream",
     "text": [
      "\u001b[94m- Epoch: 301/1000\u001b[0m\n",
      "\u001b[31m- Train Loss: 0.153316717 | Validation Loss: 0.168661604\u001b[0m \u001b[32m| NMSE: -2.3221381\u001b[0m\n"
     ]
    },
    {
     "name": "stderr",
     "output_type": "stream",
     "text": [
      "Model Training:  30%|\u001b[38;2;0;153;255m███       \u001b[0m| 302/1000 [2:31:22<5:51:34, 30.22s/it]"
     ]
    },
    {
     "name": "stdout",
     "output_type": "stream",
     "text": [
      "\u001b[94m- Epoch: 302/1000\u001b[0m\n",
      "\u001b[31m- Train Loss: 0.182488920 | Validation Loss: 0.223511112\u001b[0m \u001b[32m| NMSE: -8.4944263\u001b[0m\n"
     ]
    },
    {
     "name": "stderr",
     "output_type": "stream",
     "text": [
      "Model Training:  30%|\u001b[38;2;0;153;255m███       \u001b[0m| 303/1000 [2:31:51<5:44:02, 29.62s/it]"
     ]
    },
    {
     "name": "stdout",
     "output_type": "stream",
     "text": [
      "\u001b[94m- Epoch: 303/1000\u001b[0m\n",
      "\u001b[31m- Train Loss: 0.185805836 | Validation Loss: 0.189093586\u001b[0m \u001b[32m| NMSE: -9.8365378\u001b[0m\n"
     ]
    },
    {
     "name": "stderr",
     "output_type": "stream",
     "text": [
      "Model Training:  30%|\u001b[38;2;0;153;255m███       \u001b[0m| 304/1000 [2:32:22<5:48:40, 30.06s/it]"
     ]
    },
    {
     "name": "stdout",
     "output_type": "stream",
     "text": [
      "\u001b[94m- Epoch: 304/1000\u001b[0m\n",
      "\u001b[31m- Train Loss: 0.183995952 | Validation Loss: 0.073137281\u001b[0m \u001b[32m| NMSE: -4.4038649\u001b[0m\n"
     ]
    },
    {
     "name": "stderr",
     "output_type": "stream",
     "text": [
      "Model Training:  30%|\u001b[38;2;0;153;255m███       \u001b[0m| 305/1000 [2:32:52<5:49:25, 30.17s/it]"
     ]
    },
    {
     "name": "stdout",
     "output_type": "stream",
     "text": [
      "\u001b[94m- Epoch: 305/1000\u001b[0m\n",
      "\u001b[31m- Train Loss: 0.184384284 | Validation Loss: 0.191645434\u001b[0m \u001b[32m| NMSE: -3.0504061\u001b[0m\n"
     ]
    },
    {
     "name": "stderr",
     "output_type": "stream",
     "text": [
      "Model Training:  31%|\u001b[38;2;0;153;255m███       \u001b[0m| 306/1000 [2:33:22<5:48:13, 30.11s/it]"
     ]
    },
    {
     "name": "stdout",
     "output_type": "stream",
     "text": [
      "\u001b[94m- Epoch: 306/1000\u001b[0m\n",
      "\u001b[31m- Train Loss: 0.152869245 | Validation Loss: 0.096173253\u001b[0m \u001b[32m| NMSE: 1.3754675\u001b[0m\n"
     ]
    },
    {
     "name": "stderr",
     "output_type": "stream",
     "text": [
      "Model Training:  31%|\u001b[38;2;0;153;255m███       \u001b[0m| 307/1000 [2:33:53<5:50:53, 30.38s/it]"
     ]
    },
    {
     "name": "stdout",
     "output_type": "stream",
     "text": [
      "\u001b[94m- Epoch: 307/1000\u001b[0m\n",
      "\u001b[31m- Train Loss: 0.169971779 | Validation Loss: 0.222281574\u001b[0m \u001b[32m| NMSE: -2.7981104\u001b[0m\n"
     ]
    },
    {
     "name": "stderr",
     "output_type": "stream",
     "text": [
      "Model Training:  31%|\u001b[38;2;0;153;255m███       \u001b[0m| 308/1000 [2:34:25<5:55:47, 30.85s/it]"
     ]
    },
    {
     "name": "stdout",
     "output_type": "stream",
     "text": [
      "\u001b[94m- Epoch: 308/1000\u001b[0m\n",
      "\u001b[31m- Train Loss: 0.168462142 | Validation Loss: 0.286832814\u001b[0m \u001b[32m| NMSE: -4.2755055\u001b[0m\n"
     ]
    },
    {
     "name": "stderr",
     "output_type": "stream",
     "text": [
      "Model Training:  31%|\u001b[38;2;0;153;255m███       \u001b[0m| 309/1000 [2:34:55<5:51:06, 30.49s/it]"
     ]
    },
    {
     "name": "stdout",
     "output_type": "stream",
     "text": [
      "\u001b[94m- Epoch: 309/1000\u001b[0m\n",
      "\u001b[31m- Train Loss: 0.164441322 | Validation Loss: 0.130971878\u001b[0m \u001b[32m| NMSE: -3.7003363\u001b[0m\n"
     ]
    },
    {
     "name": "stderr",
     "output_type": "stream",
     "text": [
      "Model Training:  31%|\u001b[38;2;0;153;255m███       \u001b[0m| 310/1000 [2:35:24<5:45:59, 30.09s/it]"
     ]
    },
    {
     "name": "stdout",
     "output_type": "stream",
     "text": [
      "\u001b[94m- Epoch: 310/1000\u001b[0m\n",
      "\u001b[31m- Train Loss: 0.163198604 | Validation Loss: 0.022785745\u001b[0m \u001b[32m| NMSE: 3.7968024\u001b[0m\n"
     ]
    },
    {
     "name": "stderr",
     "output_type": "stream",
     "text": [
      "Model Training:  31%|\u001b[38;2;0;153;255m███       \u001b[0m| 311/1000 [2:35:53<5:41:54, 29.77s/it]"
     ]
    },
    {
     "name": "stdout",
     "output_type": "stream",
     "text": [
      "\u001b[94m- Epoch: 311/1000\u001b[0m\n",
      "\u001b[31m- Train Loss: 0.174456901 | Validation Loss: 0.265925715\u001b[0m \u001b[32m| NMSE: -6.7577441\u001b[0m\n"
     ]
    },
    {
     "name": "stderr",
     "output_type": "stream",
     "text": [
      "Model Training:  31%|\u001b[38;2;0;153;255m███       \u001b[0m| 312/1000 [2:36:22<5:39:53, 29.64s/it]"
     ]
    },
    {
     "name": "stdout",
     "output_type": "stream",
     "text": [
      "\u001b[94m- Epoch: 312/1000\u001b[0m\n",
      "\u001b[31m- Train Loss: 0.188792512 | Validation Loss: 0.116039988\u001b[0m \u001b[32m| NMSE: -11.4868965\u001b[0m\n"
     ]
    },
    {
     "name": "stderr",
     "output_type": "stream",
     "text": [
      "Model Training:  31%|\u001b[38;2;0;153;255m███▏      \u001b[0m| 313/1000 [2:36:51<5:36:33, 29.39s/it]"
     ]
    },
    {
     "name": "stdout",
     "output_type": "stream",
     "text": [
      "\u001b[94m- Epoch: 313/1000\u001b[0m\n",
      "\u001b[31m- Train Loss: 0.167530435 | Validation Loss: 0.080229648\u001b[0m \u001b[32m| NMSE: -7.2515655\u001b[0m\n"
     ]
    },
    {
     "name": "stderr",
     "output_type": "stream",
     "text": [
      "Model Training:  31%|\u001b[38;2;0;153;255m███▏      \u001b[0m| 314/1000 [2:37:22<5:39:44, 29.72s/it]"
     ]
    },
    {
     "name": "stdout",
     "output_type": "stream",
     "text": [
      "\u001b[94m- Epoch: 314/1000\u001b[0m\n",
      "\u001b[31m- Train Loss: 0.161464454 | Validation Loss: 0.163866505\u001b[0m \u001b[32m| NMSE: -4.5211415\u001b[0m\n"
     ]
    },
    {
     "name": "stderr",
     "output_type": "stream",
     "text": [
      "Model Training:  32%|\u001b[38;2;0;153;255m███▏      \u001b[0m| 315/1000 [2:37:52<5:41:48, 29.94s/it]"
     ]
    },
    {
     "name": "stdout",
     "output_type": "stream",
     "text": [
      "\u001b[94m- Epoch: 315/1000\u001b[0m\n",
      "\u001b[31m- Train Loss: 0.177499218 | Validation Loss: 0.304792821\u001b[0m \u001b[32m| NMSE: -2.4512401\u001b[0m\n"
     ]
    },
    {
     "name": "stderr",
     "output_type": "stream",
     "text": [
      "Model Training:  32%|\u001b[38;2;0;153;255m███▏      \u001b[0m| 316/1000 [2:38:23<5:43:47, 30.16s/it]"
     ]
    },
    {
     "name": "stdout",
     "output_type": "stream",
     "text": [
      "\u001b[94m- Epoch: 316/1000\u001b[0m\n",
      "\u001b[31m- Train Loss: 0.168009346 | Validation Loss: 0.229232105\u001b[0m \u001b[32m| NMSE: 0.9696977\u001b[0m\n"
     ]
    },
    {
     "name": "stderr",
     "output_type": "stream",
     "text": [
      "Model Training:  32%|\u001b[38;2;0;153;255m███▏      \u001b[0m| 317/1000 [2:38:53<5:44:01, 30.22s/it]"
     ]
    },
    {
     "name": "stdout",
     "output_type": "stream",
     "text": [
      "\u001b[94m- Epoch: 317/1000\u001b[0m\n",
      "\u001b[31m- Train Loss: 0.166862570 | Validation Loss: 0.046876323\u001b[0m \u001b[32m| NMSE: -7.2128193\u001b[0m\n"
     ]
    },
    {
     "name": "stderr",
     "output_type": "stream",
     "text": [
      "Model Training:  32%|\u001b[38;2;0;153;255m███▏      \u001b[0m| 318/1000 [2:39:23<5:42:33, 30.14s/it]"
     ]
    },
    {
     "name": "stdout",
     "output_type": "stream",
     "text": [
      "\u001b[94m- Epoch: 318/1000\u001b[0m\n",
      "\u001b[31m- Train Loss: 0.166590235 | Validation Loss: 0.165098618\u001b[0m \u001b[32m| NMSE: 0.4174011\u001b[0m\n"
     ]
    },
    {
     "name": "stderr",
     "output_type": "stream",
     "text": [
      "Model Training:  32%|\u001b[38;2;0;153;255m███▏      \u001b[0m| 319/1000 [2:39:52<5:37:19, 29.72s/it]"
     ]
    },
    {
     "name": "stdout",
     "output_type": "stream",
     "text": [
      "\u001b[94m- Epoch: 319/1000\u001b[0m\n",
      "\u001b[31m- Train Loss: 0.177610356 | Validation Loss: 0.262682319\u001b[0m \u001b[32m| NMSE: -3.4338357\u001b[0m\n"
     ]
    },
    {
     "name": "stderr",
     "output_type": "stream",
     "text": [
      "Model Training:  32%|\u001b[38;2;0;153;255m███▏      \u001b[0m| 320/1000 [2:40:21<5:33:34, 29.43s/it]"
     ]
    },
    {
     "name": "stdout",
     "output_type": "stream",
     "text": [
      "\u001b[94m- Epoch: 320/1000\u001b[0m\n",
      "\u001b[31m- Train Loss: 0.149931588 | Validation Loss: 0.144256881\u001b[0m \u001b[32m| NMSE: -2.5993038\u001b[0m\n"
     ]
    },
    {
     "name": "stderr",
     "output_type": "stream",
     "text": [
      "Model Training:  32%|\u001b[38;2;0;153;255m███▏      \u001b[0m| 321/1000 [2:40:51<5:36:00, 29.69s/it]"
     ]
    },
    {
     "name": "stdout",
     "output_type": "stream",
     "text": [
      "\u001b[94m- Epoch: 321/1000\u001b[0m\n",
      "\u001b[31m- Train Loss: 0.174980891 | Validation Loss: 0.253364881\u001b[0m \u001b[32m| NMSE: -10.9075208\u001b[0m\n"
     ]
    },
    {
     "name": "stderr",
     "output_type": "stream",
     "text": [
      "Model Training:  32%|\u001b[38;2;0;153;255m███▏      \u001b[0m| 322/1000 [2:41:20<5:35:12, 29.66s/it]"
     ]
    },
    {
     "name": "stdout",
     "output_type": "stream",
     "text": [
      "\u001b[94m- Epoch: 322/1000\u001b[0m\n",
      "\u001b[31m- Train Loss: 0.152063675 | Validation Loss: 0.025938989\u001b[0m \u001b[32m| NMSE: -2.1950818\u001b[0m\n"
     ]
    },
    {
     "name": "stderr",
     "output_type": "stream",
     "text": [
      "Model Training:  32%|\u001b[38;2;0;153;255m███▏      \u001b[0m| 323/1000 [2:41:49<5:32:33, 29.47s/it]"
     ]
    },
    {
     "name": "stdout",
     "output_type": "stream",
     "text": [
      "\u001b[94m- Epoch: 323/1000\u001b[0m\n",
      "\u001b[31m- Train Loss: 0.146540800 | Validation Loss: 0.180480264\u001b[0m \u001b[32m| NMSE: -4.2719433\u001b[0m\n"
     ]
    },
    {
     "name": "stderr",
     "output_type": "stream",
     "text": [
      "Model Training:  32%|\u001b[38;2;0;153;255m███▏      \u001b[0m| 324/1000 [2:42:19<5:33:38, 29.61s/it]"
     ]
    },
    {
     "name": "stdout",
     "output_type": "stream",
     "text": [
      "\u001b[94m- Epoch: 324/1000\u001b[0m\n",
      "\u001b[31m- Train Loss: 0.180264496 | Validation Loss: 0.134193042\u001b[0m \u001b[32m| NMSE: -0.8528910\u001b[0m\n"
     ]
    },
    {
     "name": "stderr",
     "output_type": "stream",
     "text": [
      "Model Training:  32%|\u001b[38;2;0;153;255m███▎      \u001b[0m| 325/1000 [2:42:50<5:38:09, 30.06s/it]"
     ]
    },
    {
     "name": "stdout",
     "output_type": "stream",
     "text": [
      "\u001b[94m- Epoch: 325/1000\u001b[0m\n",
      "\u001b[31m- Train Loss: 0.155872953 | Validation Loss: 0.088756772\u001b[0m \u001b[32m| NMSE: -4.8168427\u001b[0m\n"
     ]
    },
    {
     "name": "stderr",
     "output_type": "stream",
     "text": [
      "Model Training:  33%|\u001b[38;2;0;153;255m███▎      \u001b[0m| 326/1000 [2:43:22<5:41:14, 30.38s/it]"
     ]
    },
    {
     "name": "stdout",
     "output_type": "stream",
     "text": [
      "\u001b[94m- Epoch: 326/1000\u001b[0m\n",
      "\u001b[31m- Train Loss: 0.156639497 | Validation Loss: 0.337563197\u001b[0m \u001b[32m| NMSE: 3.4580591\u001b[0m\n"
     ]
    },
    {
     "name": "stderr",
     "output_type": "stream",
     "text": [
      "Model Training:  33%|\u001b[38;2;0;153;255m███▎      \u001b[0m| 327/1000 [2:43:52<5:40:32, 30.36s/it]"
     ]
    },
    {
     "name": "stdout",
     "output_type": "stream",
     "text": [
      "\u001b[94m- Epoch: 327/1000\u001b[0m\n",
      "\u001b[31m- Train Loss: 0.171119941 | Validation Loss: 0.105320722\u001b[0m \u001b[32m| NMSE: -0.0734706\u001b[0m\n"
     ]
    },
    {
     "name": "stderr",
     "output_type": "stream",
     "text": [
      "Model Training:  33%|\u001b[38;2;0;153;255m███▎      \u001b[0m| 328/1000 [2:44:22<5:39:33, 30.32s/it]"
     ]
    },
    {
     "name": "stdout",
     "output_type": "stream",
     "text": [
      "\u001b[94m- Epoch: 328/1000\u001b[0m\n",
      "\u001b[31m- Train Loss: 0.164023265 | Validation Loss: 0.109340703\u001b[0m \u001b[32m| NMSE: -7.8600137\u001b[0m\n"
     ]
    },
    {
     "name": "stderr",
     "output_type": "stream",
     "text": [
      "Model Training:  33%|\u001b[38;2;0;153;255m███▎      \u001b[0m| 329/1000 [2:44:51<5:33:07, 29.79s/it]"
     ]
    },
    {
     "name": "stdout",
     "output_type": "stream",
     "text": [
      "\u001b[94m- Epoch: 329/1000\u001b[0m\n",
      "\u001b[31m- Train Loss: 0.154549328 | Validation Loss: 0.132883715\u001b[0m \u001b[32m| NMSE: -8.7115819\u001b[0m\n"
     ]
    },
    {
     "name": "stderr",
     "output_type": "stream",
     "text": [
      "Model Training:  33%|\u001b[38;2;0;153;255m███▎      \u001b[0m| 330/1000 [2:45:20<5:30:01, 29.55s/it]"
     ]
    },
    {
     "name": "stdout",
     "output_type": "stream",
     "text": [
      "\u001b[94m- Epoch: 330/1000\u001b[0m\n",
      "\u001b[31m- Train Loss: 0.160968337 | Validation Loss: 0.203047799\u001b[0m \u001b[32m| NMSE: -5.0905441\u001b[0m\n"
     ]
    },
    {
     "name": "stderr",
     "output_type": "stream",
     "text": [
      "Model Training:  33%|\u001b[38;2;0;153;255m███▎      \u001b[0m| 331/1000 [2:45:50<5:33:21, 29.90s/it]"
     ]
    },
    {
     "name": "stdout",
     "output_type": "stream",
     "text": [
      "\u001b[94m- Epoch: 331/1000\u001b[0m\n",
      "\u001b[31m- Train Loss: 0.181720466 | Validation Loss: 0.197352083\u001b[0m \u001b[32m| NMSE: 0.9103744\u001b[0m\n"
     ]
    },
    {
     "name": "stderr",
     "output_type": "stream",
     "text": [
      "Model Training:  33%|\u001b[38;2;0;153;255m███▎      \u001b[0m| 332/1000 [2:46:17<5:23:26, 29.05s/it]"
     ]
    },
    {
     "name": "stdout",
     "output_type": "stream",
     "text": [
      "\u001b[94m- Epoch: 332/1000\u001b[0m\n",
      "\u001b[31m- Train Loss: 0.180091759 | Validation Loss: 0.101603773\u001b[0m \u001b[32m| NMSE: -6.6315322\u001b[0m\n"
     ]
    },
    {
     "name": "stderr",
     "output_type": "stream",
     "text": [
      "Model Training:  33%|\u001b[38;2;0;153;255m███▎      \u001b[0m| 333/1000 [2:46:47<5:25:38, 29.29s/it]"
     ]
    },
    {
     "name": "stdout",
     "output_type": "stream",
     "text": [
      "\u001b[94m- Epoch: 333/1000\u001b[0m\n",
      "\u001b[31m- Train Loss: 0.179338353 | Validation Loss: 0.156148277\u001b[0m \u001b[32m| NMSE: -5.1555422\u001b[0m\n"
     ]
    },
    {
     "name": "stderr",
     "output_type": "stream",
     "text": [
      "Model Training:  33%|\u001b[38;2;0;153;255m███▎      \u001b[0m| 334/1000 [2:47:18<5:30:48, 29.80s/it]"
     ]
    },
    {
     "name": "stdout",
     "output_type": "stream",
     "text": [
      "\u001b[94m- Epoch: 334/1000\u001b[0m\n",
      "\u001b[31m- Train Loss: 0.164627817 | Validation Loss: 0.071447160\u001b[0m \u001b[32m| NMSE: -9.0894933\u001b[0m\n"
     ]
    },
    {
     "name": "stderr",
     "output_type": "stream",
     "text": [
      "Model Training:  34%|\u001b[38;2;0;153;255m███▎      \u001b[0m| 335/1000 [2:47:49<5:34:01, 30.14s/it]"
     ]
    },
    {
     "name": "stdout",
     "output_type": "stream",
     "text": [
      "\u001b[94m- Epoch: 335/1000\u001b[0m\n",
      "\u001b[31m- Train Loss: 0.193631985 | Validation Loss: 0.146360897\u001b[0m \u001b[32m| NMSE: -8.7780879\u001b[0m\n"
     ]
    },
    {
     "name": "stderr",
     "output_type": "stream",
     "text": [
      "Model Training:  34%|\u001b[38;2;0;153;255m███▎      \u001b[0m| 336/1000 [2:48:20<5:36:47, 30.43s/it]"
     ]
    },
    {
     "name": "stdout",
     "output_type": "stream",
     "text": [
      "\u001b[94m- Epoch: 336/1000\u001b[0m\n",
      "\u001b[31m- Train Loss: 0.166345092 | Validation Loss: 0.152343839\u001b[0m \u001b[32m| NMSE: -3.1683484\u001b[0m\n"
     ]
    },
    {
     "name": "stderr",
     "output_type": "stream",
     "text": [
      "Model Training:  34%|\u001b[38;2;0;153;255m███▎      \u001b[0m| 337/1000 [2:48:52<5:38:53, 30.67s/it]"
     ]
    },
    {
     "name": "stdout",
     "output_type": "stream",
     "text": [
      "\u001b[94m- Epoch: 337/1000\u001b[0m\n",
      "\u001b[31m- Train Loss: 0.171213981 | Validation Loss: 0.087866095\u001b[0m \u001b[32m| NMSE: 0.4774754\u001b[0m\n"
     ]
    },
    {
     "name": "stderr",
     "output_type": "stream",
     "text": [
      "Model Training:  34%|\u001b[38;2;0;153;255m███▍      \u001b[0m| 338/1000 [2:49:22<5:37:57, 30.63s/it]"
     ]
    },
    {
     "name": "stdout",
     "output_type": "stream",
     "text": [
      "\u001b[94m- Epoch: 338/1000\u001b[0m\n",
      "\u001b[31m- Train Loss: 0.155219262 | Validation Loss: 0.297360122\u001b[0m \u001b[32m| NMSE: -2.7802641\u001b[0m\n"
     ]
    },
    {
     "name": "stderr",
     "output_type": "stream",
     "text": [
      "Model Training:  34%|\u001b[38;2;0;153;255m███▍      \u001b[0m| 339/1000 [2:49:50<5:29:32, 29.91s/it]"
     ]
    },
    {
     "name": "stdout",
     "output_type": "stream",
     "text": [
      "\u001b[94m- Epoch: 339/1000\u001b[0m\n",
      "\u001b[31m- Train Loss: 0.176792714 | Validation Loss: 0.059600120\u001b[0m \u001b[32m| NMSE: -8.8743255\u001b[0m\n"
     ]
    },
    {
     "name": "stderr",
     "output_type": "stream",
     "text": [
      "Model Training:  34%|\u001b[38;2;0;153;255m███▍      \u001b[0m| 340/1000 [2:50:20<5:27:45, 29.80s/it]"
     ]
    },
    {
     "name": "stdout",
     "output_type": "stream",
     "text": [
      "\u001b[94m- Epoch: 340/1000\u001b[0m\n",
      "\u001b[31m- Train Loss: 0.165132107 | Validation Loss: 0.151941939\u001b[0m \u001b[32m| NMSE: -5.2545121\u001b[0m\n"
     ]
    },
    {
     "name": "stderr",
     "output_type": "stream",
     "text": [
      "Model Training:  34%|\u001b[38;2;0;153;255m███▍      \u001b[0m| 341/1000 [2:50:52<5:33:19, 30.35s/it]"
     ]
    },
    {
     "name": "stdout",
     "output_type": "stream",
     "text": [
      "\u001b[94m- Epoch: 341/1000\u001b[0m\n",
      "\u001b[31m- Train Loss: 0.179357401 | Validation Loss: 0.087986220\u001b[0m \u001b[32m| NMSE: -7.2708828\u001b[0m\n"
     ]
    },
    {
     "name": "stderr",
     "output_type": "stream",
     "text": [
      "Model Training:  34%|\u001b[38;2;0;153;255m███▍      \u001b[0m| 342/1000 [2:51:20<5:24:58, 29.63s/it]"
     ]
    },
    {
     "name": "stdout",
     "output_type": "stream",
     "text": [
      "\u001b[94m- Epoch: 342/1000\u001b[0m\n",
      "\u001b[31m- Train Loss: 0.161144706 | Validation Loss: 0.151018814\u001b[0m \u001b[32m| NMSE: -6.7811217\u001b[0m\n"
     ]
    },
    {
     "name": "stderr",
     "output_type": "stream",
     "text": [
      "Model Training:  34%|\u001b[38;2;0;153;255m███▍      \u001b[0m| 343/1000 [2:51:50<5:27:43, 29.93s/it]"
     ]
    },
    {
     "name": "stdout",
     "output_type": "stream",
     "text": [
      "\u001b[94m- Epoch: 343/1000\u001b[0m\n",
      "\u001b[31m- Train Loss: 0.140900701 | Validation Loss: 0.095626018\u001b[0m \u001b[32m| NMSE: -12.1728160\u001b[0m\n"
     ]
    },
    {
     "name": "stderr",
     "output_type": "stream",
     "text": [
      "Model Training:  34%|\u001b[38;2;0;153;255m███▍      \u001b[0m| 344/1000 [2:52:21<5:31:21, 30.31s/it]"
     ]
    },
    {
     "name": "stdout",
     "output_type": "stream",
     "text": [
      "\u001b[94m- Epoch: 344/1000\u001b[0m\n",
      "\u001b[31m- Train Loss: 0.162656650 | Validation Loss: 0.079458099\u001b[0m \u001b[32m| NMSE: -3.6767682\u001b[0m\n"
     ]
    },
    {
     "name": "stderr",
     "output_type": "stream",
     "text": [
      "Model Training:  34%|\u001b[38;2;0;153;255m███▍      \u001b[0m| 345/1000 [2:52:52<5:33:14, 30.53s/it]"
     ]
    },
    {
     "name": "stdout",
     "output_type": "stream",
     "text": [
      "\u001b[94m- Epoch: 345/1000\u001b[0m\n",
      "\u001b[31m- Train Loss: 0.169899466 | Validation Loss: 0.149977622\u001b[0m \u001b[32m| NMSE: -3.5277357\u001b[0m\n"
     ]
    },
    {
     "name": "stderr",
     "output_type": "stream",
     "text": [
      "Model Training:  35%|\u001b[38;2;0;153;255m███▍      \u001b[0m| 346/1000 [2:53:22<5:31:14, 30.39s/it]"
     ]
    },
    {
     "name": "stdout",
     "output_type": "stream",
     "text": [
      "\u001b[94m- Epoch: 346/1000\u001b[0m\n",
      "\u001b[31m- Train Loss: 0.148652438 | Validation Loss: 0.271897537\u001b[0m \u001b[32m| NMSE: -7.9133654\u001b[0m\n"
     ]
    },
    {
     "name": "stderr",
     "output_type": "stream",
     "text": [
      "Model Training:  35%|\u001b[38;2;0;153;255m███▍      \u001b[0m| 347/1000 [2:53:53<5:29:58, 30.32s/it]"
     ]
    },
    {
     "name": "stdout",
     "output_type": "stream",
     "text": [
      "\u001b[94m- Epoch: 347/1000\u001b[0m\n",
      "\u001b[31m- Train Loss: 0.167509150 | Validation Loss: 0.142889451\u001b[0m \u001b[32m| NMSE: -4.9400709\u001b[0m\n"
     ]
    },
    {
     "name": "stderr",
     "output_type": "stream",
     "text": [
      "Model Training:  35%|\u001b[38;2;0;153;255m███▍      \u001b[0m| 348/1000 [2:54:23<5:28:37, 30.24s/it]"
     ]
    },
    {
     "name": "stdout",
     "output_type": "stream",
     "text": [
      "\u001b[94m- Epoch: 348/1000\u001b[0m\n",
      "\u001b[31m- Train Loss: 0.163220503 | Validation Loss: 0.227968774\u001b[0m \u001b[32m| NMSE: -6.1167374\u001b[0m\n"
     ]
    },
    {
     "name": "stderr",
     "output_type": "stream",
     "text": [
      "Model Training:  35%|\u001b[38;2;0;153;255m███▍      \u001b[0m| 349/1000 [2:54:50<5:20:06, 29.50s/it]"
     ]
    },
    {
     "name": "stdout",
     "output_type": "stream",
     "text": [
      "\u001b[94m- Epoch: 349/1000\u001b[0m\n",
      "\u001b[31m- Train Loss: 0.152793681 | Validation Loss: 0.180256004\u001b[0m \u001b[32m| NMSE: -6.2035744\u001b[0m\n"
     ]
    },
    {
     "name": "stderr",
     "output_type": "stream",
     "text": [
      "Model Training:  35%|\u001b[38;2;0;153;255m███▌      \u001b[0m| 350/1000 [2:55:20<5:20:50, 29.62s/it]"
     ]
    },
    {
     "name": "stdout",
     "output_type": "stream",
     "text": [
      "\u001b[94m- Epoch: 350/1000\u001b[0m\n",
      "\u001b[31m- Train Loss: 0.168753950 | Validation Loss: 0.402443498\u001b[0m \u001b[32m| NMSE: -11.8336387\u001b[0m\n"
     ]
    },
    {
     "name": "stderr",
     "output_type": "stream",
     "text": [
      "Model Training:  35%|\u001b[38;2;0;153;255m███▌      \u001b[0m| 351/1000 [2:55:51<5:25:20, 30.08s/it]"
     ]
    },
    {
     "name": "stdout",
     "output_type": "stream",
     "text": [
      "\u001b[94m- Epoch: 351/1000\u001b[0m\n",
      "\u001b[31m- Train Loss: 0.175029555 | Validation Loss: 0.125586092\u001b[0m \u001b[32m| NMSE: 4.2592645\u001b[0m\n"
     ]
    },
    {
     "name": "stderr",
     "output_type": "stream",
     "text": [
      "Model Training:  35%|\u001b[38;2;0;153;255m███▌      \u001b[0m| 352/1000 [2:56:18<5:12:32, 28.94s/it]"
     ]
    },
    {
     "name": "stdout",
     "output_type": "stream",
     "text": [
      "\u001b[94m- Epoch: 352/1000\u001b[0m\n",
      "\u001b[31m- Train Loss: 0.161851966 | Validation Loss: 0.081391179\u001b[0m \u001b[32m| NMSE: -9.6240804\u001b[0m\n"
     ]
    },
    {
     "name": "stderr",
     "output_type": "stream",
     "text": [
      "Model Training:  35%|\u001b[38;2;0;153;255m███▌      \u001b[0m| 353/1000 [2:56:48<5:17:46, 29.47s/it]"
     ]
    },
    {
     "name": "stdout",
     "output_type": "stream",
     "text": [
      "\u001b[94m- Epoch: 353/1000\u001b[0m\n",
      "\u001b[31m- Train Loss: 0.160136536 | Validation Loss: 0.387472637\u001b[0m \u001b[32m| NMSE: -8.7875473\u001b[0m\n"
     ]
    },
    {
     "name": "stderr",
     "output_type": "stream",
     "text": [
      "Model Training:  35%|\u001b[38;2;0;153;255m███▌      \u001b[0m| 354/1000 [2:57:20<5:22:33, 29.96s/it]"
     ]
    },
    {
     "name": "stdout",
     "output_type": "stream",
     "text": [
      "\u001b[94m- Epoch: 354/1000\u001b[0m\n",
      "\u001b[31m- Train Loss: 0.175202756 | Validation Loss: 0.193162305\u001b[0m \u001b[32m| NMSE: -8.7652979\u001b[0m\n"
     ]
    },
    {
     "name": "stderr",
     "output_type": "stream",
     "text": [
      "Model Training:  36%|\u001b[38;2;0;153;255m███▌      \u001b[0m| 355/1000 [2:57:51<5:27:13, 30.44s/it]"
     ]
    },
    {
     "name": "stdout",
     "output_type": "stream",
     "text": [
      "\u001b[94m- Epoch: 355/1000\u001b[0m\n",
      "\u001b[31m- Train Loss: 0.181674973 | Validation Loss: 0.194401208\u001b[0m \u001b[32m| NMSE: -6.3153529\u001b[0m\n"
     ]
    },
    {
     "name": "stderr",
     "output_type": "stream",
     "text": [
      "Model Training:  36%|\u001b[38;2;0;153;255m███▌      \u001b[0m| 356/1000 [2:58:21<5:25:14, 30.30s/it]"
     ]
    },
    {
     "name": "stdout",
     "output_type": "stream",
     "text": [
      "\u001b[94m- Epoch: 356/1000\u001b[0m\n",
      "\u001b[31m- Train Loss: 0.173638498 | Validation Loss: 0.120487151\u001b[0m \u001b[32m| NMSE: -4.4041908\u001b[0m\n"
     ]
    },
    {
     "name": "stderr",
     "output_type": "stream",
     "text": [
      "Model Training:  36%|\u001b[38;2;0;153;255m███▌      \u001b[0m| 357/1000 [2:58:51<5:25:02, 30.33s/it]"
     ]
    },
    {
     "name": "stdout",
     "output_type": "stream",
     "text": [
      "\u001b[94m- Epoch: 357/1000\u001b[0m\n",
      "\u001b[31m- Train Loss: 0.187355605 | Validation Loss: 0.143900874\u001b[0m \u001b[32m| NMSE: -6.0392928\u001b[0m\n"
     ]
    },
    {
     "name": "stderr",
     "output_type": "stream",
     "text": [
      "Model Training:  36%|\u001b[38;2;0;153;255m███▌      \u001b[0m| 358/1000 [2:59:22<5:24:32, 30.33s/it]"
     ]
    },
    {
     "name": "stdout",
     "output_type": "stream",
     "text": [
      "\u001b[94m- Epoch: 358/1000\u001b[0m\n",
      "\u001b[31m- Train Loss: 0.167212851 | Validation Loss: 0.152263571\u001b[0m \u001b[32m| NMSE: 5.6899660\u001b[0m\n"
     ]
    },
    {
     "name": "stderr",
     "output_type": "stream",
     "text": [
      "Model Training:  36%|\u001b[38;2;0;153;255m███▌      \u001b[0m| 359/1000 [2:59:49<5:15:15, 29.51s/it]"
     ]
    },
    {
     "name": "stdout",
     "output_type": "stream",
     "text": [
      "\u001b[94m- Epoch: 359/1000\u001b[0m\n",
      "\u001b[31m- Train Loss: 0.170028411 | Validation Loss: 0.125027737\u001b[0m \u001b[32m| NMSE: -5.9057800\u001b[0m\n"
     ]
    },
    {
     "name": "stderr",
     "output_type": "stream",
     "text": [
      "Model Training:  36%|\u001b[38;2;0;153;255m███▌      \u001b[0m| 360/1000 [3:00:19<5:16:28, 29.67s/it]"
     ]
    },
    {
     "name": "stdout",
     "output_type": "stream",
     "text": [
      "\u001b[94m- Epoch: 360/1000\u001b[0m\n",
      "\u001b[31m- Train Loss: 0.162984115 | Validation Loss: 0.160077193\u001b[0m \u001b[32m| NMSE: -7.5628192\u001b[0m\n"
     ]
    },
    {
     "name": "stderr",
     "output_type": "stream",
     "text": [
      "Model Training:  36%|\u001b[38;2;0;153;255m███▌      \u001b[0m| 361/1000 [3:00:49<5:16:44, 29.74s/it]"
     ]
    },
    {
     "name": "stdout",
     "output_type": "stream",
     "text": [
      "\u001b[94m- Epoch: 361/1000\u001b[0m\n",
      "\u001b[31m- Train Loss: 0.161256440 | Validation Loss: 0.197577228\u001b[0m \u001b[32m| NMSE: -1.8242565\u001b[0m\n"
     ]
    },
    {
     "name": "stderr",
     "output_type": "stream",
     "text": [
      "Model Training:  36%|\u001b[38;2;0;153;255m███▌      \u001b[0m| 362/1000 [3:01:17<5:09:25, 29.10s/it]"
     ]
    },
    {
     "name": "stdout",
     "output_type": "stream",
     "text": [
      "\u001b[94m- Epoch: 362/1000\u001b[0m\n",
      "\u001b[31m- Train Loss: 0.166749365 | Validation Loss: 0.139827768\u001b[0m \u001b[32m| NMSE: -4.3694265\u001b[0m\n"
     ]
    },
    {
     "name": "stderr",
     "output_type": "stream",
     "text": [
      "Model Training:  36%|\u001b[38;2;0;153;255m███▋      \u001b[0m| 363/1000 [3:01:47<5:11:12, 29.31s/it]"
     ]
    },
    {
     "name": "stdout",
     "output_type": "stream",
     "text": [
      "\u001b[94m- Epoch: 363/1000\u001b[0m\n",
      "\u001b[31m- Train Loss: 0.155078101 | Validation Loss: 0.391872977\u001b[0m \u001b[32m| NMSE: -3.1163678\u001b[0m\n"
     ]
    },
    {
     "name": "stderr",
     "output_type": "stream",
     "text": [
      "Model Training:  36%|\u001b[38;2;0;153;255m███▋      \u001b[0m| 364/1000 [3:02:17<5:15:10, 29.73s/it]"
     ]
    },
    {
     "name": "stdout",
     "output_type": "stream",
     "text": [
      "\u001b[94m- Epoch: 364/1000\u001b[0m\n",
      "\u001b[31m- Train Loss: 0.163126519 | Validation Loss: 0.224927520\u001b[0m \u001b[32m| NMSE: -3.4161114\u001b[0m\n"
     ]
    },
    {
     "name": "stderr",
     "output_type": "stream",
     "text": [
      "Model Training:  36%|\u001b[38;2;0;153;255m███▋      \u001b[0m| 365/1000 [3:02:48<5:16:29, 29.90s/it]"
     ]
    },
    {
     "name": "stdout",
     "output_type": "stream",
     "text": [
      "\u001b[94m- Epoch: 365/1000\u001b[0m\n",
      "\u001b[31m- Train Loss: 0.159647310 | Validation Loss: 0.206703944\u001b[0m \u001b[32m| NMSE: -4.8790665\u001b[0m\n"
     ]
    },
    {
     "name": "stderr",
     "output_type": "stream",
     "text": [
      "Model Training:  37%|\u001b[38;2;0;153;255m███▋      \u001b[0m| 366/1000 [3:03:19<5:20:09, 30.30s/it]"
     ]
    },
    {
     "name": "stdout",
     "output_type": "stream",
     "text": [
      "\u001b[94m- Epoch: 366/1000\u001b[0m\n",
      "\u001b[31m- Train Loss: 0.177277260 | Validation Loss: 0.260425258\u001b[0m \u001b[32m| NMSE: -11.2304595\u001b[0m\n"
     ]
    },
    {
     "name": "stderr",
     "output_type": "stream",
     "text": [
      "Model Training:  37%|\u001b[38;2;0;153;255m███▋      \u001b[0m| 367/1000 [3:03:50<5:22:37, 30.58s/it]"
     ]
    },
    {
     "name": "stdout",
     "output_type": "stream",
     "text": [
      "\u001b[94m- Epoch: 367/1000\u001b[0m\n",
      "\u001b[31m- Train Loss: 0.174089256 | Validation Loss: 0.239712581\u001b[0m \u001b[32m| NMSE: -4.7854364\u001b[0m\n"
     ]
    },
    {
     "name": "stderr",
     "output_type": "stream",
     "text": [
      "Model Training:  37%|\u001b[38;2;0;153;255m███▋      \u001b[0m| 368/1000 [3:04:20<5:19:50, 30.36s/it]"
     ]
    },
    {
     "name": "stdout",
     "output_type": "stream",
     "text": [
      "\u001b[94m- Epoch: 368/1000\u001b[0m\n",
      "\u001b[31m- Train Loss: 0.174722634 | Validation Loss: 0.097273322\u001b[0m \u001b[32m| NMSE: -3.4408534\u001b[0m\n"
     ]
    },
    {
     "name": "stderr",
     "output_type": "stream",
     "text": [
      "Model Training:  37%|\u001b[38;2;0;153;255m███▋      \u001b[0m| 369/1000 [3:04:48<5:11:28, 29.62s/it]"
     ]
    },
    {
     "name": "stdout",
     "output_type": "stream",
     "text": [
      "\u001b[94m- Epoch: 369/1000\u001b[0m\n",
      "\u001b[31m- Train Loss: 0.180653319 | Validation Loss: 0.110185723\u001b[0m \u001b[32m| NMSE: -7.3676658\u001b[0m\n"
     ]
    },
    {
     "name": "stderr",
     "output_type": "stream",
     "text": [
      "Model Training:  37%|\u001b[38;2;0;153;255m███▋      \u001b[0m| 370/1000 [3:05:18<5:13:44, 29.88s/it]"
     ]
    },
    {
     "name": "stdout",
     "output_type": "stream",
     "text": [
      "\u001b[94m- Epoch: 370/1000\u001b[0m\n",
      "\u001b[31m- Train Loss: 0.159459507 | Validation Loss: 0.134840685\u001b[0m \u001b[32m| NMSE: -3.0946478\u001b[0m\n"
     ]
    },
    {
     "name": "stderr",
     "output_type": "stream",
     "text": [
      "Model Training:  37%|\u001b[38;2;0;153;255m███▋      \u001b[0m| 371/1000 [3:05:48<5:13:14, 29.88s/it]"
     ]
    },
    {
     "name": "stdout",
     "output_type": "stream",
     "text": [
      "\u001b[94m- Epoch: 371/1000\u001b[0m\n",
      "\u001b[31m- Train Loss: 0.189291050 | Validation Loss: 0.087349092\u001b[0m \u001b[32m| NMSE: -5.5084398\u001b[0m\n"
     ]
    },
    {
     "name": "stderr",
     "output_type": "stream",
     "text": [
      "Model Training:  37%|\u001b[38;2;0;153;255m███▋      \u001b[0m| 372/1000 [3:06:15<5:02:59, 28.95s/it]"
     ]
    },
    {
     "name": "stdout",
     "output_type": "stream",
     "text": [
      "\u001b[94m- Epoch: 372/1000\u001b[0m\n",
      "\u001b[31m- Train Loss: 0.158505337 | Validation Loss: 0.134073411\u001b[0m \u001b[32m| NMSE: -4.3663783\u001b[0m\n"
     ]
    },
    {
     "name": "stderr",
     "output_type": "stream",
     "text": [
      "Model Training:  37%|\u001b[38;2;0;153;255m███▋      \u001b[0m| 373/1000 [3:06:45<5:06:08, 29.30s/it]"
     ]
    },
    {
     "name": "stdout",
     "output_type": "stream",
     "text": [
      "\u001b[94m- Epoch: 373/1000\u001b[0m\n",
      "\u001b[31m- Train Loss: 0.164490625 | Validation Loss: 0.411476741\u001b[0m \u001b[32m| NMSE: 4.5490946\u001b[0m\n"
     ]
    },
    {
     "name": "stderr",
     "output_type": "stream",
     "text": [
      "Model Training:  37%|\u001b[38;2;0;153;255m███▋      \u001b[0m| 374/1000 [3:07:15<5:07:30, 29.47s/it]"
     ]
    },
    {
     "name": "stdout",
     "output_type": "stream",
     "text": [
      "\u001b[94m- Epoch: 374/1000\u001b[0m\n",
      "\u001b[31m- Train Loss: 0.190431473 | Validation Loss: 0.143972819\u001b[0m \u001b[32m| NMSE: 4.3306112\u001b[0m\n"
     ]
    },
    {
     "name": "stderr",
     "output_type": "stream",
     "text": [
      "Model Training:  38%|\u001b[38;2;0;153;255m███▊      \u001b[0m| 375/1000 [3:07:46<5:11:35, 29.91s/it]"
     ]
    },
    {
     "name": "stdout",
     "output_type": "stream",
     "text": [
      "\u001b[94m- Epoch: 375/1000\u001b[0m\n",
      "\u001b[31m- Train Loss: 0.152937065 | Validation Loss: 0.223550553\u001b[0m \u001b[32m| NMSE: -3.7080655\u001b[0m\n"
     ]
    },
    {
     "name": "stderr",
     "output_type": "stream",
     "text": [
      "Model Training:  38%|\u001b[38;2;0;153;255m███▊      \u001b[0m| 376/1000 [3:08:18<5:16:19, 30.42s/it]"
     ]
    },
    {
     "name": "stdout",
     "output_type": "stream",
     "text": [
      "\u001b[94m- Epoch: 376/1000\u001b[0m\n",
      "\u001b[31m- Train Loss: 0.156454773 | Validation Loss: 0.124015768\u001b[0m \u001b[32m| NMSE: 2.7377617\u001b[0m\n"
     ]
    },
    {
     "name": "stderr",
     "output_type": "stream",
     "text": [
      "Model Training:  38%|\u001b[38;2;0;153;255m███▊      \u001b[0m| 377/1000 [3:08:48<5:14:33, 30.29s/it]"
     ]
    },
    {
     "name": "stdout",
     "output_type": "stream",
     "text": [
      "\u001b[94m- Epoch: 377/1000\u001b[0m\n",
      "\u001b[31m- Train Loss: 0.162069380 | Validation Loss: 0.227600177\u001b[0m \u001b[32m| NMSE: -2.6655023\u001b[0m\n"
     ]
    },
    {
     "name": "stderr",
     "output_type": "stream",
     "text": [
      "Model Training:  38%|\u001b[38;2;0;153;255m███▊      \u001b[0m| 378/1000 [3:09:17<5:10:57, 30.00s/it]"
     ]
    },
    {
     "name": "stdout",
     "output_type": "stream",
     "text": [
      "\u001b[94m- Epoch: 378/1000\u001b[0m\n",
      "\u001b[31m- Train Loss: 0.153227692 | Validation Loss: 0.142693235\u001b[0m \u001b[32m| NMSE: -12.7978313\u001b[0m\n"
     ]
    },
    {
     "name": "stderr",
     "output_type": "stream",
     "text": [
      "Model Training:  38%|\u001b[38;2;0;153;255m███▊      \u001b[0m| 379/1000 [3:09:45<5:04:48, 29.45s/it]"
     ]
    },
    {
     "name": "stdout",
     "output_type": "stream",
     "text": [
      "\u001b[94m- Epoch: 379/1000\u001b[0m\n",
      "\u001b[31m- Train Loss: 0.165626618 | Validation Loss: 0.191137335\u001b[0m \u001b[32m| NMSE: 0.2104201\u001b[0m\n"
     ]
    },
    {
     "name": "stderr",
     "output_type": "stream",
     "text": [
      "Model Training:  38%|\u001b[38;2;0;153;255m███▊      \u001b[0m| 380/1000 [3:10:15<5:06:33, 29.67s/it]"
     ]
    },
    {
     "name": "stdout",
     "output_type": "stream",
     "text": [
      "\u001b[94m- Epoch: 380/1000\u001b[0m\n",
      "\u001b[31m- Train Loss: 0.173866802 | Validation Loss: 0.336974877\u001b[0m \u001b[32m| NMSE: -5.1248391\u001b[0m\n"
     ]
    },
    {
     "name": "stderr",
     "output_type": "stream",
     "text": [
      "Model Training:  38%|\u001b[38;2;0;153;255m███▊      \u001b[0m| 381/1000 [3:10:44<5:04:23, 29.50s/it]"
     ]
    },
    {
     "name": "stdout",
     "output_type": "stream",
     "text": [
      "\u001b[94m- Epoch: 381/1000\u001b[0m\n",
      "\u001b[31m- Train Loss: 0.162646003 | Validation Loss: 0.270444113\u001b[0m \u001b[32m| NMSE: -4.2122576\u001b[0m\n"
     ]
    },
    {
     "name": "stderr",
     "output_type": "stream",
     "text": [
      "Model Training:  38%|\u001b[38;2;0;153;255m███▊      \u001b[0m| 382/1000 [3:11:13<5:00:45, 29.20s/it]"
     ]
    },
    {
     "name": "stdout",
     "output_type": "stream",
     "text": [
      "\u001b[94m- Epoch: 382/1000\u001b[0m\n",
      "\u001b[31m- Train Loss: 0.148348400 | Validation Loss: 0.196379639\u001b[0m \u001b[32m| NMSE: -6.8669919\u001b[0m\n"
     ]
    },
    {
     "name": "stderr",
     "output_type": "stream",
     "text": [
      "Model Training:  38%|\u001b[38;2;0;153;255m███▊      \u001b[0m| 383/1000 [3:11:43<5:02:35, 29.43s/it]"
     ]
    },
    {
     "name": "stdout",
     "output_type": "stream",
     "text": [
      "\u001b[94m- Epoch: 383/1000\u001b[0m\n",
      "\u001b[31m- Train Loss: 0.187060190 | Validation Loss: 0.113786794\u001b[0m \u001b[32m| NMSE: -1.1345190\u001b[0m\n"
     ]
    },
    {
     "name": "stderr",
     "output_type": "stream",
     "text": [
      "Model Training:  38%|\u001b[38;2;0;153;255m███▊      \u001b[0m| 384/1000 [3:12:13<5:04:47, 29.69s/it]"
     ]
    },
    {
     "name": "stdout",
     "output_type": "stream",
     "text": [
      "\u001b[94m- Epoch: 384/1000\u001b[0m\n",
      "\u001b[31m- Train Loss: 0.188183392 | Validation Loss: 0.153085080\u001b[0m \u001b[32m| NMSE: -6.3704605\u001b[0m\n"
     ]
    },
    {
     "name": "stderr",
     "output_type": "stream",
     "text": [
      "Model Training:  38%|\u001b[38;2;0;153;255m███▊      \u001b[0m| 385/1000 [3:12:43<5:06:02, 29.86s/it]"
     ]
    },
    {
     "name": "stdout",
     "output_type": "stream",
     "text": [
      "\u001b[94m- Epoch: 385/1000\u001b[0m\n",
      "\u001b[31m- Train Loss: 0.178146945 | Validation Loss: 0.237417933\u001b[0m \u001b[32m| NMSE: -6.8750582\u001b[0m\n"
     ]
    },
    {
     "name": "stderr",
     "output_type": "stream",
     "text": [
      "Model Training:  39%|\u001b[38;2;0;153;255m███▊      \u001b[0m| 386/1000 [3:13:14<5:08:25, 30.14s/it]"
     ]
    },
    {
     "name": "stdout",
     "output_type": "stream",
     "text": [
      "\u001b[94m- Epoch: 386/1000\u001b[0m\n",
      "\u001b[31m- Train Loss: 0.175537699 | Validation Loss: 0.160913449\u001b[0m \u001b[32m| NMSE: -7.2050958\u001b[0m\n"
     ]
    },
    {
     "name": "stderr",
     "output_type": "stream",
     "text": [
      "Model Training:  39%|\u001b[38;2;0;153;255m███▊      \u001b[0m| 387/1000 [3:13:46<5:12:34, 30.59s/it]"
     ]
    },
    {
     "name": "stdout",
     "output_type": "stream",
     "text": [
      "\u001b[94m- Epoch: 387/1000\u001b[0m\n",
      "\u001b[31m- Train Loss: 0.148457155 | Validation Loss: 0.090542634\u001b[0m \u001b[32m| NMSE: -7.1836812\u001b[0m\n"
     ]
    },
    {
     "name": "stderr",
     "output_type": "stream",
     "text": [
      "Model Training:  39%|\u001b[38;2;0;153;255m███▉      \u001b[0m| 388/1000 [3:14:15<5:08:54, 30.29s/it]"
     ]
    },
    {
     "name": "stdout",
     "output_type": "stream",
     "text": [
      "\u001b[94m- Epoch: 388/1000\u001b[0m\n",
      "\u001b[31m- Train Loss: 0.174256992 | Validation Loss: 0.136975028\u001b[0m \u001b[32m| NMSE: -3.1713576\u001b[0m\n"
     ]
    },
    {
     "name": "stderr",
     "output_type": "stream",
     "text": [
      "Model Training:  39%|\u001b[38;2;0;153;255m███▉      \u001b[0m| 389/1000 [3:14:44<5:04:11, 29.87s/it]"
     ]
    },
    {
     "name": "stdout",
     "output_type": "stream",
     "text": [
      "\u001b[94m- Epoch: 389/1000\u001b[0m\n",
      "\u001b[31m- Train Loss: 0.154592128 | Validation Loss: 0.185561175\u001b[0m \u001b[32m| NMSE: -2.4382644\u001b[0m\n"
     ]
    },
    {
     "name": "stderr",
     "output_type": "stream",
     "text": [
      "Model Training:  39%|\u001b[38;2;0;153;255m███▉      \u001b[0m| 390/1000 [3:15:16<5:08:22, 30.33s/it]"
     ]
    },
    {
     "name": "stdout",
     "output_type": "stream",
     "text": [
      "\u001b[94m- Epoch: 390/1000\u001b[0m\n",
      "\u001b[31m- Train Loss: 0.165348413 | Validation Loss: 0.093633076\u001b[0m \u001b[32m| NMSE: -5.2021928\u001b[0m\n"
     ]
    },
    {
     "name": "stderr",
     "output_type": "stream",
     "text": [
      "Model Training:  39%|\u001b[38;2;0;153;255m███▉      \u001b[0m| 391/1000 [3:15:45<5:05:31, 30.10s/it]"
     ]
    },
    {
     "name": "stdout",
     "output_type": "stream",
     "text": [
      "\u001b[94m- Epoch: 391/1000\u001b[0m\n",
      "\u001b[31m- Train Loss: 0.170258728 | Validation Loss: 0.042891437\u001b[0m \u001b[32m| NMSE: -3.8030233\u001b[0m\n"
     ]
    },
    {
     "name": "stderr",
     "output_type": "stream",
     "text": [
      "Model Training:  39%|\u001b[38;2;0;153;255m███▉      \u001b[0m| 392/1000 [3:16:13<4:57:53, 29.40s/it]"
     ]
    },
    {
     "name": "stdout",
     "output_type": "stream",
     "text": [
      "\u001b[94m- Epoch: 392/1000\u001b[0m\n",
      "\u001b[31m- Train Loss: 0.172694336 | Validation Loss: 0.122233907\u001b[0m \u001b[32m| NMSE: 3.0673325\u001b[0m\n"
     ]
    },
    {
     "name": "stderr",
     "output_type": "stream",
     "text": [
      "Model Training:  39%|\u001b[38;2;0;153;255m███▉      \u001b[0m| 393/1000 [3:16:44<5:01:29, 29.80s/it]"
     ]
    },
    {
     "name": "stdout",
     "output_type": "stream",
     "text": [
      "\u001b[94m- Epoch: 393/1000\u001b[0m\n",
      "\u001b[31m- Train Loss: 0.177535192 | Validation Loss: 0.166417030\u001b[0m \u001b[32m| NMSE: -0.6933808\u001b[0m\n"
     ]
    },
    {
     "name": "stderr",
     "output_type": "stream",
     "text": [
      "Model Training:  39%|\u001b[38;2;0;153;255m███▉      \u001b[0m| 394/1000 [3:17:15<5:04:55, 30.19s/it]"
     ]
    },
    {
     "name": "stdout",
     "output_type": "stream",
     "text": [
      "\u001b[94m- Epoch: 394/1000\u001b[0m\n",
      "\u001b[31m- Train Loss: 0.156293014 | Validation Loss: 0.069004972\u001b[0m \u001b[32m| NMSE: 0.3842587\u001b[0m\n"
     ]
    },
    {
     "name": "stderr",
     "output_type": "stream",
     "text": [
      "Model Training:  40%|\u001b[38;2;0;153;255m███▉      \u001b[0m| 395/1000 [3:17:46<5:07:05, 30.46s/it]"
     ]
    },
    {
     "name": "stdout",
     "output_type": "stream",
     "text": [
      "\u001b[94m- Epoch: 395/1000\u001b[0m\n",
      "\u001b[31m- Train Loss: 0.189356444 | Validation Loss: 0.264657120\u001b[0m \u001b[32m| NMSE: -4.7411994\u001b[0m\n"
     ]
    },
    {
     "name": "stderr",
     "output_type": "stream",
     "text": [
      "Model Training:  40%|\u001b[38;2;0;153;255m███▉      \u001b[0m| 396/1000 [3:18:17<5:07:12, 30.52s/it]"
     ]
    },
    {
     "name": "stdout",
     "output_type": "stream",
     "text": [
      "\u001b[94m- Epoch: 396/1000\u001b[0m\n",
      "\u001b[31m- Train Loss: 0.159400956 | Validation Loss: 0.105888863\u001b[0m \u001b[32m| NMSE: -5.2084930\u001b[0m\n"
     ]
    },
    {
     "name": "stderr",
     "output_type": "stream",
     "text": [
      "Model Training:  40%|\u001b[38;2;0;153;255m███▉      \u001b[0m| 397/1000 [3:18:47<5:06:26, 30.49s/it]"
     ]
    },
    {
     "name": "stdout",
     "output_type": "stream",
     "text": [
      "\u001b[94m- Epoch: 397/1000\u001b[0m\n",
      "\u001b[31m- Train Loss: 0.135162045 | Validation Loss: 0.045606255\u001b[0m \u001b[32m| NMSE: 1.5062310\u001b[0m\n"
     ]
    },
    {
     "name": "stderr",
     "output_type": "stream",
     "text": [
      "Model Training:  40%|\u001b[38;2;0;153;255m███▉      \u001b[0m| 398/1000 [3:19:16<5:01:09, 30.02s/it]"
     ]
    },
    {
     "name": "stdout",
     "output_type": "stream",
     "text": [
      "\u001b[94m- Epoch: 398/1000\u001b[0m\n",
      "\u001b[31m- Train Loss: 0.160059384 | Validation Loss: 0.360344524\u001b[0m \u001b[32m| NMSE: -1.1673569\u001b[0m\n"
     ]
    },
    {
     "name": "stderr",
     "output_type": "stream",
     "text": [
      "Model Training:  40%|\u001b[38;2;0;153;255m███▉      \u001b[0m| 399/1000 [3:19:45<4:57:59, 29.75s/it]"
     ]
    },
    {
     "name": "stdout",
     "output_type": "stream",
     "text": [
      "\u001b[94m- Epoch: 399/1000\u001b[0m\n",
      "\u001b[31m- Train Loss: 0.170009154 | Validation Loss: 0.134281264\u001b[0m \u001b[32m| NMSE: -10.9185143\u001b[0m\n"
     ]
    },
    {
     "name": "stderr",
     "output_type": "stream",
     "text": [
      "Model Training:  40%|\u001b[38;2;0;153;255m████      \u001b[0m| 400/1000 [3:20:16<5:02:13, 30.22s/it]"
     ]
    },
    {
     "name": "stdout",
     "output_type": "stream",
     "text": [
      "\u001b[94m- Epoch: 400/1000\u001b[0m\n",
      "\u001b[31m- Train Loss: 0.206661375 | Validation Loss: 0.072048208\u001b[0m \u001b[32m| NMSE: -4.9896136\u001b[0m\n"
     ]
    },
    {
     "name": "stderr",
     "output_type": "stream",
     "text": [
      "Model Training:  40%|\u001b[38;2;0;153;255m████      \u001b[0m| 401/1000 [3:20:45<4:57:35, 29.81s/it]"
     ]
    },
    {
     "name": "stdout",
     "output_type": "stream",
     "text": [
      "\u001b[94m- Epoch: 401/1000\u001b[0m\n",
      "\u001b[31m- Train Loss: 0.162600198 | Validation Loss: 0.174887729\u001b[0m \u001b[32m| NMSE: 1.5507715\u001b[0m\n"
     ]
    },
    {
     "name": "stderr",
     "output_type": "stream",
     "text": [
      "Model Training:  40%|\u001b[38;2;0;153;255m████      \u001b[0m| 402/1000 [3:21:15<4:57:04, 29.81s/it]"
     ]
    },
    {
     "name": "stdout",
     "output_type": "stream",
     "text": [
      "\u001b[94m- Epoch: 402/1000\u001b[0m\n",
      "\u001b[31m- Train Loss: 0.160155275 | Validation Loss: 0.161710286\u001b[0m \u001b[32m| NMSE: -10.6343927\u001b[0m\n"
     ]
    },
    {
     "name": "stderr",
     "output_type": "stream",
     "text": [
      "Model Training:  40%|\u001b[38;2;0;153;255m████      \u001b[0m| 403/1000 [3:21:46<4:58:57, 30.05s/it]"
     ]
    },
    {
     "name": "stdout",
     "output_type": "stream",
     "text": [
      "\u001b[94m- Epoch: 403/1000\u001b[0m\n",
      "\u001b[31m- Train Loss: 0.187000009 | Validation Loss: 0.201564172\u001b[0m \u001b[32m| NMSE: -5.5836122\u001b[0m\n"
     ]
    },
    {
     "name": "stderr",
     "output_type": "stream",
     "text": [
      "Model Training:  40%|\u001b[38;2;0;153;255m████      \u001b[0m| 404/1000 [3:22:17<5:01:36, 30.36s/it]"
     ]
    },
    {
     "name": "stdout",
     "output_type": "stream",
     "text": [
      "\u001b[94m- Epoch: 404/1000\u001b[0m\n",
      "\u001b[31m- Train Loss: 0.151207307 | Validation Loss: 0.082749962\u001b[0m \u001b[32m| NMSE: -0.1295878\u001b[0m\n"
     ]
    },
    {
     "name": "stderr",
     "output_type": "stream",
     "text": [
      "Model Training:  40%|\u001b[38;2;0;153;255m████      \u001b[0m| 405/1000 [3:22:48<5:03:04, 30.56s/it]"
     ]
    },
    {
     "name": "stdout",
     "output_type": "stream",
     "text": [
      "\u001b[94m- Epoch: 405/1000\u001b[0m\n",
      "\u001b[31m- Train Loss: 0.176462239 | Validation Loss: 0.371980503\u001b[0m \u001b[32m| NMSE: 3.3740247\u001b[0m\n"
     ]
    },
    {
     "name": "stderr",
     "output_type": "stream",
     "text": [
      "Model Training:  41%|\u001b[38;2;0;153;255m████      \u001b[0m| 406/1000 [3:23:18<5:02:24, 30.55s/it]"
     ]
    },
    {
     "name": "stdout",
     "output_type": "stream",
     "text": [
      "\u001b[94m- Epoch: 406/1000\u001b[0m\n",
      "\u001b[31m- Train Loss: 0.168660732 | Validation Loss: 0.195480252\u001b[0m \u001b[32m| NMSE: -9.5339315\u001b[0m\n"
     ]
    },
    {
     "name": "stderr",
     "output_type": "stream",
     "text": [
      "Model Training:  41%|\u001b[38;2;0;153;255m████      \u001b[0m| 407/1000 [3:23:49<5:02:55, 30.65s/it]"
     ]
    },
    {
     "name": "stdout",
     "output_type": "stream",
     "text": [
      "\u001b[94m- Epoch: 407/1000\u001b[0m\n",
      "\u001b[31m- Train Loss: 0.170463487 | Validation Loss: 0.138800964\u001b[0m \u001b[32m| NMSE: -3.2165995\u001b[0m\n"
     ]
    },
    {
     "name": "stderr",
     "output_type": "stream",
     "text": [
      "Model Training:  41%|\u001b[38;2;0;153;255m████      \u001b[0m| 408/1000 [3:24:18<4:57:06, 30.11s/it]"
     ]
    },
    {
     "name": "stdout",
     "output_type": "stream",
     "text": [
      "\u001b[94m- Epoch: 408/1000\u001b[0m\n",
      "\u001b[31m- Train Loss: 0.180527629 | Validation Loss: 0.177195616\u001b[0m \u001b[32m| NMSE: -4.9900124\u001b[0m\n"
     ]
    },
    {
     "name": "stderr",
     "output_type": "stream",
     "text": [
      "Model Training:  41%|\u001b[38;2;0;153;255m████      \u001b[0m| 409/1000 [3:24:48<4:55:30, 30.00s/it]"
     ]
    },
    {
     "name": "stdout",
     "output_type": "stream",
     "text": [
      "\u001b[94m- Epoch: 409/1000\u001b[0m\n",
      "\u001b[31m- Train Loss: 0.156848084 | Validation Loss: 0.302277217\u001b[0m \u001b[32m| NMSE: -0.9501843\u001b[0m\n"
     ]
    },
    {
     "name": "stderr",
     "output_type": "stream",
     "text": [
      "Model Training:  41%|\u001b[38;2;0;153;255m████      \u001b[0m| 410/1000 [3:25:18<4:55:55, 30.09s/it]"
     ]
    },
    {
     "name": "stdout",
     "output_type": "stream",
     "text": [
      "\u001b[94m- Epoch: 410/1000\u001b[0m\n",
      "\u001b[31m- Train Loss: 0.180455139 | Validation Loss: 0.160255448\u001b[0m \u001b[32m| NMSE: -5.8941896\u001b[0m\n"
     ]
    },
    {
     "name": "stderr",
     "output_type": "stream",
     "text": [
      "Model Training:  41%|\u001b[38;2;0;153;255m████      \u001b[0m| 411/1000 [3:25:46<4:49:35, 29.50s/it]"
     ]
    },
    {
     "name": "stdout",
     "output_type": "stream",
     "text": [
      "\u001b[94m- Epoch: 411/1000\u001b[0m\n",
      "\u001b[31m- Train Loss: 0.154938488 | Validation Loss: 0.124468415\u001b[0m \u001b[32m| NMSE: -2.4232793\u001b[0m\n"
     ]
    },
    {
     "name": "stderr",
     "output_type": "stream",
     "text": [
      "Model Training:  41%|\u001b[38;2;0;153;255m████      \u001b[0m| 412/1000 [3:26:15<4:47:39, 29.35s/it]"
     ]
    },
    {
     "name": "stdout",
     "output_type": "stream",
     "text": [
      "\u001b[94m- Epoch: 412/1000\u001b[0m\n",
      "\u001b[31m- Train Loss: 0.152102406 | Validation Loss: 0.133950292\u001b[0m \u001b[32m| NMSE: -11.7724471\u001b[0m\n"
     ]
    },
    {
     "name": "stderr",
     "output_type": "stream",
     "text": [
      "Model Training:  41%|\u001b[38;2;0;153;255m████▏     \u001b[0m| 413/1000 [3:26:45<4:48:18, 29.47s/it]"
     ]
    },
    {
     "name": "stdout",
     "output_type": "stream",
     "text": [
      "\u001b[94m- Epoch: 413/1000\u001b[0m\n",
      "\u001b[31m- Train Loss: 0.158991306 | Validation Loss: 0.120659867\u001b[0m \u001b[32m| NMSE: -5.7587607\u001b[0m\n"
     ]
    },
    {
     "name": "stderr",
     "output_type": "stream",
     "text": [
      "Model Training:  41%|\u001b[38;2;0;153;255m████▏     \u001b[0m| 414/1000 [3:27:15<4:50:25, 29.74s/it]"
     ]
    },
    {
     "name": "stdout",
     "output_type": "stream",
     "text": [
      "\u001b[94m- Epoch: 414/1000\u001b[0m\n",
      "\u001b[31m- Train Loss: 0.157867278 | Validation Loss: 0.389635220\u001b[0m \u001b[32m| NMSE: -5.8084028\u001b[0m\n"
     ]
    },
    {
     "name": "stderr",
     "output_type": "stream",
     "text": [
      "Model Training:  42%|\u001b[38;2;0;153;255m████▏     \u001b[0m| 415/1000 [3:27:46<4:53:21, 30.09s/it]"
     ]
    },
    {
     "name": "stdout",
     "output_type": "stream",
     "text": [
      "\u001b[94m- Epoch: 415/1000\u001b[0m\n",
      "\u001b[31m- Train Loss: 0.162644260 | Validation Loss: 0.153231215\u001b[0m \u001b[32m| NMSE: 0.9118600\u001b[0m\n"
     ]
    },
    {
     "name": "stderr",
     "output_type": "stream",
     "text": [
      "Model Training:  42%|\u001b[38;2;0;153;255m████▏     \u001b[0m| 416/1000 [3:28:18<4:56:18, 30.44s/it]"
     ]
    },
    {
     "name": "stdout",
     "output_type": "stream",
     "text": [
      "\u001b[94m- Epoch: 416/1000\u001b[0m\n",
      "\u001b[31m- Train Loss: 0.157906732 | Validation Loss: 0.141752511\u001b[0m \u001b[32m| NMSE: -12.0439305\u001b[0m\n"
     ]
    },
    {
     "name": "stderr",
     "output_type": "stream",
     "text": [
      "Model Training:  42%|\u001b[38;2;0;153;255m████▏     \u001b[0m| 417/1000 [3:28:49<4:58:21, 30.71s/it]"
     ]
    },
    {
     "name": "stdout",
     "output_type": "stream",
     "text": [
      "\u001b[94m- Epoch: 417/1000\u001b[0m\n",
      "\u001b[31m- Train Loss: 0.159834443 | Validation Loss: 0.085820461\u001b[0m \u001b[32m| NMSE: -18.7968035\u001b[0m\n"
     ]
    },
    {
     "name": "stderr",
     "output_type": "stream",
     "text": [
      "Model Training:  42%|\u001b[38;2;0;153;255m████▏     \u001b[0m| 418/1000 [3:29:17<4:50:05, 29.91s/it]"
     ]
    },
    {
     "name": "stdout",
     "output_type": "stream",
     "text": [
      "\u001b[94m- Epoch: 418/1000\u001b[0m\n",
      "\u001b[31m- Train Loss: 0.179776289 | Validation Loss: 0.126509112\u001b[0m \u001b[32m| NMSE: -2.4945284\u001b[0m\n"
     ]
    },
    {
     "name": "stderr",
     "output_type": "stream",
     "text": [
      "Model Training:  42%|\u001b[38;2;0;153;255m████▏     \u001b[0m| 419/1000 [3:29:47<4:50:31, 30.00s/it]"
     ]
    },
    {
     "name": "stdout",
     "output_type": "stream",
     "text": [
      "\u001b[94m- Epoch: 419/1000\u001b[0m\n",
      "\u001b[31m- Train Loss: 0.164955607 | Validation Loss: 0.281675597\u001b[0m \u001b[32m| NMSE: -5.6828089\u001b[0m\n"
     ]
    },
    {
     "name": "stderr",
     "output_type": "stream",
     "text": [
      "Model Training:  42%|\u001b[38;2;0;153;255m████▏     \u001b[0m| 420/1000 [3:30:17<4:49:12, 29.92s/it]"
     ]
    },
    {
     "name": "stdout",
     "output_type": "stream",
     "text": [
      "\u001b[94m- Epoch: 420/1000\u001b[0m\n",
      "\u001b[31m- Train Loss: 0.160074433 | Validation Loss: 0.147991086\u001b[0m \u001b[32m| NMSE: -5.8289924\u001b[0m\n"
     ]
    },
    {
     "name": "stderr",
     "output_type": "stream",
     "text": [
      "Model Training:  42%|\u001b[38;2;0;153;255m████▏     \u001b[0m| 421/1000 [3:30:44<4:41:41, 29.19s/it]"
     ]
    },
    {
     "name": "stdout",
     "output_type": "stream",
     "text": [
      "\u001b[94m- Epoch: 421/1000\u001b[0m\n",
      "\u001b[31m- Train Loss: 0.138069839 | Validation Loss: 0.136527412\u001b[0m \u001b[32m| NMSE: -8.7678313\u001b[0m\n"
     ]
    },
    {
     "name": "stderr",
     "output_type": "stream",
     "text": [
      "Model Training:  42%|\u001b[38;2;0;153;255m████▏     \u001b[0m| 422/1000 [3:31:15<4:46:30, 29.74s/it]"
     ]
    },
    {
     "name": "stdout",
     "output_type": "stream",
     "text": [
      "\u001b[94m- Epoch: 422/1000\u001b[0m\n",
      "\u001b[31m- Train Loss: 0.176728423 | Validation Loss: 0.163488895\u001b[0m \u001b[32m| NMSE: -4.4669313\u001b[0m\n"
     ]
    },
    {
     "name": "stderr",
     "output_type": "stream",
     "text": [
      "Model Training:  42%|\u001b[38;2;0;153;255m████▏     \u001b[0m| 423/1000 [3:31:46<4:47:51, 29.93s/it]"
     ]
    },
    {
     "name": "stdout",
     "output_type": "stream",
     "text": [
      "\u001b[94m- Epoch: 423/1000\u001b[0m\n",
      "\u001b[31m- Train Loss: 0.181949157 | Validation Loss: 0.160487473\u001b[0m \u001b[32m| NMSE: -0.7009142\u001b[0m\n"
     ]
    },
    {
     "name": "stderr",
     "output_type": "stream",
     "text": [
      "Model Training:  42%|\u001b[38;2;0;153;255m████▏     \u001b[0m| 424/1000 [3:32:17<4:51:10, 30.33s/it]"
     ]
    },
    {
     "name": "stdout",
     "output_type": "stream",
     "text": [
      "\u001b[94m- Epoch: 424/1000\u001b[0m\n",
      "\u001b[31m- Train Loss: 0.165043478 | Validation Loss: 0.225308537\u001b[0m \u001b[32m| NMSE: -0.0444763\u001b[0m\n"
     ]
    },
    {
     "name": "stderr",
     "output_type": "stream",
     "text": [
      "Model Training:  42%|\u001b[38;2;0;153;255m████▎     \u001b[0m| 425/1000 [3:32:48<4:51:23, 30.41s/it]"
     ]
    },
    {
     "name": "stdout",
     "output_type": "stream",
     "text": [
      "\u001b[94m- Epoch: 425/1000\u001b[0m\n",
      "\u001b[31m- Train Loss: 0.160595264 | Validation Loss: 0.126492620\u001b[0m \u001b[32m| NMSE: -3.3498861\u001b[0m\n"
     ]
    },
    {
     "name": "stderr",
     "output_type": "stream",
     "text": [
      "Model Training:  43%|\u001b[38;2;0;153;255m████▎     \u001b[0m| 426/1000 [3:33:19<4:54:19, 30.77s/it]"
     ]
    },
    {
     "name": "stdout",
     "output_type": "stream",
     "text": [
      "\u001b[94m- Epoch: 426/1000\u001b[0m\n",
      "\u001b[31m- Train Loss: 0.159946759 | Validation Loss: 0.035258913\u001b[0m \u001b[32m| NMSE: 6.8809077\u001b[0m\n"
     ]
    },
    {
     "name": "stderr",
     "output_type": "stream",
     "text": [
      "Model Training:  43%|\u001b[38;2;0;153;255m████▎     \u001b[0m| 427/1000 [3:33:49<4:52:09, 30.59s/it]"
     ]
    },
    {
     "name": "stdout",
     "output_type": "stream",
     "text": [
      "\u001b[94m- Epoch: 427/1000\u001b[0m\n",
      "\u001b[31m- Train Loss: 0.164177253 | Validation Loss: 0.183190753\u001b[0m \u001b[32m| NMSE: 1.2784755\u001b[0m\n"
     ]
    },
    {
     "name": "stderr",
     "output_type": "stream",
     "text": [
      "Model Training:  43%|\u001b[38;2;0;153;255m████▎     \u001b[0m| 428/1000 [3:34:18<4:45:13, 29.92s/it]"
     ]
    },
    {
     "name": "stdout",
     "output_type": "stream",
     "text": [
      "\u001b[94m- Epoch: 428/1000\u001b[0m\n",
      "\u001b[31m- Train Loss: 0.175014617 | Validation Loss: 0.074839583\u001b[0m \u001b[32m| NMSE: -11.7548614\u001b[0m\n"
     ]
    },
    {
     "name": "stderr",
     "output_type": "stream",
     "text": [
      "Model Training:  43%|\u001b[38;2;0;153;255m████▎     \u001b[0m| 429/1000 [3:34:48<4:45:14, 29.97s/it]"
     ]
    },
    {
     "name": "stdout",
     "output_type": "stream",
     "text": [
      "\u001b[94m- Epoch: 429/1000\u001b[0m\n",
      "\u001b[31m- Train Loss: 0.159753189 | Validation Loss: 0.216198206\u001b[0m \u001b[32m| NMSE: -12.2555711\u001b[0m\n"
     ]
    },
    {
     "name": "stderr",
     "output_type": "stream",
     "text": [
      "Model Training:  43%|\u001b[38;2;0;153;255m████▎     \u001b[0m| 430/1000 [3:35:17<4:43:26, 29.84s/it]"
     ]
    },
    {
     "name": "stdout",
     "output_type": "stream",
     "text": [
      "\u001b[94m- Epoch: 430/1000\u001b[0m\n",
      "\u001b[31m- Train Loss: 0.172284352 | Validation Loss: 0.077390521\u001b[0m \u001b[32m| NMSE: -7.9137909\u001b[0m\n"
     ]
    },
    {
     "name": "stderr",
     "output_type": "stream",
     "text": [
      "Model Training:  43%|\u001b[38;2;0;153;255m████▎     \u001b[0m| 431/1000 [3:35:45<4:37:45, 29.29s/it]"
     ]
    },
    {
     "name": "stdout",
     "output_type": "stream",
     "text": [
      "\u001b[94m- Epoch: 431/1000\u001b[0m\n",
      "\u001b[31m- Train Loss: 0.161852676 | Validation Loss: 0.160979968\u001b[0m \u001b[32m| NMSE: 7.4654176\u001b[0m\n"
     ]
    },
    {
     "name": "stderr",
     "output_type": "stream",
     "text": [
      "Model Training:  43%|\u001b[38;2;0;153;255m████▎     \u001b[0m| 432/1000 [3:36:16<4:40:55, 29.68s/it]"
     ]
    },
    {
     "name": "stdout",
     "output_type": "stream",
     "text": [
      "\u001b[94m- Epoch: 432/1000\u001b[0m\n",
      "\u001b[31m- Train Loss: 0.171200795 | Validation Loss: 0.107599584\u001b[0m \u001b[32m| NMSE: -9.3744297\u001b[0m\n"
     ]
    },
    {
     "name": "stderr",
     "output_type": "stream",
     "text": [
      "Model Training:  43%|\u001b[38;2;0;153;255m████▎     \u001b[0m| 433/1000 [3:36:47<4:43:11, 29.97s/it]"
     ]
    },
    {
     "name": "stdout",
     "output_type": "stream",
     "text": [
      "\u001b[94m- Epoch: 433/1000\u001b[0m\n",
      "\u001b[31m- Train Loss: 0.177316360 | Validation Loss: 0.143011283\u001b[0m \u001b[32m| NMSE: -8.5708376\u001b[0m\n"
     ]
    },
    {
     "name": "stderr",
     "output_type": "stream",
     "text": [
      "Model Training:  43%|\u001b[38;2;0;153;255m████▎     \u001b[0m| 434/1000 [3:37:18<4:46:16, 30.35s/it]"
     ]
    },
    {
     "name": "stdout",
     "output_type": "stream",
     "text": [
      "\u001b[94m- Epoch: 434/1000\u001b[0m\n",
      "\u001b[31m- Train Loss: 0.166204320 | Validation Loss: 0.170047912\u001b[0m \u001b[32m| NMSE: 1.5002776\u001b[0m\n"
     ]
    },
    {
     "name": "stderr",
     "output_type": "stream",
     "text": [
      "Model Training:  44%|\u001b[38;2;0;153;255m████▎     \u001b[0m| 435/1000 [3:37:49<4:48:19, 30.62s/it]"
     ]
    },
    {
     "name": "stdout",
     "output_type": "stream",
     "text": [
      "\u001b[94m- Epoch: 435/1000\u001b[0m\n",
      "\u001b[31m- Train Loss: 0.180838470 | Validation Loss: 0.198215475\u001b[0m \u001b[32m| NMSE: -1.1582737\u001b[0m\n"
     ]
    },
    {
     "name": "stderr",
     "output_type": "stream",
     "text": [
      "Model Training:  44%|\u001b[38;2;0;153;255m████▎     \u001b[0m| 436/1000 [3:38:20<4:48:41, 30.71s/it]"
     ]
    },
    {
     "name": "stdout",
     "output_type": "stream",
     "text": [
      "\u001b[94m- Epoch: 436/1000\u001b[0m\n",
      "\u001b[31m- Train Loss: 0.153292966 | Validation Loss: 0.108351854\u001b[0m \u001b[32m| NMSE: -6.0384434\u001b[0m\n"
     ]
    },
    {
     "name": "stderr",
     "output_type": "stream",
     "text": [
      "Model Training:  44%|\u001b[38;2;0;153;255m████▎     \u001b[0m| 437/1000 [3:38:51<4:47:58, 30.69s/it]"
     ]
    },
    {
     "name": "stdout",
     "output_type": "stream",
     "text": [
      "\u001b[94m- Epoch: 437/1000\u001b[0m\n",
      "\u001b[31m- Train Loss: 0.171315821 | Validation Loss: 0.252475893\u001b[0m \u001b[32m| NMSE: -2.1334346\u001b[0m\n"
     ]
    },
    {
     "name": "stderr",
     "output_type": "stream",
     "text": [
      "Model Training:  44%|\u001b[38;2;0;153;255m████▍     \u001b[0m| 438/1000 [3:39:18<4:39:24, 29.83s/it]"
     ]
    },
    {
     "name": "stdout",
     "output_type": "stream",
     "text": [
      "\u001b[94m- Epoch: 438/1000\u001b[0m\n",
      "\u001b[31m- Train Loss: 0.157906151 | Validation Loss: 0.146023888\u001b[0m \u001b[32m| NMSE: -8.5532565\u001b[0m\n"
     ]
    },
    {
     "name": "stderr",
     "output_type": "stream",
     "text": [
      "Model Training:  44%|\u001b[38;2;0;153;255m████▍     \u001b[0m| 439/1000 [3:39:49<4:39:45, 29.92s/it]"
     ]
    },
    {
     "name": "stdout",
     "output_type": "stream",
     "text": [
      "\u001b[94m- Epoch: 439/1000\u001b[0m\n",
      "\u001b[31m- Train Loss: 0.162839157 | Validation Loss: 0.640031546\u001b[0m \u001b[32m| NMSE: -0.3551669\u001b[0m\n"
     ]
    },
    {
     "name": "stderr",
     "output_type": "stream",
     "text": [
      "Model Training:  44%|\u001b[38;2;0;153;255m████▍     \u001b[0m| 440/1000 [3:40:18<4:36:54, 29.67s/it]"
     ]
    },
    {
     "name": "stdout",
     "output_type": "stream",
     "text": [
      "\u001b[94m- Epoch: 440/1000\u001b[0m\n",
      "\u001b[31m- Train Loss: 0.154182695 | Validation Loss: 0.077595258\u001b[0m \u001b[32m| NMSE: -6.2737219\u001b[0m\n"
     ]
    },
    {
     "name": "stderr",
     "output_type": "stream",
     "text": [
      "Model Training:  44%|\u001b[38;2;0;153;255m████▍     \u001b[0m| 441/1000 [3:40:47<4:34:18, 29.44s/it]"
     ]
    },
    {
     "name": "stdout",
     "output_type": "stream",
     "text": [
      "\u001b[94m- Epoch: 441/1000\u001b[0m\n",
      "\u001b[31m- Train Loss: 0.164070657 | Validation Loss: 0.092437734\u001b[0m \u001b[32m| NMSE: -5.1964120\u001b[0m\n"
     ]
    },
    {
     "name": "stderr",
     "output_type": "stream",
     "text": [
      "Model Training:  44%|\u001b[38;2;0;153;255m████▍     \u001b[0m| 442/1000 [3:41:18<4:38:46, 29.97s/it]"
     ]
    },
    {
     "name": "stdout",
     "output_type": "stream",
     "text": [
      "\u001b[94m- Epoch: 442/1000\u001b[0m\n",
      "\u001b[31m- Train Loss: 0.162285108 | Validation Loss: 0.148908094\u001b[0m \u001b[32m| NMSE: -1.4482943\u001b[0m\n"
     ]
    },
    {
     "name": "stderr",
     "output_type": "stream",
     "text": [
      "Model Training:  44%|\u001b[38;2;0;153;255m████▍     \u001b[0m| 443/1000 [3:41:49<4:41:34, 30.33s/it]"
     ]
    },
    {
     "name": "stdout",
     "output_type": "stream",
     "text": [
      "\u001b[94m- Epoch: 443/1000\u001b[0m\n",
      "\u001b[31m- Train Loss: 0.169397064 | Validation Loss: 0.331704284\u001b[0m \u001b[32m| NMSE: -6.4108570\u001b[0m\n"
     ]
    },
    {
     "name": "stderr",
     "output_type": "stream",
     "text": [
      "Model Training:  44%|\u001b[38;2;0;153;255m████▍     \u001b[0m| 444/1000 [3:42:20<4:43:38, 30.61s/it]"
     ]
    },
    {
     "name": "stdout",
     "output_type": "stream",
     "text": [
      "\u001b[94m- Epoch: 444/1000\u001b[0m\n",
      "\u001b[31m- Train Loss: 0.156602805 | Validation Loss: 0.207556581\u001b[0m \u001b[32m| NMSE: -15.3533700\u001b[0m\n"
     ]
    },
    {
     "name": "stderr",
     "output_type": "stream",
     "text": [
      "Model Training:  44%|\u001b[38;2;0;153;255m████▍     \u001b[0m| 445/1000 [3:42:51<4:44:57, 30.81s/it]"
     ]
    },
    {
     "name": "stdout",
     "output_type": "stream",
     "text": [
      "\u001b[94m- Epoch: 445/1000\u001b[0m\n",
      "\u001b[31m- Train Loss: 0.186660907 | Validation Loss: 0.131757735\u001b[0m \u001b[32m| NMSE: -4.8472695\u001b[0m\n"
     ]
    },
    {
     "name": "stderr",
     "output_type": "stream",
     "text": [
      "Model Training:  45%|\u001b[38;2;0;153;255m████▍     \u001b[0m| 446/1000 [3:43:22<4:44:15, 30.79s/it]"
     ]
    },
    {
     "name": "stdout",
     "output_type": "stream",
     "text": [
      "\u001b[94m- Epoch: 446/1000\u001b[0m\n",
      "\u001b[31m- Train Loss: 0.158677224 | Validation Loss: 0.442530721\u001b[0m \u001b[32m| NMSE: -2.0880001\u001b[0m\n"
     ]
    },
    {
     "name": "stderr",
     "output_type": "stream",
     "text": [
      "Model Training:  45%|\u001b[38;2;0;153;255m████▍     \u001b[0m| 447/1000 [3:43:52<4:42:17, 30.63s/it]"
     ]
    },
    {
     "name": "stdout",
     "output_type": "stream",
     "text": [
      "\u001b[94m- Epoch: 447/1000\u001b[0m\n",
      "\u001b[31m- Train Loss: 0.171940699 | Validation Loss: 0.134807248\u001b[0m \u001b[32m| NMSE: -3.9289535\u001b[0m\n"
     ]
    },
    {
     "name": "stderr",
     "output_type": "stream",
     "text": [
      "Model Training:  45%|\u001b[38;2;0;153;255m████▍     \u001b[0m| 448/1000 [3:44:21<4:35:11, 29.91s/it]"
     ]
    },
    {
     "name": "stdout",
     "output_type": "stream",
     "text": [
      "\u001b[94m- Epoch: 448/1000\u001b[0m\n",
      "\u001b[31m- Train Loss: 0.178249958 | Validation Loss: 0.212569336\u001b[0m \u001b[32m| NMSE: -9.4866157\u001b[0m\n"
     ]
    },
    {
     "name": "stderr",
     "output_type": "stream",
     "text": [
      "Model Training:  45%|\u001b[38;2;0;153;255m████▍     \u001b[0m| 449/1000 [3:44:52<4:39:11, 30.40s/it]"
     ]
    },
    {
     "name": "stdout",
     "output_type": "stream",
     "text": [
      "\u001b[94m- Epoch: 449/1000\u001b[0m\n",
      "\u001b[31m- Train Loss: 0.171623466 | Validation Loss: 0.088469649\u001b[0m \u001b[32m| NMSE: 4.0753461\u001b[0m\n"
     ]
    },
    {
     "name": "stderr",
     "output_type": "stream",
     "text": [
      "Model Training:  45%|\u001b[38;2;0;153;255m████▌     \u001b[0m| 450/1000 [3:45:21<4:35:23, 30.04s/it]"
     ]
    },
    {
     "name": "stdout",
     "output_type": "stream",
     "text": [
      "\u001b[94m- Epoch: 450/1000\u001b[0m\n",
      "\u001b[31m- Train Loss: 0.187035598 | Validation Loss: 0.193108700\u001b[0m \u001b[32m| NMSE: 2.9574413\u001b[0m\n"
     ]
    },
    {
     "name": "stderr",
     "output_type": "stream",
     "text": [
      "Model Training:  45%|\u001b[38;2;0;153;255m████▌     \u001b[0m| 451/1000 [3:45:51<4:32:44, 29.81s/it]"
     ]
    },
    {
     "name": "stdout",
     "output_type": "stream",
     "text": [
      "\u001b[94m- Epoch: 451/1000\u001b[0m\n",
      "\u001b[31m- Train Loss: 0.171832915 | Validation Loss: 0.086439243\u001b[0m \u001b[32m| NMSE: -5.2735183\u001b[0m\n"
     ]
    },
    {
     "name": "stderr",
     "output_type": "stream",
     "text": [
      "Model Training:  45%|\u001b[38;2;0;153;255m████▌     \u001b[0m| 452/1000 [3:46:21<4:32:13, 29.81s/it]"
     ]
    },
    {
     "name": "stdout",
     "output_type": "stream",
     "text": [
      "\u001b[94m- Epoch: 452/1000\u001b[0m\n",
      "\u001b[31m- Train Loss: 0.153637641 | Validation Loss: 0.052109711\u001b[0m \u001b[32m| NMSE: -3.7229182\u001b[0m\n"
     ]
    },
    {
     "name": "stderr",
     "output_type": "stream",
     "text": [
      "Model Training:  45%|\u001b[38;2;0;153;255m████▌     \u001b[0m| 453/1000 [3:46:53<4:38:07, 30.51s/it]"
     ]
    },
    {
     "name": "stdout",
     "output_type": "stream",
     "text": [
      "\u001b[94m- Epoch: 453/1000\u001b[0m\n",
      "\u001b[31m- Train Loss: 0.183413751 | Validation Loss: 0.250703695\u001b[0m \u001b[32m| NMSE: -3.9845946\u001b[0m\n"
     ]
    },
    {
     "name": "stderr",
     "output_type": "stream",
     "text": [
      "Model Training:  45%|\u001b[38;2;0;153;255m████▌     \u001b[0m| 454/1000 [3:47:24<4:38:51, 30.64s/it]"
     ]
    },
    {
     "name": "stdout",
     "output_type": "stream",
     "text": [
      "\u001b[94m- Epoch: 454/1000\u001b[0m\n",
      "\u001b[31m- Train Loss: 0.168349818 | Validation Loss: 0.105744506\u001b[0m \u001b[32m| NMSE: -5.1486549\u001b[0m\n"
     ]
    },
    {
     "name": "stderr",
     "output_type": "stream",
     "text": [
      "Model Training:  46%|\u001b[38;2;0;153;255m████▌     \u001b[0m| 455/1000 [3:47:55<4:41:36, 31.00s/it]"
     ]
    },
    {
     "name": "stdout",
     "output_type": "stream",
     "text": [
      "\u001b[94m- Epoch: 455/1000\u001b[0m\n",
      "\u001b[31m- Train Loss: 0.162729265 | Validation Loss: 0.225307154\u001b[0m \u001b[32m| NMSE: -6.6180707\u001b[0m\n"
     ]
    },
    {
     "name": "stderr",
     "output_type": "stream",
     "text": [
      "Model Training:  46%|\u001b[38;2;0;153;255m████▌     \u001b[0m| 456/1000 [3:48:26<4:40:09, 30.90s/it]"
     ]
    },
    {
     "name": "stdout",
     "output_type": "stream",
     "text": [
      "\u001b[94m- Epoch: 456/1000\u001b[0m\n",
      "\u001b[31m- Train Loss: 0.173013448 | Validation Loss: 0.110917243\u001b[0m \u001b[32m| NMSE: -4.5842768\u001b[0m\n"
     ]
    },
    {
     "name": "stderr",
     "output_type": "stream",
     "text": [
      "Model Training:  46%|\u001b[38;2;0;153;255m████▌     \u001b[0m| 457/1000 [3:48:55<4:33:58, 30.27s/it]"
     ]
    },
    {
     "name": "stdout",
     "output_type": "stream",
     "text": [
      "\u001b[94m- Epoch: 457/1000\u001b[0m\n",
      "\u001b[31m- Train Loss: 0.178334247 | Validation Loss: 0.134603329\u001b[0m \u001b[32m| NMSE: -0.1811784\u001b[0m\n"
     ]
    },
    {
     "name": "stderr",
     "output_type": "stream",
     "text": [
      "Model Training:  46%|\u001b[38;2;0;153;255m████▌     \u001b[0m| 458/1000 [3:49:24<4:29:57, 29.88s/it]"
     ]
    },
    {
     "name": "stdout",
     "output_type": "stream",
     "text": [
      "\u001b[94m- Epoch: 458/1000\u001b[0m\n",
      "\u001b[31m- Train Loss: 0.169607541 | Validation Loss: 0.164883992\u001b[0m \u001b[32m| NMSE: -9.9617796\u001b[0m\n"
     ]
    },
    {
     "name": "stderr",
     "output_type": "stream",
     "text": [
      "Model Training:  46%|\u001b[38;2;0;153;255m████▌     \u001b[0m| 459/1000 [3:49:54<4:29:50, 29.93s/it]"
     ]
    },
    {
     "name": "stdout",
     "output_type": "stream",
     "text": [
      "\u001b[94m- Epoch: 459/1000\u001b[0m\n",
      "\u001b[31m- Train Loss: 0.162125246 | Validation Loss: 0.107489719\u001b[0m \u001b[32m| NMSE: -12.6541047\u001b[0m\n"
     ]
    },
    {
     "name": "stderr",
     "output_type": "stream",
     "text": [
      "Model Training:  46%|\u001b[38;2;0;153;255m████▌     \u001b[0m| 460/1000 [3:50:22<4:24:07, 29.35s/it]"
     ]
    },
    {
     "name": "stdout",
     "output_type": "stream",
     "text": [
      "\u001b[94m- Epoch: 460/1000\u001b[0m\n",
      "\u001b[31m- Train Loss: 0.164999951 | Validation Loss: 0.190790974\u001b[0m \u001b[32m| NMSE: -8.8132428\u001b[0m\n"
     ]
    },
    {
     "name": "stderr",
     "output_type": "stream",
     "text": [
      "Model Training:  46%|\u001b[38;2;0;153;255m████▌     \u001b[0m| 461/1000 [3:50:52<4:24:12, 29.41s/it]"
     ]
    },
    {
     "name": "stdout",
     "output_type": "stream",
     "text": [
      "\u001b[94m- Epoch: 461/1000\u001b[0m\n",
      "\u001b[31m- Train Loss: 0.169005968 | Validation Loss: 0.182040473\u001b[0m \u001b[32m| NMSE: -9.4757652\u001b[0m\n"
     ]
    },
    {
     "name": "stderr",
     "output_type": "stream",
     "text": [
      "Model Training:  46%|\u001b[38;2;0;153;255m████▌     \u001b[0m| 462/1000 [3:51:22<4:26:02, 29.67s/it]"
     ]
    },
    {
     "name": "stdout",
     "output_type": "stream",
     "text": [
      "\u001b[94m- Epoch: 462/1000\u001b[0m\n",
      "\u001b[31m- Train Loss: 0.167321733 | Validation Loss: 0.118073879\u001b[0m \u001b[32m| NMSE: -0.4614389\u001b[0m\n"
     ]
    },
    {
     "name": "stderr",
     "output_type": "stream",
     "text": [
      "Model Training:  46%|\u001b[38;2;0;153;255m████▋     \u001b[0m| 463/1000 [3:51:53<4:28:35, 30.01s/it]"
     ]
    },
    {
     "name": "stdout",
     "output_type": "stream",
     "text": [
      "\u001b[94m- Epoch: 463/1000\u001b[0m\n",
      "\u001b[31m- Train Loss: 0.169593689 | Validation Loss: 0.157998835\u001b[0m \u001b[32m| NMSE: -7.3097904\u001b[0m\n"
     ]
    },
    {
     "name": "stderr",
     "output_type": "stream",
     "text": [
      "Model Training:  46%|\u001b[38;2;0;153;255m████▋     \u001b[0m| 464/1000 [3:52:23<4:30:23, 30.27s/it]"
     ]
    },
    {
     "name": "stdout",
     "output_type": "stream",
     "text": [
      "\u001b[94m- Epoch: 464/1000\u001b[0m\n",
      "\u001b[31m- Train Loss: 0.161027721 | Validation Loss: 0.110732501\u001b[0m \u001b[32m| NMSE: -1.7798297\u001b[0m\n"
     ]
    },
    {
     "name": "stderr",
     "output_type": "stream",
     "text": [
      "Model Training:  46%|\u001b[38;2;0;153;255m████▋     \u001b[0m| 465/1000 [3:52:54<4:30:31, 30.34s/it]"
     ]
    },
    {
     "name": "stdout",
     "output_type": "stream",
     "text": [
      "\u001b[94m- Epoch: 465/1000\u001b[0m\n",
      "\u001b[31m- Train Loss: 0.162985231 | Validation Loss: 0.286905989\u001b[0m \u001b[32m| NMSE: -6.6676714\u001b[0m\n"
     ]
    },
    {
     "name": "stderr",
     "output_type": "stream",
     "text": [
      "Model Training:  47%|\u001b[38;2;0;153;255m████▋     \u001b[0m| 466/1000 [3:53:24<4:29:51, 30.32s/it]"
     ]
    },
    {
     "name": "stdout",
     "output_type": "stream",
     "text": [
      "\u001b[94m- Epoch: 466/1000\u001b[0m\n",
      "\u001b[31m- Train Loss: 0.159679990 | Validation Loss: 0.149036887\u001b[0m \u001b[32m| NMSE: -6.4512103\u001b[0m\n"
     ]
    },
    {
     "name": "stderr",
     "output_type": "stream",
     "text": [
      "Model Training:  47%|\u001b[38;2;0;153;255m████▋     \u001b[0m| 467/1000 [3:53:53<4:24:47, 29.81s/it]"
     ]
    },
    {
     "name": "stdout",
     "output_type": "stream",
     "text": [
      "\u001b[94m- Epoch: 467/1000\u001b[0m\n",
      "\u001b[31m- Train Loss: 0.169524846 | Validation Loss: 0.132600723\u001b[0m \u001b[32m| NMSE: -11.6562681\u001b[0m\n"
     ]
    },
    {
     "name": "stderr",
     "output_type": "stream",
     "text": [
      "Model Training:  47%|\u001b[38;2;0;153;255m████▋     \u001b[0m| 468/1000 [3:54:22<4:23:11, 29.68s/it]"
     ]
    },
    {
     "name": "stdout",
     "output_type": "stream",
     "text": [
      "\u001b[94m- Epoch: 468/1000\u001b[0m\n",
      "\u001b[31m- Train Loss: 0.148402531 | Validation Loss: 0.113967887\u001b[0m \u001b[32m| NMSE: -5.4210893\u001b[0m\n"
     ]
    },
    {
     "name": "stderr",
     "output_type": "stream",
     "text": [
      "Model Training:  47%|\u001b[38;2;0;153;255m████▋     \u001b[0m| 469/1000 [3:54:53<4:26:41, 30.13s/it]"
     ]
    },
    {
     "name": "stdout",
     "output_type": "stream",
     "text": [
      "\u001b[94m- Epoch: 469/1000\u001b[0m\n",
      "\u001b[31m- Train Loss: 0.149195093 | Validation Loss: 0.065075076\u001b[0m \u001b[32m| NMSE: -10.7877300\u001b[0m\n"
     ]
    },
    {
     "name": "stderr",
     "output_type": "stream",
     "text": [
      "Model Training:  47%|\u001b[38;2;0;153;255m████▋     \u001b[0m| 470/1000 [3:55:21<4:19:40, 29.40s/it]"
     ]
    },
    {
     "name": "stdout",
     "output_type": "stream",
     "text": [
      "\u001b[94m- Epoch: 470/1000\u001b[0m\n",
      "\u001b[31m- Train Loss: 0.172056629 | Validation Loss: 0.052944469\u001b[0m \u001b[32m| NMSE: -4.5011336\u001b[0m\n"
     ]
    },
    {
     "name": "stderr",
     "output_type": "stream",
     "text": [
      "Model Training:  47%|\u001b[38;2;0;153;255m████▋     \u001b[0m| 471/1000 [3:55:52<4:22:56, 29.82s/it]"
     ]
    },
    {
     "name": "stdout",
     "output_type": "stream",
     "text": [
      "\u001b[94m- Epoch: 471/1000\u001b[0m\n",
      "\u001b[31m- Train Loss: 0.156469877 | Validation Loss: 0.049232148\u001b[0m \u001b[32m| NMSE: -0.9367767\u001b[0m\n"
     ]
    },
    {
     "name": "stderr",
     "output_type": "stream",
     "text": [
      "Model Training:  47%|\u001b[38;2;0;153;255m████▋     \u001b[0m| 472/1000 [3:56:21<4:21:36, 29.73s/it]"
     ]
    },
    {
     "name": "stdout",
     "output_type": "stream",
     "text": [
      "\u001b[94m- Epoch: 472/1000\u001b[0m\n",
      "\u001b[31m- Train Loss: 0.179651497 | Validation Loss: 0.168406278\u001b[0m \u001b[32m| NMSE: 0.4074731\u001b[0m\n"
     ]
    },
    {
     "name": "stderr",
     "output_type": "stream",
     "text": [
      "Model Training:  47%|\u001b[38;2;0;153;255m████▋     \u001b[0m| 473/1000 [3:56:52<4:23:59, 30.06s/it]"
     ]
    },
    {
     "name": "stdout",
     "output_type": "stream",
     "text": [
      "\u001b[94m- Epoch: 473/1000\u001b[0m\n",
      "\u001b[31m- Train Loss: 0.160316024 | Validation Loss: 0.172877676\u001b[0m \u001b[32m| NMSE: -14.2471046\u001b[0m\n"
     ]
    },
    {
     "name": "stderr",
     "output_type": "stream",
     "text": [
      "Model Training:  47%|\u001b[38;2;0;153;255m████▋     \u001b[0m| 474/1000 [3:57:23<4:26:33, 30.41s/it]"
     ]
    },
    {
     "name": "stdout",
     "output_type": "stream",
     "text": [
      "\u001b[94m- Epoch: 474/1000\u001b[0m\n",
      "\u001b[31m- Train Loss: 0.164404020 | Validation Loss: 0.060054440\u001b[0m \u001b[32m| NMSE: 0.0151707\u001b[0m\n"
     ]
    },
    {
     "name": "stderr",
     "output_type": "stream",
     "text": [
      "Model Training:  48%|\u001b[38;2;0;153;255m████▊     \u001b[0m| 475/1000 [3:57:55<4:27:50, 30.61s/it]"
     ]
    },
    {
     "name": "stdout",
     "output_type": "stream",
     "text": [
      "\u001b[94m- Epoch: 475/1000\u001b[0m\n",
      "\u001b[31m- Train Loss: 0.175515550 | Validation Loss: 0.105457634\u001b[0m \u001b[32m| NMSE: -1.3043379\u001b[0m\n"
     ]
    },
    {
     "name": "stderr",
     "output_type": "stream",
     "text": [
      "Model Training:  48%|\u001b[38;2;0;153;255m████▊     \u001b[0m| 476/1000 [3:58:25<4:27:46, 30.66s/it]"
     ]
    },
    {
     "name": "stdout",
     "output_type": "stream",
     "text": [
      "\u001b[94m- Epoch: 476/1000\u001b[0m\n",
      "\u001b[31m- Train Loss: 0.170461714 | Validation Loss: 0.316087632\u001b[0m \u001b[32m| NMSE: 3.2096767\u001b[0m\n"
     ]
    },
    {
     "name": "stderr",
     "output_type": "stream",
     "text": [
      "Model Training:  48%|\u001b[38;2;0;153;255m████▊     \u001b[0m| 477/1000 [3:58:54<4:21:25, 29.99s/it]"
     ]
    },
    {
     "name": "stdout",
     "output_type": "stream",
     "text": [
      "\u001b[94m- Epoch: 477/1000\u001b[0m\n",
      "\u001b[31m- Train Loss: 0.150620849 | Validation Loss: 0.428936169\u001b[0m \u001b[32m| NMSE: -10.3475213\u001b[0m\n"
     ]
    },
    {
     "name": "stderr",
     "output_type": "stream",
     "text": [
      "Model Training:  48%|\u001b[38;2;0;153;255m████▊     \u001b[0m| 478/1000 [3:59:23<4:19:28, 29.83s/it]"
     ]
    },
    {
     "name": "stdout",
     "output_type": "stream",
     "text": [
      "\u001b[94m- Epoch: 478/1000\u001b[0m\n",
      "\u001b[31m- Train Loss: 0.163782987 | Validation Loss: 0.132455910\u001b[0m \u001b[32m| NMSE: -6.9401813\u001b[0m\n"
     ]
    },
    {
     "name": "stderr",
     "output_type": "stream",
     "text": [
      "Model Training:  48%|\u001b[38;2;0;153;255m████▊     \u001b[0m| 479/1000 [3:59:53<4:19:22, 29.87s/it]"
     ]
    },
    {
     "name": "stdout",
     "output_type": "stream",
     "text": [
      "\u001b[94m- Epoch: 479/1000\u001b[0m\n",
      "\u001b[31m- Train Loss: 0.166005467 | Validation Loss: 0.130128607\u001b[0m \u001b[32m| NMSE: -4.1383010\u001b[0m\n"
     ]
    },
    {
     "name": "stderr",
     "output_type": "stream",
     "text": [
      "Model Training:  48%|\u001b[38;2;0;153;255m████▊     \u001b[0m| 480/1000 [4:00:21<4:13:55, 29.30s/it]"
     ]
    },
    {
     "name": "stdout",
     "output_type": "stream",
     "text": [
      "\u001b[94m- Epoch: 480/1000\u001b[0m\n",
      "\u001b[31m- Train Loss: 0.160033739 | Validation Loss: 0.190646588\u001b[0m \u001b[32m| NMSE: -5.5236237\u001b[0m\n"
     ]
    },
    {
     "name": "stderr",
     "output_type": "stream",
     "text": [
      "Model Training:  48%|\u001b[38;2;0;153;255m████▊     \u001b[0m| 481/1000 [4:00:52<4:16:29, 29.65s/it]"
     ]
    },
    {
     "name": "stdout",
     "output_type": "stream",
     "text": [
      "\u001b[94m- Epoch: 481/1000\u001b[0m\n",
      "\u001b[31m- Train Loss: 0.173497554 | Validation Loss: 0.126201935\u001b[0m \u001b[32m| NMSE: -9.8141080\u001b[0m\n"
     ]
    },
    {
     "name": "stderr",
     "output_type": "stream",
     "text": [
      "Model Training:  48%|\u001b[38;2;0;153;255m████▊     \u001b[0m| 482/1000 [4:01:23<4:19:50, 30.10s/it]"
     ]
    },
    {
     "name": "stdout",
     "output_type": "stream",
     "text": [
      "\u001b[94m- Epoch: 482/1000\u001b[0m\n",
      "\u001b[31m- Train Loss: 0.156954326 | Validation Loss: 0.090882797\u001b[0m \u001b[32m| NMSE: -9.1768804\u001b[0m\n"
     ]
    },
    {
     "name": "stderr",
     "output_type": "stream",
     "text": [
      "Model Training:  48%|\u001b[38;2;0;153;255m████▊     \u001b[0m| 483/1000 [4:01:54<4:22:06, 30.42s/it]"
     ]
    },
    {
     "name": "stdout",
     "output_type": "stream",
     "text": [
      "\u001b[94m- Epoch: 483/1000\u001b[0m\n",
      "\u001b[31m- Train Loss: 0.178418049 | Validation Loss: 0.248952106\u001b[0m \u001b[32m| NMSE: 1.6938257\u001b[0m\n"
     ]
    },
    {
     "name": "stderr",
     "output_type": "stream",
     "text": [
      "Model Training:  48%|\u001b[38;2;0;153;255m████▊     \u001b[0m| 484/1000 [4:02:24<4:21:02, 30.35s/it]"
     ]
    },
    {
     "name": "stdout",
     "output_type": "stream",
     "text": [
      "\u001b[94m- Epoch: 484/1000\u001b[0m\n",
      "\u001b[31m- Train Loss: 0.182259601 | Validation Loss: 0.139991806\u001b[0m \u001b[32m| NMSE: -3.2209865\u001b[0m\n"
     ]
    },
    {
     "name": "stderr",
     "output_type": "stream",
     "text": [
      "Model Training:  48%|\u001b[38;2;0;153;255m████▊     \u001b[0m| 485/1000 [4:02:55<4:22:47, 30.62s/it]"
     ]
    },
    {
     "name": "stdout",
     "output_type": "stream",
     "text": [
      "\u001b[94m- Epoch: 485/1000\u001b[0m\n",
      "\u001b[31m- Train Loss: 0.155759106 | Validation Loss: 0.074504588\u001b[0m \u001b[32m| NMSE: -5.5287101\u001b[0m\n"
     ]
    },
    {
     "name": "stderr",
     "output_type": "stream",
     "text": [
      "Model Training:  49%|\u001b[38;2;0;153;255m████▊     \u001b[0m| 486/1000 [4:03:26<4:23:06, 30.71s/it]"
     ]
    },
    {
     "name": "stdout",
     "output_type": "stream",
     "text": [
      "\u001b[94m- Epoch: 486/1000\u001b[0m\n",
      "\u001b[31m- Train Loss: 0.179206267 | Validation Loss: 0.284397860\u001b[0m \u001b[32m| NMSE: -1.4863908\u001b[0m\n"
     ]
    },
    {
     "name": "stderr",
     "output_type": "stream",
     "text": [
      "Model Training:  49%|\u001b[38;2;0;153;255m████▊     \u001b[0m| 487/1000 [4:03:54<4:15:01, 29.83s/it]"
     ]
    },
    {
     "name": "stdout",
     "output_type": "stream",
     "text": [
      "\u001b[94m- Epoch: 487/1000\u001b[0m\n",
      "\u001b[31m- Train Loss: 0.160733292 | Validation Loss: 0.082593923\u001b[0m \u001b[32m| NMSE: -0.4681156\u001b[0m\n"
     ]
    },
    {
     "name": "stderr",
     "output_type": "stream",
     "text": [
      "Model Training:  49%|\u001b[38;2;0;153;255m████▉     \u001b[0m| 488/1000 [4:04:25<4:16:23, 30.05s/it]"
     ]
    },
    {
     "name": "stdout",
     "output_type": "stream",
     "text": [
      "\u001b[94m- Epoch: 488/1000\u001b[0m\n",
      "\u001b[31m- Train Loss: 0.185219524 | Validation Loss: 0.095191502\u001b[0m \u001b[32m| NMSE: -2.9852767\u001b[0m\n"
     ]
    },
    {
     "name": "stderr",
     "output_type": "stream",
     "text": [
      "Model Training:  49%|\u001b[38;2;0;153;255m████▉     \u001b[0m| 489/1000 [4:04:55<4:17:58, 30.29s/it]"
     ]
    },
    {
     "name": "stdout",
     "output_type": "stream",
     "text": [
      "\u001b[94m- Epoch: 489/1000\u001b[0m\n",
      "\u001b[31m- Train Loss: 0.148152545 | Validation Loss: 0.180874930\u001b[0m \u001b[32m| NMSE: 3.7549527\u001b[0m\n"
     ]
    },
    {
     "name": "stderr",
     "output_type": "stream",
     "text": [
      "Model Training:  49%|\u001b[38;2;0;153;255m████▉     \u001b[0m| 490/1000 [4:05:24<4:11:57, 29.64s/it]"
     ]
    },
    {
     "name": "stdout",
     "output_type": "stream",
     "text": [
      "\u001b[94m- Epoch: 490/1000\u001b[0m\n",
      "\u001b[31m- Train Loss: 0.169301717 | Validation Loss: 0.209991693\u001b[0m \u001b[32m| NMSE: -12.5156488\u001b[0m\n"
     ]
    },
    {
     "name": "stderr",
     "output_type": "stream",
     "text": [
      "Model Training:  49%|\u001b[38;2;0;153;255m████▉     \u001b[0m| 491/1000 [4:05:54<4:12:53, 29.81s/it]"
     ]
    },
    {
     "name": "stdout",
     "output_type": "stream",
     "text": [
      "\u001b[94m- Epoch: 491/1000\u001b[0m\n",
      "\u001b[31m- Train Loss: 0.172098580 | Validation Loss: 0.355541628\u001b[0m \u001b[32m| NMSE: -5.7815950\u001b[0m\n"
     ]
    },
    {
     "name": "stderr",
     "output_type": "stream",
     "text": [
      "Model Training:  49%|\u001b[38;2;0;153;255m████▉     \u001b[0m| 492/1000 [4:06:23<4:11:56, 29.76s/it]"
     ]
    },
    {
     "name": "stdout",
     "output_type": "stream",
     "text": [
      "\u001b[94m- Epoch: 492/1000\u001b[0m\n",
      "\u001b[31m- Train Loss: 0.167793774 | Validation Loss: 0.196275204\u001b[0m \u001b[32m| NMSE: -6.6188643\u001b[0m\n"
     ]
    },
    {
     "name": "stderr",
     "output_type": "stream",
     "text": [
      "Model Training:  49%|\u001b[38;2;0;153;255m████▉     \u001b[0m| 493/1000 [4:06:53<4:11:55, 29.81s/it]"
     ]
    },
    {
     "name": "stdout",
     "output_type": "stream",
     "text": [
      "\u001b[94m- Epoch: 493/1000\u001b[0m\n",
      "\u001b[31m- Train Loss: 0.181831082 | Validation Loss: 0.128664082\u001b[0m \u001b[32m| NMSE: -7.1208968\u001b[0m\n"
     ]
    },
    {
     "name": "stderr",
     "output_type": "stream",
     "text": [
      "Model Training:  49%|\u001b[38;2;0;153;255m████▉     \u001b[0m| 494/1000 [4:07:24<4:13:07, 30.02s/it]"
     ]
    },
    {
     "name": "stdout",
     "output_type": "stream",
     "text": [
      "\u001b[94m- Epoch: 494/1000\u001b[0m\n",
      "\u001b[31m- Train Loss: 0.172517529 | Validation Loss: 0.107382869\u001b[0m \u001b[32m| NMSE: -5.5605683\u001b[0m\n"
     ]
    },
    {
     "name": "stderr",
     "output_type": "stream",
     "text": [
      "Model Training:  50%|\u001b[38;2;0;153;255m████▉     \u001b[0m| 495/1000 [4:07:54<4:12:51, 30.04s/it]"
     ]
    },
    {
     "name": "stdout",
     "output_type": "stream",
     "text": [
      "\u001b[94m- Epoch: 495/1000\u001b[0m\n",
      "\u001b[31m- Train Loss: 0.185693026 | Validation Loss: 0.168239946\u001b[0m \u001b[32m| NMSE: -8.7028129\u001b[0m\n"
     ]
    },
    {
     "name": "stderr",
     "output_type": "stream",
     "text": [
      "Model Training:  50%|\u001b[38;2;0;153;255m████▉     \u001b[0m| 496/1000 [4:08:24<4:12:05, 30.01s/it]"
     ]
    },
    {
     "name": "stdout",
     "output_type": "stream",
     "text": [
      "\u001b[94m- Epoch: 496/1000\u001b[0m\n",
      "\u001b[31m- Train Loss: 0.171465437 | Validation Loss: 0.422104428\u001b[0m \u001b[32m| NMSE: -7.4991264\u001b[0m\n"
     ]
    },
    {
     "name": "stderr",
     "output_type": "stream",
     "text": [
      "Model Training:  50%|\u001b[38;2;0;153;255m████▉     \u001b[0m| 497/1000 [4:08:52<4:05:35, 29.29s/it]"
     ]
    },
    {
     "name": "stdout",
     "output_type": "stream",
     "text": [
      "\u001b[94m- Epoch: 497/1000\u001b[0m\n",
      "\u001b[31m- Train Loss: 0.163438030 | Validation Loss: 0.265332013\u001b[0m \u001b[32m| NMSE: -5.3080266\u001b[0m\n"
     ]
    },
    {
     "name": "stderr",
     "output_type": "stream",
     "text": [
      "Model Training:  50%|\u001b[38;2;0;153;255m████▉     \u001b[0m| 498/1000 [4:09:22<4:06:56, 29.52s/it]"
     ]
    },
    {
     "name": "stdout",
     "output_type": "stream",
     "text": [
      "\u001b[94m- Epoch: 498/1000\u001b[0m\n",
      "\u001b[31m- Train Loss: 0.182868538 | Validation Loss: 0.084833862\u001b[0m \u001b[32m| NMSE: -0.7584572\u001b[0m\n"
     ]
    },
    {
     "name": "stderr",
     "output_type": "stream",
     "text": [
      "Model Training:  50%|\u001b[38;2;0;153;255m████▉     \u001b[0m| 499/1000 [4:09:51<4:05:52, 29.45s/it]"
     ]
    },
    {
     "name": "stdout",
     "output_type": "stream",
     "text": [
      "\u001b[94m- Epoch: 499/1000\u001b[0m\n",
      "\u001b[31m- Train Loss: 0.183127147 | Validation Loss: 0.087345102\u001b[0m \u001b[32m| NMSE: -7.1367481\u001b[0m\n"
     ]
    },
    {
     "name": "stderr",
     "output_type": "stream",
     "text": [
      "Model Training:  50%|\u001b[38;2;0;153;255m█████     \u001b[0m| 500/1000 [4:10:19<4:02:45, 29.13s/it]"
     ]
    },
    {
     "name": "stdout",
     "output_type": "stream",
     "text": [
      "\u001b[94m- Epoch: 500/1000\u001b[0m\n",
      "\u001b[31m- Train Loss: 0.166890397 | Validation Loss: 0.234528013\u001b[0m \u001b[32m| NMSE: 2.8227140\u001b[0m\n"
     ]
    },
    {
     "name": "stderr",
     "output_type": "stream",
     "text": [
      "Model Training:  50%|\u001b[38;2;0;153;255m█████     \u001b[0m| 501/1000 [4:10:49<4:04:41, 29.42s/it]"
     ]
    },
    {
     "name": "stdout",
     "output_type": "stream",
     "text": [
      "\u001b[94m- Epoch: 501/1000\u001b[0m\n",
      "\u001b[31m- Train Loss: 0.174705418 | Validation Loss: 0.159951291\u001b[0m \u001b[32m| NMSE: -3.9377712\u001b[0m\n"
     ]
    },
    {
     "name": "stderr",
     "output_type": "stream",
     "text": [
      "Model Training:  50%|\u001b[38;2;0;153;255m█████     \u001b[0m| 502/1000 [4:11:19<4:05:10, 29.54s/it]"
     ]
    },
    {
     "name": "stdout",
     "output_type": "stream",
     "text": [
      "\u001b[94m- Epoch: 502/1000\u001b[0m\n",
      "\u001b[31m- Train Loss: 0.173405788 | Validation Loss: 0.152500305\u001b[0m \u001b[32m| NMSE: -5.5560913\u001b[0m\n"
     ]
    },
    {
     "name": "stderr",
     "output_type": "stream",
     "text": [
      "Model Training:  50%|\u001b[38;2;0;153;255m█████     \u001b[0m| 503/1000 [4:11:50<4:07:05, 29.83s/it]"
     ]
    },
    {
     "name": "stdout",
     "output_type": "stream",
     "text": [
      "\u001b[94m- Epoch: 503/1000\u001b[0m\n",
      "\u001b[31m- Train Loss: 0.184054335 | Validation Loss: 0.174480498\u001b[0m \u001b[32m| NMSE: -5.7239583\u001b[0m\n"
     ]
    },
    {
     "name": "stderr",
     "output_type": "stream",
     "text": [
      "Model Training:  50%|\u001b[38;2;0;153;255m█████     \u001b[0m| 504/1000 [4:12:20<4:07:22, 29.93s/it]"
     ]
    },
    {
     "name": "stdout",
     "output_type": "stream",
     "text": [
      "\u001b[94m- Epoch: 504/1000\u001b[0m\n",
      "\u001b[31m- Train Loss: 0.159306149 | Validation Loss: 0.351987834\u001b[0m \u001b[32m| NMSE: -9.1635571\u001b[0m\n"
     ]
    },
    {
     "name": "stderr",
     "output_type": "stream",
     "text": [
      "Model Training:  50%|\u001b[38;2;0;153;255m█████     \u001b[0m| 505/1000 [4:12:51<4:09:30, 30.24s/it]"
     ]
    },
    {
     "name": "stdout",
     "output_type": "stream",
     "text": [
      "\u001b[94m- Epoch: 505/1000\u001b[0m\n",
      "\u001b[31m- Train Loss: 0.152324332 | Validation Loss: 0.280274202\u001b[0m \u001b[32m| NMSE: -8.8452234\u001b[0m\n"
     ]
    },
    {
     "name": "stderr",
     "output_type": "stream",
     "text": [
      "Model Training:  51%|\u001b[38;2;0;153;255m█████     \u001b[0m| 506/1000 [4:13:21<4:08:58, 30.24s/it]"
     ]
    },
    {
     "name": "stdout",
     "output_type": "stream",
     "text": [
      "\u001b[94m- Epoch: 506/1000\u001b[0m\n",
      "\u001b[31m- Train Loss: 0.156371767 | Validation Loss: 0.145071238\u001b[0m \u001b[32m| NMSE: -2.2714175\u001b[0m\n"
     ]
    },
    {
     "name": "stderr",
     "output_type": "stream",
     "text": [
      "Model Training:  51%|\u001b[38;2;0;153;255m█████     \u001b[0m| 507/1000 [4:13:49<4:02:38, 29.53s/it]"
     ]
    },
    {
     "name": "stdout",
     "output_type": "stream",
     "text": [
      "\u001b[94m- Epoch: 507/1000\u001b[0m\n",
      "\u001b[31m- Train Loss: 0.158244236 | Validation Loss: 0.094174214\u001b[0m \u001b[32m| NMSE: -2.4771780\u001b[0m\n"
     ]
    },
    {
     "name": "stderr",
     "output_type": "stream",
     "text": [
      "Model Training:  51%|\u001b[38;2;0;153;255m█████     \u001b[0m| 508/1000 [4:14:19<4:03:21, 29.68s/it]"
     ]
    },
    {
     "name": "stdout",
     "output_type": "stream",
     "text": [
      "\u001b[94m- Epoch: 508/1000\u001b[0m\n",
      "\u001b[31m- Train Loss: 0.157769015 | Validation Loss: 0.052302281\u001b[0m \u001b[32m| NMSE: -5.6940970\u001b[0m\n"
     ]
    },
    {
     "name": "stderr",
     "output_type": "stream",
     "text": [
      "Model Training:  51%|\u001b[38;2;0;153;255m█████     \u001b[0m| 509/1000 [4:14:48<4:01:58, 29.57s/it]"
     ]
    },
    {
     "name": "stdout",
     "output_type": "stream",
     "text": [
      "\u001b[94m- Epoch: 509/1000\u001b[0m\n",
      "\u001b[31m- Train Loss: 0.168488668 | Validation Loss: 0.229728796\u001b[0m \u001b[32m| NMSE: 3.0559690\u001b[0m\n"
     ]
    },
    {
     "name": "stderr",
     "output_type": "stream",
     "text": [
      "Model Training:  51%|\u001b[38;2;0;153;255m█████     \u001b[0m| 510/1000 [4:15:17<4:00:12, 29.41s/it]"
     ]
    },
    {
     "name": "stdout",
     "output_type": "stream",
     "text": [
      "\u001b[94m- Epoch: 510/1000\u001b[0m\n",
      "\u001b[31m- Train Loss: 0.160178860 | Validation Loss: 0.082358888\u001b[0m \u001b[32m| NMSE: -9.0920975\u001b[0m\n"
     ]
    },
    {
     "name": "stderr",
     "output_type": "stream",
     "text": [
      "Model Training:  51%|\u001b[38;2;0;153;255m█████     \u001b[0m| 511/1000 [4:15:48<4:03:50, 29.92s/it]"
     ]
    },
    {
     "name": "stdout",
     "output_type": "stream",
     "text": [
      "\u001b[94m- Epoch: 511/1000\u001b[0m\n",
      "\u001b[31m- Train Loss: 0.149291165 | Validation Loss: 0.105638309\u001b[0m \u001b[32m| NMSE: -4.6240102\u001b[0m\n"
     ]
    },
    {
     "name": "stderr",
     "output_type": "stream",
     "text": [
      "Model Training:  51%|\u001b[38;2;0;153;255m█████     \u001b[0m| 512/1000 [4:16:20<4:07:56, 30.48s/it]"
     ]
    },
    {
     "name": "stdout",
     "output_type": "stream",
     "text": [
      "\u001b[94m- Epoch: 512/1000\u001b[0m\n",
      "\u001b[31m- Train Loss: 0.150082483 | Validation Loss: 0.254737213\u001b[0m \u001b[32m| NMSE: -13.1250744\u001b[0m\n"
     ]
    },
    {
     "name": "stderr",
     "output_type": "stream",
     "text": [
      "Model Training:  51%|\u001b[38;2;0;153;255m█████▏    \u001b[0m| 513/1000 [4:16:51<4:08:55, 30.67s/it]"
     ]
    },
    {
     "name": "stdout",
     "output_type": "stream",
     "text": [
      "\u001b[94m- Epoch: 513/1000\u001b[0m\n",
      "\u001b[31m- Train Loss: 0.194026844 | Validation Loss: 0.262621574\u001b[0m \u001b[32m| NMSE: -1.5447365\u001b[0m\n"
     ]
    },
    {
     "name": "stderr",
     "output_type": "stream",
     "text": [
      "Model Training:  51%|\u001b[38;2;0;153;255m█████▏    \u001b[0m| 514/1000 [4:17:23<4:09:45, 30.84s/it]"
     ]
    },
    {
     "name": "stdout",
     "output_type": "stream",
     "text": [
      "\u001b[94m- Epoch: 514/1000\u001b[0m\n",
      "\u001b[31m- Train Loss: 0.169034429 | Validation Loss: 0.239856866\u001b[0m \u001b[32m| NMSE: 4.1889577\u001b[0m\n"
     ]
    },
    {
     "name": "stderr",
     "output_type": "stream",
     "text": [
      "Model Training:  52%|\u001b[38;2;0;153;255m█████▏    \u001b[0m| 515/1000 [4:17:53<4:09:04, 30.81s/it]"
     ]
    },
    {
     "name": "stdout",
     "output_type": "stream",
     "text": [
      "\u001b[94m- Epoch: 515/1000\u001b[0m\n",
      "\u001b[31m- Train Loss: 0.170578830 | Validation Loss: 0.064668734\u001b[0m \u001b[32m| NMSE: -2.4487743\u001b[0m\n"
     ]
    },
    {
     "name": "stderr",
     "output_type": "stream",
     "text": [
      "Model Training:  52%|\u001b[38;2;0;153;255m█████▏    \u001b[0m| 516/1000 [4:18:23<4:06:36, 30.57s/it]"
     ]
    },
    {
     "name": "stdout",
     "output_type": "stream",
     "text": [
      "\u001b[94m- Epoch: 516/1000\u001b[0m\n",
      "\u001b[31m- Train Loss: 0.165747213 | Validation Loss: 0.228575326\u001b[0m \u001b[32m| NMSE: -5.4995216\u001b[0m\n"
     ]
    },
    {
     "name": "stderr",
     "output_type": "stream",
     "text": [
      "Model Training:  52%|\u001b[38;2;0;153;255m█████▏    \u001b[0m| 517/1000 [4:18:53<4:03:01, 30.19s/it]"
     ]
    },
    {
     "name": "stdout",
     "output_type": "stream",
     "text": [
      "\u001b[94m- Epoch: 517/1000\u001b[0m\n",
      "\u001b[31m- Train Loss: 0.163120291 | Validation Loss: 0.037543961\u001b[0m \u001b[32m| NMSE: -7.2182384\u001b[0m\n"
     ]
    },
    {
     "name": "stderr",
     "output_type": "stream",
     "text": [
      "Model Training:  52%|\u001b[38;2;0;153;255m█████▏    \u001b[0m| 518/1000 [4:19:24<4:05:17, 30.53s/it]"
     ]
    },
    {
     "name": "stdout",
     "output_type": "stream",
     "text": [
      "\u001b[94m- Epoch: 518/1000\u001b[0m\n",
      "\u001b[31m- Train Loss: 0.146981306 | Validation Loss: 0.128147264\u001b[0m \u001b[32m| NMSE: -5.7135814\u001b[0m\n"
     ]
    },
    {
     "name": "stderr",
     "output_type": "stream",
     "text": [
      "Model Training:  52%|\u001b[38;2;0;153;255m█████▏    \u001b[0m| 519/1000 [4:19:53<4:00:26, 29.99s/it]"
     ]
    },
    {
     "name": "stdout",
     "output_type": "stream",
     "text": [
      "\u001b[94m- Epoch: 519/1000\u001b[0m\n",
      "\u001b[31m- Train Loss: 0.161138320 | Validation Loss: 0.097114467\u001b[0m \u001b[32m| NMSE: 0.9523154\u001b[0m\n"
     ]
    },
    {
     "name": "stderr",
     "output_type": "stream",
     "text": [
      "Model Training:  52%|\u001b[38;2;0;153;255m█████▏    \u001b[0m| 520/1000 [4:20:22<3:59:22, 29.92s/it]"
     ]
    },
    {
     "name": "stdout",
     "output_type": "stream",
     "text": [
      "\u001b[94m- Epoch: 520/1000\u001b[0m\n",
      "\u001b[31m- Train Loss: 0.166175722 | Validation Loss: 0.079897944\u001b[0m \u001b[32m| NMSE: -20.1525319\u001b[0m\n"
     ]
    },
    {
     "name": "stderr",
     "output_type": "stream",
     "text": [
      "Model Training:  52%|\u001b[38;2;0;153;255m█████▏    \u001b[0m| 521/1000 [4:20:54<4:03:39, 30.52s/it]"
     ]
    },
    {
     "name": "stdout",
     "output_type": "stream",
     "text": [
      "\u001b[94m- Epoch: 521/1000\u001b[0m\n",
      "\u001b[31m- Train Loss: 0.167215077 | Validation Loss: 0.074946989\u001b[0m \u001b[32m| NMSE: -4.0742164\u001b[0m\n"
     ]
    },
    {
     "name": "stderr",
     "output_type": "stream",
     "text": [
      "Model Training:  52%|\u001b[38;2;0;153;255m█████▏    \u001b[0m| 522/1000 [4:21:25<4:03:11, 30.53s/it]"
     ]
    },
    {
     "name": "stdout",
     "output_type": "stream",
     "text": [
      "\u001b[94m- Epoch: 522/1000\u001b[0m\n",
      "\u001b[31m- Train Loss: 0.172645176 | Validation Loss: 0.206974573\u001b[0m \u001b[32m| NMSE: -0.1306405\u001b[0m\n"
     ]
    },
    {
     "name": "stderr",
     "output_type": "stream",
     "text": [
      "Model Training:  52%|\u001b[38;2;0;153;255m█████▏    \u001b[0m| 523/1000 [4:21:55<4:01:12, 30.34s/it]"
     ]
    },
    {
     "name": "stdout",
     "output_type": "stream",
     "text": [
      "\u001b[94m- Epoch: 523/1000\u001b[0m\n",
      "\u001b[31m- Train Loss: 0.178147707 | Validation Loss: 0.103822634\u001b[0m \u001b[32m| NMSE: -5.3692470\u001b[0m\n"
     ]
    },
    {
     "name": "stderr",
     "output_type": "stream",
     "text": [
      "Model Training:  52%|\u001b[38;2;0;153;255m█████▏    \u001b[0m| 524/1000 [4:22:25<3:59:48, 30.23s/it]"
     ]
    },
    {
     "name": "stdout",
     "output_type": "stream",
     "text": [
      "\u001b[94m- Epoch: 524/1000\u001b[0m\n",
      "\u001b[31m- Train Loss: 0.158462051 | Validation Loss: 0.206765508\u001b[0m \u001b[32m| NMSE: -11.3479075\u001b[0m\n"
     ]
    },
    {
     "name": "stderr",
     "output_type": "stream",
     "text": [
      "Model Training:  52%|\u001b[38;2;0;153;255m█████▎    \u001b[0m| 525/1000 [4:22:56<4:01:08, 30.46s/it]"
     ]
    },
    {
     "name": "stdout",
     "output_type": "stream",
     "text": [
      "\u001b[94m- Epoch: 525/1000\u001b[0m\n",
      "\u001b[31m- Train Loss: 0.155883362 | Validation Loss: 0.191948215\u001b[0m \u001b[32m| NMSE: -3.7997298\u001b[0m\n"
     ]
    },
    {
     "name": "stderr",
     "output_type": "stream",
     "text": [
      "Model Training:  53%|\u001b[38;2;0;153;255m█████▎    \u001b[0m| 526/1000 [4:23:25<3:57:07, 30.02s/it]"
     ]
    },
    {
     "name": "stdout",
     "output_type": "stream",
     "text": [
      "\u001b[94m- Epoch: 526/1000\u001b[0m\n",
      "\u001b[31m- Train Loss: 0.159561009 | Validation Loss: 0.129952289\u001b[0m \u001b[32m| NMSE: -2.9399333\u001b[0m\n"
     ]
    },
    {
     "name": "stderr",
     "output_type": "stream",
     "text": [
      "Model Training:  53%|\u001b[38;2;0;153;255m█████▎    \u001b[0m| 527/1000 [4:23:54<3:54:56, 29.80s/it]"
     ]
    },
    {
     "name": "stdout",
     "output_type": "stream",
     "text": [
      "\u001b[94m- Epoch: 527/1000\u001b[0m\n",
      "\u001b[31m- Train Loss: 0.154828832 | Validation Loss: 0.265244409\u001b[0m \u001b[32m| NMSE: 3.6021020\u001b[0m\n"
     ]
    },
    {
     "name": "stderr",
     "output_type": "stream",
     "text": [
      "Model Training:  53%|\u001b[38;2;0;153;255m█████▎    \u001b[0m| 528/1000 [4:24:25<3:56:52, 30.11s/it]"
     ]
    },
    {
     "name": "stdout",
     "output_type": "stream",
     "text": [
      "\u001b[94m- Epoch: 528/1000\u001b[0m\n",
      "\u001b[31m- Train Loss: 0.152007146 | Validation Loss: 0.451467946\u001b[0m \u001b[32m| NMSE: -3.9846389\u001b[0m\n"
     ]
    },
    {
     "name": "stderr",
     "output_type": "stream",
     "text": [
      "Model Training:  53%|\u001b[38;2;0;153;255m█████▎    \u001b[0m| 529/1000 [4:24:53<3:51:12, 29.45s/it]"
     ]
    },
    {
     "name": "stdout",
     "output_type": "stream",
     "text": [
      "\u001b[94m- Epoch: 529/1000\u001b[0m\n",
      "\u001b[31m- Train Loss: 0.172185327 | Validation Loss: 0.051204713\u001b[0m \u001b[32m| NMSE: -3.9830502\u001b[0m\n"
     ]
    },
    {
     "name": "stderr",
     "output_type": "stream",
     "text": [
      "Model Training:  53%|\u001b[38;2;0;153;255m█████▎    \u001b[0m| 530/1000 [4:25:24<3:54:29, 29.94s/it]"
     ]
    },
    {
     "name": "stdout",
     "output_type": "stream",
     "text": [
      "\u001b[94m- Epoch: 530/1000\u001b[0m\n",
      "\u001b[31m- Train Loss: 0.166624037 | Validation Loss: 0.170457045\u001b[0m \u001b[32m| NMSE: -1.4140089\u001b[0m\n"
     ]
    },
    {
     "name": "stderr",
     "output_type": "stream",
     "text": [
      "Model Training:  53%|\u001b[38;2;0;153;255m█████▎    \u001b[0m| 531/1000 [4:25:54<3:55:16, 30.10s/it]"
     ]
    },
    {
     "name": "stdout",
     "output_type": "stream",
     "text": [
      "\u001b[94m- Epoch: 531/1000\u001b[0m\n",
      "\u001b[31m- Train Loss: 0.163899896 | Validation Loss: 0.136858370\u001b[0m \u001b[32m| NMSE: -5.2062953\u001b[0m\n"
     ]
    },
    {
     "name": "stderr",
     "output_type": "stream",
     "text": [
      "Model Training:  53%|\u001b[38;2;0;153;255m█████▎    \u001b[0m| 532/1000 [4:26:24<3:54:46, 30.10s/it]"
     ]
    },
    {
     "name": "stdout",
     "output_type": "stream",
     "text": [
      "\u001b[94m- Epoch: 532/1000\u001b[0m\n",
      "\u001b[31m- Train Loss: 0.157346569 | Validation Loss: 0.202296886\u001b[0m \u001b[32m| NMSE: -3.0014098\u001b[0m\n"
     ]
    },
    {
     "name": "stderr",
     "output_type": "stream",
     "text": [
      "Model Training:  53%|\u001b[38;2;0;153;255m█████▎    \u001b[0m| 533/1000 [4:26:55<3:56:31, 30.39s/it]"
     ]
    },
    {
     "name": "stdout",
     "output_type": "stream",
     "text": [
      "\u001b[94m- Epoch: 533/1000\u001b[0m\n",
      "\u001b[31m- Train Loss: 0.169332280 | Validation Loss: 0.261749273\u001b[0m \u001b[32m| NMSE: 3.3422305\u001b[0m\n"
     ]
    },
    {
     "name": "stderr",
     "output_type": "stream",
     "text": [
      "Model Training:  53%|\u001b[38;2;0;153;255m█████▎    \u001b[0m| 534/1000 [4:27:26<3:57:17, 30.55s/it]"
     ]
    },
    {
     "name": "stdout",
     "output_type": "stream",
     "text": [
      "\u001b[94m- Epoch: 534/1000\u001b[0m\n",
      "\u001b[31m- Train Loss: 0.167146493 | Validation Loss: 0.275478865\u001b[0m \u001b[32m| NMSE: -5.3449085\u001b[0m\n"
     ]
    },
    {
     "name": "stderr",
     "output_type": "stream",
     "text": [
      "Model Training:  54%|\u001b[38;2;0;153;255m█████▎    \u001b[0m| 535/1000 [4:27:57<3:57:46, 30.68s/it]"
     ]
    },
    {
     "name": "stdout",
     "output_type": "stream",
     "text": [
      "\u001b[94m- Epoch: 535/1000\u001b[0m\n",
      "\u001b[31m- Train Loss: 0.164347759 | Validation Loss: 0.176104398\u001b[0m \u001b[32m| NMSE: -6.8401532\u001b[0m\n"
     ]
    },
    {
     "name": "stderr",
     "output_type": "stream",
     "text": [
      "Model Training:  54%|\u001b[38;2;0;153;255m█████▎    \u001b[0m| 536/1000 [4:28:26<3:51:29, 29.93s/it]"
     ]
    },
    {
     "name": "stdout",
     "output_type": "stream",
     "text": [
      "\u001b[94m- Epoch: 536/1000\u001b[0m\n",
      "\u001b[31m- Train Loss: 0.170265814 | Validation Loss: 0.040018211\u001b[0m \u001b[32m| NMSE: 3.5987683\u001b[0m\n"
     ]
    },
    {
     "name": "stderr",
     "output_type": "stream",
     "text": [
      "Model Training:  54%|\u001b[38;2;0;153;255m█████▎    \u001b[0m| 537/1000 [4:28:55<3:50:05, 29.82s/it]"
     ]
    },
    {
     "name": "stdout",
     "output_type": "stream",
     "text": [
      "\u001b[94m- Epoch: 537/1000\u001b[0m\n",
      "\u001b[31m- Train Loss: 0.159771746 | Validation Loss: 0.314240088\u001b[0m \u001b[32m| NMSE: -1.3321794\u001b[0m\n"
     ]
    },
    {
     "name": "stderr",
     "output_type": "stream",
     "text": [
      "Model Training:  54%|\u001b[38;2;0;153;255m█████▍    \u001b[0m| 538/1000 [4:29:25<3:50:19, 29.91s/it]"
     ]
    },
    {
     "name": "stdout",
     "output_type": "stream",
     "text": [
      "\u001b[94m- Epoch: 538/1000\u001b[0m\n",
      "\u001b[31m- Train Loss: 0.157624942 | Validation Loss: 0.352021654\u001b[0m \u001b[32m| NMSE: 2.9014630\u001b[0m\n"
     ]
    },
    {
     "name": "stderr",
     "output_type": "stream",
     "text": [
      "Model Training:  54%|\u001b[38;2;0;153;255m█████▍    \u001b[0m| 539/1000 [4:29:53<3:44:54, 29.27s/it]"
     ]
    },
    {
     "name": "stdout",
     "output_type": "stream",
     "text": [
      "\u001b[94m- Epoch: 539/1000\u001b[0m\n",
      "\u001b[31m- Train Loss: 0.170848150 | Validation Loss: 0.087085260\u001b[0m \u001b[32m| NMSE: -6.3698251\u001b[0m\n"
     ]
    },
    {
     "name": "stderr",
     "output_type": "stream",
     "text": [
      "Model Training:  54%|\u001b[38;2;0;153;255m█████▍    \u001b[0m| 540/1000 [4:30:23<3:45:59, 29.48s/it]"
     ]
    },
    {
     "name": "stdout",
     "output_type": "stream",
     "text": [
      "\u001b[94m- Epoch: 540/1000\u001b[0m\n",
      "\u001b[31m- Train Loss: 0.175778451 | Validation Loss: 0.241588875\u001b[0m \u001b[32m| NMSE: -8.4946527\u001b[0m\n"
     ]
    },
    {
     "name": "stderr",
     "output_type": "stream",
     "text": [
      "Model Training:  54%|\u001b[38;2;0;153;255m█████▍    \u001b[0m| 541/1000 [4:30:53<3:46:56, 29.66s/it]"
     ]
    },
    {
     "name": "stdout",
     "output_type": "stream",
     "text": [
      "\u001b[94m- Epoch: 541/1000\u001b[0m\n",
      "\u001b[31m- Train Loss: 0.170061956 | Validation Loss: 0.151849725\u001b[0m \u001b[32m| NMSE: -2.8943387\u001b[0m\n"
     ]
    },
    {
     "name": "stderr",
     "output_type": "stream",
     "text": [
      "Model Training:  54%|\u001b[38;2;0;153;255m█████▍    \u001b[0m| 542/1000 [4:31:24<3:49:43, 30.09s/it]"
     ]
    },
    {
     "name": "stdout",
     "output_type": "stream",
     "text": [
      "\u001b[94m- Epoch: 542/1000\u001b[0m\n",
      "\u001b[31m- Train Loss: 0.174621245 | Validation Loss: 0.278131540\u001b[0m \u001b[32m| NMSE: -15.9320602\u001b[0m\n"
     ]
    },
    {
     "name": "stderr",
     "output_type": "stream",
     "text": [
      "Model Training:  54%|\u001b[38;2;0;153;255m█████▍    \u001b[0m| 543/1000 [4:31:56<3:51:57, 30.45s/it]"
     ]
    },
    {
     "name": "stdout",
     "output_type": "stream",
     "text": [
      "\u001b[94m- Epoch: 543/1000\u001b[0m\n",
      "\u001b[31m- Train Loss: 0.167658412 | Validation Loss: 0.247799663\u001b[0m \u001b[32m| NMSE: 5.5470858\u001b[0m\n"
     ]
    },
    {
     "name": "stderr",
     "output_type": "stream",
     "text": [
      "Model Training:  54%|\u001b[38;2;0;153;255m█████▍    \u001b[0m| 544/1000 [4:32:26<3:51:55, 30.52s/it]"
     ]
    },
    {
     "name": "stdout",
     "output_type": "stream",
     "text": [
      "\u001b[94m- Epoch: 544/1000\u001b[0m\n",
      "\u001b[31m- Train Loss: 0.167843217 | Validation Loss: 0.175476208\u001b[0m \u001b[32m| NMSE: -3.4081243\u001b[0m\n"
     ]
    },
    {
     "name": "stderr",
     "output_type": "stream",
     "text": [
      "Model Training:  55%|\u001b[38;2;0;153;255m█████▍    \u001b[0m| 545/1000 [4:32:57<3:51:36, 30.54s/it]"
     ]
    },
    {
     "name": "stdout",
     "output_type": "stream",
     "text": [
      "\u001b[94m- Epoch: 545/1000\u001b[0m\n",
      "\u001b[31m- Train Loss: 0.161416984 | Validation Loss: 0.228796477\u001b[0m \u001b[32m| NMSE: -6.0962555\u001b[0m\n"
     ]
    },
    {
     "name": "stderr",
     "output_type": "stream",
     "text": [
      "Model Training:  55%|\u001b[38;2;0;153;255m█████▍    \u001b[0m| 546/1000 [4:33:24<3:44:14, 29.64s/it]"
     ]
    },
    {
     "name": "stdout",
     "output_type": "stream",
     "text": [
      "\u001b[94m- Epoch: 546/1000\u001b[0m\n",
      "\u001b[31m- Train Loss: 0.175493627 | Validation Loss: 0.344051396\u001b[0m \u001b[32m| NMSE: -1.9530795\u001b[0m\n"
     ]
    },
    {
     "name": "stderr",
     "output_type": "stream",
     "text": [
      "Model Training:  55%|\u001b[38;2;0;153;255m█████▍    \u001b[0m| 547/1000 [4:33:55<3:45:18, 29.84s/it]"
     ]
    },
    {
     "name": "stdout",
     "output_type": "stream",
     "text": [
      "\u001b[94m- Epoch: 547/1000\u001b[0m\n",
      "\u001b[31m- Train Loss: 0.161924054 | Validation Loss: 0.113220406\u001b[0m \u001b[32m| NMSE: -7.4601061\u001b[0m\n"
     ]
    },
    {
     "name": "stderr",
     "output_type": "stream",
     "text": [
      "Model Training:  55%|\u001b[38;2;0;153;255m█████▍    \u001b[0m| 548/1000 [4:34:24<3:43:24, 29.66s/it]"
     ]
    },
    {
     "name": "stdout",
     "output_type": "stream",
     "text": [
      "\u001b[94m- Epoch: 548/1000\u001b[0m\n",
      "\u001b[31m- Train Loss: 0.160200011 | Validation Loss: 0.147279520\u001b[0m \u001b[32m| NMSE: -6.0196431\u001b[0m\n"
     ]
    },
    {
     "name": "stderr",
     "output_type": "stream",
     "text": [
      "Model Training:  55%|\u001b[38;2;0;153;255m█████▍    \u001b[0m| 549/1000 [4:34:52<3:39:31, 29.21s/it]"
     ]
    },
    {
     "name": "stdout",
     "output_type": "stream",
     "text": [
      "\u001b[94m- Epoch: 549/1000\u001b[0m\n",
      "\u001b[31m- Train Loss: 0.157885472 | Validation Loss: 0.208165305\u001b[0m \u001b[32m| NMSE: -9.8052592\u001b[0m\n"
     ]
    },
    {
     "name": "stderr",
     "output_type": "stream",
     "text": [
      "Model Training:  55%|\u001b[38;2;0;153;255m█████▌    \u001b[0m| 550/1000 [4:35:22<3:40:52, 29.45s/it]"
     ]
    },
    {
     "name": "stdout",
     "output_type": "stream",
     "text": [
      "\u001b[94m- Epoch: 550/1000\u001b[0m\n",
      "\u001b[31m- Train Loss: 0.165390074 | Validation Loss: 0.248625726\u001b[0m \u001b[32m| NMSE: -1.6214113\u001b[0m\n"
     ]
    },
    {
     "name": "stderr",
     "output_type": "stream",
     "text": [
      "Model Training:  55%|\u001b[38;2;0;153;255m█████▌    \u001b[0m| 551/1000 [4:35:53<3:43:14, 29.83s/it]"
     ]
    },
    {
     "name": "stdout",
     "output_type": "stream",
     "text": [
      "\u001b[94m- Epoch: 551/1000\u001b[0m\n",
      "\u001b[31m- Train Loss: 0.154359256 | Validation Loss: 0.105076868\u001b[0m \u001b[32m| NMSE: -6.4546671\u001b[0m\n"
     ]
    },
    {
     "name": "stderr",
     "output_type": "stream",
     "text": [
      "Model Training:  55%|\u001b[38;2;0;153;255m█████▌    \u001b[0m| 552/1000 [4:36:24<3:45:51, 30.25s/it]"
     ]
    },
    {
     "name": "stdout",
     "output_type": "stream",
     "text": [
      "\u001b[94m- Epoch: 552/1000\u001b[0m\n",
      "\u001b[31m- Train Loss: 0.161419760 | Validation Loss: 0.220743140\u001b[0m \u001b[32m| NMSE: -6.9629741\u001b[0m\n"
     ]
    },
    {
     "name": "stderr",
     "output_type": "stream",
     "text": [
      "Model Training:  55%|\u001b[38;2;0;153;255m█████▌    \u001b[0m| 553/1000 [4:36:54<3:44:02, 30.07s/it]"
     ]
    },
    {
     "name": "stdout",
     "output_type": "stream",
     "text": [
      "\u001b[94m- Epoch: 553/1000\u001b[0m\n",
      "\u001b[31m- Train Loss: 0.160950889 | Validation Loss: 0.193438542\u001b[0m \u001b[32m| NMSE: -7.7130601\u001b[0m\n"
     ]
    },
    {
     "name": "stderr",
     "output_type": "stream",
     "text": [
      "Model Training:  55%|\u001b[38;2;0;153;255m█████▌    \u001b[0m| 554/1000 [4:37:25<3:46:15, 30.44s/it]"
     ]
    },
    {
     "name": "stdout",
     "output_type": "stream",
     "text": [
      "\u001b[94m- Epoch: 554/1000\u001b[0m\n",
      "\u001b[31m- Train Loss: 0.154887639 | Validation Loss: 0.229913749\u001b[0m \u001b[32m| NMSE: -8.4347026\u001b[0m\n"
     ]
    },
    {
     "name": "stderr",
     "output_type": "stream",
     "text": [
      "Model Training:  56%|\u001b[38;2;0;153;255m█████▌    \u001b[0m| 555/1000 [4:37:56<3:48:01, 30.74s/it]"
     ]
    },
    {
     "name": "stdout",
     "output_type": "stream",
     "text": [
      "\u001b[94m- Epoch: 555/1000\u001b[0m\n",
      "\u001b[31m- Train Loss: 0.176285035 | Validation Loss: 0.090898015\u001b[0m \u001b[32m| NMSE: -1.3279824\u001b[0m\n"
     ]
    },
    {
     "name": "stderr",
     "output_type": "stream",
     "text": [
      "Model Training:  56%|\u001b[38;2;0;153;255m█████▌    \u001b[0m| 556/1000 [4:38:25<3:42:15, 30.03s/it]"
     ]
    },
    {
     "name": "stdout",
     "output_type": "stream",
     "text": [
      "\u001b[94m- Epoch: 556/1000\u001b[0m\n",
      "\u001b[31m- Train Loss: 0.178682919 | Validation Loss: 0.289560566\u001b[0m \u001b[32m| NMSE: -3.8743463\u001b[0m\n"
     ]
    },
    {
     "name": "stderr",
     "output_type": "stream",
     "text": [
      "Model Training:  56%|\u001b[38;2;0;153;255m█████▌    \u001b[0m| 557/1000 [4:38:55<3:42:36, 30.15s/it]"
     ]
    },
    {
     "name": "stdout",
     "output_type": "stream",
     "text": [
      "\u001b[94m- Epoch: 557/1000\u001b[0m\n",
      "\u001b[31m- Train Loss: 0.148223759 | Validation Loss: 0.185411010\u001b[0m \u001b[32m| NMSE: -5.2491417\u001b[0m\n"
     ]
    },
    {
     "name": "stderr",
     "output_type": "stream",
     "text": [
      "Model Training:  56%|\u001b[38;2;0;153;255m█████▌    \u001b[0m| 558/1000 [4:39:24<3:39:38, 29.82s/it]"
     ]
    },
    {
     "name": "stdout",
     "output_type": "stream",
     "text": [
      "\u001b[94m- Epoch: 558/1000\u001b[0m\n",
      "\u001b[31m- Train Loss: 0.170031806 | Validation Loss: 0.158475081\u001b[0m \u001b[32m| NMSE: -6.7466557\u001b[0m\n"
     ]
    },
    {
     "name": "stderr",
     "output_type": "stream",
     "text": [
      "Model Training:  56%|\u001b[38;2;0;153;255m█████▌    \u001b[0m| 559/1000 [4:39:53<3:37:32, 29.60s/it]"
     ]
    },
    {
     "name": "stdout",
     "output_type": "stream",
     "text": [
      "\u001b[94m- Epoch: 559/1000\u001b[0m\n",
      "\u001b[31m- Train Loss: 0.185429820 | Validation Loss: 0.137291277\u001b[0m \u001b[32m| NMSE: -6.0374241\u001b[0m\n"
     ]
    },
    {
     "name": "stderr",
     "output_type": "stream",
     "text": [
      "Model Training:  56%|\u001b[38;2;0;153;255m█████▌    \u001b[0m| 560/1000 [4:40:24<3:40:25, 30.06s/it]"
     ]
    },
    {
     "name": "stdout",
     "output_type": "stream",
     "text": [
      "\u001b[94m- Epoch: 560/1000\u001b[0m\n",
      "\u001b[31m- Train Loss: 0.190067537 | Validation Loss: 0.052132970\u001b[0m \u001b[32m| NMSE: 6.4770859\u001b[0m\n"
     ]
    },
    {
     "name": "stderr",
     "output_type": "stream",
     "text": [
      "Model Training:  56%|\u001b[38;2;0;153;255m█████▌    \u001b[0m| 561/1000 [4:40:56<3:42:13, 30.37s/it]"
     ]
    },
    {
     "name": "stdout",
     "output_type": "stream",
     "text": [
      "\u001b[94m- Epoch: 561/1000\u001b[0m\n",
      "\u001b[31m- Train Loss: 0.159238019 | Validation Loss: 0.216332152\u001b[0m \u001b[32m| NMSE: -6.5631509\u001b[0m\n"
     ]
    },
    {
     "name": "stderr",
     "output_type": "stream",
     "text": [
      "Model Training:  56%|\u001b[38;2;0;153;255m█████▌    \u001b[0m| 562/1000 [4:41:27<3:43:30, 30.62s/it]"
     ]
    },
    {
     "name": "stdout",
     "output_type": "stream",
     "text": [
      "\u001b[94m- Epoch: 562/1000\u001b[0m\n",
      "\u001b[31m- Train Loss: 0.175320341 | Validation Loss: 0.144658114\u001b[0m \u001b[32m| NMSE: -0.8429983\u001b[0m\n"
     ]
    },
    {
     "name": "stderr",
     "output_type": "stream",
     "text": [
      "Model Training:  56%|\u001b[38;2;0;153;255m█████▋    \u001b[0m| 563/1000 [4:41:58<3:43:49, 30.73s/it]"
     ]
    },
    {
     "name": "stdout",
     "output_type": "stream",
     "text": [
      "\u001b[94m- Epoch: 563/1000\u001b[0m\n",
      "\u001b[31m- Train Loss: 0.180084120 | Validation Loss: 0.054640805\u001b[0m \u001b[32m| NMSE: 1.8142859\u001b[0m\n"
     ]
    },
    {
     "name": "stderr",
     "output_type": "stream",
     "text": [
      "Model Training:  56%|\u001b[38;2;0;153;255m█████▋    \u001b[0m| 564/1000 [4:42:30<3:46:05, 31.11s/it]"
     ]
    },
    {
     "name": "stdout",
     "output_type": "stream",
     "text": [
      "\u001b[94m- Epoch: 564/1000\u001b[0m\n",
      "\u001b[31m- Train Loss: 0.160317868 | Validation Loss: 0.043641012\u001b[0m \u001b[32m| NMSE: 4.5527674\u001b[0m\n"
     ]
    },
    {
     "name": "stderr",
     "output_type": "stream",
     "text": [
      "Model Training:  56%|\u001b[38;2;0;153;255m█████▋    \u001b[0m| 565/1000 [4:43:00<3:43:38, 30.85s/it]"
     ]
    },
    {
     "name": "stdout",
     "output_type": "stream",
     "text": [
      "\u001b[94m- Epoch: 565/1000\u001b[0m\n",
      "\u001b[31m- Train Loss: 0.149464136 | Validation Loss: 0.169405090\u001b[0m \u001b[32m| NMSE: -4.1014740\u001b[0m\n"
     ]
    },
    {
     "name": "stderr",
     "output_type": "stream",
     "text": [
      "Model Training:  57%|\u001b[38;2;0;153;255m█████▋    \u001b[0m| 566/1000 [4:43:29<3:38:49, 30.25s/it]"
     ]
    },
    {
     "name": "stdout",
     "output_type": "stream",
     "text": [
      "\u001b[94m- Epoch: 566/1000\u001b[0m\n",
      "\u001b[31m- Train Loss: 0.166414559 | Validation Loss: 0.229014024\u001b[0m \u001b[32m| NMSE: -1.3438782\u001b[0m\n"
     ]
    },
    {
     "name": "stderr",
     "output_type": "stream",
     "text": [
      "Model Training:  57%|\u001b[38;2;0;153;255m█████▋    \u001b[0m| 567/1000 [4:44:00<3:41:19, 30.67s/it]"
     ]
    },
    {
     "name": "stdout",
     "output_type": "stream",
     "text": [
      "\u001b[94m- Epoch: 567/1000\u001b[0m\n",
      "\u001b[31m- Train Loss: 0.155730656 | Validation Loss: 0.026044775\u001b[0m \u001b[32m| NMSE: -2.1486486\u001b[0m\n"
     ]
    },
    {
     "name": "stderr",
     "output_type": "stream",
     "text": [
      "Model Training:  57%|\u001b[38;2;0;153;255m█████▋    \u001b[0m| 568/1000 [4:44:29<3:36:32, 30.08s/it]"
     ]
    },
    {
     "name": "stdout",
     "output_type": "stream",
     "text": [
      "\u001b[94m- Epoch: 568/1000\u001b[0m\n",
      "\u001b[31m- Train Loss: 0.156085736 | Validation Loss: 0.145827750\u001b[0m \u001b[32m| NMSE: -10.4488869\u001b[0m\n"
     ]
    },
    {
     "name": "stderr",
     "output_type": "stream",
     "text": [
      "Model Training:  57%|\u001b[38;2;0;153;255m█████▋    \u001b[0m| 569/1000 [4:44:59<3:34:56, 29.92s/it]"
     ]
    },
    {
     "name": "stdout",
     "output_type": "stream",
     "text": [
      "\u001b[94m- Epoch: 569/1000\u001b[0m\n",
      "\u001b[31m- Train Loss: 0.167738651 | Validation Loss: 0.093535427\u001b[0m \u001b[32m| NMSE: 5.7545328\u001b[0m\n"
     ]
    },
    {
     "name": "stderr",
     "output_type": "stream",
     "text": [
      "Model Training:  57%|\u001b[38;2;0;153;255m█████▋    \u001b[0m| 570/1000 [4:45:29<3:35:18, 30.04s/it]"
     ]
    },
    {
     "name": "stdout",
     "output_type": "stream",
     "text": [
      "\u001b[94m- Epoch: 570/1000\u001b[0m\n",
      "\u001b[31m- Train Loss: 0.157816047 | Validation Loss: 0.115644886\u001b[0m \u001b[32m| NMSE: 0.5068636\u001b[0m\n"
     ]
    },
    {
     "name": "stderr",
     "output_type": "stream",
     "text": [
      "Model Training:  57%|\u001b[38;2;0;153;255m█████▋    \u001b[0m| 571/1000 [4:46:00<3:37:27, 30.41s/it]"
     ]
    },
    {
     "name": "stdout",
     "output_type": "stream",
     "text": [
      "\u001b[94m- Epoch: 571/1000\u001b[0m\n",
      "\u001b[31m- Train Loss: 0.170166300 | Validation Loss: 0.371591012\u001b[0m \u001b[32m| NMSE: 3.2181368\u001b[0m\n"
     ]
    },
    {
     "name": "stderr",
     "output_type": "stream",
     "text": [
      "Model Training:  57%|\u001b[38;2;0;153;255m█████▋    \u001b[0m| 572/1000 [4:46:31<3:36:30, 30.35s/it]"
     ]
    },
    {
     "name": "stdout",
     "output_type": "stream",
     "text": [
      "\u001b[94m- Epoch: 572/1000\u001b[0m\n",
      "\u001b[31m- Train Loss: 0.158689899 | Validation Loss: 0.070657503\u001b[0m \u001b[32m| NMSE: -13.5365462\u001b[0m\n"
     ]
    },
    {
     "name": "stderr",
     "output_type": "stream",
     "text": [
      "Model Training:  57%|\u001b[38;2;0;153;255m█████▋    \u001b[0m| 573/1000 [4:47:01<3:36:58, 30.49s/it]"
     ]
    },
    {
     "name": "stdout",
     "output_type": "stream",
     "text": [
      "\u001b[94m- Epoch: 573/1000\u001b[0m\n",
      "\u001b[31m- Train Loss: 0.153626181 | Validation Loss: 0.237508317\u001b[0m \u001b[32m| NMSE: -3.2539066\u001b[0m\n"
     ]
    },
    {
     "name": "stderr",
     "output_type": "stream",
     "text": [
      "Model Training:  57%|\u001b[38;2;0;153;255m█████▋    \u001b[0m| 574/1000 [4:47:34<3:40:17, 31.03s/it]"
     ]
    },
    {
     "name": "stdout",
     "output_type": "stream",
     "text": [
      "\u001b[94m- Epoch: 574/1000\u001b[0m\n",
      "\u001b[31m- Train Loss: 0.172118998 | Validation Loss: 0.177334502\u001b[0m \u001b[32m| NMSE: -6.4415536\u001b[0m\n"
     ]
    },
    {
     "name": "stderr",
     "output_type": "stream",
     "text": [
      "Model Training:  57%|\u001b[38;2;0;153;255m█████▊    \u001b[0m| 575/1000 [4:48:03<3:35:51, 30.48s/it]"
     ]
    },
    {
     "name": "stdout",
     "output_type": "stream",
     "text": [
      "\u001b[94m- Epoch: 575/1000\u001b[0m\n",
      "\u001b[31m- Train Loss: 0.165160257 | Validation Loss: 0.074234340\u001b[0m \u001b[32m| NMSE: -9.4019957\u001b[0m\n"
     ]
    },
    {
     "name": "stderr",
     "output_type": "stream",
     "text": [
      "Model Training:  58%|\u001b[38;2;0;153;255m█████▊    \u001b[0m| 576/1000 [4:48:32<3:33:29, 30.21s/it]"
     ]
    },
    {
     "name": "stdout",
     "output_type": "stream",
     "text": [
      "\u001b[94m- Epoch: 576/1000\u001b[0m\n",
      "\u001b[31m- Train Loss: 0.172669785 | Validation Loss: 0.198078667\u001b[0m \u001b[32m| NMSE: -6.4748473\u001b[0m\n"
     ]
    },
    {
     "name": "stderr",
     "output_type": "stream",
     "text": [
      "Model Training:  58%|\u001b[38;2;0;153;255m█████▊    \u001b[0m| 577/1000 [4:49:04<3:36:29, 30.71s/it]"
     ]
    },
    {
     "name": "stdout",
     "output_type": "stream",
     "text": [
      "\u001b[94m- Epoch: 577/1000\u001b[0m\n",
      "\u001b[31m- Train Loss: 0.157911659 | Validation Loss: 0.039486306\u001b[0m \u001b[32m| NMSE: -6.7420955\u001b[0m\n"
     ]
    },
    {
     "name": "stderr",
     "output_type": "stream",
     "text": [
      "Model Training:  58%|\u001b[38;2;0;153;255m█████▊    \u001b[0m| 578/1000 [4:49:32<3:30:13, 29.89s/it]"
     ]
    },
    {
     "name": "stdout",
     "output_type": "stream",
     "text": [
      "\u001b[94m- Epoch: 578/1000\u001b[0m\n",
      "\u001b[31m- Train Loss: 0.188786163 | Validation Loss: 0.154125216\u001b[0m \u001b[32m| NMSE: 5.5902113\u001b[0m\n"
     ]
    },
    {
     "name": "stderr",
     "output_type": "stream",
     "text": [
      "Model Training:  58%|\u001b[38;2;0;153;255m█████▊    \u001b[0m| 579/1000 [4:50:04<3:33:30, 30.43s/it]"
     ]
    },
    {
     "name": "stdout",
     "output_type": "stream",
     "text": [
      "\u001b[94m- Epoch: 579/1000\u001b[0m\n",
      "\u001b[31m- Train Loss: 0.176682299 | Validation Loss: 0.153352443\u001b[0m \u001b[32m| NMSE: -1.4648881\u001b[0m\n"
     ]
    },
    {
     "name": "stderr",
     "output_type": "stream",
     "text": [
      "Model Training:  58%|\u001b[38;2;0;153;255m█████▊    \u001b[0m| 580/1000 [4:50:34<3:33:15, 30.47s/it]"
     ]
    },
    {
     "name": "stdout",
     "output_type": "stream",
     "text": [
      "\u001b[94m- Epoch: 580/1000\u001b[0m\n",
      "\u001b[31m- Train Loss: 0.159128136 | Validation Loss: 0.114203391\u001b[0m \u001b[32m| NMSE: -4.7959251\u001b[0m\n"
     ]
    },
    {
     "name": "stderr",
     "output_type": "stream",
     "text": [
      "Model Training:  58%|\u001b[38;2;0;153;255m█████▊    \u001b[0m| 581/1000 [4:51:05<3:32:30, 30.43s/it]"
     ]
    },
    {
     "name": "stdout",
     "output_type": "stream",
     "text": [
      "\u001b[94m- Epoch: 581/1000\u001b[0m\n",
      "\u001b[31m- Train Loss: 0.169344885 | Validation Loss: 0.149027271\u001b[0m \u001b[32m| NMSE: -8.5848694\u001b[0m\n"
     ]
    },
    {
     "name": "stderr",
     "output_type": "stream",
     "text": [
      "Model Training:  58%|\u001b[38;2;0;153;255m█████▊    \u001b[0m| 582/1000 [4:51:35<3:31:09, 30.31s/it]"
     ]
    },
    {
     "name": "stdout",
     "output_type": "stream",
     "text": [
      "\u001b[94m- Epoch: 582/1000\u001b[0m\n",
      "\u001b[31m- Train Loss: 0.175760767 | Validation Loss: 0.249240744\u001b[0m \u001b[32m| NMSE: -2.3995199\u001b[0m\n"
     ]
    },
    {
     "name": "stderr",
     "output_type": "stream",
     "text": [
      "Model Training:  58%|\u001b[38;2;0;153;255m█████▊    \u001b[0m| 583/1000 [4:52:05<3:29:53, 30.20s/it]"
     ]
    },
    {
     "name": "stdout",
     "output_type": "stream",
     "text": [
      "\u001b[94m- Epoch: 583/1000\u001b[0m\n",
      "\u001b[31m- Train Loss: 0.161669607 | Validation Loss: 0.165693762\u001b[0m \u001b[32m| NMSE: -4.9312972\u001b[0m\n"
     ]
    },
    {
     "name": "stderr",
     "output_type": "stream",
     "text": [
      "Model Training:  58%|\u001b[38;2;0;153;255m█████▊    \u001b[0m| 584/1000 [4:52:37<3:32:48, 30.69s/it]"
     ]
    },
    {
     "name": "stdout",
     "output_type": "stream",
     "text": [
      "\u001b[94m- Epoch: 584/1000\u001b[0m\n",
      "\u001b[31m- Train Loss: 0.175272449 | Validation Loss: 0.064801121\u001b[0m \u001b[32m| NMSE: 1.5103223\u001b[0m\n"
     ]
    },
    {
     "name": "stderr",
     "output_type": "stream",
     "text": [
      "Model Training:  58%|\u001b[38;2;0;153;255m█████▊    \u001b[0m| 585/1000 [4:53:04<3:26:15, 29.82s/it]"
     ]
    },
    {
     "name": "stdout",
     "output_type": "stream",
     "text": [
      "\u001b[94m- Epoch: 585/1000\u001b[0m\n",
      "\u001b[31m- Train Loss: 0.151771190 | Validation Loss: 0.036140030\u001b[0m \u001b[32m| NMSE: -2.3499877\u001b[0m\n"
     ]
    },
    {
     "name": "stderr",
     "output_type": "stream",
     "text": [
      "Model Training:  59%|\u001b[38;2;0;153;255m█████▊    \u001b[0m| 586/1000 [4:53:34<3:25:53, 29.84s/it]"
     ]
    },
    {
     "name": "stdout",
     "output_type": "stream",
     "text": [
      "\u001b[94m- Epoch: 586/1000\u001b[0m\n",
      "\u001b[31m- Train Loss: 0.175319795 | Validation Loss: 0.114794324\u001b[0m \u001b[32m| NMSE: -0.4971316\u001b[0m\n"
     ]
    },
    {
     "name": "stderr",
     "output_type": "stream",
     "text": [
      "Model Training:  59%|\u001b[38;2;0;153;255m█████▊    \u001b[0m| 587/1000 [4:54:03<3:24:01, 29.64s/it]"
     ]
    },
    {
     "name": "stdout",
     "output_type": "stream",
     "text": [
      "\u001b[94m- Epoch: 587/1000\u001b[0m\n",
      "\u001b[31m- Train Loss: 0.142833738 | Validation Loss: 0.181234552\u001b[0m \u001b[32m| NMSE: -4.3548869\u001b[0m\n"
     ]
    },
    {
     "name": "stderr",
     "output_type": "stream",
     "text": [
      "Model Training:  59%|\u001b[38;2;0;153;255m█████▉    \u001b[0m| 588/1000 [4:54:32<3:20:37, 29.22s/it]"
     ]
    },
    {
     "name": "stdout",
     "output_type": "stream",
     "text": [
      "\u001b[94m- Epoch: 588/1000\u001b[0m\n",
      "\u001b[31m- Train Loss: 0.150466238 | Validation Loss: 0.214328309\u001b[0m \u001b[32m| NMSE: -2.0702443\u001b[0m\n"
     ]
    },
    {
     "name": "stderr",
     "output_type": "stream",
     "text": [
      "Model Training:  59%|\u001b[38;2;0;153;255m█████▉    \u001b[0m| 589/1000 [4:55:02<3:21:25, 29.40s/it]"
     ]
    },
    {
     "name": "stdout",
     "output_type": "stream",
     "text": [
      "\u001b[94m- Epoch: 589/1000\u001b[0m\n",
      "\u001b[31m- Train Loss: 0.166175155 | Validation Loss: 0.317530742\u001b[0m \u001b[32m| NMSE: 2.4646573\u001b[0m\n"
     ]
    },
    {
     "name": "stderr",
     "output_type": "stream",
     "text": [
      "Model Training:  59%|\u001b[38;2;0;153;255m█████▉    \u001b[0m| 590/1000 [4:55:32<3:22:38, 29.66s/it]"
     ]
    },
    {
     "name": "stdout",
     "output_type": "stream",
     "text": [
      "\u001b[94m- Epoch: 590/1000\u001b[0m\n",
      "\u001b[31m- Train Loss: 0.172062392 | Validation Loss: 0.285274232\u001b[0m \u001b[32m| NMSE: -0.5175457\u001b[0m\n"
     ]
    },
    {
     "name": "stderr",
     "output_type": "stream",
     "text": [
      "Model Training:  59%|\u001b[38;2;0;153;255m█████▉    \u001b[0m| 591/1000 [4:56:03<3:25:20, 30.12s/it]"
     ]
    },
    {
     "name": "stdout",
     "output_type": "stream",
     "text": [
      "\u001b[94m- Epoch: 591/1000\u001b[0m\n",
      "\u001b[31m- Train Loss: 0.172277221 | Validation Loss: 0.070072665\u001b[0m \u001b[32m| NMSE: -4.4862690\u001b[0m\n"
     ]
    },
    {
     "name": "stderr",
     "output_type": "stream",
     "text": [
      "Model Training:  59%|\u001b[38;2;0;153;255m█████▉    \u001b[0m| 592/1000 [4:56:33<3:25:27, 30.22s/it]"
     ]
    },
    {
     "name": "stdout",
     "output_type": "stream",
     "text": [
      "\u001b[94m- Epoch: 592/1000\u001b[0m\n",
      "\u001b[31m- Train Loss: 0.165105696 | Validation Loss: 0.139050089\u001b[0m \u001b[32m| NMSE: -8.2022870\u001b[0m\n"
     ]
    },
    {
     "name": "stderr",
     "output_type": "stream",
     "text": [
      "Model Training:  59%|\u001b[38;2;0;153;255m█████▉    \u001b[0m| 593/1000 [4:57:03<3:23:25, 29.99s/it]"
     ]
    },
    {
     "name": "stdout",
     "output_type": "stream",
     "text": [
      "\u001b[94m- Epoch: 593/1000\u001b[0m\n",
      "\u001b[31m- Train Loss: 0.178125820 | Validation Loss: 0.107347724\u001b[0m \u001b[32m| NMSE: -11.6592082\u001b[0m\n"
     ]
    },
    {
     "name": "stderr",
     "output_type": "stream",
     "text": [
      "Model Training:  59%|\u001b[38;2;0;153;255m█████▉    \u001b[0m| 594/1000 [4:57:27<3:11:07, 28.24s/it]"
     ]
    },
    {
     "name": "stdout",
     "output_type": "stream",
     "text": [
      "\u001b[94m- Epoch: 594/1000\u001b[0m\n",
      "\u001b[31m- Train Loss: 0.174756524 | Validation Loss: 0.091257196\u001b[0m \u001b[32m| NMSE: -2.9265301\u001b[0m\n"
     ]
    },
    {
     "name": "stderr",
     "output_type": "stream",
     "text": [
      "Model Training:  60%|\u001b[38;2;0;153;255m█████▉    \u001b[0m| 595/1000 [4:57:49<2:57:05, 26.24s/it]"
     ]
    },
    {
     "name": "stdout",
     "output_type": "stream",
     "text": [
      "\u001b[94m- Epoch: 595/1000\u001b[0m\n",
      "\u001b[31m- Train Loss: 0.160217542 | Validation Loss: 0.040303901\u001b[0m \u001b[32m| NMSE: 9.5033937\u001b[0m\n"
     ]
    },
    {
     "name": "stderr",
     "output_type": "stream",
     "text": [
      "Model Training:  60%|\u001b[38;2;0;153;255m█████▉    \u001b[0m| 596/1000 [4:58:13<2:53:15, 25.73s/it]"
     ]
    },
    {
     "name": "stdout",
     "output_type": "stream",
     "text": [
      "\u001b[94m- Epoch: 596/1000\u001b[0m\n",
      "\u001b[31m- Train Loss: 0.177027404 | Validation Loss: 0.083755766\u001b[0m \u001b[32m| NMSE: -4.9276226\u001b[0m\n"
     ]
    },
    {
     "name": "stderr",
     "output_type": "stream",
     "text": [
      "Model Training:  60%|\u001b[38;2;0;153;255m█████▉    \u001b[0m| 597/1000 [4:58:36<2:47:01, 24.87s/it]"
     ]
    },
    {
     "name": "stdout",
     "output_type": "stream",
     "text": [
      "\u001b[94m- Epoch: 597/1000\u001b[0m\n",
      "\u001b[31m- Train Loss: 0.175263310 | Validation Loss: 0.211084584\u001b[0m \u001b[32m| NMSE: -8.6644344\u001b[0m\n"
     ]
    },
    {
     "name": "stderr",
     "output_type": "stream",
     "text": [
      "Model Training:  60%|\u001b[38;2;0;153;255m█████▉    \u001b[0m| 598/1000 [4:58:58<2:41:29, 24.10s/it]"
     ]
    },
    {
     "name": "stdout",
     "output_type": "stream",
     "text": [
      "\u001b[94m- Epoch: 598/1000\u001b[0m\n",
      "\u001b[31m- Train Loss: 0.170419786 | Validation Loss: 0.183503097\u001b[0m \u001b[32m| NMSE: -0.5244813\u001b[0m\n"
     ]
    },
    {
     "name": "stderr",
     "output_type": "stream",
     "text": [
      "Model Training:  60%|\u001b[38;2;0;153;255m█████▉    \u001b[0m| 599/1000 [4:59:23<2:42:27, 24.31s/it]"
     ]
    },
    {
     "name": "stdout",
     "output_type": "stream",
     "text": [
      "\u001b[94m- Epoch: 599/1000\u001b[0m\n",
      "\u001b[31m- Train Loss: 0.168879065 | Validation Loss: 0.099346340\u001b[0m \u001b[32m| NMSE: -11.6656473\u001b[0m\n"
     ]
    },
    {
     "name": "stderr",
     "output_type": "stream",
     "text": [
      "Model Training:  60%|\u001b[38;2;0;153;255m██████    \u001b[0m| 600/1000 [4:59:47<2:41:54, 24.29s/it]"
     ]
    },
    {
     "name": "stdout",
     "output_type": "stream",
     "text": [
      "\u001b[94m- Epoch: 600/1000\u001b[0m\n",
      "\u001b[31m- Train Loss: 0.145292446 | Validation Loss: 0.174116197\u001b[0m \u001b[32m| NMSE: -5.3243803\u001b[0m\n"
     ]
    },
    {
     "name": "stderr",
     "output_type": "stream",
     "text": [
      "Model Training:  60%|\u001b[38;2;0;153;255m██████    \u001b[0m| 601/1000 [5:00:13<2:43:32, 24.59s/it]"
     ]
    },
    {
     "name": "stdout",
     "output_type": "stream",
     "text": [
      "\u001b[94m- Epoch: 601/1000\u001b[0m\n",
      "\u001b[31m- Train Loss: 0.144314066 | Validation Loss: 0.198480802\u001b[0m \u001b[32m| NMSE: 2.4123878\u001b[0m\n"
     ]
    },
    {
     "name": "stderr",
     "output_type": "stream",
     "text": [
      "Model Training:  60%|\u001b[38;2;0;153;255m██████    \u001b[0m| 602/1000 [5:00:37<2:43:11, 24.60s/it]"
     ]
    },
    {
     "name": "stdout",
     "output_type": "stream",
     "text": [
      "\u001b[94m- Epoch: 602/1000\u001b[0m\n",
      "\u001b[31m- Train Loss: 0.178757831 | Validation Loss: 0.284673023\u001b[0m \u001b[32m| NMSE: -2.2828853\u001b[0m\n"
     ]
    },
    {
     "name": "stderr",
     "output_type": "stream",
     "text": [
      "Model Training:  60%|\u001b[38;2;0;153;255m██████    \u001b[0m| 603/1000 [5:01:02<2:42:30, 24.56s/it]"
     ]
    },
    {
     "name": "stdout",
     "output_type": "stream",
     "text": [
      "\u001b[94m- Epoch: 603/1000\u001b[0m\n",
      "\u001b[31m- Train Loss: 0.168686462 | Validation Loss: 0.085725931\u001b[0m \u001b[32m| NMSE: -2.9294831\u001b[0m\n"
     ]
    },
    {
     "name": "stderr",
     "output_type": "stream",
     "text": [
      "Model Training:  60%|\u001b[38;2;0;153;255m██████    \u001b[0m| 604/1000 [5:01:24<2:38:16, 23.98s/it]"
     ]
    },
    {
     "name": "stdout",
     "output_type": "stream",
     "text": [
      "\u001b[94m- Epoch: 604/1000\u001b[0m\n",
      "\u001b[31m- Train Loss: 0.170191199 | Validation Loss: 0.294586810\u001b[0m \u001b[32m| NMSE: -5.2887019\u001b[0m\n"
     ]
    },
    {
     "name": "stderr",
     "output_type": "stream",
     "text": [
      "Model Training:  60%|\u001b[38;2;0;153;255m██████    \u001b[0m| 605/1000 [5:01:47<2:34:41, 23.50s/it]"
     ]
    },
    {
     "name": "stdout",
     "output_type": "stream",
     "text": [
      "\u001b[94m- Epoch: 605/1000\u001b[0m\n",
      "\u001b[31m- Train Loss: 0.172809741 | Validation Loss: 0.010593708\u001b[0m \u001b[32m| NMSE: -4.8670578\u001b[0m\n"
     ]
    },
    {
     "name": "stderr",
     "output_type": "stream",
     "text": [
      "Model Training:  61%|\u001b[38;2;0;153;255m██████    \u001b[0m| 606/1000 [5:02:11<2:36:25, 23.82s/it]"
     ]
    },
    {
     "name": "stdout",
     "output_type": "stream",
     "text": [
      "\u001b[94m- Epoch: 606/1000\u001b[0m\n",
      "\u001b[31m- Train Loss: 0.161006551 | Validation Loss: 0.238128811\u001b[0m \u001b[32m| NMSE: 0.8292464\u001b[0m\n"
     ]
    },
    {
     "name": "stderr",
     "output_type": "stream",
     "text": [
      "Model Training:  61%|\u001b[38;2;0;153;255m██████    \u001b[0m| 607/1000 [5:02:34<2:32:47, 23.33s/it]"
     ]
    },
    {
     "name": "stdout",
     "output_type": "stream",
     "text": [
      "\u001b[94m- Epoch: 607/1000\u001b[0m\n",
      "\u001b[31m- Train Loss: 0.180455141 | Validation Loss: 0.083385049\u001b[0m \u001b[32m| NMSE: -12.6226699\u001b[0m\n"
     ]
    },
    {
     "name": "stderr",
     "output_type": "stream",
     "text": [
      "Model Training:  61%|\u001b[38;2;0;153;255m██████    \u001b[0m| 608/1000 [5:02:56<2:31:29, 23.19s/it]"
     ]
    },
    {
     "name": "stdout",
     "output_type": "stream",
     "text": [
      "\u001b[94m- Epoch: 608/1000\u001b[0m\n",
      "\u001b[31m- Train Loss: 0.167024168 | Validation Loss: 0.173623902\u001b[0m \u001b[32m| NMSE: -3.0627935\u001b[0m\n"
     ]
    },
    {
     "name": "stderr",
     "output_type": "stream",
     "text": [
      "Model Training:  61%|\u001b[38;2;0;153;255m██████    \u001b[0m| 609/1000 [5:03:20<2:32:41, 23.43s/it]"
     ]
    },
    {
     "name": "stdout",
     "output_type": "stream",
     "text": [
      "\u001b[94m- Epoch: 609/1000\u001b[0m\n",
      "\u001b[31m- Train Loss: 0.169025245 | Validation Loss: 0.069772954\u001b[0m \u001b[32m| NMSE: -4.4482141\u001b[0m\n"
     ]
    },
    {
     "name": "stderr",
     "output_type": "stream",
     "text": [
      "Model Training:  61%|\u001b[38;2;0;153;255m██████    \u001b[0m| 610/1000 [5:03:46<2:35:43, 23.96s/it]"
     ]
    },
    {
     "name": "stdout",
     "output_type": "stream",
     "text": [
      "\u001b[94m- Epoch: 610/1000\u001b[0m\n",
      "\u001b[31m- Train Loss: 0.169330290 | Validation Loss: 0.149570954\u001b[0m \u001b[32m| NMSE: 0.2519126\u001b[0m\n"
     ]
    },
    {
     "name": "stderr",
     "output_type": "stream",
     "text": [
      "Model Training:  61%|\u001b[38;2;0;153;255m██████    \u001b[0m| 611/1000 [5:04:11<2:37:56, 24.36s/it]"
     ]
    },
    {
     "name": "stdout",
     "output_type": "stream",
     "text": [
      "\u001b[94m- Epoch: 611/1000\u001b[0m\n",
      "\u001b[31m- Train Loss: 0.178912294 | Validation Loss: 0.118482700\u001b[0m \u001b[32m| NMSE: -6.9745021\u001b[0m\n"
     ]
    },
    {
     "name": "stderr",
     "output_type": "stream",
     "text": [
      "Model Training:  61%|\u001b[38;2;0;153;255m██████    \u001b[0m| 612/1000 [5:04:36<2:39:26, 24.66s/it]"
     ]
    },
    {
     "name": "stdout",
     "output_type": "stream",
     "text": [
      "\u001b[94m- Epoch: 612/1000\u001b[0m\n",
      "\u001b[31m- Train Loss: 0.144997302 | Validation Loss: 0.116608446\u001b[0m \u001b[32m| NMSE: -7.5984926\u001b[0m\n"
     ]
    },
    {
     "name": "stderr",
     "output_type": "stream",
     "text": [
      "Model Training:  61%|\u001b[38;2;0;153;255m██████▏   \u001b[0m| 613/1000 [5:05:01<2:38:51, 24.63s/it]"
     ]
    },
    {
     "name": "stdout",
     "output_type": "stream",
     "text": [
      "\u001b[94m- Epoch: 613/1000\u001b[0m\n",
      "\u001b[31m- Train Loss: 0.171891953 | Validation Loss: 0.151361684\u001b[0m \u001b[32m| NMSE: -5.4632347\u001b[0m\n"
     ]
    },
    {
     "name": "stderr",
     "output_type": "stream",
     "text": [
      "Model Training:  61%|\u001b[38;2;0;153;255m██████▏   \u001b[0m| 614/1000 [5:05:24<2:35:28, 24.17s/it]"
     ]
    },
    {
     "name": "stdout",
     "output_type": "stream",
     "text": [
      "\u001b[94m- Epoch: 614/1000\u001b[0m\n",
      "\u001b[31m- Train Loss: 0.159121913 | Validation Loss: 0.126138701\u001b[0m \u001b[32m| NMSE: -6.0017886\u001b[0m\n"
     ]
    },
    {
     "name": "stderr",
     "output_type": "stream",
     "text": [
      "Model Training:  62%|\u001b[38;2;0;153;255m██████▏   \u001b[0m| 615/1000 [5:05:48<2:35:18, 24.20s/it]"
     ]
    },
    {
     "name": "stdout",
     "output_type": "stream",
     "text": [
      "\u001b[94m- Epoch: 615/1000\u001b[0m\n",
      "\u001b[31m- Train Loss: 0.176900581 | Validation Loss: 0.094846773\u001b[0m \u001b[32m| NMSE: -11.0272326\u001b[0m\n"
     ]
    },
    {
     "name": "stderr",
     "output_type": "stream",
     "text": [
      "Model Training:  62%|\u001b[38;2;0;153;255m██████▏   \u001b[0m| 616/1000 [5:06:12<2:34:17, 24.11s/it]"
     ]
    },
    {
     "name": "stdout",
     "output_type": "stream",
     "text": [
      "\u001b[94m- Epoch: 616/1000\u001b[0m\n",
      "\u001b[31m- Train Loss: 0.184709250 | Validation Loss: 0.118258588\u001b[0m \u001b[32m| NMSE: -6.8863161\u001b[0m\n"
     ]
    },
    {
     "name": "stderr",
     "output_type": "stream",
     "text": [
      "Model Training:  62%|\u001b[38;2;0;153;255m██████▏   \u001b[0m| 617/1000 [5:06:34<2:29:25, 23.41s/it]"
     ]
    },
    {
     "name": "stdout",
     "output_type": "stream",
     "text": [
      "\u001b[94m- Epoch: 617/1000\u001b[0m\n",
      "\u001b[31m- Train Loss: 0.154931564 | Validation Loss: 0.093456579\u001b[0m \u001b[32m| NMSE: -8.2096069\u001b[0m\n"
     ]
    },
    {
     "name": "stderr",
     "output_type": "stream",
     "text": [
      "Model Training:  62%|\u001b[38;2;0;153;255m██████▏   \u001b[0m| 618/1000 [5:06:58<2:31:14, 23.76s/it]"
     ]
    },
    {
     "name": "stdout",
     "output_type": "stream",
     "text": [
      "\u001b[94m- Epoch: 618/1000\u001b[0m\n",
      "\u001b[31m- Train Loss: 0.166233254 | Validation Loss: 0.227976055\u001b[0m \u001b[32m| NMSE: -7.9101973\u001b[0m\n"
     ]
    },
    {
     "name": "stderr",
     "output_type": "stream",
     "text": [
      "Model Training:  62%|\u001b[38;2;0;153;255m██████▏   \u001b[0m| 619/1000 [5:07:23<2:32:05, 23.95s/it]"
     ]
    },
    {
     "name": "stdout",
     "output_type": "stream",
     "text": [
      "\u001b[94m- Epoch: 619/1000\u001b[0m\n",
      "\u001b[31m- Train Loss: 0.156933544 | Validation Loss: 0.215688805\u001b[0m \u001b[32m| NMSE: 0.4926031\u001b[0m\n"
     ]
    },
    {
     "name": "stderr",
     "output_type": "stream",
     "text": [
      "Model Training:  62%|\u001b[38;2;0;153;255m██████▏   \u001b[0m| 620/1000 [5:07:47<2:32:31, 24.08s/it]"
     ]
    },
    {
     "name": "stdout",
     "output_type": "stream",
     "text": [
      "\u001b[94m- Epoch: 620/1000\u001b[0m\n",
      "\u001b[31m- Train Loss: 0.181870267 | Validation Loss: 0.394519895\u001b[0m \u001b[32m| NMSE: -2.1981027\u001b[0m\n"
     ]
    },
    {
     "name": "stderr",
     "output_type": "stream",
     "text": [
      "Model Training:  62%|\u001b[38;2;0;153;255m██████▏   \u001b[0m| 621/1000 [5:08:12<2:32:48, 24.19s/it]"
     ]
    },
    {
     "name": "stdout",
     "output_type": "stream",
     "text": [
      "\u001b[94m- Epoch: 621/1000\u001b[0m\n",
      "\u001b[31m- Train Loss: 0.167716165 | Validation Loss: 0.177589421\u001b[0m \u001b[32m| NMSE: -8.2936277\u001b[0m\n"
     ]
    },
    {
     "name": "stderr",
     "output_type": "stream",
     "text": [
      "Model Training:  62%|\u001b[38;2;0;153;255m██████▏   \u001b[0m| 622/1000 [5:08:36<2:32:53, 24.27s/it]"
     ]
    },
    {
     "name": "stdout",
     "output_type": "stream",
     "text": [
      "\u001b[94m- Epoch: 622/1000\u001b[0m\n",
      "\u001b[31m- Train Loss: 0.187672341 | Validation Loss: 0.136068105\u001b[0m \u001b[32m| NMSE: -5.8308537\u001b[0m\n"
     ]
    },
    {
     "name": "stderr",
     "output_type": "stream",
     "text": [
      "Model Training:  62%|\u001b[38;2;0;153;255m██████▏   \u001b[0m| 623/1000 [5:09:00<2:32:06, 24.21s/it]"
     ]
    },
    {
     "name": "stdout",
     "output_type": "stream",
     "text": [
      "\u001b[94m- Epoch: 623/1000\u001b[0m\n",
      "\u001b[31m- Train Loss: 0.175403791 | Validation Loss: 0.090112948\u001b[0m \u001b[32m| NMSE: -2.7791981\u001b[0m\n"
     ]
    },
    {
     "name": "stderr",
     "output_type": "stream",
     "text": [
      "Model Training:  62%|\u001b[38;2;0;153;255m██████▏   \u001b[0m| 624/1000 [5:09:22<2:26:38, 23.40s/it]"
     ]
    },
    {
     "name": "stdout",
     "output_type": "stream",
     "text": [
      "\u001b[94m- Epoch: 624/1000\u001b[0m\n",
      "\u001b[31m- Train Loss: 0.152884645 | Validation Loss: 0.276340236\u001b[0m \u001b[32m| NMSE: -7.8975284\u001b[0m\n"
     ]
    },
    {
     "name": "stderr",
     "output_type": "stream",
     "text": [
      "Model Training:  62%|\u001b[38;2;0;153;255m██████▎   \u001b[0m| 625/1000 [5:09:46<2:28:28, 23.75s/it]"
     ]
    },
    {
     "name": "stdout",
     "output_type": "stream",
     "text": [
      "\u001b[94m- Epoch: 625/1000\u001b[0m\n",
      "\u001b[31m- Train Loss: 0.161644883 | Validation Loss: 0.157730425\u001b[0m \u001b[32m| NMSE: 6.7751273\u001b[0m\n"
     ]
    },
    {
     "name": "stderr",
     "output_type": "stream",
     "text": [
      "Model Training:  63%|\u001b[38;2;0;153;255m██████▎   \u001b[0m| 626/1000 [5:10:09<2:26:39, 23.53s/it]"
     ]
    },
    {
     "name": "stdout",
     "output_type": "stream",
     "text": [
      "\u001b[94m- Epoch: 626/1000\u001b[0m\n",
      "\u001b[31m- Train Loss: 0.176073533 | Validation Loss: 0.216111610\u001b[0m \u001b[32m| NMSE: -0.9698250\u001b[0m\n"
     ]
    },
    {
     "name": "stderr",
     "output_type": "stream",
     "text": [
      "Model Training:  63%|\u001b[38;2;0;153;255m██████▎   \u001b[0m| 627/1000 [5:10:32<2:24:00, 23.16s/it]"
     ]
    },
    {
     "name": "stdout",
     "output_type": "stream",
     "text": [
      "\u001b[94m- Epoch: 627/1000\u001b[0m\n",
      "\u001b[31m- Train Loss: 0.170816769 | Validation Loss: 0.140971763\u001b[0m \u001b[32m| NMSE: -3.6243166\u001b[0m\n"
     ]
    },
    {
     "name": "stderr",
     "output_type": "stream",
     "text": [
      "Model Training:  63%|\u001b[38;2;0;153;255m██████▎   \u001b[0m| 628/1000 [5:10:56<2:25:44, 23.51s/it]"
     ]
    },
    {
     "name": "stdout",
     "output_type": "stream",
     "text": [
      "\u001b[94m- Epoch: 628/1000\u001b[0m\n",
      "\u001b[31m- Train Loss: 0.160457084 | Validation Loss: 0.185442112\u001b[0m \u001b[32m| NMSE: -4.3796046\u001b[0m\n"
     ]
    },
    {
     "name": "stderr",
     "output_type": "stream",
     "text": [
      "Model Training:  63%|\u001b[38;2;0;153;255m██████▎   \u001b[0m| 629/1000 [5:11:20<2:27:14, 23.81s/it]"
     ]
    },
    {
     "name": "stdout",
     "output_type": "stream",
     "text": [
      "\u001b[94m- Epoch: 629/1000\u001b[0m\n",
      "\u001b[31m- Train Loss: 0.181290253 | Validation Loss: 0.194460391\u001b[0m \u001b[32m| NMSE: -5.1031537\u001b[0m\n"
     ]
    },
    {
     "name": "stderr",
     "output_type": "stream",
     "text": [
      "Model Training:  63%|\u001b[38;2;0;153;255m██████▎   \u001b[0m| 630/1000 [5:11:45<2:27:41, 23.95s/it]"
     ]
    },
    {
     "name": "stdout",
     "output_type": "stream",
     "text": [
      "\u001b[94m- Epoch: 630/1000\u001b[0m\n",
      "\u001b[31m- Train Loss: 0.161846322 | Validation Loss: 0.257851700\u001b[0m \u001b[32m| NMSE: -4.5792396\u001b[0m\n"
     ]
    },
    {
     "name": "stderr",
     "output_type": "stream",
     "text": [
      "Model Training:  63%|\u001b[38;2;0;153;255m██████▎   \u001b[0m| 631/1000 [5:12:09<2:27:35, 24.00s/it]"
     ]
    },
    {
     "name": "stdout",
     "output_type": "stream",
     "text": [
      "\u001b[94m- Epoch: 631/1000\u001b[0m\n",
      "\u001b[31m- Train Loss: 0.162966632 | Validation Loss: 0.235766063\u001b[0m \u001b[32m| NMSE: 10.6969414\u001b[0m\n"
     ]
    },
    {
     "name": "stderr",
     "output_type": "stream",
     "text": [
      "Model Training:  63%|\u001b[38;2;0;153;255m██████▎   \u001b[0m| 632/1000 [5:12:33<2:27:35, 24.06s/it]"
     ]
    },
    {
     "name": "stdout",
     "output_type": "stream",
     "text": [
      "\u001b[94m- Epoch: 632/1000\u001b[0m\n",
      "\u001b[31m- Train Loss: 0.164774094 | Validation Loss: 0.297470557\u001b[0m \u001b[32m| NMSE: -7.4151561\u001b[0m\n"
     ]
    },
    {
     "name": "stderr",
     "output_type": "stream",
     "text": [
      "Model Training:  63%|\u001b[38;2;0;153;255m██████▎   \u001b[0m| 633/1000 [5:12:56<2:24:32, 23.63s/it]"
     ]
    },
    {
     "name": "stdout",
     "output_type": "stream",
     "text": [
      "\u001b[94m- Epoch: 633/1000\u001b[0m\n",
      "\u001b[31m- Train Loss: 0.153644338 | Validation Loss: 0.049575772\u001b[0m \u001b[32m| NMSE: -7.2857046\u001b[0m\n"
     ]
    },
    {
     "name": "stderr",
     "output_type": "stream",
     "text": [
      "Model Training:  63%|\u001b[38;2;0;153;255m██████▎   \u001b[0m| 634/1000 [5:13:18<2:22:10, 23.31s/it]"
     ]
    },
    {
     "name": "stdout",
     "output_type": "stream",
     "text": [
      "\u001b[94m- Epoch: 634/1000\u001b[0m\n",
      "\u001b[31m- Train Loss: 0.176071938 | Validation Loss: 0.102390373\u001b[0m \u001b[32m| NMSE: -6.0176482\u001b[0m\n"
     ]
    },
    {
     "name": "stderr",
     "output_type": "stream",
     "text": [
      "Model Training:  64%|\u001b[38;2;0;153;255m██████▎   \u001b[0m| 635/1000 [5:13:42<2:23:29, 23.59s/it]"
     ]
    },
    {
     "name": "stdout",
     "output_type": "stream",
     "text": [
      "\u001b[94m- Epoch: 635/1000\u001b[0m\n",
      "\u001b[31m- Train Loss: 0.163265509 | Validation Loss: 0.192138746\u001b[0m \u001b[32m| NMSE: -5.1309843\u001b[0m\n"
     ]
    },
    {
     "name": "stderr",
     "output_type": "stream",
     "text": [
      "Model Training:  64%|\u001b[38;2;0;153;255m██████▎   \u001b[0m| 636/1000 [5:14:05<2:20:59, 23.24s/it]"
     ]
    },
    {
     "name": "stdout",
     "output_type": "stream",
     "text": [
      "\u001b[94m- Epoch: 636/1000\u001b[0m\n",
      "\u001b[31m- Train Loss: 0.166927871 | Validation Loss: 0.131705216\u001b[0m \u001b[32m| NMSE: -5.7019551\u001b[0m\n"
     ]
    },
    {
     "name": "stderr",
     "output_type": "stream",
     "text": [
      "Model Training:  64%|\u001b[38;2;0;153;255m██████▎   \u001b[0m| 637/1000 [5:14:27<2:19:12, 23.01s/it]"
     ]
    },
    {
     "name": "stdout",
     "output_type": "stream",
     "text": [
      "\u001b[94m- Epoch: 637/1000\u001b[0m\n",
      "\u001b[31m- Train Loss: 0.167836832 | Validation Loss: 0.286969874\u001b[0m \u001b[32m| NMSE: -6.4939432\u001b[0m\n"
     ]
    },
    {
     "name": "stderr",
     "output_type": "stream",
     "text": [
      "Model Training:  64%|\u001b[38;2;0;153;255m██████▍   \u001b[0m| 638/1000 [5:14:52<2:21:28, 23.45s/it]"
     ]
    },
    {
     "name": "stdout",
     "output_type": "stream",
     "text": [
      "\u001b[94m- Epoch: 638/1000\u001b[0m\n",
      "\u001b[31m- Train Loss: 0.152195453 | Validation Loss: 0.104696104\u001b[0m \u001b[32m| NMSE: -8.6766470\u001b[0m\n"
     ]
    },
    {
     "name": "stderr",
     "output_type": "stream",
     "text": [
      "Model Training:  64%|\u001b[38;2;0;153;255m██████▍   \u001b[0m| 639/1000 [5:15:16<2:22:55, 23.75s/it]"
     ]
    },
    {
     "name": "stdout",
     "output_type": "stream",
     "text": [
      "\u001b[94m- Epoch: 639/1000\u001b[0m\n",
      "\u001b[31m- Train Loss: 0.187228834 | Validation Loss: 0.094962787\u001b[0m \u001b[32m| NMSE: -8.1474990\u001b[0m\n"
     ]
    },
    {
     "name": "stderr",
     "output_type": "stream",
     "text": [
      "Model Training:  64%|\u001b[38;2;0;153;255m██████▍   \u001b[0m| 640/1000 [5:15:41<2:23:49, 23.97s/it]"
     ]
    },
    {
     "name": "stdout",
     "output_type": "stream",
     "text": [
      "\u001b[94m- Epoch: 640/1000\u001b[0m\n",
      "\u001b[31m- Train Loss: 0.170129608 | Validation Loss: 0.144182267\u001b[0m \u001b[32m| NMSE: -5.5152268\u001b[0m\n"
     ]
    },
    {
     "name": "stderr",
     "output_type": "stream",
     "text": [
      "Model Training:  64%|\u001b[38;2;0;153;255m██████▍   \u001b[0m| 641/1000 [5:16:05<2:24:14, 24.11s/it]"
     ]
    },
    {
     "name": "stdout",
     "output_type": "stream",
     "text": [
      "\u001b[94m- Epoch: 641/1000\u001b[0m\n",
      "\u001b[31m- Train Loss: 0.166277910 | Validation Loss: 0.085691342\u001b[0m \u001b[32m| NMSE: -4.6613209\u001b[0m\n"
     ]
    },
    {
     "name": "stderr",
     "output_type": "stream",
     "text": [
      "Model Training:  64%|\u001b[38;2;0;153;255m██████▍   \u001b[0m| 642/1000 [5:16:30<2:24:26, 24.21s/it]"
     ]
    },
    {
     "name": "stdout",
     "output_type": "stream",
     "text": [
      "\u001b[94m- Epoch: 642/1000\u001b[0m\n",
      "\u001b[31m- Train Loss: 0.153698328 | Validation Loss: 0.128516351\u001b[0m \u001b[32m| NMSE: 4.2972797\u001b[0m\n"
     ]
    },
    {
     "name": "stderr",
     "output_type": "stream",
     "text": [
      "Model Training:  64%|\u001b[38;2;0;153;255m██████▍   \u001b[0m| 643/1000 [5:16:52<2:21:03, 23.71s/it]"
     ]
    },
    {
     "name": "stdout",
     "output_type": "stream",
     "text": [
      "\u001b[94m- Epoch: 643/1000\u001b[0m\n",
      "\u001b[31m- Train Loss: 0.156118659 | Validation Loss: 0.088371810\u001b[0m \u001b[32m| NMSE: -1.2696707\u001b[0m\n"
     ]
    },
    {
     "name": "stderr",
     "output_type": "stream",
     "text": [
      "Model Training:  64%|\u001b[38;2;0;153;255m██████▍   \u001b[0m| 644/1000 [5:17:15<2:18:56, 23.42s/it]"
     ]
    },
    {
     "name": "stdout",
     "output_type": "stream",
     "text": [
      "\u001b[94m- Epoch: 644/1000\u001b[0m\n",
      "\u001b[31m- Train Loss: 0.155447964 | Validation Loss: 0.319278335\u001b[0m \u001b[32m| NMSE: -1.3555646\u001b[0m\n"
     ]
    },
    {
     "name": "stderr",
     "output_type": "stream",
     "text": [
      "Model Training:  64%|\u001b[38;2;0;153;255m██████▍   \u001b[0m| 645/1000 [5:17:39<2:20:37, 23.77s/it]"
     ]
    },
    {
     "name": "stdout",
     "output_type": "stream",
     "text": [
      "\u001b[94m- Epoch: 645/1000\u001b[0m\n",
      "\u001b[31m- Train Loss: 0.176363353 | Validation Loss: 0.288294035\u001b[0m \u001b[32m| NMSE: -7.5642200\u001b[0m\n"
     ]
    },
    {
     "name": "stderr",
     "output_type": "stream",
     "text": [
      "Model Training:  65%|\u001b[38;2;0;153;255m██████▍   \u001b[0m| 646/1000 [5:18:02<2:17:28, 23.30s/it]"
     ]
    },
    {
     "name": "stdout",
     "output_type": "stream",
     "text": [
      "\u001b[94m- Epoch: 646/1000\u001b[0m\n",
      "\u001b[31m- Train Loss: 0.182293835 | Validation Loss: 0.097072230\u001b[0m \u001b[32m| NMSE: -10.0453432\u001b[0m\n"
     ]
    },
    {
     "name": "stderr",
     "output_type": "stream",
     "text": [
      "Model Training:  65%|\u001b[38;2;0;153;255m██████▍   \u001b[0m| 647/1000 [5:18:25<2:17:16, 23.33s/it]"
     ]
    },
    {
     "name": "stdout",
     "output_type": "stream",
     "text": [
      "\u001b[94m- Epoch: 647/1000\u001b[0m\n",
      "\u001b[31m- Train Loss: 0.154222322 | Validation Loss: 0.141279053\u001b[0m \u001b[32m| NMSE: 3.3974988\u001b[0m\n"
     ]
    },
    {
     "name": "stderr",
     "output_type": "stream",
     "text": [
      "Model Training:  65%|\u001b[38;2;0;153;255m██████▍   \u001b[0m| 648/1000 [5:18:50<2:19:01, 23.70s/it]"
     ]
    },
    {
     "name": "stdout",
     "output_type": "stream",
     "text": [
      "\u001b[94m- Epoch: 648/1000\u001b[0m\n",
      "\u001b[31m- Train Loss: 0.177202959 | Validation Loss: 0.065342260\u001b[0m \u001b[32m| NMSE: -4.0530093\u001b[0m\n"
     ]
    },
    {
     "name": "stderr",
     "output_type": "stream",
     "text": [
      "Model Training:  65%|\u001b[38;2;0;153;255m██████▍   \u001b[0m| 649/1000 [5:19:14<2:19:53, 23.91s/it]"
     ]
    },
    {
     "name": "stdout",
     "output_type": "stream",
     "text": [
      "\u001b[94m- Epoch: 649/1000\u001b[0m\n",
      "\u001b[31m- Train Loss: 0.175934821 | Validation Loss: 0.045075673\u001b[0m \u001b[32m| NMSE: -15.1113019\u001b[0m\n"
     ]
    },
    {
     "name": "stderr",
     "output_type": "stream",
     "text": [
      "Model Training:  65%|\u001b[38;2;0;153;255m██████▌   \u001b[0m| 650/1000 [5:19:39<2:20:30, 24.09s/it]"
     ]
    },
    {
     "name": "stdout",
     "output_type": "stream",
     "text": [
      "\u001b[94m- Epoch: 650/1000\u001b[0m\n",
      "\u001b[31m- Train Loss: 0.175219180 | Validation Loss: 0.115805133\u001b[0m \u001b[32m| NMSE: -8.0382245\u001b[0m\n"
     ]
    },
    {
     "name": "stderr",
     "output_type": "stream",
     "text": [
      "Model Training:  65%|\u001b[38;2;0;153;255m██████▌   \u001b[0m| 651/1000 [5:20:03<2:20:40, 24.18s/it]"
     ]
    },
    {
     "name": "stdout",
     "output_type": "stream",
     "text": [
      "\u001b[94m- Epoch: 651/1000\u001b[0m\n",
      "\u001b[31m- Train Loss: 0.181637338 | Validation Loss: 0.055950209\u001b[0m \u001b[32m| NMSE: -7.0517352\u001b[0m\n"
     ]
    },
    {
     "name": "stderr",
     "output_type": "stream",
     "text": [
      "Model Training:  65%|\u001b[38;2;0;153;255m██████▌   \u001b[0m| 652/1000 [5:20:27<2:20:40, 24.25s/it]"
     ]
    },
    {
     "name": "stdout",
     "output_type": "stream",
     "text": [
      "\u001b[94m- Epoch: 652/1000\u001b[0m\n",
      "\u001b[31m- Train Loss: 0.173333383 | Validation Loss: 0.335361738\u001b[0m \u001b[32m| NMSE: 0.6247564\u001b[0m\n"
     ]
    },
    {
     "name": "stderr",
     "output_type": "stream",
     "text": [
      "Model Training:  65%|\u001b[38;2;0;153;255m██████▌   \u001b[0m| 653/1000 [5:20:49<2:16:15, 23.56s/it]"
     ]
    },
    {
     "name": "stdout",
     "output_type": "stream",
     "text": [
      "\u001b[94m- Epoch: 653/1000\u001b[0m\n",
      "\u001b[31m- Train Loss: 0.157186578 | Validation Loss: 0.234884635\u001b[0m \u001b[32m| NMSE: -2.6169669\u001b[0m\n"
     ]
    },
    {
     "name": "stderr",
     "output_type": "stream",
     "text": [
      "Model Training:  65%|\u001b[38;2;0;153;255m██████▌   \u001b[0m| 654/1000 [5:21:13<2:16:02, 23.59s/it]"
     ]
    },
    {
     "name": "stdout",
     "output_type": "stream",
     "text": [
      "\u001b[94m- Epoch: 654/1000\u001b[0m\n",
      "\u001b[31m- Train Loss: 0.155283114 | Validation Loss: 0.131484753\u001b[0m \u001b[32m| NMSE: -6.4398623\u001b[0m\n"
     ]
    },
    {
     "name": "stderr",
     "output_type": "stream",
     "text": [
      "Model Training:  66%|\u001b[38;2;0;153;255m██████▌   \u001b[0m| 655/1000 [5:21:37<2:17:12, 23.86s/it]"
     ]
    },
    {
     "name": "stdout",
     "output_type": "stream",
     "text": [
      "\u001b[94m- Epoch: 655/1000\u001b[0m\n",
      "\u001b[31m- Train Loss: 0.174640216 | Validation Loss: 0.086975240\u001b[0m \u001b[32m| NMSE: -4.8354979\u001b[0m\n"
     ]
    },
    {
     "name": "stderr",
     "output_type": "stream",
     "text": [
      "Model Training:  66%|\u001b[38;2;0;153;255m██████▌   \u001b[0m| 656/1000 [5:21:59<2:12:59, 23.20s/it]"
     ]
    },
    {
     "name": "stdout",
     "output_type": "stream",
     "text": [
      "\u001b[94m- Epoch: 656/1000\u001b[0m\n",
      "\u001b[31m- Train Loss: 0.168651955 | Validation Loss: 0.112843077\u001b[0m \u001b[32m| NMSE: -6.1182466\u001b[0m\n"
     ]
    },
    {
     "name": "stderr",
     "output_type": "stream",
     "text": [
      "Model Training:  66%|\u001b[38;2;0;153;255m██████▌   \u001b[0m| 657/1000 [5:22:22<2:12:55, 23.25s/it]"
     ]
    },
    {
     "name": "stdout",
     "output_type": "stream",
     "text": [
      "\u001b[94m- Epoch: 657/1000\u001b[0m\n",
      "\u001b[31m- Train Loss: 0.170169942 | Validation Loss: 0.216414223\u001b[0m \u001b[32m| NMSE: -7.0723503\u001b[0m\n"
     ]
    },
    {
     "name": "stderr",
     "output_type": "stream",
     "text": [
      "Model Training:  66%|\u001b[38;2;0;153;255m██████▌   \u001b[0m| 658/1000 [5:22:47<2:14:12, 23.54s/it]"
     ]
    },
    {
     "name": "stdout",
     "output_type": "stream",
     "text": [
      "\u001b[94m- Epoch: 658/1000\u001b[0m\n",
      "\u001b[31m- Train Loss: 0.171290150 | Validation Loss: 0.237876284\u001b[0m \u001b[32m| NMSE: -5.2426901\u001b[0m\n"
     ]
    },
    {
     "name": "stderr",
     "output_type": "stream",
     "text": [
      "Model Training:  66%|\u001b[38;2;0;153;255m██████▌   \u001b[0m| 659/1000 [5:23:11<2:15:06, 23.77s/it]"
     ]
    },
    {
     "name": "stdout",
     "output_type": "stream",
     "text": [
      "\u001b[94m- Epoch: 659/1000\u001b[0m\n",
      "\u001b[31m- Train Loss: 0.171166560 | Validation Loss: 0.193456327\u001b[0m \u001b[32m| NMSE: 2.0310626\u001b[0m\n"
     ]
    },
    {
     "name": "stderr",
     "output_type": "stream",
     "text": [
      "Model Training:  66%|\u001b[38;2;0;153;255m██████▌   \u001b[0m| 660/1000 [5:23:36<2:15:55, 23.99s/it]"
     ]
    },
    {
     "name": "stdout",
     "output_type": "stream",
     "text": [
      "\u001b[94m- Epoch: 660/1000\u001b[0m\n",
      "\u001b[31m- Train Loss: 0.174402003 | Validation Loss: 0.104022391\u001b[0m \u001b[32m| NMSE: -9.0603395\u001b[0m\n"
     ]
    },
    {
     "name": "stderr",
     "output_type": "stream",
     "text": [
      "Model Training:  66%|\u001b[38;2;0;153;255m██████▌   \u001b[0m| 661/1000 [5:24:00<2:16:20, 24.13s/it]"
     ]
    },
    {
     "name": "stdout",
     "output_type": "stream",
     "text": [
      "\u001b[94m- Epoch: 661/1000\u001b[0m\n",
      "\u001b[31m- Train Loss: 0.178727854 | Validation Loss: 0.140748553\u001b[0m \u001b[32m| NMSE: -1.9676909\u001b[0m\n"
     ]
    },
    {
     "name": "stderr",
     "output_type": "stream",
     "text": [
      "Model Training:  66%|\u001b[38;2;0;153;255m██████▌   \u001b[0m| 662/1000 [5:24:25<2:16:40, 24.26s/it]"
     ]
    },
    {
     "name": "stdout",
     "output_type": "stream",
     "text": [
      "\u001b[94m- Epoch: 662/1000\u001b[0m\n",
      "\u001b[31m- Train Loss: 0.185317925 | Validation Loss: 0.029434237\u001b[0m \u001b[32m| NMSE: 9.3961000\u001b[0m\n"
     ]
    },
    {
     "name": "stderr",
     "output_type": "stream",
     "text": [
      "Model Training:  66%|\u001b[38;2;0;153;255m██████▋   \u001b[0m| 663/1000 [5:24:46<2:11:19, 23.38s/it]"
     ]
    },
    {
     "name": "stdout",
     "output_type": "stream",
     "text": [
      "\u001b[94m- Epoch: 663/1000\u001b[0m\n",
      "\u001b[31m- Train Loss: 0.165534933 | Validation Loss: 0.171455560\u001b[0m \u001b[32m| NMSE: -2.4177620\u001b[0m\n"
     ]
    },
    {
     "name": "stderr",
     "output_type": "stream",
     "text": [
      "Model Training:  66%|\u001b[38;2;0;153;255m██████▋   \u001b[0m| 664/1000 [5:25:09<2:11:08, 23.42s/it]"
     ]
    },
    {
     "name": "stdout",
     "output_type": "stream",
     "text": [
      "\u001b[94m- Epoch: 664/1000\u001b[0m\n",
      "\u001b[31m- Train Loss: 0.161179615 | Validation Loss: 0.201076295\u001b[0m \u001b[32m| NMSE: -6.6166213\u001b[0m\n"
     ]
    },
    {
     "name": "stderr",
     "output_type": "stream",
     "text": [
      "Model Training:  66%|\u001b[38;2;0;153;255m██████▋   \u001b[0m| 665/1000 [5:25:33<2:11:03, 23.47s/it]"
     ]
    },
    {
     "name": "stdout",
     "output_type": "stream",
     "text": [
      "\u001b[94m- Epoch: 665/1000\u001b[0m\n",
      "\u001b[31m- Train Loss: 0.163425189 | Validation Loss: 0.088769908\u001b[0m \u001b[32m| NMSE: -4.2725284\u001b[0m\n"
     ]
    },
    {
     "name": "stderr",
     "output_type": "stream",
     "text": [
      "Model Training:  67%|\u001b[38;2;0;153;255m██████▋   \u001b[0m| 666/1000 [5:25:54<2:06:48, 22.78s/it]"
     ]
    },
    {
     "name": "stdout",
     "output_type": "stream",
     "text": [
      "\u001b[94m- Epoch: 666/1000\u001b[0m\n",
      "\u001b[31m- Train Loss: 0.156522235 | Validation Loss: 0.315757496\u001b[0m \u001b[32m| NMSE: -6.3197227\u001b[0m\n"
     ]
    },
    {
     "name": "stderr",
     "output_type": "stream",
     "text": [
      "Model Training:  67%|\u001b[38;2;0;153;255m██████▋   \u001b[0m| 667/1000 [5:26:18<2:07:58, 23.06s/it]"
     ]
    },
    {
     "name": "stdout",
     "output_type": "stream",
     "text": [
      "\u001b[94m- Epoch: 667/1000\u001b[0m\n",
      "\u001b[31m- Train Loss: 0.190785995 | Validation Loss: 0.114363549\u001b[0m \u001b[32m| NMSE: -8.9031549\u001b[0m\n"
     ]
    },
    {
     "name": "stderr",
     "output_type": "stream",
     "text": [
      "Model Training:  67%|\u001b[38;2;0;153;255m██████▋   \u001b[0m| 668/1000 [5:26:42<2:09:59, 23.49s/it]"
     ]
    },
    {
     "name": "stdout",
     "output_type": "stream",
     "text": [
      "\u001b[94m- Epoch: 668/1000\u001b[0m\n",
      "\u001b[31m- Train Loss: 0.166115619 | Validation Loss: 0.267653480\u001b[0m \u001b[32m| NMSE: -3.4217136\u001b[0m\n"
     ]
    },
    {
     "name": "stderr",
     "output_type": "stream",
     "text": [
      "Model Training:  67%|\u001b[38;2;0;153;255m██████▋   \u001b[0m| 669/1000 [5:27:07<2:11:11, 23.78s/it]"
     ]
    },
    {
     "name": "stdout",
     "output_type": "stream",
     "text": [
      "\u001b[94m- Epoch: 669/1000\u001b[0m\n",
      "\u001b[31m- Train Loss: 0.165677847 | Validation Loss: 0.136094314\u001b[0m \u001b[32m| NMSE: -6.4025898\u001b[0m\n"
     ]
    },
    {
     "name": "stderr",
     "output_type": "stream",
     "text": [
      "Model Training:  67%|\u001b[38;2;0;153;255m██████▋   \u001b[0m| 670/1000 [5:27:31<2:11:38, 23.93s/it]"
     ]
    },
    {
     "name": "stdout",
     "output_type": "stream",
     "text": [
      "\u001b[94m- Epoch: 670/1000\u001b[0m\n",
      "\u001b[31m- Train Loss: 0.151422593 | Validation Loss: 0.048506907\u001b[0m \u001b[32m| NMSE: -2.8536035\u001b[0m\n"
     ]
    },
    {
     "name": "stderr",
     "output_type": "stream",
     "text": [
      "Model Training:  67%|\u001b[38;2;0;153;255m██████▋   \u001b[0m| 671/1000 [5:27:55<2:11:47, 24.04s/it]"
     ]
    },
    {
     "name": "stdout",
     "output_type": "stream",
     "text": [
      "\u001b[94m- Epoch: 671/1000\u001b[0m\n",
      "\u001b[31m- Train Loss: 0.174534033 | Validation Loss: 0.323493471\u001b[0m \u001b[32m| NMSE: -3.6451544\u001b[0m\n"
     ]
    },
    {
     "name": "stderr",
     "output_type": "stream",
     "text": [
      "Model Training:  67%|\u001b[38;2;0;153;255m██████▋   \u001b[0m| 672/1000 [5:28:19<2:10:41, 23.91s/it]"
     ]
    },
    {
     "name": "stdout",
     "output_type": "stream",
     "text": [
      "\u001b[94m- Epoch: 672/1000\u001b[0m\n",
      "\u001b[31m- Train Loss: 0.156295725 | Validation Loss: 0.192655688\u001b[0m \u001b[32m| NMSE: -4.5250969\u001b[0m\n"
     ]
    },
    {
     "name": "stderr",
     "output_type": "stream",
     "text": [
      "Model Training:  67%|\u001b[38;2;0;153;255m██████▋   \u001b[0m| 673/1000 [5:28:40<2:06:16, 23.17s/it]"
     ]
    },
    {
     "name": "stdout",
     "output_type": "stream",
     "text": [
      "\u001b[94m- Epoch: 673/1000\u001b[0m\n",
      "\u001b[31m- Train Loss: 0.154004840 | Validation Loss: 0.320119051\u001b[0m \u001b[32m| NMSE: -4.3651215\u001b[0m\n"
     ]
    },
    {
     "name": "stderr",
     "output_type": "stream",
     "text": [
      "Model Training:  67%|\u001b[38;2;0;153;255m██████▋   \u001b[0m| 674/1000 [5:29:04<2:06:45, 23.33s/it]"
     ]
    },
    {
     "name": "stdout",
     "output_type": "stream",
     "text": [
      "\u001b[94m- Epoch: 674/1000\u001b[0m\n",
      "\u001b[31m- Train Loss: 0.174522096 | Validation Loss: 0.139900348\u001b[0m \u001b[32m| NMSE: -4.5977969\u001b[0m\n"
     ]
    },
    {
     "name": "stderr",
     "output_type": "stream",
     "text": [
      "Model Training:  68%|\u001b[38;2;0;153;255m██████▊   \u001b[0m| 675/1000 [5:29:27<2:06:16, 23.31s/it]"
     ]
    },
    {
     "name": "stdout",
     "output_type": "stream",
     "text": [
      "\u001b[94m- Epoch: 675/1000\u001b[0m\n",
      "\u001b[31m- Train Loss: 0.156483205 | Validation Loss: 0.151934536\u001b[0m \u001b[32m| NMSE: -3.9617292\u001b[0m\n"
     ]
    },
    {
     "name": "stderr",
     "output_type": "stream",
     "text": [
      "Model Training:  68%|\u001b[38;2;0;153;255m██████▊   \u001b[0m| 676/1000 [5:29:49<2:02:54, 22.76s/it]"
     ]
    },
    {
     "name": "stdout",
     "output_type": "stream",
     "text": [
      "\u001b[94m- Epoch: 676/1000\u001b[0m\n",
      "\u001b[31m- Train Loss: 0.174864636 | Validation Loss: 0.207132405\u001b[0m \u001b[32m| NMSE: -4.0820785\u001b[0m\n"
     ]
    },
    {
     "name": "stderr",
     "output_type": "stream",
     "text": [
      "Model Training:  68%|\u001b[38;2;0;153;255m██████▊   \u001b[0m| 677/1000 [5:30:13<2:04:29, 23.13s/it]"
     ]
    },
    {
     "name": "stdout",
     "output_type": "stream",
     "text": [
      "\u001b[94m- Epoch: 677/1000\u001b[0m\n",
      "\u001b[31m- Train Loss: 0.168481134 | Validation Loss: 0.287100668\u001b[0m \u001b[32m| NMSE: 7.5957611\u001b[0m\n"
     ]
    },
    {
     "name": "stderr",
     "output_type": "stream",
     "text": [
      "Model Training:  68%|\u001b[38;2;0;153;255m██████▊   \u001b[0m| 678/1000 [5:30:37<2:06:19, 23.54s/it]"
     ]
    },
    {
     "name": "stdout",
     "output_type": "stream",
     "text": [
      "\u001b[94m- Epoch: 678/1000\u001b[0m\n",
      "\u001b[31m- Train Loss: 0.159034596 | Validation Loss: 0.062267416\u001b[0m \u001b[32m| NMSE: -4.2732803\u001b[0m\n"
     ]
    },
    {
     "name": "stderr",
     "output_type": "stream",
     "text": [
      "Model Training:  68%|\u001b[38;2;0;153;255m██████▊   \u001b[0m| 679/1000 [5:31:02<2:06:57, 23.73s/it]"
     ]
    },
    {
     "name": "stdout",
     "output_type": "stream",
     "text": [
      "\u001b[94m- Epoch: 679/1000\u001b[0m\n",
      "\u001b[31m- Train Loss: 0.174007796 | Validation Loss: 0.230603137\u001b[0m \u001b[32m| NMSE: 3.2262480\u001b[0m\n"
     ]
    },
    {
     "name": "stderr",
     "output_type": "stream",
     "text": [
      "Model Training:  68%|\u001b[38;2;0;153;255m██████▊   \u001b[0m| 680/1000 [5:31:26<2:07:36, 23.93s/it]"
     ]
    },
    {
     "name": "stdout",
     "output_type": "stream",
     "text": [
      "\u001b[94m- Epoch: 680/1000\u001b[0m\n",
      "\u001b[31m- Train Loss: 0.166487006 | Validation Loss: 0.030416027\u001b[0m \u001b[32m| NMSE: 0.9939344\u001b[0m\n"
     ]
    },
    {
     "name": "stderr",
     "output_type": "stream",
     "text": [
      "Model Training:  68%|\u001b[38;2;0;153;255m██████▊   \u001b[0m| 681/1000 [5:31:50<2:08:05, 24.09s/it]"
     ]
    },
    {
     "name": "stdout",
     "output_type": "stream",
     "text": [
      "\u001b[94m- Epoch: 681/1000\u001b[0m\n",
      "\u001b[31m- Train Loss: 0.154793345 | Validation Loss: 0.161486385\u001b[0m \u001b[32m| NMSE: -4.3264325\u001b[0m\n"
     ]
    },
    {
     "name": "stderr",
     "output_type": "stream",
     "text": [
      "Model Training:  68%|\u001b[38;2;0;153;255m██████▊   \u001b[0m| 682/1000 [5:32:14<2:06:54, 23.95s/it]"
     ]
    },
    {
     "name": "stdout",
     "output_type": "stream",
     "text": [
      "\u001b[94m- Epoch: 682/1000\u001b[0m\n",
      "\u001b[31m- Train Loss: 0.170479158 | Validation Loss: 0.212356016\u001b[0m \u001b[32m| NMSE: -1.8440263\u001b[0m\n"
     ]
    },
    {
     "name": "stderr",
     "output_type": "stream",
     "text": [
      "Model Training:  68%|\u001b[38;2;0;153;255m██████▊   \u001b[0m| 683/1000 [5:32:36<2:03:22, 23.35s/it]"
     ]
    },
    {
     "name": "stdout",
     "output_type": "stream",
     "text": [
      "\u001b[94m- Epoch: 683/1000\u001b[0m\n",
      "\u001b[31m- Train Loss: 0.162403628 | Validation Loss: 0.145955236\u001b[0m \u001b[32m| NMSE: -6.2616942\u001b[0m\n"
     ]
    },
    {
     "name": "stderr",
     "output_type": "stream",
     "text": [
      "Model Training:  68%|\u001b[38;2;0;153;255m██████▊   \u001b[0m| 684/1000 [5:33:00<2:04:21, 23.61s/it]"
     ]
    },
    {
     "name": "stdout",
     "output_type": "stream",
     "text": [
      "\u001b[94m- Epoch: 684/1000\u001b[0m\n",
      "\u001b[31m- Train Loss: 0.154185106 | Validation Loss: 0.190906535\u001b[0m \u001b[32m| NMSE: 3.0753396\u001b[0m\n"
     ]
    },
    {
     "name": "stderr",
     "output_type": "stream",
     "text": [
      "Model Training:  68%|\u001b[38;2;0;153;255m██████▊   \u001b[0m| 685/1000 [5:33:23<2:03:12, 23.47s/it]"
     ]
    },
    {
     "name": "stdout",
     "output_type": "stream",
     "text": [
      "\u001b[94m- Epoch: 685/1000\u001b[0m\n",
      "\u001b[31m- Train Loss: 0.160079735 | Validation Loss: 0.166400089\u001b[0m \u001b[32m| NMSE: -4.1678030\u001b[0m\n"
     ]
    },
    {
     "name": "stderr",
     "output_type": "stream",
     "text": [
      "Model Training:  69%|\u001b[38;2;0;153;255m██████▊   \u001b[0m| 686/1000 [5:33:45<2:00:33, 23.04s/it]"
     ]
    },
    {
     "name": "stdout",
     "output_type": "stream",
     "text": [
      "\u001b[94m- Epoch: 686/1000\u001b[0m\n",
      "\u001b[31m- Train Loss: 0.161950790 | Validation Loss: 0.170933145\u001b[0m \u001b[32m| NMSE: -4.0698609\u001b[0m\n"
     ]
    },
    {
     "name": "stderr",
     "output_type": "stream",
     "text": [
      "Model Training:  69%|\u001b[38;2;0;153;255m██████▊   \u001b[0m| 687/1000 [5:34:10<2:02:14, 23.43s/it]"
     ]
    },
    {
     "name": "stdout",
     "output_type": "stream",
     "text": [
      "\u001b[94m- Epoch: 687/1000\u001b[0m\n",
      "\u001b[31m- Train Loss: 0.160586266 | Validation Loss: 0.093189447\u001b[0m \u001b[32m| NMSE: -4.1218723\u001b[0m\n"
     ]
    },
    {
     "name": "stderr",
     "output_type": "stream",
     "text": [
      "Model Training:  69%|\u001b[38;2;0;153;255m██████▉   \u001b[0m| 688/1000 [5:34:34<2:03:28, 23.74s/it]"
     ]
    },
    {
     "name": "stdout",
     "output_type": "stream",
     "text": [
      "\u001b[94m- Epoch: 688/1000\u001b[0m\n",
      "\u001b[31m- Train Loss: 0.176852012 | Validation Loss: 0.225129806\u001b[0m \u001b[32m| NMSE: -3.3789563\u001b[0m\n"
     ]
    },
    {
     "name": "stderr",
     "output_type": "stream",
     "text": [
      "Model Training:  69%|\u001b[38;2;0;153;255m██████▉   \u001b[0m| 689/1000 [5:34:59<2:04:07, 23.95s/it]"
     ]
    },
    {
     "name": "stdout",
     "output_type": "stream",
     "text": [
      "\u001b[94m- Epoch: 689/1000\u001b[0m\n",
      "\u001b[31m- Train Loss: 0.185977727 | Validation Loss: 0.197112675\u001b[0m \u001b[32m| NMSE: -2.0403349\u001b[0m\n"
     ]
    },
    {
     "name": "stderr",
     "output_type": "stream",
     "text": [
      "Model Training:  69%|\u001b[38;2;0;153;255m██████▉   \u001b[0m| 690/1000 [5:35:23<2:04:49, 24.16s/it]"
     ]
    },
    {
     "name": "stdout",
     "output_type": "stream",
     "text": [
      "\u001b[94m- Epoch: 690/1000\u001b[0m\n",
      "\u001b[31m- Train Loss: 0.154068254 | Validation Loss: 0.267437175\u001b[0m \u001b[32m| NMSE: -8.4981315\u001b[0m\n"
     ]
    },
    {
     "name": "stderr",
     "output_type": "stream",
     "text": [
      "Model Training:  69%|\u001b[38;2;0;153;255m██████▉   \u001b[0m| 691/1000 [5:35:48<2:04:56, 24.26s/it]"
     ]
    },
    {
     "name": "stdout",
     "output_type": "stream",
     "text": [
      "\u001b[94m- Epoch: 691/1000\u001b[0m\n",
      "\u001b[31m- Train Loss: 0.157353581 | Validation Loss: 0.164339400\u001b[0m \u001b[32m| NMSE: -10.9974347\u001b[0m\n"
     ]
    },
    {
     "name": "stderr",
     "output_type": "stream",
     "text": [
      "Model Training:  69%|\u001b[38;2;0;153;255m██████▉   \u001b[0m| 692/1000 [5:36:11<2:02:32, 23.87s/it]"
     ]
    },
    {
     "name": "stdout",
     "output_type": "stream",
     "text": [
      "\u001b[94m- Epoch: 692/1000\u001b[0m\n",
      "\u001b[31m- Train Loss: 0.166317721 | Validation Loss: 0.201668299\u001b[0m \u001b[32m| NMSE: -16.2360373\u001b[0m\n"
     ]
    },
    {
     "name": "stderr",
     "output_type": "stream",
     "text": [
      "Model Training:  69%|\u001b[38;2;0;153;255m██████▉   \u001b[0m| 693/1000 [5:36:33<1:59:59, 23.45s/it]"
     ]
    },
    {
     "name": "stdout",
     "output_type": "stream",
     "text": [
      "\u001b[94m- Epoch: 693/1000\u001b[0m\n",
      "\u001b[31m- Train Loss: 0.186511449 | Validation Loss: 0.137913808\u001b[0m \u001b[32m| NMSE: -7.4627454\u001b[0m\n"
     ]
    },
    {
     "name": "stderr",
     "output_type": "stream",
     "text": [
      "Model Training:  69%|\u001b[38;2;0;153;255m██████▉   \u001b[0m| 694/1000 [5:36:58<2:01:18, 23.78s/it]"
     ]
    },
    {
     "name": "stdout",
     "output_type": "stream",
     "text": [
      "\u001b[94m- Epoch: 694/1000\u001b[0m\n",
      "\u001b[31m- Train Loss: 0.176210526 | Validation Loss: 0.243512516\u001b[0m \u001b[32m| NMSE: -3.2593491\u001b[0m\n"
     ]
    },
    {
     "name": "stderr",
     "output_type": "stream",
     "text": [
      "Model Training:  70%|\u001b[38;2;0;153;255m██████▉   \u001b[0m| 695/1000 [5:37:20<1:59:08, 23.44s/it]"
     ]
    },
    {
     "name": "stdout",
     "output_type": "stream",
     "text": [
      "\u001b[94m- Epoch: 695/1000\u001b[0m\n",
      "\u001b[31m- Train Loss: 0.139381262 | Validation Loss: 0.120821606\u001b[0m \u001b[32m| NMSE: -3.7830932\u001b[0m\n"
     ]
    },
    {
     "name": "stderr",
     "output_type": "stream",
     "text": [
      "Model Training:  70%|\u001b[38;2;0;153;255m██████▉   \u001b[0m| 696/1000 [5:37:43<1:57:31, 23.19s/it]"
     ]
    },
    {
     "name": "stdout",
     "output_type": "stream",
     "text": [
      "\u001b[94m- Epoch: 696/1000\u001b[0m\n",
      "\u001b[31m- Train Loss: 0.169612346 | Validation Loss: 0.076969626\u001b[0m \u001b[32m| NMSE: -9.1691723\u001b[0m\n"
     ]
    },
    {
     "name": "stderr",
     "output_type": "stream",
     "text": [
      "Model Training:  70%|\u001b[38;2;0;153;255m██████▉   \u001b[0m| 697/1000 [5:38:07<1:58:57, 23.56s/it]"
     ]
    },
    {
     "name": "stdout",
     "output_type": "stream",
     "text": [
      "\u001b[94m- Epoch: 697/1000\u001b[0m\n",
      "\u001b[31m- Train Loss: 0.145695899 | Validation Loss: 0.161298039\u001b[0m \u001b[32m| NMSE: -0.3791173\u001b[0m\n"
     ]
    },
    {
     "name": "stderr",
     "output_type": "stream",
     "text": [
      "Model Training:  70%|\u001b[38;2;0;153;255m██████▉   \u001b[0m| 698/1000 [5:38:32<1:59:58, 23.84s/it]"
     ]
    },
    {
     "name": "stdout",
     "output_type": "stream",
     "text": [
      "\u001b[94m- Epoch: 698/1000\u001b[0m\n",
      "\u001b[31m- Train Loss: 0.149052808 | Validation Loss: 0.103080917\u001b[0m \u001b[32m| NMSE: -8.8619273\u001b[0m\n"
     ]
    },
    {
     "name": "stderr",
     "output_type": "stream",
     "text": [
      "Model Training:  70%|\u001b[38;2;0;153;255m██████▉   \u001b[0m| 699/1000 [5:38:57<2:00:51, 24.09s/it]"
     ]
    },
    {
     "name": "stdout",
     "output_type": "stream",
     "text": [
      "\u001b[94m- Epoch: 699/1000\u001b[0m\n",
      "\u001b[31m- Train Loss: 0.156736646 | Validation Loss: 0.217491983\u001b[0m \u001b[32m| NMSE: -4.8180741\u001b[0m\n"
     ]
    },
    {
     "name": "stderr",
     "output_type": "stream",
     "text": [
      "Model Training:  70%|\u001b[38;2;0;153;255m███████   \u001b[0m| 700/1000 [5:39:21<2:01:02, 24.21s/it]"
     ]
    },
    {
     "name": "stdout",
     "output_type": "stream",
     "text": [
      "\u001b[94m- Epoch: 700/1000\u001b[0m\n",
      "\u001b[31m- Train Loss: 0.167407035 | Validation Loss: 0.218322774\u001b[0m \u001b[32m| NMSE: -2.8040041\u001b[0m\n"
     ]
    },
    {
     "name": "stderr",
     "output_type": "stream",
     "text": [
      "Model Training:  70%|\u001b[38;2;0;153;255m███████   \u001b[0m| 701/1000 [5:39:45<2:00:53, 24.26s/it]"
     ]
    },
    {
     "name": "stdout",
     "output_type": "stream",
     "text": [
      "\u001b[94m- Epoch: 701/1000\u001b[0m\n",
      "\u001b[31m- Train Loss: 0.174447110 | Validation Loss: 0.179932481\u001b[0m \u001b[32m| NMSE: -6.9443994\u001b[0m\n"
     ]
    },
    {
     "name": "stderr",
     "output_type": "stream",
     "text": [
      "Model Training:  70%|\u001b[38;2;0;153;255m███████   \u001b[0m| 702/1000 [5:40:08<1:57:28, 23.65s/it]"
     ]
    },
    {
     "name": "stdout",
     "output_type": "stream",
     "text": [
      "\u001b[94m- Epoch: 702/1000\u001b[0m\n",
      "\u001b[31m- Train Loss: 0.185317245 | Validation Loss: 0.219851784\u001b[0m \u001b[32m| NMSE: -1.2948937\u001b[0m\n"
     ]
    },
    {
     "name": "stderr",
     "output_type": "stream",
     "text": [
      "Model Training:  70%|\u001b[38;2;0;153;255m███████   \u001b[0m| 703/1000 [5:40:31<1:56:08, 23.46s/it]"
     ]
    },
    {
     "name": "stdout",
     "output_type": "stream",
     "text": [
      "\u001b[94m- Epoch: 703/1000\u001b[0m\n",
      "\u001b[31m- Train Loss: 0.161200167 | Validation Loss: 0.040969921\u001b[0m \u001b[32m| NMSE: -7.5932355\u001b[0m\n"
     ]
    },
    {
     "name": "stderr",
     "output_type": "stream",
     "text": [
      "Model Training:  70%|\u001b[38;2;0;153;255m███████   \u001b[0m| 704/1000 [5:40:55<1:57:39, 23.85s/it]"
     ]
    },
    {
     "name": "stdout",
     "output_type": "stream",
     "text": [
      "\u001b[94m- Epoch: 704/1000\u001b[0m\n",
      "\u001b[31m- Train Loss: 0.158906288 | Validation Loss: 0.150332746\u001b[0m \u001b[32m| NMSE: -4.6666048\u001b[0m\n"
     ]
    },
    {
     "name": "stderr",
     "output_type": "stream",
     "text": [
      "Model Training:  70%|\u001b[38;2;0;153;255m███████   \u001b[0m| 705/1000 [5:41:18<1:54:54, 23.37s/it]"
     ]
    },
    {
     "name": "stdout",
     "output_type": "stream",
     "text": [
      "\u001b[94m- Epoch: 705/1000\u001b[0m\n",
      "\u001b[31m- Train Loss: 0.158148869 | Validation Loss: 0.217460056\u001b[0m \u001b[32m| NMSE: -9.8838766\u001b[0m\n"
     ]
    },
    {
     "name": "stderr",
     "output_type": "stream",
     "text": [
      "Model Training:  71%|\u001b[38;2;0;153;255m███████   \u001b[0m| 706/1000 [5:41:41<1:54:11, 23.30s/it]"
     ]
    },
    {
     "name": "stdout",
     "output_type": "stream",
     "text": [
      "\u001b[94m- Epoch: 706/1000\u001b[0m\n",
      "\u001b[31m- Train Loss: 0.174139151 | Validation Loss: 0.193684255\u001b[0m \u001b[32m| NMSE: -0.2066985\u001b[0m\n"
     ]
    },
    {
     "name": "stderr",
     "output_type": "stream",
     "text": [
      "Model Training:  71%|\u001b[38;2;0;153;255m███████   \u001b[0m| 707/1000 [5:42:04<1:54:02, 23.35s/it]"
     ]
    },
    {
     "name": "stdout",
     "output_type": "stream",
     "text": [
      "\u001b[94m- Epoch: 707/1000\u001b[0m\n",
      "\u001b[31m- Train Loss: 0.159649879 | Validation Loss: 0.148995059\u001b[0m \u001b[32m| NMSE: 7.2702742\u001b[0m\n"
     ]
    },
    {
     "name": "stderr",
     "output_type": "stream",
     "text": [
      "Model Training:  71%|\u001b[38;2;0;153;255m███████   \u001b[0m| 708/1000 [5:42:29<1:54:54, 23.61s/it]"
     ]
    },
    {
     "name": "stdout",
     "output_type": "stream",
     "text": [
      "\u001b[94m- Epoch: 708/1000\u001b[0m\n",
      "\u001b[31m- Train Loss: 0.161878777 | Validation Loss: 0.254319799\u001b[0m \u001b[32m| NMSE: -8.1318252\u001b[0m\n"
     ]
    },
    {
     "name": "stderr",
     "output_type": "stream",
     "text": [
      "Model Training:  71%|\u001b[38;2;0;153;255m███████   \u001b[0m| 709/1000 [5:42:53<1:55:19, 23.78s/it]"
     ]
    },
    {
     "name": "stdout",
     "output_type": "stream",
     "text": [
      "\u001b[94m- Epoch: 709/1000\u001b[0m\n",
      "\u001b[31m- Train Loss: 0.185213253 | Validation Loss: 0.088273671\u001b[0m \u001b[32m| NMSE: -0.7131870\u001b[0m\n"
     ]
    },
    {
     "name": "stderr",
     "output_type": "stream",
     "text": [
      "Model Training:  71%|\u001b[38;2;0;153;255m███████   \u001b[0m| 710/1000 [5:43:17<1:56:00, 24.00s/it]"
     ]
    },
    {
     "name": "stdout",
     "output_type": "stream",
     "text": [
      "\u001b[94m- Epoch: 710/1000\u001b[0m\n",
      "\u001b[31m- Train Loss: 0.171709360 | Validation Loss: 0.170222557\u001b[0m \u001b[32m| NMSE: -5.4216925\u001b[0m\n"
     ]
    },
    {
     "name": "stderr",
     "output_type": "stream",
     "text": [
      "Model Training:  71%|\u001b[38;2;0;153;255m███████   \u001b[0m| 711/1000 [5:43:41<1:55:52, 24.06s/it]"
     ]
    },
    {
     "name": "stdout",
     "output_type": "stream",
     "text": [
      "\u001b[94m- Epoch: 711/1000\u001b[0m\n",
      "\u001b[31m- Train Loss: 0.153118488 | Validation Loss: 0.067461881\u001b[0m \u001b[32m| NMSE: -7.4359114\u001b[0m\n"
     ]
    },
    {
     "name": "stderr",
     "output_type": "stream",
     "text": [
      "Model Training:  71%|\u001b[38;2;0;153;255m███████   \u001b[0m| 712/1000 [5:44:03<1:51:25, 23.21s/it]"
     ]
    },
    {
     "name": "stdout",
     "output_type": "stream",
     "text": [
      "\u001b[94m- Epoch: 712/1000\u001b[0m\n",
      "\u001b[31m- Train Loss: 0.163018432 | Validation Loss: 0.324815081\u001b[0m \u001b[32m| NMSE: -1.9913931\u001b[0m\n"
     ]
    },
    {
     "name": "stderr",
     "output_type": "stream",
     "text": [
      "Model Training:  71%|\u001b[38;2;0;153;255m███████▏  \u001b[0m| 713/1000 [5:44:26<1:51:47, 23.37s/it]"
     ]
    },
    {
     "name": "stdout",
     "output_type": "stream",
     "text": [
      "\u001b[94m- Epoch: 713/1000\u001b[0m\n",
      "\u001b[31m- Train Loss: 0.181902083 | Validation Loss: 0.132501697\u001b[0m \u001b[32m| NMSE: -9.0126565\u001b[0m\n"
     ]
    },
    {
     "name": "stderr",
     "output_type": "stream",
     "text": [
      "Model Training:  71%|\u001b[38;2;0;153;255m███████▏  \u001b[0m| 714/1000 [5:44:51<1:52:51, 23.68s/it]"
     ]
    },
    {
     "name": "stdout",
     "output_type": "stream",
     "text": [
      "\u001b[94m- Epoch: 714/1000\u001b[0m\n",
      "\u001b[31m- Train Loss: 0.147082064 | Validation Loss: 0.047931510\u001b[0m \u001b[32m| NMSE: 1.1525915\u001b[0m\n"
     ]
    },
    {
     "name": "stderr",
     "output_type": "stream",
     "text": [
      "Model Training:  72%|\u001b[38;2;0;153;255m███████▏  \u001b[0m| 715/1000 [5:45:13<1:49:52, 23.13s/it]"
     ]
    },
    {
     "name": "stdout",
     "output_type": "stream",
     "text": [
      "\u001b[94m- Epoch: 715/1000\u001b[0m\n",
      "\u001b[31m- Train Loss: 0.152310888 | Validation Loss: 0.091679785\u001b[0m \u001b[32m| NMSE: -5.4180815\u001b[0m\n"
     ]
    },
    {
     "name": "stderr",
     "output_type": "stream",
     "text": [
      "Model Training:  72%|\u001b[38;2;0;153;255m███████▏  \u001b[0m| 716/1000 [5:45:36<1:49:55, 23.22s/it]"
     ]
    },
    {
     "name": "stdout",
     "output_type": "stream",
     "text": [
      "\u001b[94m- Epoch: 716/1000\u001b[0m\n",
      "\u001b[31m- Train Loss: 0.158856842 | Validation Loss: 0.174412927\u001b[0m \u001b[32m| NMSE: -2.8080632\u001b[0m\n"
     ]
    },
    {
     "name": "stderr",
     "output_type": "stream",
     "text": [
      "Model Training:  72%|\u001b[38;2;0;153;255m███████▏  \u001b[0m| 717/1000 [5:46:00<1:50:56, 23.52s/it]"
     ]
    },
    {
     "name": "stdout",
     "output_type": "stream",
     "text": [
      "\u001b[94m- Epoch: 717/1000\u001b[0m\n",
      "\u001b[31m- Train Loss: 0.177741076 | Validation Loss: 0.249460638\u001b[0m \u001b[32m| NMSE: -6.2472324\u001b[0m\n"
     ]
    },
    {
     "name": "stderr",
     "output_type": "stream",
     "text": [
      "Model Training:  72%|\u001b[38;2;0;153;255m███████▏  \u001b[0m| 718/1000 [5:46:25<1:51:40, 23.76s/it]"
     ]
    },
    {
     "name": "stdout",
     "output_type": "stream",
     "text": [
      "\u001b[94m- Epoch: 718/1000\u001b[0m\n",
      "\u001b[31m- Train Loss: 0.162267952 | Validation Loss: 0.086441383\u001b[0m \u001b[32m| NMSE: -2.0274504\u001b[0m\n"
     ]
    },
    {
     "name": "stderr",
     "output_type": "stream",
     "text": [
      "Model Training:  72%|\u001b[38;2;0;153;255m███████▏  \u001b[0m| 719/1000 [5:46:49<1:52:20, 23.99s/it]"
     ]
    },
    {
     "name": "stdout",
     "output_type": "stream",
     "text": [
      "\u001b[94m- Epoch: 719/1000\u001b[0m\n",
      "\u001b[31m- Train Loss: 0.154238536 | Validation Loss: 0.133809055\u001b[0m \u001b[32m| NMSE: -5.9526515\u001b[0m\n"
     ]
    },
    {
     "name": "stderr",
     "output_type": "stream",
     "text": [
      "Model Training:  72%|\u001b[38;2;0;153;255m███████▏  \u001b[0m| 720/1000 [5:47:14<1:52:34, 24.12s/it]"
     ]
    },
    {
     "name": "stdout",
     "output_type": "stream",
     "text": [
      "\u001b[94m- Epoch: 720/1000\u001b[0m\n",
      "\u001b[31m- Train Loss: 0.163778391 | Validation Loss: 0.067204506\u001b[0m \u001b[32m| NMSE: 5.0249858\u001b[0m\n"
     ]
    },
    {
     "name": "stderr",
     "output_type": "stream",
     "text": [
      "Model Training:  72%|\u001b[38;2;0;153;255m███████▏  \u001b[0m| 721/1000 [5:47:38<1:52:13, 24.14s/it]"
     ]
    },
    {
     "name": "stdout",
     "output_type": "stream",
     "text": [
      "\u001b[94m- Epoch: 721/1000\u001b[0m\n",
      "\u001b[31m- Train Loss: 0.165622261 | Validation Loss: 0.087083985\u001b[0m \u001b[32m| NMSE: 3.5880671\u001b[0m\n"
     ]
    },
    {
     "name": "stderr",
     "output_type": "stream",
     "text": [
      "Model Training:  72%|\u001b[38;2;0;153;255m███████▏  \u001b[0m| 722/1000 [5:47:59<1:47:59, 23.31s/it]"
     ]
    },
    {
     "name": "stdout",
     "output_type": "stream",
     "text": [
      "\u001b[94m- Epoch: 722/1000\u001b[0m\n",
      "\u001b[31m- Train Loss: 0.182057895 | Validation Loss: 0.284110323\u001b[0m \u001b[32m| NMSE: -2.9734192\u001b[0m\n"
     ]
    },
    {
     "name": "stderr",
     "output_type": "stream",
     "text": [
      "Model Training:  72%|\u001b[38;2;0;153;255m███████▏  \u001b[0m| 723/1000 [5:48:24<1:49:17, 23.67s/it]"
     ]
    },
    {
     "name": "stdout",
     "output_type": "stream",
     "text": [
      "\u001b[94m- Epoch: 723/1000\u001b[0m\n",
      "\u001b[31m- Train Loss: 0.164741474 | Validation Loss: 0.231121697\u001b[0m \u001b[32m| NMSE: 4.5933112\u001b[0m\n"
     ]
    },
    {
     "name": "stderr",
     "output_type": "stream",
     "text": [
      "Model Training:  72%|\u001b[38;2;0;153;255m███████▏  \u001b[0m| 724/1000 [5:48:48<1:49:58, 23.91s/it]"
     ]
    },
    {
     "name": "stdout",
     "output_type": "stream",
     "text": [
      "\u001b[94m- Epoch: 724/1000\u001b[0m\n",
      "\u001b[31m- Train Loss: 0.158741846 | Validation Loss: 0.238638783\u001b[0m \u001b[32m| NMSE: -17.8067393\u001b[0m\n"
     ]
    },
    {
     "name": "stderr",
     "output_type": "stream",
     "text": [
      "Model Training:  72%|\u001b[38;2;0;153;255m███████▎  \u001b[0m| 725/1000 [5:49:10<1:46:18, 23.19s/it]"
     ]
    },
    {
     "name": "stdout",
     "output_type": "stream",
     "text": [
      "\u001b[94m- Epoch: 725/1000\u001b[0m\n",
      "\u001b[31m- Train Loss: 0.186130205 | Validation Loss: 0.103158738\u001b[0m \u001b[32m| NMSE: -1.7779986\u001b[0m\n"
     ]
    },
    {
     "name": "stderr",
     "output_type": "stream",
     "text": [
      "Model Training:  73%|\u001b[38;2;0;153;255m███████▎  \u001b[0m| 726/1000 [5:49:33<1:46:20, 23.29s/it]"
     ]
    },
    {
     "name": "stdout",
     "output_type": "stream",
     "text": [
      "\u001b[94m- Epoch: 726/1000\u001b[0m\n",
      "\u001b[31m- Train Loss: 0.175110533 | Validation Loss: 0.103399567\u001b[0m \u001b[32m| NMSE: -10.9530249\u001b[0m\n"
     ]
    },
    {
     "name": "stderr",
     "output_type": "stream",
     "text": [
      "Model Training:  73%|\u001b[38;2;0;153;255m███████▎  \u001b[0m| 727/1000 [5:49:58<1:47:28, 23.62s/it]"
     ]
    },
    {
     "name": "stdout",
     "output_type": "stream",
     "text": [
      "\u001b[94m- Epoch: 727/1000\u001b[0m\n",
      "\u001b[31m- Train Loss: 0.184986361 | Validation Loss: 0.364268154\u001b[0m \u001b[32m| NMSE: 7.0774341\u001b[0m\n"
     ]
    },
    {
     "name": "stderr",
     "output_type": "stream",
     "text": [
      "Model Training:  73%|\u001b[38;2;0;153;255m███████▎  \u001b[0m| 728/1000 [5:50:22<1:47:58, 23.82s/it]"
     ]
    },
    {
     "name": "stdout",
     "output_type": "stream",
     "text": [
      "\u001b[94m- Epoch: 728/1000\u001b[0m\n",
      "\u001b[31m- Train Loss: 0.162613048 | Validation Loss: 0.173691209\u001b[0m \u001b[32m| NMSE: 10.0564175\u001b[0m\n"
     ]
    },
    {
     "name": "stderr",
     "output_type": "stream",
     "text": [
      "Model Training:  73%|\u001b[38;2;0;153;255m███████▎  \u001b[0m| 729/1000 [5:50:46<1:48:40, 24.06s/it]"
     ]
    },
    {
     "name": "stdout",
     "output_type": "stream",
     "text": [
      "\u001b[94m- Epoch: 729/1000\u001b[0m\n",
      "\u001b[31m- Train Loss: 0.176193902 | Validation Loss: 0.124482016\u001b[0m \u001b[32m| NMSE: -1.5883120\u001b[0m\n"
     ]
    },
    {
     "name": "stderr",
     "output_type": "stream",
     "text": [
      "Model Training:  73%|\u001b[38;2;0;153;255m███████▎  \u001b[0m| 730/1000 [5:51:11<1:48:41, 24.15s/it]"
     ]
    },
    {
     "name": "stdout",
     "output_type": "stream",
     "text": [
      "\u001b[94m- Epoch: 730/1000\u001b[0m\n",
      "\u001b[31m- Train Loss: 0.169606811 | Validation Loss: 0.126324714\u001b[0m \u001b[32m| NMSE: -3.5654161\u001b[0m\n"
     ]
    },
    {
     "name": "stderr",
     "output_type": "stream",
     "text": [
      "Model Training:  73%|\u001b[38;2;0;153;255m███████▎  \u001b[0m| 731/1000 [5:51:34<1:47:18, 23.94s/it]"
     ]
    },
    {
     "name": "stdout",
     "output_type": "stream",
     "text": [
      "\u001b[94m- Epoch: 731/1000\u001b[0m\n",
      "\u001b[31m- Train Loss: 0.171207309 | Validation Loss: 0.124085046\u001b[0m \u001b[32m| NMSE: -1.8919976\u001b[0m\n"
     ]
    },
    {
     "name": "stderr",
     "output_type": "stream",
     "text": [
      "Model Training:  73%|\u001b[38;2;0;153;255m███████▎  \u001b[0m| 732/1000 [5:51:56<1:44:27, 23.39s/it]"
     ]
    },
    {
     "name": "stdout",
     "output_type": "stream",
     "text": [
      "\u001b[94m- Epoch: 732/1000\u001b[0m\n",
      "\u001b[31m- Train Loss: 0.167781435 | Validation Loss: 0.056788801\u001b[0m \u001b[32m| NMSE: -5.1928377\u001b[0m\n"
     ]
    },
    {
     "name": "stderr",
     "output_type": "stream",
     "text": [
      "Model Training:  73%|\u001b[38;2;0;153;255m███████▎  \u001b[0m| 733/1000 [5:52:21<1:45:23, 23.68s/it]"
     ]
    },
    {
     "name": "stdout",
     "output_type": "stream",
     "text": [
      "\u001b[94m- Epoch: 733/1000\u001b[0m\n",
      "\u001b[31m- Train Loss: 0.158304958 | Validation Loss: 0.281256740\u001b[0m \u001b[32m| NMSE: -1.4889830\u001b[0m\n"
     ]
    },
    {
     "name": "stderr",
     "output_type": "stream",
     "text": [
      "Model Training:  73%|\u001b[38;2;0;153;255m███████▎  \u001b[0m| 734/1000 [5:52:44<1:45:02, 23.69s/it]"
     ]
    },
    {
     "name": "stdout",
     "output_type": "stream",
     "text": [
      "\u001b[94m- Epoch: 734/1000\u001b[0m\n",
      "\u001b[31m- Train Loss: 0.161627028 | Validation Loss: 0.165758483\u001b[0m \u001b[32m| NMSE: -8.5514174\u001b[0m\n"
     ]
    },
    {
     "name": "stderr",
     "output_type": "stream",
     "text": [
      "Model Training:  74%|\u001b[38;2;0;153;255m███████▎  \u001b[0m| 735/1000 [5:53:06<1:41:51, 23.06s/it]"
     ]
    },
    {
     "name": "stdout",
     "output_type": "stream",
     "text": [
      "\u001b[94m- Epoch: 735/1000\u001b[0m\n",
      "\u001b[31m- Train Loss: 0.179518283 | Validation Loss: 0.096384416\u001b[0m \u001b[32m| NMSE: -1.4590206\u001b[0m\n"
     ]
    },
    {
     "name": "stderr",
     "output_type": "stream",
     "text": [
      "Model Training:  74%|\u001b[38;2;0;153;255m███████▎  \u001b[0m| 736/1000 [5:53:30<1:43:11, 23.45s/it]"
     ]
    },
    {
     "name": "stdout",
     "output_type": "stream",
     "text": [
      "\u001b[94m- Epoch: 736/1000\u001b[0m\n",
      "\u001b[31m- Train Loss: 0.177935422 | Validation Loss: 0.322754977\u001b[0m \u001b[32m| NMSE: 1.9497120\u001b[0m\n"
     ]
    },
    {
     "name": "stderr",
     "output_type": "stream",
     "text": [
      "Model Training:  74%|\u001b[38;2;0;153;255m███████▎  \u001b[0m| 737/1000 [5:53:55<1:44:06, 23.75s/it]"
     ]
    },
    {
     "name": "stdout",
     "output_type": "stream",
     "text": [
      "\u001b[94m- Epoch: 737/1000\u001b[0m\n",
      "\u001b[31m- Train Loss: 0.172269454 | Validation Loss: 0.188221390\u001b[0m \u001b[32m| NMSE: -7.0360985\u001b[0m\n"
     ]
    },
    {
     "name": "stderr",
     "output_type": "stream",
     "text": [
      "Model Training:  74%|\u001b[38;2;0;153;255m███████▍  \u001b[0m| 738/1000 [5:54:19<1:44:31, 23.94s/it]"
     ]
    },
    {
     "name": "stdout",
     "output_type": "stream",
     "text": [
      "\u001b[94m- Epoch: 738/1000\u001b[0m\n",
      "\u001b[31m- Train Loss: 0.157587312 | Validation Loss: 0.259161075\u001b[0m \u001b[32m| NMSE: -4.6416264\u001b[0m\n"
     ]
    },
    {
     "name": "stderr",
     "output_type": "stream",
     "text": [
      "Model Training:  74%|\u001b[38;2;0;153;255m███████▍  \u001b[0m| 739/1000 [5:54:43<1:44:00, 23.91s/it]"
     ]
    },
    {
     "name": "stdout",
     "output_type": "stream",
     "text": [
      "\u001b[94m- Epoch: 739/1000\u001b[0m\n",
      "\u001b[31m- Train Loss: 0.168539422 | Validation Loss: 0.094761121\u001b[0m \u001b[32m| NMSE: -2.5993007\u001b[0m\n"
     ]
    },
    {
     "name": "stderr",
     "output_type": "stream",
     "text": [
      "Model Training:  74%|\u001b[38;2;0;153;255m███████▍  \u001b[0m| 740/1000 [5:55:07<1:44:14, 24.06s/it]"
     ]
    },
    {
     "name": "stdout",
     "output_type": "stream",
     "text": [
      "\u001b[94m- Epoch: 740/1000\u001b[0m\n",
      "\u001b[31m- Train Loss: 0.180630041 | Validation Loss: 0.083497122\u001b[0m \u001b[32m| NMSE: -18.8968787\u001b[0m\n"
     ]
    },
    {
     "name": "stderr",
     "output_type": "stream",
     "text": [
      "Model Training:  74%|\u001b[38;2;0;153;255m███████▍  \u001b[0m| 741/1000 [5:55:30<1:42:25, 23.73s/it]"
     ]
    },
    {
     "name": "stdout",
     "output_type": "stream",
     "text": [
      "\u001b[94m- Epoch: 741/1000\u001b[0m\n",
      "\u001b[31m- Train Loss: 0.166120267 | Validation Loss: 0.134241709\u001b[0m \u001b[32m| NMSE: -5.3235948\u001b[0m\n"
     ]
    },
    {
     "name": "stderr",
     "output_type": "stream",
     "text": [
      "Model Training:  74%|\u001b[38;2;0;153;255m███████▍  \u001b[0m| 742/1000 [5:55:50<1:36:07, 22.35s/it]"
     ]
    },
    {
     "name": "stdout",
     "output_type": "stream",
     "text": [
      "\u001b[94m- Epoch: 742/1000\u001b[0m\n",
      "\u001b[31m- Train Loss: 0.166401213 | Validation Loss: 0.244915490\u001b[0m \u001b[32m| NMSE: -13.9198844\u001b[0m\n"
     ]
    },
    {
     "name": "stderr",
     "output_type": "stream",
     "text": [
      "Model Training:  74%|\u001b[38;2;0;153;255m███████▍  \u001b[0m| 743/1000 [5:55:59<1:19:16, 18.51s/it]"
     ]
    },
    {
     "name": "stdout",
     "output_type": "stream",
     "text": [
      "\u001b[94m- Epoch: 743/1000\u001b[0m\n",
      "\u001b[31m- Train Loss: 0.173451960 | Validation Loss: 0.240684072\u001b[0m \u001b[32m| NMSE: -2.6751164\u001b[0m\n"
     ]
    },
    {
     "name": "stderr",
     "output_type": "stream",
     "text": [
      "Model Training:  74%|\u001b[38;2;0;153;255m███████▍  \u001b[0m| 744/1000 [5:56:08<1:06:52, 15.67s/it]"
     ]
    },
    {
     "name": "stdout",
     "output_type": "stream",
     "text": [
      "\u001b[94m- Epoch: 744/1000\u001b[0m\n",
      "\u001b[31m- Train Loss: 0.168963061 | Validation Loss: 0.236682994\u001b[0m \u001b[32m| NMSE: -5.3972452\u001b[0m\n"
     ]
    },
    {
     "name": "stderr",
     "output_type": "stream",
     "text": [
      "Model Training:  74%|\u001b[38;2;0;153;255m███████▍  \u001b[0m| 745/1000 [5:56:17<58:08, 13.68s/it]  "
     ]
    },
    {
     "name": "stdout",
     "output_type": "stream",
     "text": [
      "\u001b[94m- Epoch: 745/1000\u001b[0m\n",
      "\u001b[31m- Train Loss: 0.164766703 | Validation Loss: 0.265742595\u001b[0m \u001b[32m| NMSE: 3.1799798\u001b[0m\n"
     ]
    },
    {
     "name": "stderr",
     "output_type": "stream",
     "text": [
      "Model Training:  75%|\u001b[38;2;0;153;255m███████▍  \u001b[0m| 746/1000 [5:56:26<52:00, 12.29s/it]"
     ]
    },
    {
     "name": "stdout",
     "output_type": "stream",
     "text": [
      "\u001b[94m- Epoch: 746/1000\u001b[0m\n",
      "\u001b[31m- Train Loss: 0.182716598 | Validation Loss: 0.077402491\u001b[0m \u001b[32m| NMSE: -5.5313995\u001b[0m\n"
     ]
    },
    {
     "name": "stderr",
     "output_type": "stream",
     "text": [
      "Model Training:  75%|\u001b[38;2;0;153;255m███████▍  \u001b[0m| 747/1000 [5:56:35<47:42, 11.31s/it]"
     ]
    },
    {
     "name": "stdout",
     "output_type": "stream",
     "text": [
      "\u001b[94m- Epoch: 747/1000\u001b[0m\n",
      "\u001b[31m- Train Loss: 0.161573025 | Validation Loss: 0.050992223\u001b[0m \u001b[32m| NMSE: -13.6831031\u001b[0m\n"
     ]
    },
    {
     "name": "stderr",
     "output_type": "stream",
     "text": [
      "Model Training:  75%|\u001b[38;2;0;153;255m███████▍  \u001b[0m| 748/1000 [5:56:44<44:38, 10.63s/it]"
     ]
    },
    {
     "name": "stdout",
     "output_type": "stream",
     "text": [
      "\u001b[94m- Epoch: 748/1000\u001b[0m\n",
      "\u001b[31m- Train Loss: 0.170846138 | Validation Loss: 0.188751083\u001b[0m \u001b[32m| NMSE: -7.7103679\u001b[0m\n"
     ]
    },
    {
     "name": "stderr",
     "output_type": "stream",
     "text": [
      "Model Training:  75%|\u001b[38;2;0;153;255m███████▍  \u001b[0m| 749/1000 [5:56:53<42:28, 10.16s/it]"
     ]
    },
    {
     "name": "stdout",
     "output_type": "stream",
     "text": [
      "\u001b[94m- Epoch: 749/1000\u001b[0m\n",
      "\u001b[31m- Train Loss: 0.166758642 | Validation Loss: 0.227857391\u001b[0m \u001b[32m| NMSE: -12.2029409\u001b[0m\n"
     ]
    },
    {
     "name": "stderr",
     "output_type": "stream",
     "text": [
      "Model Training:  75%|\u001b[38;2;0;153;255m███████▌  \u001b[0m| 750/1000 [5:57:02<40:54,  9.82s/it]"
     ]
    },
    {
     "name": "stdout",
     "output_type": "stream",
     "text": [
      "\u001b[94m- Epoch: 750/1000\u001b[0m\n",
      "\u001b[31m- Train Loss: 0.170554274 | Validation Loss: 0.182682133\u001b[0m \u001b[32m| NMSE: -8.7719955\u001b[0m\n"
     ]
    },
    {
     "name": "stderr",
     "output_type": "stream",
     "text": [
      "Model Training:  75%|\u001b[38;2;0;153;255m███████▌  \u001b[0m| 751/1000 [5:57:11<39:47,  9.59s/it]"
     ]
    },
    {
     "name": "stdout",
     "output_type": "stream",
     "text": [
      "\u001b[94m- Epoch: 751/1000\u001b[0m\n",
      "\u001b[31m- Train Loss: 0.183599410 | Validation Loss: 0.071046059\u001b[0m \u001b[32m| NMSE: -7.3376293\u001b[0m\n"
     ]
    },
    {
     "name": "stderr",
     "output_type": "stream",
     "text": [
      "Model Training:  75%|\u001b[38;2;0;153;255m███████▌  \u001b[0m| 752/1000 [5:57:20<38:56,  9.42s/it]"
     ]
    },
    {
     "name": "stdout",
     "output_type": "stream",
     "text": [
      "\u001b[94m- Epoch: 752/1000\u001b[0m\n",
      "\u001b[31m- Train Loss: 0.170411130 | Validation Loss: 0.248366045\u001b[0m \u001b[32m| NMSE: 4.3416640\u001b[0m\n"
     ]
    },
    {
     "name": "stderr",
     "output_type": "stream",
     "text": [
      "Model Training:  75%|\u001b[38;2;0;153;255m███████▌  \u001b[0m| 753/1000 [5:57:29<38:19,  9.31s/it]"
     ]
    },
    {
     "name": "stdout",
     "output_type": "stream",
     "text": [
      "\u001b[94m- Epoch: 753/1000\u001b[0m\n",
      "\u001b[31m- Train Loss: 0.170051097 | Validation Loss: 0.077289565\u001b[0m \u001b[32m| NMSE: -7.1355641\u001b[0m\n"
     ]
    },
    {
     "name": "stderr",
     "output_type": "stream",
     "text": [
      "Model Training:  75%|\u001b[38;2;0;153;255m███████▌  \u001b[0m| 754/1000 [5:57:39<37:54,  9.25s/it]"
     ]
    },
    {
     "name": "stdout",
     "output_type": "stream",
     "text": [
      "\u001b[94m- Epoch: 754/1000\u001b[0m\n",
      "\u001b[31m- Train Loss: 0.172132180 | Validation Loss: 0.217099143\u001b[0m \u001b[32m| NMSE: 3.4895012\u001b[0m\n"
     ]
    },
    {
     "name": "stderr",
     "output_type": "stream",
     "text": [
      "Model Training:  76%|\u001b[38;2;0;153;255m███████▌  \u001b[0m| 755/1000 [5:57:48<37:31,  9.19s/it]"
     ]
    },
    {
     "name": "stdout",
     "output_type": "stream",
     "text": [
      "\u001b[94m- Epoch: 755/1000\u001b[0m\n",
      "\u001b[31m- Train Loss: 0.164973837 | Validation Loss: 0.089648612\u001b[0m \u001b[32m| NMSE: 4.9713581\u001b[0m\n"
     ]
    },
    {
     "name": "stderr",
     "output_type": "stream",
     "text": [
      "Model Training:  76%|\u001b[38;2;0;153;255m███████▌  \u001b[0m| 756/1000 [5:57:57<37:02,  9.11s/it]"
     ]
    },
    {
     "name": "stdout",
     "output_type": "stream",
     "text": [
      "\u001b[94m- Epoch: 756/1000\u001b[0m\n",
      "\u001b[31m- Train Loss: 0.169354900 | Validation Loss: 0.169119120\u001b[0m \u001b[32m| NMSE: -4.3020493\u001b[0m\n"
     ]
    },
    {
     "name": "stderr",
     "output_type": "stream",
     "text": [
      "Model Training:  76%|\u001b[38;2;0;153;255m███████▌  \u001b[0m| 757/1000 [5:58:05<36:38,  9.05s/it]"
     ]
    },
    {
     "name": "stdout",
     "output_type": "stream",
     "text": [
      "\u001b[94m- Epoch: 757/1000\u001b[0m\n",
      "\u001b[31m- Train Loss: 0.162426669 | Validation Loss: 0.118390021\u001b[0m \u001b[32m| NMSE: -8.6924801\u001b[0m\n"
     ]
    },
    {
     "name": "stderr",
     "output_type": "stream",
     "text": [
      "Model Training:  76%|\u001b[38;2;0;153;255m███████▌  \u001b[0m| 758/1000 [5:58:14<36:19,  9.01s/it]"
     ]
    },
    {
     "name": "stdout",
     "output_type": "stream",
     "text": [
      "\u001b[94m- Epoch: 758/1000\u001b[0m\n",
      "\u001b[31m- Train Loss: 0.164400757 | Validation Loss: 0.057110865\u001b[0m \u001b[32m| NMSE: -6.7629590\u001b[0m\n"
     ]
    },
    {
     "name": "stderr",
     "output_type": "stream",
     "text": [
      "Model Training:  76%|\u001b[38;2;0;153;255m███████▌  \u001b[0m| 759/1000 [5:58:23<36:04,  8.98s/it]"
     ]
    },
    {
     "name": "stdout",
     "output_type": "stream",
     "text": [
      "\u001b[94m- Epoch: 759/1000\u001b[0m\n",
      "\u001b[31m- Train Loss: 0.165853340 | Validation Loss: 0.247245902\u001b[0m \u001b[32m| NMSE: -2.7875645\u001b[0m\n"
     ]
    },
    {
     "name": "stderr",
     "output_type": "stream",
     "text": [
      "Model Training:  76%|\u001b[38;2;0;153;255m███████▌  \u001b[0m| 760/1000 [5:58:32<35:52,  8.97s/it]"
     ]
    },
    {
     "name": "stdout",
     "output_type": "stream",
     "text": [
      "\u001b[94m- Epoch: 760/1000\u001b[0m\n",
      "\u001b[31m- Train Loss: 0.152052311 | Validation Loss: 0.090699974\u001b[0m \u001b[32m| NMSE: -1.7562774\u001b[0m\n"
     ]
    },
    {
     "name": "stderr",
     "output_type": "stream",
     "text": [
      "Model Training:  76%|\u001b[38;2;0;153;255m███████▌  \u001b[0m| 761/1000 [5:58:41<35:50,  9.00s/it]"
     ]
    },
    {
     "name": "stdout",
     "output_type": "stream",
     "text": [
      "\u001b[94m- Epoch: 761/1000\u001b[0m\n",
      "\u001b[31m- Train Loss: 0.181673984 | Validation Loss: 0.219096783\u001b[0m \u001b[32m| NMSE: -7.4609544\u001b[0m\n"
     ]
    },
    {
     "name": "stderr",
     "output_type": "stream",
     "text": [
      "Model Training:  76%|\u001b[38;2;0;153;255m███████▌  \u001b[0m| 762/1000 [5:58:50<35:37,  8.98s/it]"
     ]
    },
    {
     "name": "stdout",
     "output_type": "stream",
     "text": [
      "\u001b[94m- Epoch: 762/1000\u001b[0m\n",
      "\u001b[31m- Train Loss: 0.170108811 | Validation Loss: 0.363897552\u001b[0m \u001b[32m| NMSE: -1.3544351\u001b[0m\n"
     ]
    },
    {
     "name": "stderr",
     "output_type": "stream",
     "text": [
      "Model Training:  76%|\u001b[38;2;0;153;255m███████▋  \u001b[0m| 763/1000 [5:58:59<35:25,  8.97s/it]"
     ]
    },
    {
     "name": "stdout",
     "output_type": "stream",
     "text": [
      "\u001b[94m- Epoch: 763/1000\u001b[0m\n",
      "\u001b[31m- Train Loss: 0.153515154 | Validation Loss: 0.152448232\u001b[0m \u001b[32m| NMSE: -6.8585885\u001b[0m\n"
     ]
    },
    {
     "name": "stderr",
     "output_type": "stream",
     "text": [
      "Model Training:  76%|\u001b[38;2;0;153;255m███████▋  \u001b[0m| 764/1000 [5:59:08<35:14,  8.96s/it]"
     ]
    },
    {
     "name": "stdout",
     "output_type": "stream",
     "text": [
      "\u001b[94m- Epoch: 764/1000\u001b[0m\n",
      "\u001b[31m- Train Loss: 0.173651817 | Validation Loss: 0.185853089\u001b[0m \u001b[32m| NMSE: 1.2590734\u001b[0m\n"
     ]
    },
    {
     "name": "stderr",
     "output_type": "stream",
     "text": [
      "Model Training:  76%|\u001b[38;2;0;153;255m███████▋  \u001b[0m| 765/1000 [5:59:17<35:04,  8.95s/it]"
     ]
    },
    {
     "name": "stdout",
     "output_type": "stream",
     "text": [
      "\u001b[94m- Epoch: 765/1000\u001b[0m\n",
      "\u001b[31m- Train Loss: 0.165223169 | Validation Loss: 0.133100649\u001b[0m \u001b[32m| NMSE: 1.3291960\u001b[0m\n"
     ]
    },
    {
     "name": "stderr",
     "output_type": "stream",
     "text": [
      "Model Training:  77%|\u001b[38;2;0;153;255m███████▋  \u001b[0m| 766/1000 [5:59:26<34:52,  8.94s/it]"
     ]
    },
    {
     "name": "stdout",
     "output_type": "stream",
     "text": [
      "\u001b[94m- Epoch: 766/1000\u001b[0m\n",
      "\u001b[31m- Train Loss: 0.166241574 | Validation Loss: 0.061401795\u001b[0m \u001b[32m| NMSE: -0.9039910\u001b[0m\n"
     ]
    },
    {
     "name": "stderr",
     "output_type": "stream",
     "text": [
      "Model Training:  77%|\u001b[38;2;0;153;255m███████▋  \u001b[0m| 767/1000 [5:59:35<34:41,  8.93s/it]"
     ]
    },
    {
     "name": "stdout",
     "output_type": "stream",
     "text": [
      "\u001b[94m- Epoch: 767/1000\u001b[0m\n",
      "\u001b[31m- Train Loss: 0.166353461 | Validation Loss: 0.054712492\u001b[0m \u001b[32m| NMSE: -7.0743034\u001b[0m\n"
     ]
    },
    {
     "name": "stderr",
     "output_type": "stream",
     "text": [
      "Model Training:  77%|\u001b[38;2;0;153;255m███████▋  \u001b[0m| 768/1000 [5:59:44<34:31,  8.93s/it]"
     ]
    },
    {
     "name": "stdout",
     "output_type": "stream",
     "text": [
      "\u001b[94m- Epoch: 768/1000\u001b[0m\n",
      "\u001b[31m- Train Loss: 0.174525267 | Validation Loss: 0.089582847\u001b[0m \u001b[32m| NMSE: -6.2831036\u001b[0m\n"
     ]
    },
    {
     "name": "stderr",
     "output_type": "stream",
     "text": [
      "Model Training:  77%|\u001b[38;2;0;153;255m███████▋  \u001b[0m| 769/1000 [5:59:53<34:23,  8.93s/it]"
     ]
    },
    {
     "name": "stdout",
     "output_type": "stream",
     "text": [
      "\u001b[94m- Epoch: 769/1000\u001b[0m\n",
      "\u001b[31m- Train Loss: 0.158805435 | Validation Loss: 0.094211627\u001b[0m \u001b[32m| NMSE: -0.9588723\u001b[0m\n"
     ]
    },
    {
     "name": "stderr",
     "output_type": "stream",
     "text": [
      "Model Training:  77%|\u001b[38;2;0;153;255m███████▋  \u001b[0m| 770/1000 [6:00:02<34:13,  8.93s/it]"
     ]
    },
    {
     "name": "stdout",
     "output_type": "stream",
     "text": [
      "\u001b[94m- Epoch: 770/1000\u001b[0m\n",
      "\u001b[31m- Train Loss: 0.171364426 | Validation Loss: 0.173756710\u001b[0m \u001b[32m| NMSE: 2.9047127\u001b[0m\n"
     ]
    },
    {
     "name": "stderr",
     "output_type": "stream",
     "text": [
      "Model Training:  77%|\u001b[38;2;0;153;255m███████▋  \u001b[0m| 771/1000 [6:00:11<34:05,  8.93s/it]"
     ]
    },
    {
     "name": "stdout",
     "output_type": "stream",
     "text": [
      "\u001b[94m- Epoch: 771/1000\u001b[0m\n",
      "\u001b[31m- Train Loss: 0.168195256 | Validation Loss: 0.299967493\u001b[0m \u001b[32m| NMSE: -7.7726772\u001b[0m\n"
     ]
    },
    {
     "name": "stderr",
     "output_type": "stream",
     "text": [
      "Model Training:  77%|\u001b[38;2;0;153;255m███████▋  \u001b[0m| 772/1000 [6:00:20<33:58,  8.94s/it]"
     ]
    },
    {
     "name": "stdout",
     "output_type": "stream",
     "text": [
      "\u001b[94m- Epoch: 772/1000\u001b[0m\n",
      "\u001b[31m- Train Loss: 0.174210863 | Validation Loss: 0.138964539\u001b[0m \u001b[32m| NMSE: -9.7697458\u001b[0m\n"
     ]
    },
    {
     "name": "stderr",
     "output_type": "stream",
     "text": [
      "Model Training:  77%|\u001b[38;2;0;153;255m███████▋  \u001b[0m| 773/1000 [6:00:29<33:50,  8.95s/it]"
     ]
    },
    {
     "name": "stdout",
     "output_type": "stream",
     "text": [
      "\u001b[94m- Epoch: 773/1000\u001b[0m\n",
      "\u001b[31m- Train Loss: 0.169872137 | Validation Loss: 0.180601252\u001b[0m \u001b[32m| NMSE: -9.6996269\u001b[0m\n"
     ]
    },
    {
     "name": "stderr",
     "output_type": "stream",
     "text": [
      "Model Training:  77%|\u001b[38;2;0;153;255m███████▋  \u001b[0m| 774/1000 [6:00:38<33:53,  9.00s/it]"
     ]
    },
    {
     "name": "stdout",
     "output_type": "stream",
     "text": [
      "\u001b[94m- Epoch: 774/1000\u001b[0m\n",
      "\u001b[31m- Train Loss: 0.170043093 | Validation Loss: 0.114134831\u001b[0m \u001b[32m| NMSE: -6.8478806\u001b[0m\n"
     ]
    },
    {
     "name": "stderr",
     "output_type": "stream",
     "text": [
      "Model Training:  78%|\u001b[38;2;0;153;255m███████▊  \u001b[0m| 775/1000 [6:00:47<34:32,  9.21s/it]"
     ]
    },
    {
     "name": "stdout",
     "output_type": "stream",
     "text": [
      "\u001b[94m- Epoch: 775/1000\u001b[0m\n",
      "\u001b[31m- Train Loss: 0.168132766 | Validation Loss: 0.079168306\u001b[0m \u001b[32m| NMSE: -1.4393221\u001b[0m\n"
     ]
    },
    {
     "name": "stderr",
     "output_type": "stream",
     "text": [
      "Model Training:  78%|\u001b[38;2;0;153;255m███████▊  \u001b[0m| 776/1000 [6:00:57<34:57,  9.36s/it]"
     ]
    },
    {
     "name": "stdout",
     "output_type": "stream",
     "text": [
      "\u001b[94m- Epoch: 776/1000\u001b[0m\n",
      "\u001b[31m- Train Loss: 0.168286020 | Validation Loss: 0.145184852\u001b[0m \u001b[32m| NMSE: -8.6072049\u001b[0m\n"
     ]
    },
    {
     "name": "stderr",
     "output_type": "stream",
     "text": [
      "Model Training:  78%|\u001b[38;2;0;153;255m███████▊  \u001b[0m| 777/1000 [6:01:07<35:18,  9.50s/it]"
     ]
    },
    {
     "name": "stdout",
     "output_type": "stream",
     "text": [
      "\u001b[94m- Epoch: 777/1000\u001b[0m\n",
      "\u001b[31m- Train Loss: 0.154622284 | Validation Loss: 0.188812730\u001b[0m \u001b[32m| NMSE: -7.8248913\u001b[0m\n"
     ]
    },
    {
     "name": "stderr",
     "output_type": "stream",
     "text": [
      "Model Training:  78%|\u001b[38;2;0;153;255m███████▊  \u001b[0m| 778/1000 [6:01:17<35:23,  9.57s/it]"
     ]
    },
    {
     "name": "stdout",
     "output_type": "stream",
     "text": [
      "\u001b[94m- Epoch: 778/1000\u001b[0m\n",
      "\u001b[31m- Train Loss: 0.170977515 | Validation Loss: 0.298624822\u001b[0m \u001b[32m| NMSE: -1.0230374\u001b[0m\n"
     ]
    },
    {
     "name": "stderr",
     "output_type": "stream",
     "text": [
      "Model Training:  78%|\u001b[38;2;0;153;255m███████▊  \u001b[0m| 779/1000 [6:01:26<35:22,  9.61s/it]"
     ]
    },
    {
     "name": "stdout",
     "output_type": "stream",
     "text": [
      "\u001b[94m- Epoch: 779/1000\u001b[0m\n",
      "\u001b[31m- Train Loss: 0.159978779 | Validation Loss: 0.115129744\u001b[0m \u001b[32m| NMSE: 0.8818798\u001b[0m\n"
     ]
    },
    {
     "name": "stderr",
     "output_type": "stream",
     "text": [
      "Model Training:  78%|\u001b[38;2;0;153;255m███████▊  \u001b[0m| 780/1000 [6:01:35<34:34,  9.43s/it]"
     ]
    },
    {
     "name": "stdout",
     "output_type": "stream",
     "text": [
      "\u001b[94m- Epoch: 780/1000\u001b[0m\n",
      "\u001b[31m- Train Loss: 0.157412510 | Validation Loss: 0.154012471\u001b[0m \u001b[32m| NMSE: -5.6463366\u001b[0m\n"
     ]
    },
    {
     "name": "stderr",
     "output_type": "stream",
     "text": [
      "Model Training:  78%|\u001b[38;2;0;153;255m███████▊  \u001b[0m| 781/1000 [6:01:44<33:58,  9.31s/it]"
     ]
    },
    {
     "name": "stdout",
     "output_type": "stream",
     "text": [
      "\u001b[94m- Epoch: 781/1000\u001b[0m\n",
      "\u001b[31m- Train Loss: 0.173858430 | Validation Loss: 0.196003358\u001b[0m \u001b[32m| NMSE: -7.9656656\u001b[0m\n"
     ]
    },
    {
     "name": "stderr",
     "output_type": "stream",
     "text": [
      "Model Training:  78%|\u001b[38;2;0;153;255m███████▊  \u001b[0m| 782/1000 [6:01:53<33:29,  9.22s/it]"
     ]
    },
    {
     "name": "stdout",
     "output_type": "stream",
     "text": [
      "\u001b[94m- Epoch: 782/1000\u001b[0m\n",
      "\u001b[31m- Train Loss: 0.174013638 | Validation Loss: 0.073039904\u001b[0m \u001b[32m| NMSE: 0.5942531\u001b[0m\n"
     ]
    },
    {
     "name": "stderr",
     "output_type": "stream",
     "text": [
      "Model Training:  78%|\u001b[38;2;0;153;255m███████▊  \u001b[0m| 783/1000 [6:02:02<33:07,  9.16s/it]"
     ]
    },
    {
     "name": "stdout",
     "output_type": "stream",
     "text": [
      "\u001b[94m- Epoch: 783/1000\u001b[0m\n",
      "\u001b[31m- Train Loss: 0.150828977 | Validation Loss: 0.300137725\u001b[0m \u001b[32m| NMSE: 0.9615521\u001b[0m\n"
     ]
    },
    {
     "name": "stderr",
     "output_type": "stream",
     "text": [
      "Model Training:  78%|\u001b[38;2;0;153;255m███████▊  \u001b[0m| 784/1000 [6:02:11<32:50,  9.12s/it]"
     ]
    },
    {
     "name": "stdout",
     "output_type": "stream",
     "text": [
      "\u001b[94m- Epoch: 784/1000\u001b[0m\n",
      "\u001b[31m- Train Loss: 0.168394855 | Validation Loss: 0.118009222\u001b[0m \u001b[32m| NMSE: -1.7735074\u001b[0m\n"
     ]
    },
    {
     "name": "stderr",
     "output_type": "stream",
     "text": [
      "Model Training:  78%|\u001b[38;2;0;153;255m███████▊  \u001b[0m| 785/1000 [6:02:20<32:34,  9.09s/it]"
     ]
    },
    {
     "name": "stdout",
     "output_type": "stream",
     "text": [
      "\u001b[94m- Epoch: 785/1000\u001b[0m\n",
      "\u001b[31m- Train Loss: 0.175763359 | Validation Loss: 0.333937352\u001b[0m \u001b[32m| NMSE: -4.5002887\u001b[0m\n"
     ]
    },
    {
     "name": "stderr",
     "output_type": "stream",
     "text": [
      "Model Training:  79%|\u001b[38;2;0;153;255m███████▊  \u001b[0m| 786/1000 [6:02:30<32:43,  9.18s/it]"
     ]
    },
    {
     "name": "stdout",
     "output_type": "stream",
     "text": [
      "\u001b[94m- Epoch: 786/1000\u001b[0m\n",
      "\u001b[31m- Train Loss: 0.182267161 | Validation Loss: 0.179925404\u001b[0m \u001b[32m| NMSE: -7.8727508\u001b[0m\n"
     ]
    },
    {
     "name": "stderr",
     "output_type": "stream",
     "text": [
      "Model Training:  79%|\u001b[38;2;0;153;255m███████▊  \u001b[0m| 787/1000 [6:02:39<32:58,  9.29s/it]"
     ]
    },
    {
     "name": "stdout",
     "output_type": "stream",
     "text": [
      "\u001b[94m- Epoch: 787/1000\u001b[0m\n",
      "\u001b[31m- Train Loss: 0.155790125 | Validation Loss: 0.196042676\u001b[0m \u001b[32m| NMSE: -1.5401180\u001b[0m\n"
     ]
    },
    {
     "name": "stderr",
     "output_type": "stream",
     "text": [
      "Model Training:  79%|\u001b[38;2;0;153;255m███████▉  \u001b[0m| 788/1000 [6:02:49<33:06,  9.37s/it]"
     ]
    },
    {
     "name": "stdout",
     "output_type": "stream",
     "text": [
      "\u001b[94m- Epoch: 788/1000\u001b[0m\n",
      "\u001b[31m- Train Loss: 0.164863811 | Validation Loss: 0.167974057\u001b[0m \u001b[32m| NMSE: -2.1137228\u001b[0m\n"
     ]
    },
    {
     "name": "stderr",
     "output_type": "stream",
     "text": [
      "Model Training:  79%|\u001b[38;2;0;153;255m███████▉  \u001b[0m| 789/1000 [6:02:59<33:14,  9.45s/it]"
     ]
    },
    {
     "name": "stdout",
     "output_type": "stream",
     "text": [
      "\u001b[94m- Epoch: 789/1000\u001b[0m\n",
      "\u001b[31m- Train Loss: 0.156683322 | Validation Loss: 0.221158738\u001b[0m \u001b[32m| NMSE: -0.1779530\u001b[0m\n"
     ]
    },
    {
     "name": "stderr",
     "output_type": "stream",
     "text": [
      "Model Training:  79%|\u001b[38;2;0;153;255m███████▉  \u001b[0m| 790/1000 [6:03:08<33:18,  9.52s/it]"
     ]
    },
    {
     "name": "stdout",
     "output_type": "stream",
     "text": [
      "\u001b[94m- Epoch: 790/1000\u001b[0m\n",
      "\u001b[31m- Train Loss: 0.166089919 | Validation Loss: 0.080869811\u001b[0m \u001b[32m| NMSE: -7.5481249\u001b[0m\n"
     ]
    },
    {
     "name": "stderr",
     "output_type": "stream",
     "text": [
      "Model Training:  79%|\u001b[38;2;0;153;255m███████▉  \u001b[0m| 791/1000 [6:03:18<33:30,  9.62s/it]"
     ]
    },
    {
     "name": "stdout",
     "output_type": "stream",
     "text": [
      "\u001b[94m- Epoch: 791/1000\u001b[0m\n",
      "\u001b[31m- Train Loss: 0.179042374 | Validation Loss: 0.236608811\u001b[0m \u001b[32m| NMSE: -3.6157382\u001b[0m\n"
     ]
    },
    {
     "name": "stderr",
     "output_type": "stream",
     "text": [
      "Model Training:  79%|\u001b[38;2;0;153;255m███████▉  \u001b[0m| 792/1000 [6:03:28<33:45,  9.74s/it]"
     ]
    },
    {
     "name": "stdout",
     "output_type": "stream",
     "text": [
      "\u001b[94m- Epoch: 792/1000\u001b[0m\n",
      "\u001b[31m- Train Loss: 0.155018304 | Validation Loss: 0.355256230\u001b[0m \u001b[32m| NMSE: -7.1587758\u001b[0m\n"
     ]
    },
    {
     "name": "stderr",
     "output_type": "stream",
     "text": [
      "Model Training:  79%|\u001b[38;2;0;153;255m███████▉  \u001b[0m| 793/1000 [6:03:38<33:37,  9.74s/it]"
     ]
    },
    {
     "name": "stdout",
     "output_type": "stream",
     "text": [
      "\u001b[94m- Epoch: 793/1000\u001b[0m\n",
      "\u001b[31m- Train Loss: 0.186546023 | Validation Loss: 0.230140649\u001b[0m \u001b[32m| NMSE: -5.1593127\u001b[0m\n"
     ]
    },
    {
     "name": "stderr",
     "output_type": "stream",
     "text": [
      "Model Training:  79%|\u001b[38;2;0;153;255m███████▉  \u001b[0m| 794/1000 [6:03:48<33:26,  9.74s/it]"
     ]
    },
    {
     "name": "stdout",
     "output_type": "stream",
     "text": [
      "\u001b[94m- Epoch: 794/1000\u001b[0m\n",
      "\u001b[31m- Train Loss: 0.158992530 | Validation Loss: 0.162065012\u001b[0m \u001b[32m| NMSE: -13.1684413\u001b[0m\n"
     ]
    },
    {
     "name": "stderr",
     "output_type": "stream",
     "text": [
      "Model Training:  80%|\u001b[38;2;0;153;255m███████▉  \u001b[0m| 795/1000 [6:03:57<33:18,  9.75s/it]"
     ]
    },
    {
     "name": "stdout",
     "output_type": "stream",
     "text": [
      "\u001b[94m- Epoch: 795/1000\u001b[0m\n",
      "\u001b[31m- Train Loss: 0.191540559 | Validation Loss: 0.228764412\u001b[0m \u001b[32m| NMSE: -9.1332762\u001b[0m\n"
     ]
    },
    {
     "name": "stderr",
     "output_type": "stream",
     "text": [
      "Model Training:  80%|\u001b[38;2;0;153;255m███████▉  \u001b[0m| 796/1000 [6:04:07<33:14,  9.78s/it]"
     ]
    },
    {
     "name": "stdout",
     "output_type": "stream",
     "text": [
      "\u001b[94m- Epoch: 796/1000\u001b[0m\n",
      "\u001b[31m- Train Loss: 0.156762521 | Validation Loss: 0.186503559\u001b[0m \u001b[32m| NMSE: 0.5346742\u001b[0m\n"
     ]
    },
    {
     "name": "stderr",
     "output_type": "stream",
     "text": [
      "Model Training:  80%|\u001b[38;2;0;153;255m███████▉  \u001b[0m| 797/1000 [6:04:17<33:07,  9.79s/it]"
     ]
    },
    {
     "name": "stdout",
     "output_type": "stream",
     "text": [
      "\u001b[94m- Epoch: 797/1000\u001b[0m\n",
      "\u001b[31m- Train Loss: 0.169555453 | Validation Loss: 0.214628185\u001b[0m \u001b[32m| NMSE: -7.8833752\u001b[0m\n"
     ]
    },
    {
     "name": "stderr",
     "output_type": "stream",
     "text": [
      "Model Training:  80%|\u001b[38;2;0;153;255m███████▉  \u001b[0m| 798/1000 [6:04:27<33:02,  9.81s/it]"
     ]
    },
    {
     "name": "stdout",
     "output_type": "stream",
     "text": [
      "\u001b[94m- Epoch: 798/1000\u001b[0m\n",
      "\u001b[31m- Train Loss: 0.167144633 | Validation Loss: 0.132495963\u001b[0m \u001b[32m| NMSE: -5.7549102\u001b[0m\n"
     ]
    },
    {
     "name": "stderr",
     "output_type": "stream",
     "text": [
      "Model Training:  80%|\u001b[38;2;0;153;255m███████▉  \u001b[0m| 799/1000 [6:04:37<32:55,  9.83s/it]"
     ]
    },
    {
     "name": "stdout",
     "output_type": "stream",
     "text": [
      "\u001b[94m- Epoch: 799/1000\u001b[0m\n",
      "\u001b[31m- Train Loss: 0.165539367 | Validation Loss: 0.190960596\u001b[0m \u001b[32m| NMSE: -12.2544203\u001b[0m\n"
     ]
    },
    {
     "name": "stderr",
     "output_type": "stream",
     "text": [
      "Model Training:  80%|\u001b[38;2;0;153;255m████████  \u001b[0m| 800/1000 [6:04:47<32:47,  9.84s/it]"
     ]
    },
    {
     "name": "stdout",
     "output_type": "stream",
     "text": [
      "\u001b[94m- Epoch: 800/1000\u001b[0m\n",
      "\u001b[31m- Train Loss: 0.178352961 | Validation Loss: 0.272194127\u001b[0m \u001b[32m| NMSE: -3.9103664\u001b[0m\n"
     ]
    },
    {
     "name": "stderr",
     "output_type": "stream",
     "text": [
      "Model Training:  80%|\u001b[38;2;0;153;255m████████  \u001b[0m| 801/1000 [6:04:56<32:37,  9.84s/it]"
     ]
    },
    {
     "name": "stdout",
     "output_type": "stream",
     "text": [
      "\u001b[94m- Epoch: 801/1000\u001b[0m\n",
      "\u001b[31m- Train Loss: 0.151136505 | Validation Loss: 0.199596015\u001b[0m \u001b[32m| NMSE: -1.8428688\u001b[0m\n"
     ]
    },
    {
     "name": "stderr",
     "output_type": "stream",
     "text": [
      "Model Training:  80%|\u001b[38;2;0;153;255m████████  \u001b[0m| 802/1000 [6:05:06<32:28,  9.84s/it]"
     ]
    },
    {
     "name": "stdout",
     "output_type": "stream",
     "text": [
      "\u001b[94m- Epoch: 802/1000\u001b[0m\n",
      "\u001b[31m- Train Loss: 0.157079277 | Validation Loss: 0.174935156\u001b[0m \u001b[32m| NMSE: -2.2489613\u001b[0m\n"
     ]
    },
    {
     "name": "stderr",
     "output_type": "stream",
     "text": [
      "Model Training:  80%|\u001b[38;2;0;153;255m████████  \u001b[0m| 803/1000 [6:05:16<32:18,  9.84s/it]"
     ]
    },
    {
     "name": "stdout",
     "output_type": "stream",
     "text": [
      "\u001b[94m- Epoch: 803/1000\u001b[0m\n",
      "\u001b[31m- Train Loss: 0.177078940 | Validation Loss: 0.209539921\u001b[0m \u001b[32m| NMSE: -2.8710777\u001b[0m\n"
     ]
    },
    {
     "name": "stderr",
     "output_type": "stream",
     "text": [
      "Model Training:  80%|\u001b[38;2;0;153;255m████████  \u001b[0m| 804/1000 [6:05:26<32:09,  9.84s/it]"
     ]
    },
    {
     "name": "stdout",
     "output_type": "stream",
     "text": [
      "\u001b[94m- Epoch: 804/1000\u001b[0m\n",
      "\u001b[31m- Train Loss: 0.175576708 | Validation Loss: 0.292700669\u001b[0m \u001b[32m| NMSE: -3.7453635\u001b[0m\n"
     ]
    },
    {
     "name": "stderr",
     "output_type": "stream",
     "text": [
      "Model Training:  80%|\u001b[38;2;0;153;255m████████  \u001b[0m| 805/1000 [6:05:36<31:58,  9.84s/it]"
     ]
    },
    {
     "name": "stdout",
     "output_type": "stream",
     "text": [
      "\u001b[94m- Epoch: 805/1000\u001b[0m\n",
      "\u001b[31m- Train Loss: 0.157782700 | Validation Loss: 0.380015895\u001b[0m \u001b[32m| NMSE: 5.5971041\u001b[0m\n"
     ]
    },
    {
     "name": "stderr",
     "output_type": "stream",
     "text": [
      "Model Training:  81%|\u001b[38;2;0;153;255m████████  \u001b[0m| 806/1000 [6:05:46<31:48,  9.84s/it]"
     ]
    },
    {
     "name": "stdout",
     "output_type": "stream",
     "text": [
      "\u001b[94m- Epoch: 806/1000\u001b[0m\n",
      "\u001b[31m- Train Loss: 0.192757086 | Validation Loss: 0.309697344\u001b[0m \u001b[32m| NMSE: 14.7350855\u001b[0m\n"
     ]
    },
    {
     "name": "stderr",
     "output_type": "stream",
     "text": [
      "Model Training:  81%|\u001b[38;2;0;153;255m████████  \u001b[0m| 807/1000 [6:05:56<31:39,  9.84s/it]"
     ]
    },
    {
     "name": "stdout",
     "output_type": "stream",
     "text": [
      "\u001b[94m- Epoch: 807/1000\u001b[0m\n",
      "\u001b[31m- Train Loss: 0.162819634 | Validation Loss: 0.228311936\u001b[0m \u001b[32m| NMSE: -7.0066795\u001b[0m\n"
     ]
    },
    {
     "name": "stderr",
     "output_type": "stream",
     "text": [
      "Model Training:  81%|\u001b[38;2;0;153;255m████████  \u001b[0m| 808/1000 [6:06:05<31:29,  9.84s/it]"
     ]
    },
    {
     "name": "stdout",
     "output_type": "stream",
     "text": [
      "\u001b[94m- Epoch: 808/1000\u001b[0m\n",
      "\u001b[31m- Train Loss: 0.156723713 | Validation Loss: 0.078590401\u001b[0m \u001b[32m| NMSE: 0.2183675\u001b[0m\n"
     ]
    },
    {
     "name": "stderr",
     "output_type": "stream",
     "text": [
      "Model Training:  81%|\u001b[38;2;0;153;255m████████  \u001b[0m| 809/1000 [6:06:15<31:19,  9.84s/it]"
     ]
    },
    {
     "name": "stdout",
     "output_type": "stream",
     "text": [
      "\u001b[94m- Epoch: 809/1000\u001b[0m\n",
      "\u001b[31m- Train Loss: 0.185526622 | Validation Loss: 0.216613640\u001b[0m \u001b[32m| NMSE: -8.5033798\u001b[0m\n"
     ]
    },
    {
     "name": "stderr",
     "output_type": "stream",
     "text": [
      "Model Training:  81%|\u001b[38;2;0;153;255m████████  \u001b[0m| 810/1000 [6:06:25<31:09,  9.84s/it]"
     ]
    },
    {
     "name": "stdout",
     "output_type": "stream",
     "text": [
      "\u001b[94m- Epoch: 810/1000\u001b[0m\n",
      "\u001b[31m- Train Loss: 0.143548555 | Validation Loss: 0.104270216\u001b[0m \u001b[32m| NMSE: -2.1954165\u001b[0m\n"
     ]
    },
    {
     "name": "stderr",
     "output_type": "stream",
     "text": [
      "Model Training:  81%|\u001b[38;2;0;153;255m████████  \u001b[0m| 811/1000 [6:06:35<31:07,  9.88s/it]"
     ]
    },
    {
     "name": "stdout",
     "output_type": "stream",
     "text": [
      "\u001b[94m- Epoch: 811/1000\u001b[0m\n",
      "\u001b[31m- Train Loss: 0.183626596 | Validation Loss: 0.454404319\u001b[0m \u001b[32m| NMSE: 0.8510034\u001b[0m\n"
     ]
    },
    {
     "name": "stderr",
     "output_type": "stream",
     "text": [
      "Model Training:  81%|\u001b[38;2;0;153;255m████████  \u001b[0m| 812/1000 [6:06:45<31:00,  9.90s/it]"
     ]
    },
    {
     "name": "stdout",
     "output_type": "stream",
     "text": [
      "\u001b[94m- Epoch: 812/1000\u001b[0m\n",
      "\u001b[31m- Train Loss: 0.167778345 | Validation Loss: 0.051116000\u001b[0m \u001b[32m| NMSE: 4.1769545\u001b[0m\n"
     ]
    },
    {
     "name": "stderr",
     "output_type": "stream",
     "text": [
      "Model Training:  81%|\u001b[38;2;0;153;255m████████▏ \u001b[0m| 813/1000 [6:06:55<30:52,  9.91s/it]"
     ]
    },
    {
     "name": "stdout",
     "output_type": "stream",
     "text": [
      "\u001b[94m- Epoch: 813/1000\u001b[0m\n",
      "\u001b[31m- Train Loss: 0.140959755 | Validation Loss: 0.143306620\u001b[0m \u001b[32m| NMSE: -2.5316057\u001b[0m\n"
     ]
    },
    {
     "name": "stderr",
     "output_type": "stream",
     "text": [
      "Model Training:  81%|\u001b[38;2;0;153;255m████████▏ \u001b[0m| 814/1000 [6:07:05<30:43,  9.91s/it]"
     ]
    },
    {
     "name": "stdout",
     "output_type": "stream",
     "text": [
      "\u001b[94m- Epoch: 814/1000\u001b[0m\n",
      "\u001b[31m- Train Loss: 0.162927383 | Validation Loss: 0.200662407\u001b[0m \u001b[32m| NMSE: -7.5067449\u001b[0m\n"
     ]
    },
    {
     "name": "stderr",
     "output_type": "stream",
     "text": [
      "Model Training:  82%|\u001b[38;2;0;153;255m████████▏ \u001b[0m| 815/1000 [6:07:15<30:34,  9.92s/it]"
     ]
    },
    {
     "name": "stdout",
     "output_type": "stream",
     "text": [
      "\u001b[94m- Epoch: 815/1000\u001b[0m\n",
      "\u001b[31m- Train Loss: 0.178364727 | Validation Loss: 0.259487294\u001b[0m \u001b[32m| NMSE: -1.0307841\u001b[0m\n"
     ]
    },
    {
     "name": "stderr",
     "output_type": "stream",
     "text": [
      "Model Training:  82%|\u001b[38;2;0;153;255m████████▏ \u001b[0m| 816/1000 [6:07:25<30:26,  9.92s/it]"
     ]
    },
    {
     "name": "stdout",
     "output_type": "stream",
     "text": [
      "\u001b[94m- Epoch: 816/1000\u001b[0m\n",
      "\u001b[31m- Train Loss: 0.154262440 | Validation Loss: 0.313241377\u001b[0m \u001b[32m| NMSE: -6.7614980\u001b[0m\n"
     ]
    },
    {
     "name": "stderr",
     "output_type": "stream",
     "text": [
      "Model Training:  82%|\u001b[38;2;0;153;255m████████▏ \u001b[0m| 817/1000 [6:07:35<30:17,  9.93s/it]"
     ]
    },
    {
     "name": "stdout",
     "output_type": "stream",
     "text": [
      "\u001b[94m- Epoch: 817/1000\u001b[0m\n",
      "\u001b[31m- Train Loss: 0.157181030 | Validation Loss: 0.120911792\u001b[0m \u001b[32m| NMSE: -0.8784998\u001b[0m\n"
     ]
    },
    {
     "name": "stderr",
     "output_type": "stream",
     "text": [
      "Model Training:  82%|\u001b[38;2;0;153;255m████████▏ \u001b[0m| 818/1000 [6:07:45<30:04,  9.91s/it]"
     ]
    },
    {
     "name": "stdout",
     "output_type": "stream",
     "text": [
      "\u001b[94m- Epoch: 818/1000\u001b[0m\n",
      "\u001b[31m- Train Loss: 0.159596894 | Validation Loss: 0.126405941\u001b[0m \u001b[32m| NMSE: -2.4281056\u001b[0m\n"
     ]
    },
    {
     "name": "stderr",
     "output_type": "stream",
     "text": [
      "Model Training:  82%|\u001b[38;2;0;153;255m████████▏ \u001b[0m| 819/1000 [6:07:54<29:52,  9.90s/it]"
     ]
    },
    {
     "name": "stdout",
     "output_type": "stream",
     "text": [
      "\u001b[94m- Epoch: 819/1000\u001b[0m\n",
      "\u001b[31m- Train Loss: 0.172763732 | Validation Loss: 0.069921207\u001b[0m \u001b[32m| NMSE: -8.3425465\u001b[0m\n"
     ]
    },
    {
     "name": "stderr",
     "output_type": "stream",
     "text": [
      "Model Training:  82%|\u001b[38;2;0;153;255m████████▏ \u001b[0m| 820/1000 [6:08:04<29:40,  9.89s/it]"
     ]
    },
    {
     "name": "stdout",
     "output_type": "stream",
     "text": [
      "\u001b[94m- Epoch: 820/1000\u001b[0m\n",
      "\u001b[31m- Train Loss: 0.148717805 | Validation Loss: 0.293417051\u001b[0m \u001b[32m| NMSE: -15.6278515\u001b[0m\n"
     ]
    },
    {
     "name": "stderr",
     "output_type": "stream",
     "text": [
      "Model Training:  82%|\u001b[38;2;0;153;255m████████▏ \u001b[0m| 821/1000 [6:08:14<29:30,  9.89s/it]"
     ]
    },
    {
     "name": "stdout",
     "output_type": "stream",
     "text": [
      "\u001b[94m- Epoch: 821/1000\u001b[0m\n",
      "\u001b[31m- Train Loss: 0.168567808 | Validation Loss: 0.148247894\u001b[0m \u001b[32m| NMSE: -7.0718753\u001b[0m\n"
     ]
    },
    {
     "name": "stderr",
     "output_type": "stream",
     "text": [
      "Model Training:  82%|\u001b[38;2;0;153;255m████████▏ \u001b[0m| 822/1000 [6:08:24<29:28,  9.94s/it]"
     ]
    },
    {
     "name": "stdout",
     "output_type": "stream",
     "text": [
      "\u001b[94m- Epoch: 822/1000\u001b[0m\n",
      "\u001b[31m- Train Loss: 0.170516898 | Validation Loss: 0.213984780\u001b[0m \u001b[32m| NMSE: -5.4335940\u001b[0m\n"
     ]
    },
    {
     "name": "stderr",
     "output_type": "stream",
     "text": [
      "Model Training:  82%|\u001b[38;2;0;153;255m████████▏ \u001b[0m| 823/1000 [6:08:34<29:15,  9.92s/it]"
     ]
    },
    {
     "name": "stdout",
     "output_type": "stream",
     "text": [
      "\u001b[94m- Epoch: 823/1000\u001b[0m\n",
      "\u001b[31m- Train Loss: 0.171592803 | Validation Loss: 0.207176106\u001b[0m \u001b[32m| NMSE: -4.9654442\u001b[0m\n"
     ]
    },
    {
     "name": "stderr",
     "output_type": "stream",
     "text": [
      "Model Training:  82%|\u001b[38;2;0;153;255m████████▏ \u001b[0m| 824/1000 [6:08:44<29:03,  9.91s/it]"
     ]
    },
    {
     "name": "stdout",
     "output_type": "stream",
     "text": [
      "\u001b[94m- Epoch: 824/1000\u001b[0m\n",
      "\u001b[31m- Train Loss: 0.158181639 | Validation Loss: 0.208851141\u001b[0m \u001b[32m| NMSE: 3.3012851\u001b[0m\n"
     ]
    },
    {
     "name": "stderr",
     "output_type": "stream",
     "text": [
      "Model Training:  82%|\u001b[38;2;0;153;255m████████▎ \u001b[0m| 825/1000 [6:08:54<28:51,  9.90s/it]"
     ]
    },
    {
     "name": "stdout",
     "output_type": "stream",
     "text": [
      "\u001b[94m- Epoch: 825/1000\u001b[0m\n",
      "\u001b[31m- Train Loss: 0.169400316 | Validation Loss: 0.076734846\u001b[0m \u001b[32m| NMSE: -0.1305025\u001b[0m\n"
     ]
    },
    {
     "name": "stderr",
     "output_type": "stream",
     "text": [
      "Model Training:  83%|\u001b[38;2;0;153;255m████████▎ \u001b[0m| 826/1000 [6:09:04<28:40,  9.89s/it]"
     ]
    },
    {
     "name": "stdout",
     "output_type": "stream",
     "text": [
      "\u001b[94m- Epoch: 826/1000\u001b[0m\n",
      "\u001b[31m- Train Loss: 0.165984263 | Validation Loss: 0.125150472\u001b[0m \u001b[32m| NMSE: -4.8566816\u001b[0m\n"
     ]
    },
    {
     "name": "stderr",
     "output_type": "stream",
     "text": [
      "Model Training:  83%|\u001b[38;2;0;153;255m████████▎ \u001b[0m| 827/1000 [6:09:14<28:30,  9.89s/it]"
     ]
    },
    {
     "name": "stdout",
     "output_type": "stream",
     "text": [
      "\u001b[94m- Epoch: 827/1000\u001b[0m\n",
      "\u001b[31m- Train Loss: 0.170629305 | Validation Loss: 0.126359845\u001b[0m \u001b[32m| NMSE: 0.5690093\u001b[0m\n"
     ]
    },
    {
     "name": "stderr",
     "output_type": "stream",
     "text": [
      "Model Training:  83%|\u001b[38;2;0;153;255m████████▎ \u001b[0m| 828/1000 [6:09:23<28:22,  9.90s/it]"
     ]
    },
    {
     "name": "stdout",
     "output_type": "stream",
     "text": [
      "\u001b[94m- Epoch: 828/1000\u001b[0m\n",
      "\u001b[31m- Train Loss: 0.179973694 | Validation Loss: 0.099080272\u001b[0m \u001b[32m| NMSE: -1.4193804\u001b[0m\n"
     ]
    },
    {
     "name": "stderr",
     "output_type": "stream",
     "text": [
      "Model Training:  83%|\u001b[38;2;0;153;255m████████▎ \u001b[0m| 829/1000 [6:09:33<28:14,  9.91s/it]"
     ]
    },
    {
     "name": "stdout",
     "output_type": "stream",
     "text": [
      "\u001b[94m- Epoch: 829/1000\u001b[0m\n",
      "\u001b[31m- Train Loss: 0.155462299 | Validation Loss: 0.239248019\u001b[0m \u001b[32m| NMSE: -7.3571479\u001b[0m\n"
     ]
    },
    {
     "name": "stderr",
     "output_type": "stream",
     "text": [
      "Model Training:  83%|\u001b[38;2;0;153;255m████████▎ \u001b[0m| 830/1000 [6:09:43<28:03,  9.90s/it]"
     ]
    },
    {
     "name": "stdout",
     "output_type": "stream",
     "text": [
      "\u001b[94m- Epoch: 830/1000\u001b[0m\n",
      "\u001b[31m- Train Loss: 0.178570952 | Validation Loss: 0.030569500\u001b[0m \u001b[32m| NMSE: -7.0510683\u001b[0m\n"
     ]
    },
    {
     "name": "stderr",
     "output_type": "stream",
     "text": [
      "Model Training:  83%|\u001b[38;2;0;153;255m████████▎ \u001b[0m| 831/1000 [6:09:53<27:51,  9.89s/it]"
     ]
    },
    {
     "name": "stdout",
     "output_type": "stream",
     "text": [
      "\u001b[94m- Epoch: 831/1000\u001b[0m\n",
      "\u001b[31m- Train Loss: 0.160659012 | Validation Loss: 0.085145219\u001b[0m \u001b[32m| NMSE: -6.8996689\u001b[0m\n"
     ]
    },
    {
     "name": "stderr",
     "output_type": "stream",
     "text": [
      "Model Training:  83%|\u001b[38;2;0;153;255m████████▎ \u001b[0m| 832/1000 [6:10:03<27:41,  9.89s/it]"
     ]
    },
    {
     "name": "stdout",
     "output_type": "stream",
     "text": [
      "\u001b[94m- Epoch: 832/1000\u001b[0m\n",
      "\u001b[31m- Train Loss: 0.153071518 | Validation Loss: 0.197278420\u001b[0m \u001b[32m| NMSE: 1.5004778\u001b[0m\n"
     ]
    },
    {
     "name": "stderr",
     "output_type": "stream",
     "text": [
      "Model Training:  83%|\u001b[38;2;0;153;255m████████▎ \u001b[0m| 833/1000 [6:10:13<27:28,  9.87s/it]"
     ]
    },
    {
     "name": "stdout",
     "output_type": "stream",
     "text": [
      "\u001b[94m- Epoch: 833/1000\u001b[0m\n",
      "\u001b[31m- Train Loss: 0.163006799 | Validation Loss: 0.094736867\u001b[0m \u001b[32m| NMSE: -13.1406336\u001b[0m\n"
     ]
    },
    {
     "name": "stderr",
     "output_type": "stream",
     "text": [
      "Model Training:  83%|\u001b[38;2;0;153;255m████████▎ \u001b[0m| 834/1000 [6:10:23<27:09,  9.82s/it]"
     ]
    },
    {
     "name": "stdout",
     "output_type": "stream",
     "text": [
      "\u001b[94m- Epoch: 834/1000\u001b[0m\n",
      "\u001b[31m- Train Loss: 0.169115814 | Validation Loss: 0.166656571\u001b[0m \u001b[32m| NMSE: -9.2441335\u001b[0m\n"
     ]
    },
    {
     "name": "stderr",
     "output_type": "stream",
     "text": [
      "Model Training:  84%|\u001b[38;2;0;153;255m████████▎ \u001b[0m| 835/1000 [6:10:32<27:05,  9.85s/it]"
     ]
    },
    {
     "name": "stdout",
     "output_type": "stream",
     "text": [
      "\u001b[94m- Epoch: 835/1000\u001b[0m\n",
      "\u001b[31m- Train Loss: 0.168955316 | Validation Loss: 0.104463163\u001b[0m \u001b[32m| NMSE: -3.6155690\u001b[0m\n"
     ]
    },
    {
     "name": "stderr",
     "output_type": "stream",
     "text": [
      "Model Training:  84%|\u001b[38;2;0;153;255m████████▎ \u001b[0m| 836/1000 [6:10:42<26:58,  9.87s/it]"
     ]
    },
    {
     "name": "stdout",
     "output_type": "stream",
     "text": [
      "\u001b[94m- Epoch: 836/1000\u001b[0m\n",
      "\u001b[31m- Train Loss: 0.163524318 | Validation Loss: 0.063602252\u001b[0m \u001b[32m| NMSE: -6.0740711\u001b[0m\n"
     ]
    },
    {
     "name": "stderr",
     "output_type": "stream",
     "text": [
      "Model Training:  84%|\u001b[38;2;0;153;255m████████▎ \u001b[0m| 837/1000 [6:10:52<26:48,  9.87s/it]"
     ]
    },
    {
     "name": "stdout",
     "output_type": "stream",
     "text": [
      "\u001b[94m- Epoch: 837/1000\u001b[0m\n",
      "\u001b[31m- Train Loss: 0.157166760 | Validation Loss: 0.205716609\u001b[0m \u001b[32m| NMSE: -13.0166992\u001b[0m\n"
     ]
    },
    {
     "name": "stderr",
     "output_type": "stream",
     "text": [
      "Model Training:  84%|\u001b[38;2;0;153;255m████████▍ \u001b[0m| 838/1000 [6:11:02<26:38,  9.87s/it]"
     ]
    },
    {
     "name": "stdout",
     "output_type": "stream",
     "text": [
      "\u001b[94m- Epoch: 838/1000\u001b[0m\n",
      "\u001b[31m- Train Loss: 0.160774060 | Validation Loss: 0.261316961\u001b[0m \u001b[32m| NMSE: -2.7472599\u001b[0m\n"
     ]
    },
    {
     "name": "stderr",
     "output_type": "stream",
     "text": [
      "Model Training:  84%|\u001b[38;2;0;153;255m████████▍ \u001b[0m| 839/1000 [6:11:12<26:28,  9.87s/it]"
     ]
    },
    {
     "name": "stdout",
     "output_type": "stream",
     "text": [
      "\u001b[94m- Epoch: 839/1000\u001b[0m\n",
      "\u001b[31m- Train Loss: 0.155292120 | Validation Loss: 0.090355625\u001b[0m \u001b[32m| NMSE: -2.7140443\u001b[0m\n"
     ]
    },
    {
     "name": "stderr",
     "output_type": "stream",
     "text": [
      "Model Training:  84%|\u001b[38;2;0;153;255m████████▍ \u001b[0m| 840/1000 [6:11:22<26:18,  9.87s/it]"
     ]
    },
    {
     "name": "stdout",
     "output_type": "stream",
     "text": [
      "\u001b[94m- Epoch: 840/1000\u001b[0m\n",
      "\u001b[31m- Train Loss: 0.177050719 | Validation Loss: 0.168342004\u001b[0m \u001b[32m| NMSE: -3.4433142\u001b[0m\n"
     ]
    },
    {
     "name": "stderr",
     "output_type": "stream",
     "text": [
      "Model Training:  84%|\u001b[38;2;0;153;255m████████▍ \u001b[0m| 841/1000 [6:11:32<26:09,  9.87s/it]"
     ]
    },
    {
     "name": "stdout",
     "output_type": "stream",
     "text": [
      "\u001b[94m- Epoch: 841/1000\u001b[0m\n",
      "\u001b[31m- Train Loss: 0.196296079 | Validation Loss: 0.100320231\u001b[0m \u001b[32m| NMSE: -9.3703136\u001b[0m\n"
     ]
    },
    {
     "name": "stderr",
     "output_type": "stream",
     "text": [
      "Model Training:  84%|\u001b[38;2;0;153;255m████████▍ \u001b[0m| 842/1000 [6:11:42<25:59,  9.87s/it]"
     ]
    },
    {
     "name": "stdout",
     "output_type": "stream",
     "text": [
      "\u001b[94m- Epoch: 842/1000\u001b[0m\n",
      "\u001b[31m- Train Loss: 0.179288937 | Validation Loss: 0.132967169\u001b[0m \u001b[32m| NMSE: 1.3678226\u001b[0m\n"
     ]
    },
    {
     "name": "stderr",
     "output_type": "stream",
     "text": [
      "Model Training:  84%|\u001b[38;2;0;153;255m████████▍ \u001b[0m| 843/1000 [6:11:51<25:49,  9.87s/it]"
     ]
    },
    {
     "name": "stdout",
     "output_type": "stream",
     "text": [
      "\u001b[94m- Epoch: 843/1000\u001b[0m\n",
      "\u001b[31m- Train Loss: 0.159181998 | Validation Loss: 0.392995397\u001b[0m \u001b[32m| NMSE: -7.0069647\u001b[0m\n"
     ]
    },
    {
     "name": "stderr",
     "output_type": "stream",
     "text": [
      "Model Training:  84%|\u001b[38;2;0;153;255m████████▍ \u001b[0m| 844/1000 [6:12:01<25:39,  9.87s/it]"
     ]
    },
    {
     "name": "stdout",
     "output_type": "stream",
     "text": [
      "\u001b[94m- Epoch: 844/1000\u001b[0m\n",
      "\u001b[31m- Train Loss: 0.171041837 | Validation Loss: 0.223360916\u001b[0m \u001b[32m| NMSE: 3.9248009\u001b[0m\n"
     ]
    },
    {
     "name": "stderr",
     "output_type": "stream",
     "text": [
      "Model Training:  84%|\u001b[38;2;0;153;255m████████▍ \u001b[0m| 845/1000 [6:12:11<25:29,  9.87s/it]"
     ]
    },
    {
     "name": "stdout",
     "output_type": "stream",
     "text": [
      "\u001b[94m- Epoch: 845/1000\u001b[0m\n",
      "\u001b[31m- Train Loss: 0.165273913 | Validation Loss: 0.126485753\u001b[0m \u001b[32m| NMSE: -5.0299459\u001b[0m\n"
     ]
    },
    {
     "name": "stderr",
     "output_type": "stream",
     "text": [
      "Model Training:  85%|\u001b[38;2;0;153;255m████████▍ \u001b[0m| 846/1000 [6:12:21<25:19,  9.87s/it]"
     ]
    },
    {
     "name": "stdout",
     "output_type": "stream",
     "text": [
      "\u001b[94m- Epoch: 846/1000\u001b[0m\n",
      "\u001b[31m- Train Loss: 0.146973010 | Validation Loss: 0.050745309\u001b[0m \u001b[32m| NMSE: -6.1894922\u001b[0m\n"
     ]
    },
    {
     "name": "stderr",
     "output_type": "stream",
     "text": [
      "Model Training:  85%|\u001b[38;2;0;153;255m████████▍ \u001b[0m| 847/1000 [6:12:31<25:09,  9.87s/it]"
     ]
    },
    {
     "name": "stdout",
     "output_type": "stream",
     "text": [
      "\u001b[94m- Epoch: 847/1000\u001b[0m\n",
      "\u001b[31m- Train Loss: 0.162292378 | Validation Loss: 0.086422923\u001b[0m \u001b[32m| NMSE: -6.5307306\u001b[0m\n"
     ]
    },
    {
     "name": "stderr",
     "output_type": "stream",
     "text": [
      "Model Training:  85%|\u001b[38;2;0;153;255m████████▍ \u001b[0m| 848/1000 [6:12:41<24:59,  9.86s/it]"
     ]
    },
    {
     "name": "stdout",
     "output_type": "stream",
     "text": [
      "\u001b[94m- Epoch: 848/1000\u001b[0m\n",
      "\u001b[31m- Train Loss: 0.164673615 | Validation Loss: 0.095995371\u001b[0m \u001b[32m| NMSE: -8.4354153\u001b[0m\n"
     ]
    },
    {
     "name": "stderr",
     "output_type": "stream",
     "text": [
      "Model Training:  85%|\u001b[38;2;0;153;255m████████▍ \u001b[0m| 849/1000 [6:12:51<24:49,  9.86s/it]"
     ]
    },
    {
     "name": "stdout",
     "output_type": "stream",
     "text": [
      "\u001b[94m- Epoch: 849/1000\u001b[0m\n",
      "\u001b[31m- Train Loss: 0.161449855 | Validation Loss: 0.116989362\u001b[0m \u001b[32m| NMSE: -14.8406458\u001b[0m\n"
     ]
    },
    {
     "name": "stderr",
     "output_type": "stream",
     "text": [
      "Model Training:  85%|\u001b[38;2;0;153;255m████████▌ \u001b[0m| 850/1000 [6:13:01<24:39,  9.86s/it]"
     ]
    },
    {
     "name": "stdout",
     "output_type": "stream",
     "text": [
      "\u001b[94m- Epoch: 850/1000\u001b[0m\n",
      "\u001b[31m- Train Loss: 0.160299125 | Validation Loss: 0.159930428\u001b[0m \u001b[32m| NMSE: -3.4074564\u001b[0m\n"
     ]
    },
    {
     "name": "stderr",
     "output_type": "stream",
     "text": [
      "Model Training:  85%|\u001b[38;2;0;153;255m████████▌ \u001b[0m| 851/1000 [6:13:10<24:31,  9.87s/it]"
     ]
    },
    {
     "name": "stdout",
     "output_type": "stream",
     "text": [
      "\u001b[94m- Epoch: 851/1000\u001b[0m\n",
      "\u001b[31m- Train Loss: 0.157127214 | Validation Loss: 0.232452149\u001b[0m \u001b[32m| NMSE: 1.6914777\u001b[0m\n"
     ]
    },
    {
     "name": "stderr",
     "output_type": "stream",
     "text": [
      "Model Training:  85%|\u001b[38;2;0;153;255m████████▌ \u001b[0m| 852/1000 [6:13:20<24:20,  9.87s/it]"
     ]
    },
    {
     "name": "stdout",
     "output_type": "stream",
     "text": [
      "\u001b[94m- Epoch: 852/1000\u001b[0m\n",
      "\u001b[31m- Train Loss: 0.165864731 | Validation Loss: 0.072080780\u001b[0m \u001b[32m| NMSE: -4.0419896\u001b[0m\n"
     ]
    },
    {
     "name": "stderr",
     "output_type": "stream",
     "text": [
      "Model Training:  85%|\u001b[38;2;0;153;255m████████▌ \u001b[0m| 853/1000 [6:13:30<24:13,  9.88s/it]"
     ]
    },
    {
     "name": "stdout",
     "output_type": "stream",
     "text": [
      "\u001b[94m- Epoch: 853/1000\u001b[0m\n",
      "\u001b[31m- Train Loss: 0.146425281 | Validation Loss: 0.191851993\u001b[0m \u001b[32m| NMSE: -5.9373446\u001b[0m\n"
     ]
    },
    {
     "name": "stderr",
     "output_type": "stream",
     "text": [
      "Model Training:  85%|\u001b[38;2;0;153;255m████████▌ \u001b[0m| 854/1000 [6:13:40<24:08,  9.92s/it]"
     ]
    },
    {
     "name": "stdout",
     "output_type": "stream",
     "text": [
      "\u001b[94m- Epoch: 854/1000\u001b[0m\n",
      "\u001b[31m- Train Loss: 0.169384652 | Validation Loss: 0.112080072\u001b[0m \u001b[32m| NMSE: -1.7225420\u001b[0m\n"
     ]
    },
    {
     "name": "stderr",
     "output_type": "stream",
     "text": [
      "Model Training:  86%|\u001b[38;2;0;153;255m████████▌ \u001b[0m| 855/1000 [6:13:50<23:58,  9.92s/it]"
     ]
    },
    {
     "name": "stdout",
     "output_type": "stream",
     "text": [
      "\u001b[94m- Epoch: 855/1000\u001b[0m\n",
      "\u001b[31m- Train Loss: 0.179367358 | Validation Loss: 0.246555482\u001b[0m \u001b[32m| NMSE: 0.4131823\u001b[0m\n"
     ]
    },
    {
     "name": "stderr",
     "output_type": "stream",
     "text": [
      "Model Training:  86%|\u001b[38;2;0;153;255m████████▌ \u001b[0m| 856/1000 [6:14:00<23:46,  9.90s/it]"
     ]
    },
    {
     "name": "stdout",
     "output_type": "stream",
     "text": [
      "\u001b[94m- Epoch: 856/1000\u001b[0m\n",
      "\u001b[31m- Train Loss: 0.158095459 | Validation Loss: 0.161193250\u001b[0m \u001b[32m| NMSE: 0.2804925\u001b[0m\n"
     ]
    },
    {
     "name": "stderr",
     "output_type": "stream",
     "text": [
      "Model Training:  86%|\u001b[38;2;0;153;255m████████▌ \u001b[0m| 857/1000 [6:14:10<23:34,  9.89s/it]"
     ]
    },
    {
     "name": "stdout",
     "output_type": "stream",
     "text": [
      "\u001b[94m- Epoch: 857/1000\u001b[0m\n",
      "\u001b[31m- Train Loss: 0.168407576 | Validation Loss: 0.231744428\u001b[0m \u001b[32m| NMSE: -2.6879049\u001b[0m\n"
     ]
    },
    {
     "name": "stderr",
     "output_type": "stream",
     "text": [
      "Model Training:  86%|\u001b[38;2;0;153;255m████████▌ \u001b[0m| 858/1000 [6:14:20<23:29,  9.93s/it]"
     ]
    },
    {
     "name": "stdout",
     "output_type": "stream",
     "text": [
      "\u001b[94m- Epoch: 858/1000\u001b[0m\n",
      "\u001b[31m- Train Loss: 0.148440403 | Validation Loss: 0.091024942\u001b[0m \u001b[32m| NMSE: -27.1940231\u001b[0m\n"
     ]
    },
    {
     "name": "stderr",
     "output_type": "stream",
     "text": [
      "Model Training:  86%|\u001b[38;2;0;153;255m████████▌ \u001b[0m| 859/1000 [6:14:30<23:20,  9.93s/it]"
     ]
    },
    {
     "name": "stdout",
     "output_type": "stream",
     "text": [
      "\u001b[94m- Epoch: 859/1000\u001b[0m\n",
      "\u001b[31m- Train Loss: 0.159959125 | Validation Loss: 0.194465607\u001b[0m \u001b[32m| NMSE: -4.8459539\u001b[0m\n"
     ]
    },
    {
     "name": "stderr",
     "output_type": "stream",
     "text": [
      "Model Training:  86%|\u001b[38;2;0;153;255m████████▌ \u001b[0m| 860/1000 [6:14:40<23:10,  9.93s/it]"
     ]
    },
    {
     "name": "stdout",
     "output_type": "stream",
     "text": [
      "\u001b[94m- Epoch: 860/1000\u001b[0m\n",
      "\u001b[31m- Train Loss: 0.156675421 | Validation Loss: 0.254167270\u001b[0m \u001b[32m| NMSE: -9.7955420\u001b[0m\n"
     ]
    },
    {
     "name": "stderr",
     "output_type": "stream",
     "text": [
      "Model Training:  86%|\u001b[38;2;0;153;255m████████▌ \u001b[0m| 861/1000 [6:14:50<23:00,  9.93s/it]"
     ]
    },
    {
     "name": "stdout",
     "output_type": "stream",
     "text": [
      "\u001b[94m- Epoch: 861/1000\u001b[0m\n",
      "\u001b[31m- Train Loss: 0.151424447 | Validation Loss: 0.310774048\u001b[0m \u001b[32m| NMSE: -4.9019773\u001b[0m\n"
     ]
    },
    {
     "name": "stderr",
     "output_type": "stream",
     "text": [
      "Model Training:  86%|\u001b[38;2;0;153;255m████████▌ \u001b[0m| 862/1000 [6:15:00<22:50,  9.93s/it]"
     ]
    },
    {
     "name": "stdout",
     "output_type": "stream",
     "text": [
      "\u001b[94m- Epoch: 862/1000\u001b[0m\n",
      "\u001b[31m- Train Loss: 0.175377417 | Validation Loss: 0.272583133\u001b[0m \u001b[32m| NMSE: -3.9685450\u001b[0m\n"
     ]
    },
    {
     "name": "stderr",
     "output_type": "stream",
     "text": [
      "Model Training:  86%|\u001b[38;2;0;153;255m████████▋ \u001b[0m| 863/1000 [6:15:10<22:40,  9.93s/it]"
     ]
    },
    {
     "name": "stdout",
     "output_type": "stream",
     "text": [
      "\u001b[94m- Epoch: 863/1000\u001b[0m\n",
      "\u001b[31m- Train Loss: 0.147344242 | Validation Loss: 0.131926158\u001b[0m \u001b[32m| NMSE: -0.3091183\u001b[0m\n"
     ]
    },
    {
     "name": "stderr",
     "output_type": "stream",
     "text": [
      "Model Training:  86%|\u001b[38;2;0;153;255m████████▋ \u001b[0m| 864/1000 [6:15:19<22:30,  9.93s/it]"
     ]
    },
    {
     "name": "stdout",
     "output_type": "stream",
     "text": [
      "\u001b[94m- Epoch: 864/1000\u001b[0m\n",
      "\u001b[31m- Train Loss: 0.160421944 | Validation Loss: 0.120872363\u001b[0m \u001b[32m| NMSE: -6.2965769\u001b[0m\n"
     ]
    },
    {
     "name": "stderr",
     "output_type": "stream",
     "text": [
      "Model Training:  86%|\u001b[38;2;0;153;255m████████▋ \u001b[0m| 865/1000 [6:15:29<22:20,  9.93s/it]"
     ]
    },
    {
     "name": "stdout",
     "output_type": "stream",
     "text": [
      "\u001b[94m- Epoch: 865/1000\u001b[0m\n",
      "\u001b[31m- Train Loss: 0.165064907 | Validation Loss: 0.035023592\u001b[0m \u001b[32m| NMSE: -5.8984606\u001b[0m\n"
     ]
    },
    {
     "name": "stderr",
     "output_type": "stream",
     "text": [
      "Model Training:  87%|\u001b[38;2;0;153;255m████████▋ \u001b[0m| 866/1000 [6:15:39<22:11,  9.93s/it]"
     ]
    },
    {
     "name": "stdout",
     "output_type": "stream",
     "text": [
      "\u001b[94m- Epoch: 866/1000\u001b[0m\n",
      "\u001b[31m- Train Loss: 0.160562670 | Validation Loss: 0.104526153\u001b[0m \u001b[32m| NMSE: -3.1117840\u001b[0m\n"
     ]
    },
    {
     "name": "stderr",
     "output_type": "stream",
     "text": [
      "Model Training:  87%|\u001b[38;2;0;153;255m████████▋ \u001b[0m| 867/1000 [6:15:49<22:01,  9.93s/it]"
     ]
    },
    {
     "name": "stdout",
     "output_type": "stream",
     "text": [
      "\u001b[94m- Epoch: 867/1000\u001b[0m\n",
      "\u001b[31m- Train Loss: 0.168097137 | Validation Loss: 0.384635136\u001b[0m \u001b[32m| NMSE: -3.8889880\u001b[0m\n"
     ]
    },
    {
     "name": "stderr",
     "output_type": "stream",
     "text": [
      "Model Training:  87%|\u001b[38;2;0;153;255m████████▋ \u001b[0m| 868/1000 [6:15:59<21:51,  9.93s/it]"
     ]
    },
    {
     "name": "stdout",
     "output_type": "stream",
     "text": [
      "\u001b[94m- Epoch: 868/1000\u001b[0m\n",
      "\u001b[31m- Train Loss: 0.159475492 | Validation Loss: 0.160059157\u001b[0m \u001b[32m| NMSE: -8.0267272\u001b[0m\n"
     ]
    },
    {
     "name": "stderr",
     "output_type": "stream",
     "text": [
      "Model Training:  87%|\u001b[38;2;0;153;255m████████▋ \u001b[0m| 869/1000 [6:16:09<21:41,  9.93s/it]"
     ]
    },
    {
     "name": "stdout",
     "output_type": "stream",
     "text": [
      "\u001b[94m- Epoch: 869/1000\u001b[0m\n",
      "\u001b[31m- Train Loss: 0.157665921 | Validation Loss: 0.205584546\u001b[0m \u001b[32m| NMSE: -4.4992411\u001b[0m\n"
     ]
    },
    {
     "name": "stderr",
     "output_type": "stream",
     "text": [
      "Model Training:  87%|\u001b[38;2;0;153;255m████████▋ \u001b[0m| 870/1000 [6:16:19<21:31,  9.93s/it]"
     ]
    },
    {
     "name": "stdout",
     "output_type": "stream",
     "text": [
      "\u001b[94m- Epoch: 870/1000\u001b[0m\n",
      "\u001b[31m- Train Loss: 0.182118956 | Validation Loss: 0.185373743\u001b[0m \u001b[32m| NMSE: -10.7744870\u001b[0m\n"
     ]
    },
    {
     "name": "stderr",
     "output_type": "stream",
     "text": [
      "Model Training:  87%|\u001b[38;2;0;153;255m████████▋ \u001b[0m| 871/1000 [6:16:29<21:21,  9.93s/it]"
     ]
    },
    {
     "name": "stdout",
     "output_type": "stream",
     "text": [
      "\u001b[94m- Epoch: 871/1000\u001b[0m\n",
      "\u001b[31m- Train Loss: 0.169961422 | Validation Loss: 0.215542155\u001b[0m \u001b[32m| NMSE: -0.4744120\u001b[0m\n"
     ]
    },
    {
     "name": "stderr",
     "output_type": "stream",
     "text": [
      "Model Training:  87%|\u001b[38;2;0;153;255m████████▋ \u001b[0m| 872/1000 [6:16:39<21:11,  9.93s/it]"
     ]
    },
    {
     "name": "stdout",
     "output_type": "stream",
     "text": [
      "\u001b[94m- Epoch: 872/1000\u001b[0m\n",
      "\u001b[31m- Train Loss: 0.171310172 | Validation Loss: 0.166914853\u001b[0m \u001b[32m| NMSE: -9.9841433\u001b[0m\n"
     ]
    },
    {
     "name": "stderr",
     "output_type": "stream",
     "text": [
      "Model Training:  87%|\u001b[38;2;0;153;255m████████▋ \u001b[0m| 873/1000 [6:16:49<21:01,  9.94s/it]"
     ]
    },
    {
     "name": "stdout",
     "output_type": "stream",
     "text": [
      "\u001b[94m- Epoch: 873/1000\u001b[0m\n",
      "\u001b[31m- Train Loss: 0.158342152 | Validation Loss: 0.119438527\u001b[0m \u001b[32m| NMSE: -9.3021500\u001b[0m\n"
     ]
    },
    {
     "name": "stderr",
     "output_type": "stream",
     "text": [
      "Model Training:  87%|\u001b[38;2;0;153;255m████████▋ \u001b[0m| 874/1000 [6:16:59<20:51,  9.94s/it]"
     ]
    },
    {
     "name": "stdout",
     "output_type": "stream",
     "text": [
      "\u001b[94m- Epoch: 874/1000\u001b[0m\n",
      "\u001b[31m- Train Loss: 0.171290181 | Validation Loss: 0.201695862\u001b[0m \u001b[32m| NMSE: -3.1447864\u001b[0m\n"
     ]
    },
    {
     "name": "stderr",
     "output_type": "stream",
     "text": [
      "Model Training:  88%|\u001b[38;2;0;153;255m████████▊ \u001b[0m| 875/1000 [6:17:09<20:42,  9.94s/it]"
     ]
    },
    {
     "name": "stdout",
     "output_type": "stream",
     "text": [
      "\u001b[94m- Epoch: 875/1000\u001b[0m\n",
      "\u001b[31m- Train Loss: 0.182819515 | Validation Loss: 0.183654678\u001b[0m \u001b[32m| NMSE: -6.6868005\u001b[0m\n"
     ]
    },
    {
     "name": "stderr",
     "output_type": "stream",
     "text": [
      "Model Training:  88%|\u001b[38;2;0;153;255m████████▊ \u001b[0m| 876/1000 [6:17:19<20:32,  9.94s/it]"
     ]
    },
    {
     "name": "stdout",
     "output_type": "stream",
     "text": [
      "\u001b[94m- Epoch: 876/1000\u001b[0m\n",
      "\u001b[31m- Train Loss: 0.178839105 | Validation Loss: 0.096132595\u001b[0m \u001b[32m| NMSE: -1.9972842\u001b[0m\n"
     ]
    },
    {
     "name": "stderr",
     "output_type": "stream",
     "text": [
      "Model Training:  88%|\u001b[38;2;0;153;255m████████▊ \u001b[0m| 877/1000 [6:17:29<20:22,  9.94s/it]"
     ]
    },
    {
     "name": "stdout",
     "output_type": "stream",
     "text": [
      "\u001b[94m- Epoch: 877/1000\u001b[0m\n",
      "\u001b[31m- Train Loss: 0.159010418 | Validation Loss: 0.036617578\u001b[0m \u001b[32m| NMSE: -13.6711154\u001b[0m\n"
     ]
    },
    {
     "name": "stderr",
     "output_type": "stream",
     "text": [
      "Model Training:  88%|\u001b[38;2;0;153;255m████████▊ \u001b[0m| 878/1000 [6:17:39<20:12,  9.94s/it]"
     ]
    },
    {
     "name": "stdout",
     "output_type": "stream",
     "text": [
      "\u001b[94m- Epoch: 878/1000\u001b[0m\n",
      "\u001b[31m- Train Loss: 0.173351877 | Validation Loss: 0.195770169\u001b[0m \u001b[32m| NMSE: -5.2417133\u001b[0m\n"
     ]
    },
    {
     "name": "stderr",
     "output_type": "stream",
     "text": [
      "Model Training:  88%|\u001b[38;2;0;153;255m████████▊ \u001b[0m| 879/1000 [6:17:49<20:02,  9.94s/it]"
     ]
    },
    {
     "name": "stdout",
     "output_type": "stream",
     "text": [
      "\u001b[94m- Epoch: 879/1000\u001b[0m\n",
      "\u001b[31m- Train Loss: 0.151963601 | Validation Loss: 0.318076203\u001b[0m \u001b[32m| NMSE: -3.6667820\u001b[0m\n"
     ]
    },
    {
     "name": "stderr",
     "output_type": "stream",
     "text": [
      "Model Training:  88%|\u001b[38;2;0;153;255m████████▊ \u001b[0m| 880/1000 [6:17:58<19:52,  9.94s/it]"
     ]
    },
    {
     "name": "stdout",
     "output_type": "stream",
     "text": [
      "\u001b[94m- Epoch: 880/1000\u001b[0m\n",
      "\u001b[31m- Train Loss: 0.156539847 | Validation Loss: 0.157912908\u001b[0m \u001b[32m| NMSE: 1.6979766\u001b[0m\n"
     ]
    },
    {
     "name": "stderr",
     "output_type": "stream",
     "text": [
      "Model Training:  88%|\u001b[38;2;0;153;255m████████▊ \u001b[0m| 881/1000 [6:18:08<19:42,  9.94s/it]"
     ]
    },
    {
     "name": "stdout",
     "output_type": "stream",
     "text": [
      "\u001b[94m- Epoch: 881/1000\u001b[0m\n",
      "\u001b[31m- Train Loss: 0.177017350 | Validation Loss: 0.097553223\u001b[0m \u001b[32m| NMSE: -3.6161045\u001b[0m\n"
     ]
    },
    {
     "name": "stderr",
     "output_type": "stream",
     "text": [
      "Model Training:  88%|\u001b[38;2;0;153;255m████████▊ \u001b[0m| 882/1000 [6:18:18<19:32,  9.94s/it]"
     ]
    },
    {
     "name": "stdout",
     "output_type": "stream",
     "text": [
      "\u001b[94m- Epoch: 882/1000\u001b[0m\n",
      "\u001b[31m- Train Loss: 0.162133435 | Validation Loss: 0.106156277\u001b[0m \u001b[32m| NMSE: -7.1270428\u001b[0m\n"
     ]
    },
    {
     "name": "stderr",
     "output_type": "stream",
     "text": [
      "Model Training:  88%|\u001b[38;2;0;153;255m████████▊ \u001b[0m| 883/1000 [6:18:28<19:22,  9.94s/it]"
     ]
    },
    {
     "name": "stdout",
     "output_type": "stream",
     "text": [
      "\u001b[94m- Epoch: 883/1000\u001b[0m\n",
      "\u001b[31m- Train Loss: 0.150749959 | Validation Loss: 0.156593146\u001b[0m \u001b[32m| NMSE: -2.0088155\u001b[0m\n"
     ]
    },
    {
     "name": "stderr",
     "output_type": "stream",
     "text": [
      "Model Training:  88%|\u001b[38;2;0;153;255m████████▊ \u001b[0m| 884/1000 [6:18:38<19:12,  9.94s/it]"
     ]
    },
    {
     "name": "stdout",
     "output_type": "stream",
     "text": [
      "\u001b[94m- Epoch: 884/1000\u001b[0m\n",
      "\u001b[31m- Train Loss: 0.163568608 | Validation Loss: 0.083229101\u001b[0m \u001b[32m| NMSE: -5.4438360\u001b[0m\n"
     ]
    },
    {
     "name": "stderr",
     "output_type": "stream",
     "text": [
      "Model Training:  88%|\u001b[38;2;0;153;255m████████▊ \u001b[0m| 885/1000 [6:18:48<19:09,  9.99s/it]"
     ]
    },
    {
     "name": "stdout",
     "output_type": "stream",
     "text": [
      "\u001b[94m- Epoch: 885/1000\u001b[0m\n",
      "\u001b[31m- Train Loss: 0.170954094 | Validation Loss: 0.354012487\u001b[0m \u001b[32m| NMSE: -11.0390396\u001b[0m\n"
     ]
    },
    {
     "name": "stderr",
     "output_type": "stream",
     "text": [
      "Model Training:  89%|\u001b[38;2;0;153;255m████████▊ \u001b[0m| 886/1000 [6:18:58<18:57,  9.98s/it]"
     ]
    },
    {
     "name": "stdout",
     "output_type": "stream",
     "text": [
      "\u001b[94m- Epoch: 886/1000\u001b[0m\n",
      "\u001b[31m- Train Loss: 0.167280506 | Validation Loss: 0.085523156\u001b[0m \u001b[32m| NMSE: -9.7580256\u001b[0m\n"
     ]
    },
    {
     "name": "stderr",
     "output_type": "stream",
     "text": [
      "Model Training:  89%|\u001b[38;2;0;153;255m████████▊ \u001b[0m| 887/1000 [6:19:08<18:46,  9.97s/it]"
     ]
    },
    {
     "name": "stdout",
     "output_type": "stream",
     "text": [
      "\u001b[94m- Epoch: 887/1000\u001b[0m\n",
      "\u001b[31m- Train Loss: 0.163477216 | Validation Loss: 0.136483967\u001b[0m \u001b[32m| NMSE: -4.5713266\u001b[0m\n"
     ]
    },
    {
     "name": "stderr",
     "output_type": "stream",
     "text": [
      "Model Training:  89%|\u001b[38;2;0;153;255m████████▉ \u001b[0m| 888/1000 [6:19:18<18:35,  9.96s/it]"
     ]
    },
    {
     "name": "stdout",
     "output_type": "stream",
     "text": [
      "\u001b[94m- Epoch: 888/1000\u001b[0m\n",
      "\u001b[31m- Train Loss: 0.146488308 | Validation Loss: 0.202355226\u001b[0m \u001b[32m| NMSE: -25.0152626\u001b[0m\n"
     ]
    },
    {
     "name": "stderr",
     "output_type": "stream",
     "text": [
      "Model Training:  89%|\u001b[38;2;0;153;255m████████▉ \u001b[0m| 889/1000 [6:19:28<18:24,  9.95s/it]"
     ]
    },
    {
     "name": "stdout",
     "output_type": "stream",
     "text": [
      "\u001b[94m- Epoch: 889/1000\u001b[0m\n",
      "\u001b[31m- Train Loss: 0.170337186 | Validation Loss: 0.256597596\u001b[0m \u001b[32m| NMSE: -2.0885435\u001b[0m\n"
     ]
    },
    {
     "name": "stderr",
     "output_type": "stream",
     "text": [
      "Model Training:  89%|\u001b[38;2;0;153;255m████████▉ \u001b[0m| 890/1000 [6:19:38<18:14,  9.95s/it]"
     ]
    },
    {
     "name": "stdout",
     "output_type": "stream",
     "text": [
      "\u001b[94m- Epoch: 890/1000\u001b[0m\n",
      "\u001b[31m- Train Loss: 0.155967901 | Validation Loss: 0.249932855\u001b[0m \u001b[32m| NMSE: 2.2664659\u001b[0m\n"
     ]
    },
    {
     "name": "stderr",
     "output_type": "stream",
     "text": [
      "Model Training:  89%|\u001b[38;2;0;153;255m████████▉ \u001b[0m| 891/1000 [6:19:48<18:04,  9.95s/it]"
     ]
    },
    {
     "name": "stdout",
     "output_type": "stream",
     "text": [
      "\u001b[94m- Epoch: 891/1000\u001b[0m\n",
      "\u001b[31m- Train Loss: 0.181646217 | Validation Loss: 0.260222986\u001b[0m \u001b[32m| NMSE: -8.9212594\u001b[0m\n"
     ]
    },
    {
     "name": "stderr",
     "output_type": "stream",
     "text": [
      "Model Training:  89%|\u001b[38;2;0;153;255m████████▉ \u001b[0m| 892/1000 [6:19:58<17:54,  9.95s/it]"
     ]
    },
    {
     "name": "stdout",
     "output_type": "stream",
     "text": [
      "\u001b[94m- Epoch: 892/1000\u001b[0m\n",
      "\u001b[31m- Train Loss: 0.149560924 | Validation Loss: 0.311753161\u001b[0m \u001b[32m| NMSE: -6.7010015\u001b[0m\n"
     ]
    },
    {
     "name": "stderr",
     "output_type": "stream",
     "text": [
      "Model Training:  89%|\u001b[38;2;0;153;255m████████▉ \u001b[0m| 893/1000 [6:20:08<17:44,  9.94s/it]"
     ]
    },
    {
     "name": "stdout",
     "output_type": "stream",
     "text": [
      "\u001b[94m- Epoch: 893/1000\u001b[0m\n",
      "\u001b[31m- Train Loss: 0.177092990 | Validation Loss: 0.138611681\u001b[0m \u001b[32m| NMSE: -1.1660573\u001b[0m\n"
     ]
    },
    {
     "name": "stderr",
     "output_type": "stream",
     "text": [
      "Model Training:  89%|\u001b[38;2;0;153;255m████████▉ \u001b[0m| 894/1000 [6:20:18<17:34,  9.94s/it]"
     ]
    },
    {
     "name": "stdout",
     "output_type": "stream",
     "text": [
      "\u001b[94m- Epoch: 894/1000\u001b[0m\n",
      "\u001b[31m- Train Loss: 0.162785153 | Validation Loss: 0.029374461\u001b[0m \u001b[32m| NMSE: -7.6155074\u001b[0m\n"
     ]
    },
    {
     "name": "stderr",
     "output_type": "stream",
     "text": [
      "Model Training:  90%|\u001b[38;2;0;153;255m████████▉ \u001b[0m| 895/1000 [6:20:28<17:23,  9.94s/it]"
     ]
    },
    {
     "name": "stdout",
     "output_type": "stream",
     "text": [
      "\u001b[94m- Epoch: 895/1000\u001b[0m\n",
      "\u001b[31m- Train Loss: 0.164003216 | Validation Loss: 0.054035586\u001b[0m \u001b[32m| NMSE: -7.3507388\u001b[0m\n"
     ]
    },
    {
     "name": "stderr",
     "output_type": "stream",
     "text": [
      "Model Training:  90%|\u001b[38;2;0;153;255m████████▉ \u001b[0m| 896/1000 [6:20:38<17:13,  9.94s/it]"
     ]
    },
    {
     "name": "stdout",
     "output_type": "stream",
     "text": [
      "\u001b[94m- Epoch: 896/1000\u001b[0m\n",
      "\u001b[31m- Train Loss: 0.174920667 | Validation Loss: 0.206949614\u001b[0m \u001b[32m| NMSE: 3.8096979\u001b[0m\n"
     ]
    },
    {
     "name": "stderr",
     "output_type": "stream",
     "text": [
      "Model Training:  90%|\u001b[38;2;0;153;255m████████▉ \u001b[0m| 897/1000 [6:20:48<17:03,  9.94s/it]"
     ]
    },
    {
     "name": "stdout",
     "output_type": "stream",
     "text": [
      "\u001b[94m- Epoch: 897/1000\u001b[0m\n",
      "\u001b[31m- Train Loss: 0.181890607 | Validation Loss: 0.119401986\u001b[0m \u001b[32m| NMSE: -14.6574640\u001b[0m\n"
     ]
    },
    {
     "name": "stderr",
     "output_type": "stream",
     "text": [
      "Model Training:  90%|\u001b[38;2;0;153;255m████████▉ \u001b[0m| 898/1000 [6:20:58<16:53,  9.94s/it]"
     ]
    },
    {
     "name": "stdout",
     "output_type": "stream",
     "text": [
      "\u001b[94m- Epoch: 898/1000\u001b[0m\n",
      "\u001b[31m- Train Loss: 0.157157375 | Validation Loss: 0.268300538\u001b[0m \u001b[32m| NMSE: -3.1297926\u001b[0m\n"
     ]
    },
    {
     "name": "stderr",
     "output_type": "stream",
     "text": [
      "Model Training:  90%|\u001b[38;2;0;153;255m████████▉ \u001b[0m| 899/1000 [6:21:07<16:43,  9.94s/it]"
     ]
    },
    {
     "name": "stdout",
     "output_type": "stream",
     "text": [
      "\u001b[94m- Epoch: 899/1000\u001b[0m\n",
      "\u001b[31m- Train Loss: 0.166163111 | Validation Loss: 0.049466904\u001b[0m \u001b[32m| NMSE: -4.4363399\u001b[0m\n"
     ]
    },
    {
     "name": "stderr",
     "output_type": "stream",
     "text": [
      "Model Training:  90%|\u001b[38;2;0;153;255m█████████ \u001b[0m| 900/1000 [6:21:17<16:33,  9.94s/it]"
     ]
    },
    {
     "name": "stdout",
     "output_type": "stream",
     "text": [
      "\u001b[94m- Epoch: 900/1000\u001b[0m\n",
      "\u001b[31m- Train Loss: 0.168365987 | Validation Loss: 0.255800553\u001b[0m \u001b[32m| NMSE: 1.6359737\u001b[0m\n"
     ]
    },
    {
     "name": "stderr",
     "output_type": "stream",
     "text": [
      "Model Training:  90%|\u001b[38;2;0;153;255m█████████ \u001b[0m| 901/1000 [6:21:27<16:23,  9.94s/it]"
     ]
    },
    {
     "name": "stdout",
     "output_type": "stream",
     "text": [
      "\u001b[94m- Epoch: 901/1000\u001b[0m\n",
      "\u001b[31m- Train Loss: 0.176214188 | Validation Loss: 0.214646767\u001b[0m \u001b[32m| NMSE: -5.3805075\u001b[0m\n"
     ]
    },
    {
     "name": "stderr",
     "output_type": "stream",
     "text": [
      "Model Training:  90%|\u001b[38;2;0;153;255m█████████ \u001b[0m| 902/1000 [6:21:37<16:13,  9.94s/it]"
     ]
    },
    {
     "name": "stdout",
     "output_type": "stream",
     "text": [
      "\u001b[94m- Epoch: 902/1000\u001b[0m\n",
      "\u001b[31m- Train Loss: 0.163737017 | Validation Loss: 0.362607102\u001b[0m \u001b[32m| NMSE: -1.3194568\u001b[0m\n"
     ]
    },
    {
     "name": "stderr",
     "output_type": "stream",
     "text": [
      "Model Training:  90%|\u001b[38;2;0;153;255m█████████ \u001b[0m| 903/1000 [6:21:47<16:03,  9.94s/it]"
     ]
    },
    {
     "name": "stdout",
     "output_type": "stream",
     "text": [
      "\u001b[94m- Epoch: 903/1000\u001b[0m\n",
      "\u001b[31m- Train Loss: 0.185490126 | Validation Loss: 0.267076060\u001b[0m \u001b[32m| NMSE: -9.1160002\u001b[0m\n"
     ]
    },
    {
     "name": "stderr",
     "output_type": "stream",
     "text": [
      "Model Training:  90%|\u001b[38;2;0;153;255m█████████ \u001b[0m| 904/1000 [6:21:57<15:54,  9.94s/it]"
     ]
    },
    {
     "name": "stdout",
     "output_type": "stream",
     "text": [
      "\u001b[94m- Epoch: 904/1000\u001b[0m\n",
      "\u001b[31m- Train Loss: 0.167834341 | Validation Loss: 0.067224993\u001b[0m \u001b[32m| NMSE: -3.1381236\u001b[0m\n"
     ]
    },
    {
     "name": "stderr",
     "output_type": "stream",
     "text": [
      "Model Training:  90%|\u001b[38;2;0;153;255m█████████ \u001b[0m| 905/1000 [6:22:07<15:44,  9.94s/it]"
     ]
    },
    {
     "name": "stdout",
     "output_type": "stream",
     "text": [
      "\u001b[94m- Epoch: 905/1000\u001b[0m\n",
      "\u001b[31m- Train Loss: 0.152541825 | Validation Loss: 0.430846435\u001b[0m \u001b[32m| NMSE: -3.1585814\u001b[0m\n"
     ]
    },
    {
     "name": "stderr",
     "output_type": "stream",
     "text": [
      "Model Training:  91%|\u001b[38;2;0;153;255m█████████ \u001b[0m| 906/1000 [6:22:17<15:34,  9.94s/it]"
     ]
    },
    {
     "name": "stdout",
     "output_type": "stream",
     "text": [
      "\u001b[94m- Epoch: 906/1000\u001b[0m\n",
      "\u001b[31m- Train Loss: 0.175767853 | Validation Loss: 0.188561586\u001b[0m \u001b[32m| NMSE: 5.0852601\u001b[0m\n"
     ]
    },
    {
     "name": "stderr",
     "output_type": "stream",
     "text": [
      "Model Training:  91%|\u001b[38;2;0;153;255m█████████ \u001b[0m| 907/1000 [6:22:27<15:24,  9.94s/it]"
     ]
    },
    {
     "name": "stdout",
     "output_type": "stream",
     "text": [
      "\u001b[94m- Epoch: 907/1000\u001b[0m\n",
      "\u001b[31m- Train Loss: 0.158998492 | Validation Loss: 0.113176692\u001b[0m \u001b[32m| NMSE: -3.9536126\u001b[0m\n"
     ]
    },
    {
     "name": "stderr",
     "output_type": "stream",
     "text": [
      "Model Training:  91%|\u001b[38;2;0;153;255m█████████ \u001b[0m| 908/1000 [6:22:37<15:14,  9.94s/it]"
     ]
    },
    {
     "name": "stdout",
     "output_type": "stream",
     "text": [
      "\u001b[94m- Epoch: 908/1000\u001b[0m\n",
      "\u001b[31m- Train Loss: 0.186503279 | Validation Loss: 0.105120728\u001b[0m \u001b[32m| NMSE: -1.6806641\u001b[0m\n"
     ]
    },
    {
     "name": "stderr",
     "output_type": "stream",
     "text": [
      "Model Training:  91%|\u001b[38;2;0;153;255m█████████ \u001b[0m| 909/1000 [6:22:47<15:04,  9.94s/it]"
     ]
    },
    {
     "name": "stdout",
     "output_type": "stream",
     "text": [
      "\u001b[94m- Epoch: 909/1000\u001b[0m\n",
      "\u001b[31m- Train Loss: 0.159795500 | Validation Loss: 0.157554348\u001b[0m \u001b[32m| NMSE: 2.8985729\u001b[0m\n"
     ]
    },
    {
     "name": "stderr",
     "output_type": "stream",
     "text": [
      "Model Training:  91%|\u001b[38;2;0;153;255m█████████ \u001b[0m| 910/1000 [6:22:57<14:52,  9.92s/it]"
     ]
    },
    {
     "name": "stdout",
     "output_type": "stream",
     "text": [
      "\u001b[94m- Epoch: 910/1000\u001b[0m\n",
      "\u001b[31m- Train Loss: 0.169928033 | Validation Loss: 0.113547405\u001b[0m \u001b[32m| NMSE: -5.9735827\u001b[0m\n"
     ]
    },
    {
     "name": "stderr",
     "output_type": "stream",
     "text": [
      "Model Training:  91%|\u001b[38;2;0;153;255m█████████ \u001b[0m| 911/1000 [6:23:07<14:43,  9.92s/it]"
     ]
    },
    {
     "name": "stdout",
     "output_type": "stream",
     "text": [
      "\u001b[94m- Epoch: 911/1000\u001b[0m\n",
      "\u001b[31m- Train Loss: 0.160236003 | Validation Loss: 0.212613220\u001b[0m \u001b[32m| NMSE: -5.8896108\u001b[0m\n"
     ]
    },
    {
     "name": "stderr",
     "output_type": "stream",
     "text": [
      "Model Training:  91%|\u001b[38;2;0;153;255m█████████ \u001b[0m| 912/1000 [6:23:17<14:33,  9.93s/it]"
     ]
    },
    {
     "name": "stdout",
     "output_type": "stream",
     "text": [
      "\u001b[94m- Epoch: 912/1000\u001b[0m\n",
      "\u001b[31m- Train Loss: 0.149204309 | Validation Loss: 0.094695715\u001b[0m \u001b[32m| NMSE: -6.4405295\u001b[0m\n"
     ]
    },
    {
     "name": "stderr",
     "output_type": "stream",
     "text": [
      "Model Training:  91%|\u001b[38;2;0;153;255m█████████▏\u001b[0m| 913/1000 [6:23:27<14:23,  9.93s/it]"
     ]
    },
    {
     "name": "stdout",
     "output_type": "stream",
     "text": [
      "\u001b[94m- Epoch: 913/1000\u001b[0m\n",
      "\u001b[31m- Train Loss: 0.178982705 | Validation Loss: 0.165302624\u001b[0m \u001b[32m| NMSE: -6.0432236\u001b[0m\n"
     ]
    },
    {
     "name": "stderr",
     "output_type": "stream",
     "text": [
      "Model Training:  91%|\u001b[38;2;0;153;255m█████████▏\u001b[0m| 914/1000 [6:23:36<14:14,  9.93s/it]"
     ]
    },
    {
     "name": "stdout",
     "output_type": "stream",
     "text": [
      "\u001b[94m- Epoch: 914/1000\u001b[0m\n",
      "\u001b[31m- Train Loss: 0.162486606 | Validation Loss: 0.086341899\u001b[0m \u001b[32m| NMSE: -10.8570695\u001b[0m\n"
     ]
    },
    {
     "name": "stderr",
     "output_type": "stream",
     "text": [
      "Model Training:  92%|\u001b[38;2;0;153;255m█████████▏\u001b[0m| 915/1000 [6:23:46<14:04,  9.94s/it]"
     ]
    },
    {
     "name": "stdout",
     "output_type": "stream",
     "text": [
      "\u001b[94m- Epoch: 915/1000\u001b[0m\n",
      "\u001b[31m- Train Loss: 0.159931732 | Validation Loss: 0.228068337\u001b[0m \u001b[32m| NMSE: -3.5619789\u001b[0m\n"
     ]
    },
    {
     "name": "stderr",
     "output_type": "stream",
     "text": [
      "Model Training:  92%|\u001b[38;2;0;153;255m█████████▏\u001b[0m| 916/1000 [6:23:57<13:58,  9.99s/it]"
     ]
    },
    {
     "name": "stdout",
     "output_type": "stream",
     "text": [
      "\u001b[94m- Epoch: 916/1000\u001b[0m\n",
      "\u001b[31m- Train Loss: 0.181411332 | Validation Loss: 0.129408325\u001b[0m \u001b[32m| NMSE: -10.7792468\u001b[0m\n"
     ]
    },
    {
     "name": "stderr",
     "output_type": "stream",
     "text": [
      "Model Training:  92%|\u001b[38;2;0;153;255m█████████▏\u001b[0m| 917/1000 [6:24:06<13:47,  9.97s/it]"
     ]
    },
    {
     "name": "stdout",
     "output_type": "stream",
     "text": [
      "\u001b[94m- Epoch: 917/1000\u001b[0m\n",
      "\u001b[31m- Train Loss: 0.160021492 | Validation Loss: 0.141683189\u001b[0m \u001b[32m| NMSE: -5.4442108\u001b[0m\n"
     ]
    },
    {
     "name": "stderr",
     "output_type": "stream",
     "text": [
      "Model Training:  92%|\u001b[38;2;0;153;255m█████████▏\u001b[0m| 918/1000 [6:24:16<13:36,  9.95s/it]"
     ]
    },
    {
     "name": "stdout",
     "output_type": "stream",
     "text": [
      "\u001b[94m- Epoch: 918/1000\u001b[0m\n",
      "\u001b[31m- Train Loss: 0.159047885 | Validation Loss: 0.186420685\u001b[0m \u001b[32m| NMSE: 0.9761751\u001b[0m\n"
     ]
    },
    {
     "name": "stderr",
     "output_type": "stream",
     "text": [
      "Model Training:  92%|\u001b[38;2;0;153;255m█████████▏\u001b[0m| 919/1000 [6:24:26<13:25,  9.95s/it]"
     ]
    },
    {
     "name": "stdout",
     "output_type": "stream",
     "text": [
      "\u001b[94m- Epoch: 919/1000\u001b[0m\n",
      "\u001b[31m- Train Loss: 0.162642848 | Validation Loss: 0.255917475\u001b[0m \u001b[32m| NMSE: -8.1303918\u001b[0m\n"
     ]
    },
    {
     "name": "stderr",
     "output_type": "stream",
     "text": [
      "Model Training:  92%|\u001b[38;2;0;153;255m█████████▏\u001b[0m| 920/1000 [6:24:36<13:14,  9.93s/it]"
     ]
    },
    {
     "name": "stdout",
     "output_type": "stream",
     "text": [
      "\u001b[94m- Epoch: 920/1000\u001b[0m\n",
      "\u001b[31m- Train Loss: 0.160019299 | Validation Loss: 0.148412096\u001b[0m \u001b[32m| NMSE: -7.1905649\u001b[0m\n"
     ]
    },
    {
     "name": "stderr",
     "output_type": "stream",
     "text": [
      "Model Training:  92%|\u001b[38;2;0;153;255m█████████▏\u001b[0m| 921/1000 [6:24:46<13:02,  9.91s/it]"
     ]
    },
    {
     "name": "stdout",
     "output_type": "stream",
     "text": [
      "\u001b[94m- Epoch: 921/1000\u001b[0m\n",
      "\u001b[31m- Train Loss: 0.157755436 | Validation Loss: 0.066688069\u001b[0m \u001b[32m| NMSE: -0.3946387\u001b[0m\n"
     ]
    },
    {
     "name": "stderr",
     "output_type": "stream",
     "text": [
      "Model Training:  92%|\u001b[38;2;0;153;255m█████████▏\u001b[0m| 922/1000 [6:24:56<12:51,  9.90s/it]"
     ]
    },
    {
     "name": "stdout",
     "output_type": "stream",
     "text": [
      "\u001b[94m- Epoch: 922/1000\u001b[0m\n",
      "\u001b[31m- Train Loss: 0.192725698 | Validation Loss: 0.137530934\u001b[0m \u001b[32m| NMSE: -0.8498287\u001b[0m\n"
     ]
    },
    {
     "name": "stderr",
     "output_type": "stream",
     "text": [
      "Model Training:  92%|\u001b[38;2;0;153;255m█████████▏\u001b[0m| 923/1000 [6:25:06<12:41,  9.89s/it]"
     ]
    },
    {
     "name": "stdout",
     "output_type": "stream",
     "text": [
      "\u001b[94m- Epoch: 923/1000\u001b[0m\n",
      "\u001b[31m- Train Loss: 0.171628159 | Validation Loss: 0.052079273\u001b[0m \u001b[32m| NMSE: -4.0420282\u001b[0m\n"
     ]
    },
    {
     "name": "stderr",
     "output_type": "stream",
     "text": [
      "Model Training:  92%|\u001b[38;2;0;153;255m█████████▏\u001b[0m| 924/1000 [6:25:16<12:31,  9.88s/it]"
     ]
    },
    {
     "name": "stdout",
     "output_type": "stream",
     "text": [
      "\u001b[94m- Epoch: 924/1000\u001b[0m\n",
      "\u001b[31m- Train Loss: 0.177791213 | Validation Loss: 0.210385023\u001b[0m \u001b[32m| NMSE: -1.3698726\u001b[0m\n"
     ]
    },
    {
     "name": "stderr",
     "output_type": "stream",
     "text": [
      "Model Training:  92%|\u001b[38;2;0;153;255m█████████▎\u001b[0m| 925/1000 [6:25:26<12:20,  9.88s/it]"
     ]
    },
    {
     "name": "stdout",
     "output_type": "stream",
     "text": [
      "\u001b[94m- Epoch: 925/1000\u001b[0m\n",
      "\u001b[31m- Train Loss: 0.153576710 | Validation Loss: 0.076393024\u001b[0m \u001b[32m| NMSE: -6.8656731\u001b[0m\n"
     ]
    },
    {
     "name": "stderr",
     "output_type": "stream",
     "text": [
      "Model Training:  93%|\u001b[38;2;0;153;255m█████████▎\u001b[0m| 926/1000 [6:25:35<12:10,  9.87s/it]"
     ]
    },
    {
     "name": "stdout",
     "output_type": "stream",
     "text": [
      "\u001b[94m- Epoch: 926/1000\u001b[0m\n",
      "\u001b[31m- Train Loss: 0.170347653 | Validation Loss: 0.094838961\u001b[0m \u001b[32m| NMSE: -3.7464399\u001b[0m\n"
     ]
    },
    {
     "name": "stderr",
     "output_type": "stream",
     "text": [
      "Model Training:  93%|\u001b[38;2;0;153;255m█████████▎\u001b[0m| 927/1000 [6:25:45<12:00,  9.87s/it]"
     ]
    },
    {
     "name": "stdout",
     "output_type": "stream",
     "text": [
      "\u001b[94m- Epoch: 927/1000\u001b[0m\n",
      "\u001b[31m- Train Loss: 0.156099220 | Validation Loss: 0.133386935\u001b[0m \u001b[32m| NMSE: -7.5235739\u001b[0m\n"
     ]
    },
    {
     "name": "stderr",
     "output_type": "stream",
     "text": [
      "Model Training:  93%|\u001b[38;2;0;153;255m█████████▎\u001b[0m| 928/1000 [6:25:55<11:50,  9.87s/it]"
     ]
    },
    {
     "name": "stdout",
     "output_type": "stream",
     "text": [
      "\u001b[94m- Epoch: 928/1000\u001b[0m\n",
      "\u001b[31m- Train Loss: 0.166882036 | Validation Loss: 0.126089095\u001b[0m \u001b[32m| NMSE: -6.5319023\u001b[0m\n"
     ]
    },
    {
     "name": "stderr",
     "output_type": "stream",
     "text": [
      "Model Training:  93%|\u001b[38;2;0;153;255m█████████▎\u001b[0m| 929/1000 [6:26:05<11:40,  9.87s/it]"
     ]
    },
    {
     "name": "stdout",
     "output_type": "stream",
     "text": [
      "\u001b[94m- Epoch: 929/1000\u001b[0m\n",
      "\u001b[31m- Train Loss: 0.153281034 | Validation Loss: 0.091899319\u001b[0m \u001b[32m| NMSE: 2.2610087\u001b[0m\n"
     ]
    },
    {
     "name": "stderr",
     "output_type": "stream",
     "text": [
      "Model Training:  93%|\u001b[38;2;0;153;255m█████████▎\u001b[0m| 930/1000 [6:26:15<11:30,  9.87s/it]"
     ]
    },
    {
     "name": "stdout",
     "output_type": "stream",
     "text": [
      "\u001b[94m- Epoch: 930/1000\u001b[0m\n",
      "\u001b[31m- Train Loss: 0.167902450 | Validation Loss: 0.211779967\u001b[0m \u001b[32m| NMSE: -7.5891137\u001b[0m\n"
     ]
    },
    {
     "name": "stderr",
     "output_type": "stream",
     "text": [
      "Model Training:  93%|\u001b[38;2;0;153;255m█████████▎\u001b[0m| 931/1000 [6:26:25<11:20,  9.87s/it]"
     ]
    },
    {
     "name": "stdout",
     "output_type": "stream",
     "text": [
      "\u001b[94m- Epoch: 931/1000\u001b[0m\n",
      "\u001b[31m- Train Loss: 0.166622624 | Validation Loss: 0.059376864\u001b[0m \u001b[32m| NMSE: -5.3535528\u001b[0m\n"
     ]
    },
    {
     "name": "stderr",
     "output_type": "stream",
     "text": [
      "Model Training:  93%|\u001b[38;2;0;153;255m█████████▎\u001b[0m| 932/1000 [6:26:35<11:09,  9.85s/it]"
     ]
    },
    {
     "name": "stdout",
     "output_type": "stream",
     "text": [
      "\u001b[94m- Epoch: 932/1000\u001b[0m\n",
      "\u001b[31m- Train Loss: 0.179516040 | Validation Loss: 0.281109889\u001b[0m \u001b[32m| NMSE: -5.9424507\u001b[0m\n"
     ]
    },
    {
     "name": "stderr",
     "output_type": "stream",
     "text": [
      "Model Training:  93%|\u001b[38;2;0;153;255m█████████▎\u001b[0m| 933/1000 [6:26:44<10:59,  9.84s/it]"
     ]
    },
    {
     "name": "stdout",
     "output_type": "stream",
     "text": [
      "\u001b[94m- Epoch: 933/1000\u001b[0m\n",
      "\u001b[31m- Train Loss: 0.165747838 | Validation Loss: 0.034674922\u001b[0m \u001b[32m| NMSE: -4.4781082\u001b[0m\n"
     ]
    },
    {
     "name": "stderr",
     "output_type": "stream",
     "text": [
      "Model Training:  93%|\u001b[38;2;0;153;255m█████████▎\u001b[0m| 934/1000 [6:26:54<10:49,  9.85s/it]"
     ]
    },
    {
     "name": "stdout",
     "output_type": "stream",
     "text": [
      "\u001b[94m- Epoch: 934/1000\u001b[0m\n",
      "\u001b[31m- Train Loss: 0.164540248 | Validation Loss: 0.143046590\u001b[0m \u001b[32m| NMSE: -1.7192959\u001b[0m\n"
     ]
    },
    {
     "name": "stderr",
     "output_type": "stream",
     "text": [
      "Model Training:  94%|\u001b[38;2;0;153;255m█████████▎\u001b[0m| 935/1000 [6:27:04<10:40,  9.85s/it]"
     ]
    },
    {
     "name": "stdout",
     "output_type": "stream",
     "text": [
      "\u001b[94m- Epoch: 935/1000\u001b[0m\n",
      "\u001b[31m- Train Loss: 0.137940344 | Validation Loss: 0.216176634\u001b[0m \u001b[32m| NMSE: -2.9149584\u001b[0m\n"
     ]
    },
    {
     "name": "stderr",
     "output_type": "stream",
     "text": [
      "Model Training:  94%|\u001b[38;2;0;153;255m█████████▎\u001b[0m| 936/1000 [6:27:14<10:31,  9.86s/it]"
     ]
    },
    {
     "name": "stdout",
     "output_type": "stream",
     "text": [
      "\u001b[94m- Epoch: 936/1000\u001b[0m\n",
      "\u001b[31m- Train Loss: 0.183445899 | Validation Loss: 0.223524598\u001b[0m \u001b[32m| NMSE: -6.5069219\u001b[0m\n"
     ]
    },
    {
     "name": "stderr",
     "output_type": "stream",
     "text": [
      "Model Training:  94%|\u001b[38;2;0;153;255m█████████▎\u001b[0m| 937/1000 [6:27:24<10:21,  9.86s/it]"
     ]
    },
    {
     "name": "stdout",
     "output_type": "stream",
     "text": [
      "\u001b[94m- Epoch: 937/1000\u001b[0m\n",
      "\u001b[31m- Train Loss: 0.151319879 | Validation Loss: 0.225104578\u001b[0m \u001b[32m| NMSE: -2.7948376\u001b[0m\n"
     ]
    },
    {
     "name": "stderr",
     "output_type": "stream",
     "text": [
      "Model Training:  94%|\u001b[38;2;0;153;255m█████████▍\u001b[0m| 938/1000 [6:27:34<10:11,  9.87s/it]"
     ]
    },
    {
     "name": "stdout",
     "output_type": "stream",
     "text": [
      "\u001b[94m- Epoch: 938/1000\u001b[0m\n",
      "\u001b[31m- Train Loss: 0.186183078 | Validation Loss: 0.308588167\u001b[0m \u001b[32m| NMSE: -3.0067846\u001b[0m\n"
     ]
    },
    {
     "name": "stderr",
     "output_type": "stream",
     "text": [
      "Model Training:  94%|\u001b[38;2;0;153;255m█████████▍\u001b[0m| 939/1000 [6:27:44<10:01,  9.87s/it]"
     ]
    },
    {
     "name": "stdout",
     "output_type": "stream",
     "text": [
      "\u001b[94m- Epoch: 939/1000\u001b[0m\n",
      "\u001b[31m- Train Loss: 0.153015834 | Validation Loss: 0.203840832\u001b[0m \u001b[32m| NMSE: 4.2292871\u001b[0m\n"
     ]
    },
    {
     "name": "stderr",
     "output_type": "stream",
     "text": [
      "Model Training:  94%|\u001b[38;2;0;153;255m█████████▍\u001b[0m| 940/1000 [6:27:53<09:51,  9.87s/it]"
     ]
    },
    {
     "name": "stdout",
     "output_type": "stream",
     "text": [
      "\u001b[94m- Epoch: 940/1000\u001b[0m\n",
      "\u001b[31m- Train Loss: 0.158582894 | Validation Loss: 0.114562088\u001b[0m \u001b[32m| NMSE: 1.3348939\u001b[0m\n"
     ]
    },
    {
     "name": "stderr",
     "output_type": "stream",
     "text": [
      "Model Training:  94%|\u001b[38;2;0;153;255m█████████▍\u001b[0m| 941/1000 [6:28:03<09:42,  9.87s/it]"
     ]
    },
    {
     "name": "stdout",
     "output_type": "stream",
     "text": [
      "\u001b[94m- Epoch: 941/1000\u001b[0m\n",
      "\u001b[31m- Train Loss: 0.163771046 | Validation Loss: 0.136801401\u001b[0m \u001b[32m| NMSE: -3.9154769\u001b[0m\n"
     ]
    },
    {
     "name": "stderr",
     "output_type": "stream",
     "text": [
      "Model Training:  94%|\u001b[38;2;0;153;255m█████████▍\u001b[0m| 942/1000 [6:28:13<09:32,  9.87s/it]"
     ]
    },
    {
     "name": "stdout",
     "output_type": "stream",
     "text": [
      "\u001b[94m- Epoch: 942/1000\u001b[0m\n",
      "\u001b[31m- Train Loss: 0.177757654 | Validation Loss: 0.087119520\u001b[0m \u001b[32m| NMSE: -0.2614803\u001b[0m\n"
     ]
    },
    {
     "name": "stderr",
     "output_type": "stream",
     "text": [
      "Model Training:  94%|\u001b[38;2;0;153;255m█████████▍\u001b[0m| 943/1000 [6:28:23<09:22,  9.87s/it]"
     ]
    },
    {
     "name": "stdout",
     "output_type": "stream",
     "text": [
      "\u001b[94m- Epoch: 943/1000\u001b[0m\n",
      "\u001b[31m- Train Loss: 0.158229390 | Validation Loss: 0.178108867\u001b[0m \u001b[32m| NMSE: -3.9656591\u001b[0m\n"
     ]
    },
    {
     "name": "stderr",
     "output_type": "stream",
     "text": [
      "Model Training:  94%|\u001b[38;2;0;153;255m█████████▍\u001b[0m| 944/1000 [6:28:33<09:12,  9.87s/it]"
     ]
    },
    {
     "name": "stdout",
     "output_type": "stream",
     "text": [
      "\u001b[94m- Epoch: 944/1000\u001b[0m\n",
      "\u001b[31m- Train Loss: 0.162232580 | Validation Loss: 0.231669493\u001b[0m \u001b[32m| NMSE: -6.0181844\u001b[0m\n"
     ]
    },
    {
     "name": "stderr",
     "output_type": "stream",
     "text": [
      "Model Training:  94%|\u001b[38;2;0;153;255m█████████▍\u001b[0m| 945/1000 [6:28:43<09:02,  9.87s/it]"
     ]
    },
    {
     "name": "stdout",
     "output_type": "stream",
     "text": [
      "\u001b[94m- Epoch: 945/1000\u001b[0m\n",
      "\u001b[31m- Train Loss: 0.155591735 | Validation Loss: 0.147074873\u001b[0m \u001b[32m| NMSE: -6.1137688\u001b[0m\n"
     ]
    },
    {
     "name": "stderr",
     "output_type": "stream",
     "text": [
      "Model Training:  95%|\u001b[38;2;0;153;255m█████████▍\u001b[0m| 946/1000 [6:28:53<08:52,  9.87s/it]"
     ]
    },
    {
     "name": "stdout",
     "output_type": "stream",
     "text": [
      "\u001b[94m- Epoch: 946/1000\u001b[0m\n",
      "\u001b[31m- Train Loss: 0.164277494 | Validation Loss: 0.230478312\u001b[0m \u001b[32m| NMSE: -7.5576363\u001b[0m\n"
     ]
    },
    {
     "name": "stderr",
     "output_type": "stream",
     "text": [
      "Model Training:  95%|\u001b[38;2;0;153;255m█████████▍\u001b[0m| 947/1000 [6:29:03<08:43,  9.87s/it]"
     ]
    },
    {
     "name": "stdout",
     "output_type": "stream",
     "text": [
      "\u001b[94m- Epoch: 947/1000\u001b[0m\n",
      "\u001b[31m- Train Loss: 0.171584271 | Validation Loss: 0.130201640\u001b[0m \u001b[32m| NMSE: -0.6616020\u001b[0m\n"
     ]
    },
    {
     "name": "stderr",
     "output_type": "stream",
     "text": [
      "Model Training:  95%|\u001b[38;2;0;153;255m█████████▍\u001b[0m| 948/1000 [6:29:13<08:35,  9.92s/it]"
     ]
    },
    {
     "name": "stdout",
     "output_type": "stream",
     "text": [
      "\u001b[94m- Epoch: 948/1000\u001b[0m\n",
      "\u001b[31m- Train Loss: 0.150269790 | Validation Loss: 0.137859894\u001b[0m \u001b[32m| NMSE: -0.7994498\u001b[0m\n"
     ]
    },
    {
     "name": "stderr",
     "output_type": "stream",
     "text": [
      "Model Training:  95%|\u001b[38;2;0;153;255m█████████▍\u001b[0m| 949/1000 [6:29:22<08:25,  9.91s/it]"
     ]
    },
    {
     "name": "stdout",
     "output_type": "stream",
     "text": [
      "\u001b[94m- Epoch: 949/1000\u001b[0m\n",
      "\u001b[31m- Train Loss: 0.165505265 | Validation Loss: 0.184823904\u001b[0m \u001b[32m| NMSE: -1.4543090\u001b[0m\n"
     ]
    },
    {
     "name": "stderr",
     "output_type": "stream",
     "text": [
      "Model Training:  95%|\u001b[38;2;0;153;255m█████████▌\u001b[0m| 950/1000 [6:29:32<08:14,  9.90s/it]"
     ]
    },
    {
     "name": "stdout",
     "output_type": "stream",
     "text": [
      "\u001b[94m- Epoch: 950/1000\u001b[0m\n",
      "\u001b[31m- Train Loss: 0.182872686 | Validation Loss: 0.068641622\u001b[0m \u001b[32m| NMSE: -0.3148048\u001b[0m\n"
     ]
    },
    {
     "name": "stderr",
     "output_type": "stream",
     "text": [
      "Model Training:  95%|\u001b[38;2;0;153;255m█████████▌\u001b[0m| 951/1000 [6:29:42<08:04,  9.89s/it]"
     ]
    },
    {
     "name": "stdout",
     "output_type": "stream",
     "text": [
      "\u001b[94m- Epoch: 951/1000\u001b[0m\n",
      "\u001b[31m- Train Loss: 0.149145561 | Validation Loss: 0.255937238\u001b[0m \u001b[32m| NMSE: -7.6863527\u001b[0m\n"
     ]
    },
    {
     "name": "stderr",
     "output_type": "stream",
     "text": [
      "Model Training:  95%|\u001b[38;2;0;153;255m█████████▌\u001b[0m| 952/1000 [6:29:52<07:54,  9.88s/it]"
     ]
    },
    {
     "name": "stdout",
     "output_type": "stream",
     "text": [
      "\u001b[94m- Epoch: 952/1000\u001b[0m\n",
      "\u001b[31m- Train Loss: 0.179209729 | Validation Loss: 0.128874933\u001b[0m \u001b[32m| NMSE: -5.7573739\u001b[0m\n"
     ]
    },
    {
     "name": "stderr",
     "output_type": "stream",
     "text": [
      "Model Training:  95%|\u001b[38;2;0;153;255m█████████▌\u001b[0m| 953/1000 [6:30:02<07:44,  9.88s/it]"
     ]
    },
    {
     "name": "stdout",
     "output_type": "stream",
     "text": [
      "\u001b[94m- Epoch: 953/1000\u001b[0m\n",
      "\u001b[31m- Train Loss: 0.180263408 | Validation Loss: 0.132819364\u001b[0m \u001b[32m| NMSE: -4.1305242\u001b[0m\n"
     ]
    },
    {
     "name": "stderr",
     "output_type": "stream",
     "text": [
      "Model Training:  95%|\u001b[38;2;0;153;255m█████████▌\u001b[0m| 954/1000 [6:30:12<07:34,  9.88s/it]"
     ]
    },
    {
     "name": "stdout",
     "output_type": "stream",
     "text": [
      "\u001b[94m- Epoch: 954/1000\u001b[0m\n",
      "\u001b[31m- Train Loss: 0.188838391 | Validation Loss: 0.257034174\u001b[0m \u001b[32m| NMSE: -1.0155289\u001b[0m\n"
     ]
    },
    {
     "name": "stderr",
     "output_type": "stream",
     "text": [
      "Model Training:  96%|\u001b[38;2;0;153;255m█████████▌\u001b[0m| 955/1000 [6:30:22<07:24,  9.87s/it]"
     ]
    },
    {
     "name": "stdout",
     "output_type": "stream",
     "text": [
      "\u001b[94m- Epoch: 955/1000\u001b[0m\n",
      "\u001b[31m- Train Loss: 0.151927827 | Validation Loss: 0.207514212\u001b[0m \u001b[32m| NMSE: 3.0550086\u001b[0m\n"
     ]
    },
    {
     "name": "stderr",
     "output_type": "stream",
     "text": [
      "Model Training:  96%|\u001b[38;2;0;153;255m█████████▌\u001b[0m| 956/1000 [6:30:32<07:14,  9.87s/it]"
     ]
    },
    {
     "name": "stdout",
     "output_type": "stream",
     "text": [
      "\u001b[94m- Epoch: 956/1000\u001b[0m\n",
      "\u001b[31m- Train Loss: 0.166239029 | Validation Loss: 0.070657054\u001b[0m \u001b[32m| NMSE: -2.9263045\u001b[0m\n"
     ]
    },
    {
     "name": "stderr",
     "output_type": "stream",
     "text": [
      "Model Training:  96%|\u001b[38;2;0;153;255m█████████▌\u001b[0m| 957/1000 [6:30:41<07:04,  9.87s/it]"
     ]
    },
    {
     "name": "stdout",
     "output_type": "stream",
     "text": [
      "\u001b[94m- Epoch: 957/1000\u001b[0m\n",
      "\u001b[31m- Train Loss: 0.163353136 | Validation Loss: 0.022430650\u001b[0m \u001b[32m| NMSE: -1.5848613\u001b[0m\n"
     ]
    },
    {
     "name": "stderr",
     "output_type": "stream",
     "text": [
      "Model Training:  96%|\u001b[38;2;0;153;255m█████████▌\u001b[0m| 958/1000 [6:30:51<06:54,  9.87s/it]"
     ]
    },
    {
     "name": "stdout",
     "output_type": "stream",
     "text": [
      "\u001b[94m- Epoch: 958/1000\u001b[0m\n",
      "\u001b[31m- Train Loss: 0.171694039 | Validation Loss: 0.298452308\u001b[0m \u001b[32m| NMSE: 5.6990016\u001b[0m\n"
     ]
    },
    {
     "name": "stderr",
     "output_type": "stream",
     "text": [
      "Model Training:  96%|\u001b[38;2;0;153;255m█████████▌\u001b[0m| 959/1000 [6:31:01<06:44,  9.87s/it]"
     ]
    },
    {
     "name": "stdout",
     "output_type": "stream",
     "text": [
      "\u001b[94m- Epoch: 959/1000\u001b[0m\n",
      "\u001b[31m- Train Loss: 0.179990409 | Validation Loss: 0.224910493\u001b[0m \u001b[32m| NMSE: -0.4784360\u001b[0m\n"
     ]
    },
    {
     "name": "stderr",
     "output_type": "stream",
     "text": [
      "Model Training:  96%|\u001b[38;2;0;153;255m█████████▌\u001b[0m| 960/1000 [6:31:11<06:34,  9.87s/it]"
     ]
    },
    {
     "name": "stdout",
     "output_type": "stream",
     "text": [
      "\u001b[94m- Epoch: 960/1000\u001b[0m\n",
      "\u001b[31m- Train Loss: 0.169105713 | Validation Loss: 0.137991026\u001b[0m \u001b[32m| NMSE: -1.7270665\u001b[0m\n"
     ]
    },
    {
     "name": "stderr",
     "output_type": "stream",
     "text": [
      "Model Training:  96%|\u001b[38;2;0;153;255m█████████▌\u001b[0m| 961/1000 [6:31:21<06:24,  9.87s/it]"
     ]
    },
    {
     "name": "stdout",
     "output_type": "stream",
     "text": [
      "\u001b[94m- Epoch: 961/1000\u001b[0m\n",
      "\u001b[31m- Train Loss: 0.167309113 | Validation Loss: 0.048588721\u001b[0m \u001b[32m| NMSE: -0.6809208\u001b[0m\n"
     ]
    },
    {
     "name": "stderr",
     "output_type": "stream",
     "text": [
      "Model Training:  96%|\u001b[38;2;0;153;255m█████████▌\u001b[0m| 962/1000 [6:31:31<06:14,  9.87s/it]"
     ]
    },
    {
     "name": "stdout",
     "output_type": "stream",
     "text": [
      "\u001b[94m- Epoch: 962/1000\u001b[0m\n",
      "\u001b[31m- Train Loss: 0.173255745 | Validation Loss: 0.174573548\u001b[0m \u001b[32m| NMSE: -6.5636439\u001b[0m\n"
     ]
    },
    {
     "name": "stderr",
     "output_type": "stream",
     "text": [
      "Model Training:  96%|\u001b[38;2;0;153;255m█████████▋\u001b[0m| 963/1000 [6:31:41<06:05,  9.87s/it]"
     ]
    },
    {
     "name": "stdout",
     "output_type": "stream",
     "text": [
      "\u001b[94m- Epoch: 963/1000\u001b[0m\n",
      "\u001b[31m- Train Loss: 0.191640907 | Validation Loss: 0.248411104\u001b[0m \u001b[32m| NMSE: -7.2730949\u001b[0m\n"
     ]
    },
    {
     "name": "stderr",
     "output_type": "stream",
     "text": [
      "Model Training:  96%|\u001b[38;2;0;153;255m█████████▋\u001b[0m| 964/1000 [6:31:50<05:55,  9.87s/it]"
     ]
    },
    {
     "name": "stdout",
     "output_type": "stream",
     "text": [
      "\u001b[94m- Epoch: 964/1000\u001b[0m\n",
      "\u001b[31m- Train Loss: 0.165882940 | Validation Loss: 0.347831617\u001b[0m \u001b[32m| NMSE: -4.6493352\u001b[0m\n"
     ]
    },
    {
     "name": "stderr",
     "output_type": "stream",
     "text": [
      "Model Training:  96%|\u001b[38;2;0;153;255m█████████▋\u001b[0m| 965/1000 [6:32:00<05:45,  9.87s/it]"
     ]
    },
    {
     "name": "stdout",
     "output_type": "stream",
     "text": [
      "\u001b[94m- Epoch: 965/1000\u001b[0m\n",
      "\u001b[31m- Train Loss: 0.163381705 | Validation Loss: 0.246236439\u001b[0m \u001b[32m| NMSE: -6.6090655\u001b[0m\n"
     ]
    },
    {
     "name": "stderr",
     "output_type": "stream",
     "text": [
      "Model Training:  97%|\u001b[38;2;0;153;255m█████████▋\u001b[0m| 966/1000 [6:32:10<05:35,  9.87s/it]"
     ]
    },
    {
     "name": "stdout",
     "output_type": "stream",
     "text": [
      "\u001b[94m- Epoch: 966/1000\u001b[0m\n",
      "\u001b[31m- Train Loss: 0.176699352 | Validation Loss: 0.059172312\u001b[0m \u001b[32m| NMSE: -8.5545526\u001b[0m\n"
     ]
    },
    {
     "name": "stderr",
     "output_type": "stream",
     "text": [
      "Model Training:  97%|\u001b[38;2;0;153;255m█████████▋\u001b[0m| 967/1000 [6:32:20<05:25,  9.87s/it]"
     ]
    },
    {
     "name": "stdout",
     "output_type": "stream",
     "text": [
      "\u001b[94m- Epoch: 967/1000\u001b[0m\n",
      "\u001b[31m- Train Loss: 0.172027172 | Validation Loss: 0.134705372\u001b[0m \u001b[32m| NMSE: -14.4428372\u001b[0m\n"
     ]
    },
    {
     "name": "stderr",
     "output_type": "stream",
     "text": [
      "Model Training:  97%|\u001b[38;2;0;153;255m█████████▋\u001b[0m| 968/1000 [6:32:30<05:14,  9.84s/it]"
     ]
    },
    {
     "name": "stdout",
     "output_type": "stream",
     "text": [
      "\u001b[94m- Epoch: 968/1000\u001b[0m\n",
      "\u001b[31m- Train Loss: 0.184559974 | Validation Loss: 0.177861902\u001b[0m \u001b[32m| NMSE: 11.6159177\u001b[0m\n"
     ]
    },
    {
     "name": "stderr",
     "output_type": "stream",
     "text": [
      "Model Training:  97%|\u001b[38;2;0;153;255m█████████▋\u001b[0m| 969/1000 [6:32:39<05:03,  9.78s/it]"
     ]
    },
    {
     "name": "stdout",
     "output_type": "stream",
     "text": [
      "\u001b[94m- Epoch: 969/1000\u001b[0m\n",
      "\u001b[31m- Train Loss: 0.162061854 | Validation Loss: 0.091588565\u001b[0m \u001b[32m| NMSE: -3.4587461\u001b[0m\n"
     ]
    },
    {
     "name": "stderr",
     "output_type": "stream",
     "text": [
      "Model Training:  97%|\u001b[38;2;0;153;255m█████████▋\u001b[0m| 970/1000 [6:32:49<04:52,  9.74s/it]"
     ]
    },
    {
     "name": "stdout",
     "output_type": "stream",
     "text": [
      "\u001b[94m- Epoch: 970/1000\u001b[0m\n",
      "\u001b[31m- Train Loss: 0.166657963 | Validation Loss: 0.280046950\u001b[0m \u001b[32m| NMSE: -1.9569321\u001b[0m\n"
     ]
    },
    {
     "name": "stderr",
     "output_type": "stream",
     "text": [
      "Model Training:  97%|\u001b[38;2;0;153;255m█████████▋\u001b[0m| 971/1000 [6:32:59<04:41,  9.71s/it]"
     ]
    },
    {
     "name": "stdout",
     "output_type": "stream",
     "text": [
      "\u001b[94m- Epoch: 971/1000\u001b[0m\n",
      "\u001b[31m- Train Loss: 0.157579076 | Validation Loss: 0.109669603\u001b[0m \u001b[32m| NMSE: -5.6143364\u001b[0m\n"
     ]
    },
    {
     "name": "stderr",
     "output_type": "stream",
     "text": [
      "Model Training:  97%|\u001b[38;2;0;153;255m█████████▋\u001b[0m| 972/1000 [6:33:08<04:31,  9.69s/it]"
     ]
    },
    {
     "name": "stdout",
     "output_type": "stream",
     "text": [
      "\u001b[94m- Epoch: 972/1000\u001b[0m\n",
      "\u001b[31m- Train Loss: 0.161142830 | Validation Loss: 0.092497963\u001b[0m \u001b[32m| NMSE: -5.6573472\u001b[0m\n"
     ]
    },
    {
     "name": "stderr",
     "output_type": "stream",
     "text": [
      "Model Training:  97%|\u001b[38;2;0;153;255m█████████▋\u001b[0m| 973/1000 [6:33:18<04:21,  9.68s/it]"
     ]
    },
    {
     "name": "stdout",
     "output_type": "stream",
     "text": [
      "\u001b[94m- Epoch: 973/1000\u001b[0m\n",
      "\u001b[31m- Train Loss: 0.161190975 | Validation Loss: 0.179660077\u001b[0m \u001b[32m| NMSE: -5.6796479\u001b[0m\n"
     ]
    },
    {
     "name": "stderr",
     "output_type": "stream",
     "text": [
      "Model Training:  97%|\u001b[38;2;0;153;255m█████████▋\u001b[0m| 974/1000 [6:33:28<04:11,  9.67s/it]"
     ]
    },
    {
     "name": "stdout",
     "output_type": "stream",
     "text": [
      "\u001b[94m- Epoch: 974/1000\u001b[0m\n",
      "\u001b[31m- Train Loss: 0.154393869 | Validation Loss: 0.053690883\u001b[0m \u001b[32m| NMSE: -1.1565613\u001b[0m\n"
     ]
    },
    {
     "name": "stderr",
     "output_type": "stream",
     "text": [
      "Model Training:  98%|\u001b[38;2;0;153;255m█████████▊\u001b[0m| 975/1000 [6:33:37<03:56,  9.48s/it]"
     ]
    },
    {
     "name": "stdout",
     "output_type": "stream",
     "text": [
      "\u001b[94m- Epoch: 975/1000\u001b[0m\n",
      "\u001b[31m- Train Loss: 0.164446435 | Validation Loss: 0.036535630\u001b[0m \u001b[32m| NMSE: -3.3190689\u001b[0m\n"
     ]
    },
    {
     "name": "stderr",
     "output_type": "stream",
     "text": [
      "Model Training:  98%|\u001b[38;2;0;153;255m█████████▊\u001b[0m| 976/1000 [6:33:46<03:46,  9.44s/it]"
     ]
    },
    {
     "name": "stdout",
     "output_type": "stream",
     "text": [
      "\u001b[94m- Epoch: 976/1000\u001b[0m\n",
      "\u001b[31m- Train Loss: 0.156350137 | Validation Loss: 0.172472463\u001b[0m \u001b[32m| NMSE: -10.8561294\u001b[0m\n"
     ]
    },
    {
     "name": "stderr",
     "output_type": "stream",
     "text": [
      "Model Training:  98%|\u001b[38;2;0;153;255m█████████▊\u001b[0m| 977/1000 [6:33:56<03:38,  9.50s/it]"
     ]
    },
    {
     "name": "stdout",
     "output_type": "stream",
     "text": [
      "\u001b[94m- Epoch: 977/1000\u001b[0m\n",
      "\u001b[31m- Train Loss: 0.187207535 | Validation Loss: 0.166094594\u001b[0m \u001b[32m| NMSE: -4.5882443\u001b[0m\n"
     ]
    },
    {
     "name": "stderr",
     "output_type": "stream",
     "text": [
      "Model Training:  98%|\u001b[38;2;0;153;255m█████████▊\u001b[0m| 978/1000 [6:34:05<03:29,  9.54s/it]"
     ]
    },
    {
     "name": "stdout",
     "output_type": "stream",
     "text": [
      "\u001b[94m- Epoch: 978/1000\u001b[0m\n",
      "\u001b[31m- Train Loss: 0.166274892 | Validation Loss: 0.108403026\u001b[0m \u001b[32m| NMSE: 4.2108129\u001b[0m\n"
     ]
    },
    {
     "name": "stderr",
     "output_type": "stream",
     "text": [
      "Model Training:  98%|\u001b[38;2;0;153;255m█████████▊\u001b[0m| 979/1000 [6:34:15<03:22,  9.62s/it]"
     ]
    },
    {
     "name": "stdout",
     "output_type": "stream",
     "text": [
      "\u001b[94m- Epoch: 979/1000\u001b[0m\n",
      "\u001b[31m- Train Loss: 0.155038703 | Validation Loss: 0.225129129\u001b[0m \u001b[32m| NMSE: 0.2207615\u001b[0m\n"
     ]
    },
    {
     "name": "stderr",
     "output_type": "stream",
     "text": [
      "Model Training:  98%|\u001b[38;2;0;153;255m█████████▊\u001b[0m| 980/1000 [6:34:25<03:12,  9.63s/it]"
     ]
    },
    {
     "name": "stdout",
     "output_type": "stream",
     "text": [
      "\u001b[94m- Epoch: 980/1000\u001b[0m\n",
      "\u001b[31m- Train Loss: 0.163865985 | Validation Loss: 0.109260604\u001b[0m \u001b[32m| NMSE: -7.3499956\u001b[0m\n"
     ]
    },
    {
     "name": "stderr",
     "output_type": "stream",
     "text": [
      "Model Training:  98%|\u001b[38;2;0;153;255m█████████▊\u001b[0m| 981/1000 [6:34:34<03:03,  9.64s/it]"
     ]
    },
    {
     "name": "stdout",
     "output_type": "stream",
     "text": [
      "\u001b[94m- Epoch: 981/1000\u001b[0m\n",
      "\u001b[31m- Train Loss: 0.171048621 | Validation Loss: 0.090454435\u001b[0m \u001b[32m| NMSE: -3.9395193\u001b[0m\n"
     ]
    },
    {
     "name": "stderr",
     "output_type": "stream",
     "text": [
      "Model Training:  98%|\u001b[38;2;0;153;255m█████████▊\u001b[0m| 982/1000 [6:34:44<02:53,  9.64s/it]"
     ]
    },
    {
     "name": "stdout",
     "output_type": "stream",
     "text": [
      "\u001b[94m- Epoch: 982/1000\u001b[0m\n",
      "\u001b[31m- Train Loss: 0.183619479 | Validation Loss: 0.273468713\u001b[0m \u001b[32m| NMSE: -5.4512647\u001b[0m\n"
     ]
    },
    {
     "name": "stderr",
     "output_type": "stream",
     "text": [
      "Model Training:  98%|\u001b[38;2;0;153;255m█████████▊\u001b[0m| 983/1000 [6:34:54<02:44,  9.69s/it]"
     ]
    },
    {
     "name": "stdout",
     "output_type": "stream",
     "text": [
      "\u001b[94m- Epoch: 983/1000\u001b[0m\n",
      "\u001b[31m- Train Loss: 0.166112993 | Validation Loss: 0.010117292\u001b[0m \u001b[32m| NMSE: -6.1715727\u001b[0m\n"
     ]
    },
    {
     "name": "stderr",
     "output_type": "stream",
     "text": [
      "Model Training:  98%|\u001b[38;2;0;153;255m█████████▊\u001b[0m| 984/1000 [6:35:04<02:35,  9.75s/it]"
     ]
    },
    {
     "name": "stdout",
     "output_type": "stream",
     "text": [
      "\u001b[94m- Epoch: 984/1000\u001b[0m\n",
      "\u001b[31m- Train Loss: 0.148991011 | Validation Loss: 0.188528309\u001b[0m \u001b[32m| NMSE: -9.4101768\u001b[0m\n"
     ]
    },
    {
     "name": "stderr",
     "output_type": "stream",
     "text": [
      "Model Training:  98%|\u001b[38;2;0;153;255m█████████▊\u001b[0m| 985/1000 [6:35:14<02:25,  9.73s/it]"
     ]
    },
    {
     "name": "stdout",
     "output_type": "stream",
     "text": [
      "\u001b[94m- Epoch: 985/1000\u001b[0m\n",
      "\u001b[31m- Train Loss: 0.150607982 | Validation Loss: 0.155254858\u001b[0m \u001b[32m| NMSE: -12.9942417\u001b[0m\n"
     ]
    },
    {
     "name": "stderr",
     "output_type": "stream",
     "text": [
      "Model Training:  99%|\u001b[38;2;0;153;255m█████████▊\u001b[0m| 986/1000 [6:35:23<02:15,  9.71s/it]"
     ]
    },
    {
     "name": "stdout",
     "output_type": "stream",
     "text": [
      "\u001b[94m- Epoch: 986/1000\u001b[0m\n",
      "\u001b[31m- Train Loss: 0.164795255 | Validation Loss: 0.196519310\u001b[0m \u001b[32m| NMSE: -2.7908441\u001b[0m\n"
     ]
    },
    {
     "name": "stderr",
     "output_type": "stream",
     "text": [
      "Model Training:  99%|\u001b[38;2;0;153;255m█████████▊\u001b[0m| 987/1000 [6:35:33<02:05,  9.69s/it]"
     ]
    },
    {
     "name": "stdout",
     "output_type": "stream",
     "text": [
      "\u001b[94m- Epoch: 987/1000\u001b[0m\n",
      "\u001b[31m- Train Loss: 0.158477519 | Validation Loss: 0.203904495\u001b[0m \u001b[32m| NMSE: -7.9109769\u001b[0m\n"
     ]
    },
    {
     "name": "stderr",
     "output_type": "stream",
     "text": [
      "Model Training:  99%|\u001b[38;2;0;153;255m█████████▉\u001b[0m| 988/1000 [6:35:42<01:56,  9.68s/it]"
     ]
    },
    {
     "name": "stdout",
     "output_type": "stream",
     "text": [
      "\u001b[94m- Epoch: 988/1000\u001b[0m\n",
      "\u001b[31m- Train Loss: 0.173328013 | Validation Loss: 0.126305640\u001b[0m \u001b[32m| NMSE: 2.0818962\u001b[0m\n"
     ]
    },
    {
     "name": "stderr",
     "output_type": "stream",
     "text": [
      "Model Training:  99%|\u001b[38;2;0;153;255m█████████▉\u001b[0m| 989/1000 [6:35:52<01:46,  9.67s/it]"
     ]
    },
    {
     "name": "stdout",
     "output_type": "stream",
     "text": [
      "\u001b[94m- Epoch: 989/1000\u001b[0m\n",
      "\u001b[31m- Train Loss: 0.165816857 | Validation Loss: 0.187021442\u001b[0m \u001b[32m| NMSE: 0.6197083\u001b[0m\n"
     ]
    },
    {
     "name": "stderr",
     "output_type": "stream",
     "text": [
      "Model Training:  99%|\u001b[38;2;0;153;255m█████████▉\u001b[0m| 990/1000 [6:36:02<01:36,  9.66s/it]"
     ]
    },
    {
     "name": "stdout",
     "output_type": "stream",
     "text": [
      "\u001b[94m- Epoch: 990/1000\u001b[0m\n",
      "\u001b[31m- Train Loss: 0.168050824 | Validation Loss: 0.290059028\u001b[0m \u001b[32m| NMSE: -8.7226715\u001b[0m\n"
     ]
    },
    {
     "name": "stderr",
     "output_type": "stream",
     "text": [
      "Model Training:  99%|\u001b[38;2;0;153;255m█████████▉\u001b[0m| 991/1000 [6:36:11<01:26,  9.66s/it]"
     ]
    },
    {
     "name": "stdout",
     "output_type": "stream",
     "text": [
      "\u001b[94m- Epoch: 991/1000\u001b[0m\n",
      "\u001b[31m- Train Loss: 0.173852548 | Validation Loss: 0.094247103\u001b[0m \u001b[32m| NMSE: -5.2721879\u001b[0m\n"
     ]
    },
    {
     "name": "stderr",
     "output_type": "stream",
     "text": [
      "Model Training:  99%|\u001b[38;2;0;153;255m█████████▉\u001b[0m| 992/1000 [6:36:21<01:17,  9.65s/it]"
     ]
    },
    {
     "name": "stdout",
     "output_type": "stream",
     "text": [
      "\u001b[94m- Epoch: 992/1000\u001b[0m\n",
      "\u001b[31m- Train Loss: 0.180505223 | Validation Loss: 0.151892784\u001b[0m \u001b[32m| NMSE: 0.4470904\u001b[0m\n"
     ]
    },
    {
     "name": "stderr",
     "output_type": "stream",
     "text": [
      "Model Training:  99%|\u001b[38;2;0;153;255m█████████▉\u001b[0m| 993/1000 [6:36:31<01:07,  9.65s/it]"
     ]
    },
    {
     "name": "stdout",
     "output_type": "stream",
     "text": [
      "\u001b[94m- Epoch: 993/1000\u001b[0m\n",
      "\u001b[31m- Train Loss: 0.156419900 | Validation Loss: 0.074055307\u001b[0m \u001b[32m| NMSE: -7.6777132\u001b[0m\n"
     ]
    },
    {
     "name": "stderr",
     "output_type": "stream",
     "text": [
      "Model Training:  99%|\u001b[38;2;0;153;255m█████████▉\u001b[0m| 994/1000 [6:36:40<00:57,  9.65s/it]"
     ]
    },
    {
     "name": "stdout",
     "output_type": "stream",
     "text": [
      "\u001b[94m- Epoch: 994/1000\u001b[0m\n",
      "\u001b[31m- Train Loss: 0.153594435 | Validation Loss: 0.177102755\u001b[0m \u001b[32m| NMSE: -1.7392243\u001b[0m\n"
     ]
    },
    {
     "name": "stderr",
     "output_type": "stream",
     "text": [
      "Model Training: 100%|\u001b[38;2;0;153;255m█████████▉\u001b[0m| 995/1000 [6:36:50<00:48,  9.65s/it]"
     ]
    },
    {
     "name": "stdout",
     "output_type": "stream",
     "text": [
      "\u001b[94m- Epoch: 995/1000\u001b[0m\n",
      "\u001b[31m- Train Loss: 0.159753057 | Validation Loss: 0.331864278\u001b[0m \u001b[32m| NMSE: -15.2211313\u001b[0m\n"
     ]
    },
    {
     "name": "stderr",
     "output_type": "stream",
     "text": [
      "Model Training: 100%|\u001b[38;2;0;153;255m█████████▉\u001b[0m| 996/1000 [6:37:00<00:38,  9.65s/it]"
     ]
    },
    {
     "name": "stdout",
     "output_type": "stream",
     "text": [
      "\u001b[94m- Epoch: 996/1000\u001b[0m\n",
      "\u001b[31m- Train Loss: 0.160468798 | Validation Loss: 0.373023098\u001b[0m \u001b[32m| NMSE: -3.4038534\u001b[0m\n"
     ]
    },
    {
     "name": "stderr",
     "output_type": "stream",
     "text": [
      "Model Training: 100%|\u001b[38;2;0;153;255m█████████▉\u001b[0m| 997/1000 [6:37:09<00:28,  9.65s/it]"
     ]
    },
    {
     "name": "stdout",
     "output_type": "stream",
     "text": [
      "\u001b[94m- Epoch: 997/1000\u001b[0m\n",
      "\u001b[31m- Train Loss: 0.151806727 | Validation Loss: 0.254839867\u001b[0m \u001b[32m| NMSE: 1.5715141\u001b[0m\n"
     ]
    },
    {
     "name": "stderr",
     "output_type": "stream",
     "text": [
      "Model Training: 100%|\u001b[38;2;0;153;255m█████████▉\u001b[0m| 998/1000 [6:37:19<00:19,  9.65s/it]"
     ]
    },
    {
     "name": "stdout",
     "output_type": "stream",
     "text": [
      "\u001b[94m- Epoch: 998/1000\u001b[0m\n",
      "\u001b[31m- Train Loss: 0.165240073 | Validation Loss: 0.102345981\u001b[0m \u001b[32m| NMSE: -5.9195240\u001b[0m\n"
     ]
    },
    {
     "name": "stderr",
     "output_type": "stream",
     "text": [
      "Model Training: 100%|\u001b[38;2;0;153;255m█████████▉\u001b[0m| 999/1000 [6:37:29<00:09,  9.68s/it]"
     ]
    },
    {
     "name": "stdout",
     "output_type": "stream",
     "text": [
      "\u001b[94m- Epoch: 999/1000\u001b[0m\n",
      "\u001b[31m- Train Loss: 0.166371595 | Validation Loss: 0.100795540\u001b[0m \u001b[32m| NMSE: -3.1067173\u001b[0m\n"
     ]
    },
    {
     "name": "stderr",
     "output_type": "stream",
     "text": [
      "Model Training: 100%|\u001b[38;2;0;153;255m██████████\u001b[0m| 1000/1000 [6:37:38<00:00, 23.86s/it]"
     ]
    },
    {
     "name": "stdout",
     "output_type": "stream",
     "text": [
      "\u001b[94m- Epoch: 1000/1000\u001b[0m\n",
      "\u001b[31m- Train Loss: 0.160662836 | Validation Loss: 0.370752359\u001b[0m \u001b[32m| NMSE: 3.3324040\u001b[0m\n"
     ]
    },
    {
     "name": "stderr",
     "output_type": "stream",
     "text": [
      "\n"
     ]
    }
   ],
   "source": [
    "import torch.nn.functional as F\n",
    "from tqdm import tqdm\n",
    "\n",
    "# ----------------\n",
    "# Model Training\n",
    "# ----------------\n",
    "\n",
    "num_epochs = 1000\n",
    "train_losses = []\n",
    "val_losses = []\n",
    "nmse_score = []\n",
    "\n",
    "for epoch in tqdm(range(num_epochs), desc='Model Training', colour=\"#0099ff\", leave=True):\n",
    "    # Model Training\n",
    "    model.train()  # Ensure the model is in train mode\n",
    "    train_loss = 0\n",
    "    for data in tqdm(train_loader, 'Mini Batch Training', colour=\"#0099ff\", leave=False):\n",
    "        x_resized = data.to(device)  # Assuming x_resized is the input\n",
    "        optimizer.zero_grad()\n",
    "        \n",
    "        # Forward pass through the model\n",
    "        model_out = model(x_resized)\n",
    "        \n",
    "        # Resize x_resized to match model_out shape (B, 2, 16, 16)\n",
    "        x_resized = F.interpolate(x_resized, size=(16, 16), mode='bilinear', align_corners=False)\n",
    "        \n",
    "        # Reduce channels from 4 to 2 to match model_out channels (if necessary)\n",
    "        conv = nn.Conv2d(4, 2, kernel_size=1)  # Reduce channels from 4 to 2\n",
    "        conv.to(device)  # Ensure convolution layer is on the same device\n",
    "        x_resized = conv(x_resized)\n",
    "        \n",
    "        # Calculate loss (now model_out and x_resized have the same shape)\n",
    "        loss = criterion(model_out, x_resized)\n",
    "        loss.backward()\n",
    "        torch.nn.utils.clip_grad_norm_(model.parameters(), max_norm=1.0)\n",
    "        optimizer.step()\n",
    "        \n",
    "        # Accumulate the training loss\n",
    "        train_loss += loss.item() * x_resized.size(0)\n",
    "\n",
    "    if (epoch+1) % 1 == 0:\n",
    "        # Model Validation\n",
    "        model.eval()  # Switch model to evaluation mode\n",
    "        val_loss = 0\n",
    "        with torch.no_grad():\n",
    "            for data in tqdm(val_loader, 'Validating The Model', colour=\"#0099ff\", leave=False):\n",
    "                x_resized = data.to(device)\n",
    "                output = model(x_resized)\n",
    "                x_resized = F.interpolate(x_resized, size=(16, 16), mode='bilinear', align_corners=False)\n",
    "        \n",
    "        # Reduce channels from 4 to 2 to match model_out channels (if necessary)\n",
    "                conv = nn.Conv2d(4, 2, kernel_size=1)  # Reduce channels from 4 to 2\n",
    "                conv.to(device)  # Ensure convolution layer is on the same device\n",
    "                x_resized = conv(x_resized)\n",
    "                loss = criterion(output, x_resized)\n",
    "                val_loss += loss.item() * x_resized.size(0)\n",
    "\n",
    "        # Model Testing\n",
    "        model.eval()\n",
    "        nmse_error = 0\n",
    "        with torch.no_grad():\n",
    "            for data in tqdm(test_loader, 'Calculating NMSE', colour=\"#0099ff\", leave=False):\n",
    "                x_resized = data.to(device)\n",
    "                output = model(x_resized)\n",
    "                x_resized = F.interpolate(x_resized, size=(16, 16), mode='bilinear', align_corners=False)\n",
    "        \n",
    "        # Reduce channels from 4 to 2 to match model_out channels (if necessary)\n",
    "                conv = nn.Conv2d(4, 2, kernel_size=1)  # Reduce channels from 4 to 2\n",
    "                conv.to(device)  # Ensure convolution layer is on the same device\n",
    "                x_resized = conv(x_resized)\n",
    "                nmse = NMSE(output, x_resized) \n",
    "                nmse_error += nmse   \n",
    "\n",
    "        # Calculate average training and validation loss\n",
    "        train_loss /= len(train_loader.dataset)\n",
    "        train_losses.append(train_loss)\n",
    "        \n",
    "        val_loss /= len(val_loader.dataset)\n",
    "        val_losses.append(val_loss)\n",
    "        \n",
    "        # NMSE Score\n",
    "        avg_nmse = nmse_error / len(test_loader)\n",
    "        nmse_score.append(avg_nmse)\n",
    "        \n",
    "        # Printing training details\n",
    "        print(Fore.LIGHTBLUE_EX + f'- Epoch: {epoch+1}/{num_epochs}' + Style.RESET_ALL)\n",
    "        print(Fore.RED + f'- Train Loss: {train_loss:.9f} | Validation Loss: {val_loss:.9f}' + Style.RESET_ALL, end=' ')\n",
    "        print(Fore.GREEN + f'| NMSE: {avg_nmse:.7f}' + Style.RESET_ALL)\n",
    "\n",
    "        # Saving checkpoint\n",
    "        if avg_nmse <= min(nmse_score):\n",
    "            params = {'epoch': epoch+1,\n",
    "                      'model': model.state_dict(),\n",
    "                      'optimizer': optimizer.state_dict()}\n",
    "            \n",
    "            if (epoch+1) <= 400:\n",
    "                torch.save(params, f'model400.pth')\n",
    "            else:\n",
    "                torch.save(params, f'model1000.pth')\n",
    "\n",
    "    # Saving training details            \n",
    "    np.savetxt(f'nmse_scores.csv', np.array(nmse_score), delimiter=\",\")\n",
    "    np.savetxt(f'train_losses.csv', np.array(train_losses), delimiter=\",\")\n",
    "    np.savetxt(f'val_losses.csv', np.array(val_losses), delimiter=\",\")"
   ]
  },
  {
   "cell_type": "code",
   "execution_count": null,
   "id": "8e14b1a3",
   "metadata": {},
   "outputs": [],
   "source": []
  },
  {
   "cell_type": "code",
   "execution_count": null,
   "id": "7eabfb29",
   "metadata": {},
   "outputs": [],
   "source": []
  },
  {
   "cell_type": "code",
   "execution_count": 12,
   "id": "cb61aed8",
   "metadata": {},
   "outputs": [
    {
     "name": "stdout",
     "output_type": "stream",
     "text": [
      "Torch: 2.5.1.post302\n",
      "TorchVision: 0.20.1\n"
     ]
    }
   ],
   "source": [
    "import torch\n",
    "import torchvision\n",
    "\n",
    "print(\"Torch:\", torch.__version__)\n",
    "print(\"TorchVision:\", torchvision.__version__)\n"
   ]
  },
  {
   "cell_type": "code",
   "execution_count": 27,
   "id": "4c4a0b54",
   "metadata": {},
   "outputs": [
    {
     "data": {
      "application/vnd.jupyter.widget-view+json": {
       "model_id": "621327c455e342229bbd8f533d7eedf0",
       "version_major": 2,
       "version_minor": 0
      },
      "text/plain": [
       "  0%|          | 0/100 [00:00<?, ?it/s]"
      ]
     },
     "metadata": {},
     "output_type": "display_data"
    }
   ],
   "source": [
    "from tqdm.notebook import tqdm\n",
    "for i in tqdm(range(100)):\n",
    "    pass"
   ]
  }
 ],
 "metadata": {
  "kernelspec": {
   "display_name": "base",
   "language": "python",
   "name": "python3"
  },
  "language_info": {
   "codemirror_mode": {
    "name": "ipython",
    "version": 3
   },
   "file_extension": ".py",
   "mimetype": "text/x-python",
   "name": "python",
   "nbconvert_exporter": "python",
   "pygments_lexer": "ipython3",
   "version": "3.13.0"
  }
 },
 "nbformat": 4,
 "nbformat_minor": 5
}
